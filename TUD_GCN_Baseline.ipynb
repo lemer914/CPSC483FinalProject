{
  "nbformat": 4,
  "nbformat_minor": 0,
  "metadata": {
    "colab": {
      "provenance": []
    },
    "kernelspec": {
      "name": "python3",
      "display_name": "Python 3"
    },
    "language_info": {
      "name": "python"
    }
  },
  "cells": [
    {
      "cell_type": "code",
      "source": [
        "import os\n",
        "# import pkg_resources\n",
        "# pkg_resources.require('Torch==2.0.1')\n",
        "!pip install torch==2.0.1\n",
        "import torch\n",
        "print('Using torch', torch.__version__)\n",
        "!pip install torch-scatter torch-sparse torch-cluster torch-spline-conv torch-geometric -f https://data.pyg.org/whl/torch-2.0.1+cu118.html\n",
        "!pip install ogb\n",
        "!pip install rdkit-pypi"
      ],
      "metadata": {
        "colab": {
          "base_uri": "https://localhost:8080/"
        },
        "id": "A4tixkw6XbF1",
        "outputId": "7f7555b8-5864-4ca5-801e-8f016d9c4709"
      },
      "execution_count": 1,
      "outputs": [
        {
          "output_type": "stream",
          "name": "stdout",
          "text": [
            "Collecting torch==2.0.1\n",
            "  Downloading torch-2.0.1-cp310-cp310-manylinux1_x86_64.whl (619.9 MB)\n",
            "\u001b[2K     \u001b[90m━━━━━━━━━━━━━━━━━━━━━━━━━━━━━━━━━━━━━━━━\u001b[0m \u001b[32m619.9/619.9 MB\u001b[0m \u001b[31m1.0 MB/s\u001b[0m eta \u001b[36m0:00:00\u001b[0m\n",
            "\u001b[?25hRequirement already satisfied: filelock in /usr/local/lib/python3.10/dist-packages (from torch==2.0.1) (3.13.1)\n",
            "Requirement already satisfied: typing-extensions in /usr/local/lib/python3.10/dist-packages (from torch==2.0.1) (4.5.0)\n",
            "Requirement already satisfied: sympy in /usr/local/lib/python3.10/dist-packages (from torch==2.0.1) (1.12)\n",
            "Requirement already satisfied: networkx in /usr/local/lib/python3.10/dist-packages (from torch==2.0.1) (3.2.1)\n",
            "Requirement already satisfied: jinja2 in /usr/local/lib/python3.10/dist-packages (from torch==2.0.1) (3.1.2)\n",
            "Collecting nvidia-cuda-nvrtc-cu11==11.7.99 (from torch==2.0.1)\n",
            "  Downloading nvidia_cuda_nvrtc_cu11-11.7.99-2-py3-none-manylinux1_x86_64.whl (21.0 MB)\n",
            "\u001b[2K     \u001b[90m━━━━━━━━━━━━━━━━━━━━━━━━━━━━━━━━━━━━━━━━\u001b[0m \u001b[32m21.0/21.0 MB\u001b[0m \u001b[31m70.6 MB/s\u001b[0m eta \u001b[36m0:00:00\u001b[0m\n",
            "\u001b[?25hCollecting nvidia-cuda-runtime-cu11==11.7.99 (from torch==2.0.1)\n",
            "  Downloading nvidia_cuda_runtime_cu11-11.7.99-py3-none-manylinux1_x86_64.whl (849 kB)\n",
            "\u001b[2K     \u001b[90m━━━━━━━━━━━━━━━━━━━━━━━━━━━━━━━━━━━━━━━━\u001b[0m \u001b[32m849.3/849.3 kB\u001b[0m \u001b[31m58.9 MB/s\u001b[0m eta \u001b[36m0:00:00\u001b[0m\n",
            "\u001b[?25hCollecting nvidia-cuda-cupti-cu11==11.7.101 (from torch==2.0.1)\n",
            "  Downloading nvidia_cuda_cupti_cu11-11.7.101-py3-none-manylinux1_x86_64.whl (11.8 MB)\n",
            "\u001b[2K     \u001b[90m━━━━━━━━━━━━━━━━━━━━━━━━━━━━━━━━━━━━━━━━\u001b[0m \u001b[32m11.8/11.8 MB\u001b[0m \u001b[31m84.2 MB/s\u001b[0m eta \u001b[36m0:00:00\u001b[0m\n",
            "\u001b[?25hCollecting nvidia-cudnn-cu11==8.5.0.96 (from torch==2.0.1)\n",
            "  Downloading nvidia_cudnn_cu11-8.5.0.96-2-py3-none-manylinux1_x86_64.whl (557.1 MB)\n",
            "\u001b[2K     \u001b[90m━━━━━━━━━━━━━━━━━━━━━━━━━━━━━━━━━━━━━━━━\u001b[0m \u001b[32m557.1/557.1 MB\u001b[0m \u001b[31m2.5 MB/s\u001b[0m eta \u001b[36m0:00:00\u001b[0m\n",
            "\u001b[?25hCollecting nvidia-cublas-cu11==11.10.3.66 (from torch==2.0.1)\n",
            "  Downloading nvidia_cublas_cu11-11.10.3.66-py3-none-manylinux1_x86_64.whl (317.1 MB)\n",
            "\u001b[2K     \u001b[90m━━━━━━━━━━━━━━━━━━━━━━━━━━━━━━━━━━━━━━━━\u001b[0m \u001b[32m317.1/317.1 MB\u001b[0m \u001b[31m2.6 MB/s\u001b[0m eta \u001b[36m0:00:00\u001b[0m\n",
            "\u001b[?25hCollecting nvidia-cufft-cu11==10.9.0.58 (from torch==2.0.1)\n",
            "  Downloading nvidia_cufft_cu11-10.9.0.58-py3-none-manylinux1_x86_64.whl (168.4 MB)\n",
            "\u001b[2K     \u001b[90m━━━━━━━━━━━━━━━━━━━━━━━━━━━━━━━━━━━━━━━━\u001b[0m \u001b[32m168.4/168.4 MB\u001b[0m \u001b[31m2.3 MB/s\u001b[0m eta \u001b[36m0:00:00\u001b[0m\n",
            "\u001b[?25hCollecting nvidia-curand-cu11==10.2.10.91 (from torch==2.0.1)\n",
            "  Downloading nvidia_curand_cu11-10.2.10.91-py3-none-manylinux1_x86_64.whl (54.6 MB)\n",
            "\u001b[2K     \u001b[90m━━━━━━━━━━━━━━━━━━━━━━━━━━━━━━━━━━━━━━━━\u001b[0m \u001b[32m54.6/54.6 MB\u001b[0m \u001b[31m10.8 MB/s\u001b[0m eta \u001b[36m0:00:00\u001b[0m\n",
            "\u001b[?25hCollecting nvidia-cusolver-cu11==11.4.0.1 (from torch==2.0.1)\n",
            "  Downloading nvidia_cusolver_cu11-11.4.0.1-2-py3-none-manylinux1_x86_64.whl (102.6 MB)\n",
            "\u001b[2K     \u001b[90m━━━━━━━━━━━━━━━━━━━━━━━━━━━━━━━━━━━━━━━━\u001b[0m \u001b[32m102.6/102.6 MB\u001b[0m \u001b[31m9.0 MB/s\u001b[0m eta \u001b[36m0:00:00\u001b[0m\n",
            "\u001b[?25hCollecting nvidia-cusparse-cu11==11.7.4.91 (from torch==2.0.1)\n",
            "  Downloading nvidia_cusparse_cu11-11.7.4.91-py3-none-manylinux1_x86_64.whl (173.2 MB)\n",
            "\u001b[2K     \u001b[90m━━━━━━━━━━━━━━━━━━━━━━━━━━━━━━━━━━━━━━━━\u001b[0m \u001b[32m173.2/173.2 MB\u001b[0m \u001b[31m6.4 MB/s\u001b[0m eta \u001b[36m0:00:00\u001b[0m\n",
            "\u001b[?25hCollecting nvidia-nccl-cu11==2.14.3 (from torch==2.0.1)\n",
            "  Downloading nvidia_nccl_cu11-2.14.3-py3-none-manylinux1_x86_64.whl (177.1 MB)\n",
            "\u001b[2K     \u001b[90m━━━━━━━━━━━━━━━━━━━━━━━━━━━━━━━━━━━━━━━━\u001b[0m \u001b[32m177.1/177.1 MB\u001b[0m \u001b[31m2.4 MB/s\u001b[0m eta \u001b[36m0:00:00\u001b[0m\n",
            "\u001b[?25hCollecting nvidia-nvtx-cu11==11.7.91 (from torch==2.0.1)\n",
            "  Downloading nvidia_nvtx_cu11-11.7.91-py3-none-manylinux1_x86_64.whl (98 kB)\n",
            "\u001b[2K     \u001b[90m━━━━━━━━━━━━━━━━━━━━━━━━━━━━━━━━━━━━━━━━\u001b[0m \u001b[32m98.6/98.6 kB\u001b[0m \u001b[31m11.1 MB/s\u001b[0m eta \u001b[36m0:00:00\u001b[0m\n",
            "\u001b[?25hCollecting triton==2.0.0 (from torch==2.0.1)\n",
            "  Downloading triton-2.0.0-1-cp310-cp310-manylinux2014_x86_64.manylinux_2_17_x86_64.whl (63.3 MB)\n",
            "\u001b[2K     \u001b[90m━━━━━━━━━━━━━━━━━━━━━━━━━━━━━━━━━━━━━━━━\u001b[0m \u001b[32m63.3/63.3 MB\u001b[0m \u001b[31m10.4 MB/s\u001b[0m eta \u001b[36m0:00:00\u001b[0m\n",
            "\u001b[?25hRequirement already satisfied: setuptools in /usr/local/lib/python3.10/dist-packages (from nvidia-cublas-cu11==11.10.3.66->torch==2.0.1) (67.7.2)\n",
            "Requirement already satisfied: wheel in /usr/local/lib/python3.10/dist-packages (from nvidia-cublas-cu11==11.10.3.66->torch==2.0.1) (0.42.0)\n",
            "Requirement already satisfied: cmake in /usr/local/lib/python3.10/dist-packages (from triton==2.0.0->torch==2.0.1) (3.27.9)\n",
            "Collecting lit (from triton==2.0.0->torch==2.0.1)\n",
            "  Downloading lit-17.0.6.tar.gz (153 kB)\n",
            "\u001b[2K     \u001b[90m━━━━━━━━━━━━━━━━━━━━━━━━━━━━━━━━━━━━━━━━\u001b[0m \u001b[32m153.0/153.0 kB\u001b[0m \u001b[31m17.4 MB/s\u001b[0m eta \u001b[36m0:00:00\u001b[0m\n",
            "\u001b[?25h  Installing build dependencies ... \u001b[?25l\u001b[?25hdone\n",
            "  Getting requirements to build wheel ... \u001b[?25l\u001b[?25hdone\n",
            "  Installing backend dependencies ... \u001b[?25l\u001b[?25hdone\n",
            "  Preparing metadata (pyproject.toml) ... \u001b[?25l\u001b[?25hdone\n",
            "Requirement already satisfied: MarkupSafe>=2.0 in /usr/local/lib/python3.10/dist-packages (from jinja2->torch==2.0.1) (2.1.3)\n",
            "Requirement already satisfied: mpmath>=0.19 in /usr/local/lib/python3.10/dist-packages (from sympy->torch==2.0.1) (1.3.0)\n",
            "Building wheels for collected packages: lit\n",
            "  Building wheel for lit (pyproject.toml) ... \u001b[?25l\u001b[?25hdone\n",
            "  Created wheel for lit: filename=lit-17.0.6-py3-none-any.whl size=93255 sha256=13b148453c7257ddfd30d22391479f71d370fc99ec0fbf29386bfc683334d6a5\n",
            "  Stored in directory: /root/.cache/pip/wheels/30/dd/04/47d42976a6a86dc2ab66d7518621ae96f43452c8841d74758a\n",
            "Successfully built lit\n",
            "Installing collected packages: lit, nvidia-nvtx-cu11, nvidia-nccl-cu11, nvidia-cusparse-cu11, nvidia-curand-cu11, nvidia-cufft-cu11, nvidia-cuda-runtime-cu11, nvidia-cuda-nvrtc-cu11, nvidia-cuda-cupti-cu11, nvidia-cublas-cu11, nvidia-cusolver-cu11, nvidia-cudnn-cu11, triton, torch\n",
            "  Attempting uninstall: triton\n",
            "    Found existing installation: triton 2.1.0\n",
            "    Uninstalling triton-2.1.0:\n",
            "      Successfully uninstalled triton-2.1.0\n",
            "  Attempting uninstall: torch\n",
            "    Found existing installation: torch 2.1.0+cu118\n",
            "    Uninstalling torch-2.1.0+cu118:\n",
            "      Successfully uninstalled torch-2.1.0+cu118\n",
            "\u001b[31mERROR: pip's dependency resolver does not currently take into account all the packages that are installed. This behaviour is the source of the following dependency conflicts.\n",
            "torchaudio 2.1.0+cu118 requires torch==2.1.0, but you have torch 2.0.1 which is incompatible.\n",
            "torchdata 0.7.0 requires torch==2.1.0, but you have torch 2.0.1 which is incompatible.\n",
            "torchtext 0.16.0 requires torch==2.1.0, but you have torch 2.0.1 which is incompatible.\n",
            "torchvision 0.16.0+cu118 requires torch==2.1.0, but you have torch 2.0.1 which is incompatible.\u001b[0m\u001b[31m\n",
            "\u001b[0mSuccessfully installed lit-17.0.6 nvidia-cublas-cu11-11.10.3.66 nvidia-cuda-cupti-cu11-11.7.101 nvidia-cuda-nvrtc-cu11-11.7.99 nvidia-cuda-runtime-cu11-11.7.99 nvidia-cudnn-cu11-8.5.0.96 nvidia-cufft-cu11-10.9.0.58 nvidia-curand-cu11-10.2.10.91 nvidia-cusolver-cu11-11.4.0.1 nvidia-cusparse-cu11-11.7.4.91 nvidia-nccl-cu11-2.14.3 nvidia-nvtx-cu11-11.7.91 torch-2.0.1 triton-2.0.0\n",
            "Using torch 2.0.1+cu117\n",
            "Looking in links: https://data.pyg.org/whl/torch-2.0.1+cu118.html\n",
            "Collecting torch-scatter\n",
            "  Downloading https://data.pyg.org/whl/torch-2.0.0%2Bcu118/torch_scatter-2.1.2%2Bpt20cu118-cp310-cp310-linux_x86_64.whl (10.2 MB)\n",
            "\u001b[2K     \u001b[90m━━━━━━━━━━━━━━━━━━━━━━━━━━━━━━━━━━━━━━━━\u001b[0m \u001b[32m10.2/10.2 MB\u001b[0m \u001b[31m25.2 MB/s\u001b[0m eta \u001b[36m0:00:00\u001b[0m\n",
            "\u001b[?25hCollecting torch-sparse\n",
            "  Downloading https://data.pyg.org/whl/torch-2.0.0%2Bcu118/torch_sparse-0.6.18%2Bpt20cu118-cp310-cp310-linux_x86_64.whl (4.9 MB)\n",
            "\u001b[2K     \u001b[90m━━━━━━━━━━━━━━━━━━━━━━━━━━━━━━━━━━━━━━━━\u001b[0m \u001b[32m4.9/4.9 MB\u001b[0m \u001b[31m52.5 MB/s\u001b[0m eta \u001b[36m0:00:00\u001b[0m\n",
            "\u001b[?25hCollecting torch-cluster\n",
            "  Downloading https://data.pyg.org/whl/torch-2.0.0%2Bcu118/torch_cluster-1.6.3%2Bpt20cu118-cp310-cp310-linux_x86_64.whl (3.3 MB)\n",
            "\u001b[2K     \u001b[90m━━━━━━━━━━━━━━━━━━━━━━━━━━━━━━━━━━━━━━━━\u001b[0m \u001b[32m3.3/3.3 MB\u001b[0m \u001b[31m36.3 MB/s\u001b[0m eta \u001b[36m0:00:00\u001b[0m\n",
            "\u001b[?25hCollecting torch-spline-conv\n",
            "  Downloading https://data.pyg.org/whl/torch-2.0.0%2Bcu118/torch_spline_conv-1.2.2%2Bpt20cu118-cp310-cp310-linux_x86_64.whl (886 kB)\n",
            "\u001b[2K     \u001b[90m━━━━━━━━━━━━━━━━━━━━━━━━━━━━━━━━━━━━━━━━\u001b[0m \u001b[32m886.6/886.6 kB\u001b[0m \u001b[31m24.2 MB/s\u001b[0m eta \u001b[36m0:00:00\u001b[0m\n",
            "\u001b[?25hCollecting torch-geometric\n",
            "  Downloading torch_geometric-2.4.0-py3-none-any.whl (1.0 MB)\n",
            "\u001b[2K     \u001b[90m━━━━━━━━━━━━━━━━━━━━━━━━━━━━━━━━━━━━━━━━\u001b[0m \u001b[32m1.0/1.0 MB\u001b[0m \u001b[31m8.0 MB/s\u001b[0m eta \u001b[36m0:00:00\u001b[0m\n",
            "\u001b[?25hRequirement already satisfied: scipy in /usr/local/lib/python3.10/dist-packages (from torch-sparse) (1.11.4)\n",
            "Requirement already satisfied: tqdm in /usr/local/lib/python3.10/dist-packages (from torch-geometric) (4.66.1)\n",
            "Requirement already satisfied: numpy in /usr/local/lib/python3.10/dist-packages (from torch-geometric) (1.23.5)\n",
            "Requirement already satisfied: jinja2 in /usr/local/lib/python3.10/dist-packages (from torch-geometric) (3.1.2)\n",
            "Requirement already satisfied: requests in /usr/local/lib/python3.10/dist-packages (from torch-geometric) (2.31.0)\n",
            "Requirement already satisfied: pyparsing in /usr/local/lib/python3.10/dist-packages (from torch-geometric) (3.1.1)\n",
            "Requirement already satisfied: scikit-learn in /usr/local/lib/python3.10/dist-packages (from torch-geometric) (1.2.2)\n",
            "Requirement already satisfied: psutil>=5.8.0 in /usr/local/lib/python3.10/dist-packages (from torch-geometric) (5.9.5)\n",
            "Requirement already satisfied: MarkupSafe>=2.0 in /usr/local/lib/python3.10/dist-packages (from jinja2->torch-geometric) (2.1.3)\n",
            "Requirement already satisfied: charset-normalizer<4,>=2 in /usr/local/lib/python3.10/dist-packages (from requests->torch-geometric) (3.3.2)\n",
            "Requirement already satisfied: idna<4,>=2.5 in /usr/local/lib/python3.10/dist-packages (from requests->torch-geometric) (3.6)\n",
            "Requirement already satisfied: urllib3<3,>=1.21.1 in /usr/local/lib/python3.10/dist-packages (from requests->torch-geometric) (2.0.7)\n",
            "Requirement already satisfied: certifi>=2017.4.17 in /usr/local/lib/python3.10/dist-packages (from requests->torch-geometric) (2023.11.17)\n",
            "Requirement already satisfied: joblib>=1.1.1 in /usr/local/lib/python3.10/dist-packages (from scikit-learn->torch-geometric) (1.3.2)\n",
            "Requirement already satisfied: threadpoolctl>=2.0.0 in /usr/local/lib/python3.10/dist-packages (from scikit-learn->torch-geometric) (3.2.0)\n",
            "Installing collected packages: torch-spline-conv, torch-scatter, torch-sparse, torch-cluster, torch-geometric\n",
            "Successfully installed torch-cluster-1.6.3+pt20cu118 torch-geometric-2.4.0 torch-scatter-2.1.2+pt20cu118 torch-sparse-0.6.18+pt20cu118 torch-spline-conv-1.2.2+pt20cu118\n",
            "Collecting ogb\n",
            "  Downloading ogb-1.3.6-py3-none-any.whl (78 kB)\n",
            "\u001b[2K     \u001b[90m━━━━━━━━━━━━━━━━━━━━━━━━━━━━━━━━━━━━━━━━\u001b[0m \u001b[32m78.8/78.8 kB\u001b[0m \u001b[31m2.5 MB/s\u001b[0m eta \u001b[36m0:00:00\u001b[0m\n",
            "\u001b[?25hRequirement already satisfied: torch>=1.6.0 in /usr/local/lib/python3.10/dist-packages (from ogb) (2.0.1)\n",
            "Requirement already satisfied: numpy>=1.16.0 in /usr/local/lib/python3.10/dist-packages (from ogb) (1.23.5)\n",
            "Requirement already satisfied: tqdm>=4.29.0 in /usr/local/lib/python3.10/dist-packages (from ogb) (4.66.1)\n",
            "Requirement already satisfied: scikit-learn>=0.20.0 in /usr/local/lib/python3.10/dist-packages (from ogb) (1.2.2)\n",
            "Requirement already satisfied: pandas>=0.24.0 in /usr/local/lib/python3.10/dist-packages (from ogb) (1.5.3)\n",
            "Requirement already satisfied: six>=1.12.0 in /usr/local/lib/python3.10/dist-packages (from ogb) (1.16.0)\n",
            "Requirement already satisfied: urllib3>=1.24.0 in /usr/local/lib/python3.10/dist-packages (from ogb) (2.0.7)\n",
            "Collecting outdated>=0.2.0 (from ogb)\n",
            "  Downloading outdated-0.2.2-py2.py3-none-any.whl (7.5 kB)\n",
            "Requirement already satisfied: setuptools>=44 in /usr/local/lib/python3.10/dist-packages (from outdated>=0.2.0->ogb) (67.7.2)\n",
            "Collecting littleutils (from outdated>=0.2.0->ogb)\n",
            "  Downloading littleutils-0.2.2.tar.gz (6.6 kB)\n",
            "  Preparing metadata (setup.py) ... \u001b[?25l\u001b[?25hdone\n",
            "Requirement already satisfied: requests in /usr/local/lib/python3.10/dist-packages (from outdated>=0.2.0->ogb) (2.31.0)\n",
            "Requirement already satisfied: python-dateutil>=2.8.1 in /usr/local/lib/python3.10/dist-packages (from pandas>=0.24.0->ogb) (2.8.2)\n",
            "Requirement already satisfied: pytz>=2020.1 in /usr/local/lib/python3.10/dist-packages (from pandas>=0.24.0->ogb) (2023.3.post1)\n",
            "Requirement already satisfied: scipy>=1.3.2 in /usr/local/lib/python3.10/dist-packages (from scikit-learn>=0.20.0->ogb) (1.11.4)\n",
            "Requirement already satisfied: joblib>=1.1.1 in /usr/local/lib/python3.10/dist-packages (from scikit-learn>=0.20.0->ogb) (1.3.2)\n",
            "Requirement already satisfied: threadpoolctl>=2.0.0 in /usr/local/lib/python3.10/dist-packages (from scikit-learn>=0.20.0->ogb) (3.2.0)\n",
            "Requirement already satisfied: filelock in /usr/local/lib/python3.10/dist-packages (from torch>=1.6.0->ogb) (3.13.1)\n",
            "Requirement already satisfied: typing-extensions in /usr/local/lib/python3.10/dist-packages (from torch>=1.6.0->ogb) (4.5.0)\n",
            "Requirement already satisfied: sympy in /usr/local/lib/python3.10/dist-packages (from torch>=1.6.0->ogb) (1.12)\n",
            "Requirement already satisfied: networkx in /usr/local/lib/python3.10/dist-packages (from torch>=1.6.0->ogb) (3.2.1)\n",
            "Requirement already satisfied: jinja2 in /usr/local/lib/python3.10/dist-packages (from torch>=1.6.0->ogb) (3.1.2)\n",
            "Requirement already satisfied: nvidia-cuda-nvrtc-cu11==11.7.99 in /usr/local/lib/python3.10/dist-packages (from torch>=1.6.0->ogb) (11.7.99)\n",
            "Requirement already satisfied: nvidia-cuda-runtime-cu11==11.7.99 in /usr/local/lib/python3.10/dist-packages (from torch>=1.6.0->ogb) (11.7.99)\n",
            "Requirement already satisfied: nvidia-cuda-cupti-cu11==11.7.101 in /usr/local/lib/python3.10/dist-packages (from torch>=1.6.0->ogb) (11.7.101)\n",
            "Requirement already satisfied: nvidia-cudnn-cu11==8.5.0.96 in /usr/local/lib/python3.10/dist-packages (from torch>=1.6.0->ogb) (8.5.0.96)\n",
            "Requirement already satisfied: nvidia-cublas-cu11==11.10.3.66 in /usr/local/lib/python3.10/dist-packages (from torch>=1.6.0->ogb) (11.10.3.66)\n",
            "Requirement already satisfied: nvidia-cufft-cu11==10.9.0.58 in /usr/local/lib/python3.10/dist-packages (from torch>=1.6.0->ogb) (10.9.0.58)\n",
            "Requirement already satisfied: nvidia-curand-cu11==10.2.10.91 in /usr/local/lib/python3.10/dist-packages (from torch>=1.6.0->ogb) (10.2.10.91)\n",
            "Requirement already satisfied: nvidia-cusolver-cu11==11.4.0.1 in /usr/local/lib/python3.10/dist-packages (from torch>=1.6.0->ogb) (11.4.0.1)\n",
            "Requirement already satisfied: nvidia-cusparse-cu11==11.7.4.91 in /usr/local/lib/python3.10/dist-packages (from torch>=1.6.0->ogb) (11.7.4.91)\n",
            "Requirement already satisfied: nvidia-nccl-cu11==2.14.3 in /usr/local/lib/python3.10/dist-packages (from torch>=1.6.0->ogb) (2.14.3)\n",
            "Requirement already satisfied: nvidia-nvtx-cu11==11.7.91 in /usr/local/lib/python3.10/dist-packages (from torch>=1.6.0->ogb) (11.7.91)\n",
            "Requirement already satisfied: triton==2.0.0 in /usr/local/lib/python3.10/dist-packages (from torch>=1.6.0->ogb) (2.0.0)\n",
            "Requirement already satisfied: wheel in /usr/local/lib/python3.10/dist-packages (from nvidia-cublas-cu11==11.10.3.66->torch>=1.6.0->ogb) (0.42.0)\n",
            "Requirement already satisfied: cmake in /usr/local/lib/python3.10/dist-packages (from triton==2.0.0->torch>=1.6.0->ogb) (3.27.9)\n",
            "Requirement already satisfied: lit in /usr/local/lib/python3.10/dist-packages (from triton==2.0.0->torch>=1.6.0->ogb) (17.0.6)\n",
            "Requirement already satisfied: MarkupSafe>=2.0 in /usr/local/lib/python3.10/dist-packages (from jinja2->torch>=1.6.0->ogb) (2.1.3)\n",
            "Requirement already satisfied: charset-normalizer<4,>=2 in /usr/local/lib/python3.10/dist-packages (from requests->outdated>=0.2.0->ogb) (3.3.2)\n",
            "Requirement already satisfied: idna<4,>=2.5 in /usr/local/lib/python3.10/dist-packages (from requests->outdated>=0.2.0->ogb) (3.6)\n",
            "Requirement already satisfied: certifi>=2017.4.17 in /usr/local/lib/python3.10/dist-packages (from requests->outdated>=0.2.0->ogb) (2023.11.17)\n",
            "Requirement already satisfied: mpmath>=0.19 in /usr/local/lib/python3.10/dist-packages (from sympy->torch>=1.6.0->ogb) (1.3.0)\n",
            "Building wheels for collected packages: littleutils\n",
            "  Building wheel for littleutils (setup.py) ... \u001b[?25l\u001b[?25hdone\n",
            "  Created wheel for littleutils: filename=littleutils-0.2.2-py3-none-any.whl size=7026 sha256=099db59e966601b8f409b83ba22d02a2f2ca16f46440aedf1cd12fe0326ed453\n",
            "  Stored in directory: /root/.cache/pip/wheels/3d/fe/b0/27a9892da57472e538c7452a721a9cf463cc03cf7379889266\n",
            "Successfully built littleutils\n",
            "Installing collected packages: littleutils, outdated, ogb\n",
            "Successfully installed littleutils-0.2.2 ogb-1.3.6 outdated-0.2.2\n",
            "Collecting rdkit-pypi\n",
            "  Downloading rdkit_pypi-2022.9.5-cp310-cp310-manylinux_2_17_x86_64.manylinux2014_x86_64.whl (29.4 MB)\n",
            "\u001b[2K     \u001b[90m━━━━━━━━━━━━━━━━━━━━━━━━━━━━━━━━━━━━━━━━\u001b[0m \u001b[32m29.4/29.4 MB\u001b[0m \u001b[31m25.8 MB/s\u001b[0m eta \u001b[36m0:00:00\u001b[0m\n",
            "\u001b[?25hRequirement already satisfied: numpy in /usr/local/lib/python3.10/dist-packages (from rdkit-pypi) (1.23.5)\n",
            "Requirement already satisfied: Pillow in /usr/local/lib/python3.10/dist-packages (from rdkit-pypi) (9.4.0)\n",
            "Installing collected packages: rdkit-pypi\n",
            "Successfully installed rdkit-pypi-2022.9.5\n"
          ]
        }
      ]
    },
    {
      "cell_type": "code",
      "source": [
        "import math\n",
        "\n",
        "import torch\n",
        "import torch.nn as nn\n",
        "import torch.nn.functional as F\n",
        "\n",
        "from torch_geometric.nn import MessagePassing\n",
        "from torch_geometric.nn import GCNConv, GINConv\n",
        "from torch_geometric.utils import degree\n",
        "from torch_geometric.utils import to_dense_batch\n",
        "\n",
        "from ogb.graphproppred.mol_encoder import BondEncoder\n",
        "\n",
        "import torch\n",
        "import torch.nn as nn\n",
        "import torch.nn.functional as F\n",
        "\n",
        "from torch_geometric.nn import GCNConv, GINConv\n",
        "from torch_geometric.nn import global_mean_pool as gap, global_max_pool as gmp, global_add_pool as gsp\n",
        "\n",
        "from torch_geometric.utils import to_dense_batch\n",
        "\n",
        "# from models.layers import SAB, ISAB, PMA\n",
        "# from models.layers import GCNConv_for_OGB, GINConv_for_OGB\n",
        "\n",
        "from ogb.graphproppred.mol_encoder import AtomEncoder\n",
        "\n",
        "from math import ceil\n",
        "\n",
        "# set seed\n",
        "seed_value = 108\n",
        "torch.manual_seed(seed_value)\n",
        "\n",
        "class MAB(nn.Module):\n",
        "    def __init__(self, dim_Q, dim_K, dim_V, num_heads, ln=False, cluster=False, conv=None):\n",
        "        super(MAB, self).__init__()\n",
        "        self.dim_V = dim_V\n",
        "        self.num_heads = num_heads\n",
        "        self.fc_q = nn.Linear(dim_Q, dim_V)\n",
        "\n",
        "        self.fc_k, self.fc_v = self.get_fc_kv(dim_K, dim_V, conv)\n",
        "\n",
        "        if ln:\n",
        "            self.ln0 = nn.LayerNorm(dim_V)\n",
        "            self.ln1 = nn.LayerNorm(dim_V)\n",
        "        self.fc_o = nn.Linear(dim_V, dim_V)\n",
        "\n",
        "        self.softmax_dim = 2\n",
        "        if cluster == True:\n",
        "            self.softmax_dim = 1\n",
        "\n",
        "    def forward(self, Q, K, attention_mask=None, graph=None, return_attn=False):\n",
        "        Q = self.fc_q(Q)\n",
        "\n",
        "        # Adj: Exist (graph is not None), or Identity (else)\n",
        "        if graph is not None:\n",
        "\n",
        "            (x, edge_index, batch) = graph\n",
        "\n",
        "            K, V = self.fc_k(x, edge_index), self.fc_v(x, edge_index)\n",
        "\n",
        "            K, _ = to_dense_batch(K, batch)\n",
        "            V, _ = to_dense_batch(V, batch)\n",
        "\n",
        "        else:\n",
        "\n",
        "            K, V = self.fc_k(K), self.fc_v(K)\n",
        "\n",
        "        dim_split = self.dim_V // self.num_heads\n",
        "        Q_ = torch.cat(Q.split(dim_split, 2), 0)\n",
        "        K_ = torch.cat(K.split(dim_split, 2), 0)\n",
        "        V_ = torch.cat(V.split(dim_split, 2), 0)\n",
        "\n",
        "        if attention_mask is not None:\n",
        "            attention_mask = torch.cat([attention_mask for _ in range(self.num_heads)], 0)\n",
        "            attention_score = Q_.bmm(K_.transpose(1,2))/math.sqrt(self.dim_V)\n",
        "            A = torch.softmax(attention_mask + attention_score, self.softmax_dim)\n",
        "        else:\n",
        "            A = torch.softmax(Q_.bmm(K_.transpose(1,2))/math.sqrt(self.dim_V), self.softmax_dim)\n",
        "\n",
        "        O = torch.cat((Q_ + A.bmm(V_)).split(Q.size(0), 0), 2)\n",
        "        O = O if getattr(self, 'ln0', None) is None else self.ln0(O)\n",
        "        O = O + F.relu(self.fc_o(O))\n",
        "        O = O if getattr(self, 'ln1', None) is None else self.ln1(O)\n",
        "        if return_attn:\n",
        "            return O, A\n",
        "        else:\n",
        "            return O\n",
        "\n",
        "    def get_fc_kv(self, dim_K, dim_V, conv):\n",
        "\n",
        "        if conv == 'GCN':\n",
        "\n",
        "            fc_k = GCNConv(dim_K, dim_V)\n",
        "            fc_v = GCNConv(dim_K, dim_V)\n",
        "\n",
        "        elif conv == 'GIN':\n",
        "\n",
        "            fc_k = GINConv(\n",
        "                nn.Sequential(\n",
        "                    nn.Linear(dim_K, dim_K),\n",
        "                    nn.ReLU(),\n",
        "                    nn.Linear(dim_K, dim_V),\n",
        "                    nn.ReLU(),\n",
        "                    nn.BatchNorm1d(dim_V),\n",
        "            ), train_eps=False)\n",
        "\n",
        "            fc_v = GINConv(\n",
        "                nn.Sequential(\n",
        "                    nn.Linear(dim_K, dim_K),\n",
        "                    nn.ReLU(),\n",
        "                    nn.Linear(dim_K, dim_V),\n",
        "                    nn.ReLU(),\n",
        "                    nn.BatchNorm1d(dim_V),\n",
        "            ), train_eps=False)\n",
        "\n",
        "        else:\n",
        "\n",
        "            fc_k = nn.Linear(dim_K, dim_V)\n",
        "            fc_v = nn.Linear(dim_K, dim_V)\n",
        "\n",
        "        return fc_k, fc_v\n",
        "\n",
        "class SAB(nn.Module):\n",
        "    def __init__(self, dim_in, dim_out, num_heads, ln=False, cluster=False, mab_conv=None):\n",
        "        super(SAB, self).__init__()\n",
        "\n",
        "        self.mab = MAB(dim_in, dim_in, dim_out, num_heads, ln=ln, cluster=cluster, conv=mab_conv)\n",
        "\n",
        "    def forward(self, X, attention_mask=None, graph=None):\n",
        "        return self.mab(X, X, attention_mask, graph)\n",
        "\n",
        "class ISAB(nn.Module):\n",
        "    def __init__(self, dim_in, dim_out, num_heads, num_inds, ln=False, cluster=False, mab_conv=None):\n",
        "        super(ISAB, self).__init__()\n",
        "        self.I = nn.Parameter(torch.Tensor(1, num_inds, dim_out))\n",
        "        nn.init.xavier_uniform_(self.I)\n",
        "\n",
        "        self.mab0 = MAB(dim_out, dim_in, dim_out, num_heads, ln=ln, cluster=cluster, conv=mab_conv)\n",
        "        self.mab1 = MAB(dim_in, dim_out, dim_out, num_heads, ln=ln, cluster=cluster, conv=mab_conv)\n",
        "\n",
        "    def forward(self, X, attention_mask=None, graph=None):\n",
        "        H = self.mab0(self.I.repeat(X.size(0), 1, 1), X, attention_mask, graph)\n",
        "        return self.mab1(X, H)\n",
        "\n",
        "class PMA(nn.Module):\n",
        "    def __init__(self, dim, num_heads, num_seeds, ln=False, cluster=False, mab_conv=None):\n",
        "        super(PMA, self).__init__()\n",
        "        self.S = nn.Parameter(torch.Tensor(1, num_seeds, dim))\n",
        "        nn.init.xavier_uniform_(self.S)\n",
        "\n",
        "        self.mab = MAB(dim, dim, dim, num_heads, ln=ln, cluster=cluster, conv=mab_conv)\n",
        "\n",
        "    def forward(self, X, attention_mask=None, graph=None, return_attn=False):\n",
        "        return self.mab(self.S.repeat(X.size(0), 1, 1), X, attention_mask, graph, return_attn)\n",
        "\n",
        "### GCN convolution along the graph structure\n",
        "class GCNConv_for_OGB(MessagePassing):\n",
        "    def __init__(self, emb_dim):\n",
        "        super(GCNConv_for_OGB, self).__init__(aggr='add')\n",
        "\n",
        "        self.linear = torch.nn.Linear(emb_dim, emb_dim)\n",
        "        self.root_emb = torch.nn.Embedding(1, emb_dim)\n",
        "        self.bond_encoder = BondEncoder(emb_dim = emb_dim)\n",
        "\n",
        "    def forward(self, x, edge_index, edge_attr):\n",
        "        x = self.linear(x)\n",
        "        edge_embedding = self.bond_encoder(edge_attr)\n",
        "\n",
        "        row, col = edge_index\n",
        "\n",
        "        deg = degree(row, x.size(0), dtype = x.dtype) + 1\n",
        "        deg_inv_sqrt = deg.pow(-0.5)\n",
        "        deg_inv_sqrt[deg_inv_sqrt == float('inf')] = 0\n",
        "\n",
        "        norm = deg_inv_sqrt[row] * deg_inv_sqrt[col]\n",
        "\n",
        "        return self.propagate(edge_index, x=x, edge_attr=edge_embedding, norm=norm) + F.relu(x + self.root_emb.weight) * 1./deg.view(-1,1)\n",
        "\n",
        "    def message(self, x_j, edge_attr, norm):\n",
        "        return norm.view(-1, 1) * F.relu(x_j + edge_attr)\n",
        "\n",
        "    def update(self, aggr_out):\n",
        "        return aggr_out\n",
        "\n",
        "### GIN convolution along the graph structure\n",
        "class GINConv_for_OGB(MessagePassing):\n",
        "    def __init__(self, emb_dim):\n",
        "        super(GINConv_for_OGB, self).__init__(aggr = \"add\")\n",
        "\n",
        "        self.mlp = torch.nn.Sequential(torch.nn.Linear(emb_dim, 2*emb_dim), torch.nn.BatchNorm1d(2*emb_dim), torch.nn.ReLU(), torch.nn.Linear(2*emb_dim, emb_dim))\n",
        "        self.eps = torch.nn.Parameter(torch.Tensor([0]))\n",
        "\n",
        "        self.bond_encoder = BondEncoder(emb_dim = emb_dim)\n",
        "\n",
        "    def forward(self, x, edge_index, edge_attr):\n",
        "        edge_embedding = self.bond_encoder(edge_attr)\n",
        "        out = self.mlp((1 + self.eps) * x + self.propagate(edge_index, x=x, edge_attr=edge_embedding))\n",
        "\n",
        "        return out\n",
        "\n",
        "    def message(self, x_j, edge_attr):\n",
        "        return F.relu(x_j + edge_attr)\n",
        "\n",
        "    def update(self, aggr_out):\n",
        "        return aggr_out"
      ],
      "metadata": {
        "id": "hA5jrgTqWjam"
      },
      "execution_count": 21,
      "outputs": []
    },
    {
      "cell_type": "code",
      "execution_count": 3,
      "metadata": {
        "id": "0fe1bMK2M_mA"
      },
      "outputs": [],
      "source": [
        "class GraphRepresentation(torch.nn.Module):\n",
        "\n",
        "    def __init__(self, args):\n",
        "\n",
        "        super(GraphRepresentation, self).__init__()\n",
        "\n",
        "        self.args = args\n",
        "        self.num_features = args.num_features\n",
        "        self.nhid = args.num_hidden\n",
        "        self.num_classes = args.num_classes\n",
        "        self.pooling_ratio = args.pooling_ratio\n",
        "        self.dropout_ratio = args.dropout\n",
        "\n",
        "    def get_convs(self):\n",
        "\n",
        "        convs = nn.ModuleList()\n",
        "\n",
        "        _input_dim = self.num_features\n",
        "        _output_dim = self.nhid\n",
        "\n",
        "        for _ in range(self.args.num_convs):\n",
        "\n",
        "            if self.args.conv == 'GCN':\n",
        "\n",
        "                conv = GCNConv(_input_dim, _output_dim)\n",
        "\n",
        "            elif self.args.conv == 'GIN':\n",
        "\n",
        "                conv = GINConv(\n",
        "                    nn.Sequential(\n",
        "                        nn.Linear(_input_dim, _output_dim),\n",
        "                        nn.ReLU(),\n",
        "                        nn.Linear(_output_dim, _output_dim),\n",
        "                        nn.ReLU(),\n",
        "                        nn.BatchNorm1d(_output_dim),\n",
        "                ), train_eps=False)\n",
        "\n",
        "            convs.append(conv)\n",
        "\n",
        "            _input_dim = _output_dim\n",
        "            _output_dim = _output_dim\n",
        "\n",
        "        return convs\n",
        "\n",
        "    def get_pools(self):\n",
        "\n",
        "        pools = nn.ModuleList([gap])\n",
        "\n",
        "        return pools\n",
        "\n",
        "    def get_classifier(self):\n",
        "\n",
        "        return nn.Sequential(\n",
        "            nn.Linear(self.nhid, self.nhid),\n",
        "            nn.ReLU(),\n",
        "            nn.Dropout(p=self.dropout_ratio),\n",
        "            nn.Linear(self.nhid, self.nhid//2),\n",
        "            nn.ReLU(),\n",
        "            nn.Dropout(p=self.dropout_ratio),\n",
        "            nn.Linear(self.nhid//2, self.num_classes)\n",
        "        )\n",
        "\n",
        "class GraphMultisetTransformer(GraphRepresentation):\n",
        "\n",
        "    def __init__(self, args):\n",
        "\n",
        "        super(GraphMultisetTransformer, self).__init__(args)\n",
        "\n",
        "        self.ln = args.ln\n",
        "        self.num_heads = args.num_heads\n",
        "        self.cluster = args.cluster\n",
        "\n",
        "        self.model_sequence = args.model_string.split('-')\n",
        "\n",
        "        self.convs = self.get_convs()\n",
        "        self.pools = self.get_pools()\n",
        "        self.classifier = self.get_classifier()\n",
        "\n",
        "    def forward(self, data):\n",
        "\n",
        "        x, edge_index, batch = data.x, data.edge_index, data.batch\n",
        "\n",
        "        # For Graph Convolution Network\n",
        "        xs = []\n",
        "\n",
        "        for _ in range(self.args.num_convs):\n",
        "\n",
        "            x = F.relu(self.convs[_](x, edge_index))\n",
        "            xs.append(x)\n",
        "\n",
        "        # For jumping knowledge scheme\n",
        "        x = torch.cat(xs, dim=1)\n",
        "\n",
        "        # For Graph Multiset Transformer\n",
        "        for _index, _model_str in enumerate(self.model_sequence):\n",
        "\n",
        "            if _index == 0:\n",
        "\n",
        "                batch_x, mask = to_dense_batch(x, batch)\n",
        "\n",
        "                extended_attention_mask = mask.unsqueeze(1)\n",
        "                extended_attention_mask = extended_attention_mask.to(dtype=next(self.parameters()).dtype)\n",
        "                extended_attention_mask = (1.0 - extended_attention_mask) * -1e9\n",
        "\n",
        "            if _model_str == 'GMPool_G':\n",
        "\n",
        "                batch_x = self.pools[_index](batch_x, attention_mask=extended_attention_mask, graph=(x, edge_index, batch))\n",
        "\n",
        "            else:\n",
        "\n",
        "                batch_x = self.pools[_index](batch_x, attention_mask=extended_attention_mask)\n",
        "\n",
        "            extended_attention_mask = None\n",
        "\n",
        "        batch_x = self.pools[len(self.model_sequence)](batch_x)\n",
        "        x = batch_x.squeeze(1)\n",
        "\n",
        "        # For Classification\n",
        "        x = self.classifier(x)\n",
        "\n",
        "        return F.log_softmax(x, dim=-1)\n",
        "\n",
        "    def get_pools(self, _input_dim=None, reconstruction=False):\n",
        "\n",
        "        pools = nn.ModuleList()\n",
        "\n",
        "        _input_dim = self.nhid * self.args.num_convs if _input_dim is None else _input_dim\n",
        "        _output_dim = self.nhid\n",
        "        _num_nodes = ceil(self.pooling_ratio * self.args.avg_num_nodes)\n",
        "\n",
        "        for _index, _model_str in enumerate(self.model_sequence):\n",
        "\n",
        "            if (_index == len(self.model_sequence) - 1) and (reconstruction == False):\n",
        "\n",
        "                _num_nodes = 1\n",
        "\n",
        "            if _model_str == 'GMPool_G':\n",
        "\n",
        "                pools.append(\n",
        "                    PMA(_input_dim, self.num_heads, _num_nodes, ln=self.ln, cluster=self.cluster, mab_conv=self.args.mab_conv)\n",
        "                )\n",
        "\n",
        "                _num_nodes = ceil(self.pooling_ratio * _num_nodes)\n",
        "\n",
        "            elif _model_str == 'GMPool_I':\n",
        "\n",
        "                pools.append(\n",
        "                    PMA(_input_dim, self.num_heads, _num_nodes, ln=self.ln, cluster=self.cluster, mab_conv=None)\n",
        "                )\n",
        "\n",
        "                _num_nodes = ceil(self.pooling_ratio * _num_nodes)\n",
        "\n",
        "            elif _model_str == 'SelfAtt':\n",
        "\n",
        "                pools.append(\n",
        "                    SAB(_input_dim, _output_dim, self.num_heads, ln=self.ln, cluster=self.cluster)\n",
        "                )\n",
        "\n",
        "                _input_dim = _output_dim\n",
        "                _output_dim = _output_dim\n",
        "\n",
        "            else:\n",
        "\n",
        "                raise ValueError(\"Model Name in Model String <{}> is Unknown\".format(_model_str))\n",
        "\n",
        "        pools.append(nn.Linear(_input_dim, self.nhid))\n",
        "\n",
        "        return pools\n",
        "\n",
        "class GraphMultisetTransformer_for_OGB(GraphMultisetTransformer):\n",
        "\n",
        "    def __init__(self, args):\n",
        "\n",
        "        super(GraphMultisetTransformer_for_OGB, self).__init__(args)\n",
        "\n",
        "        self.atom_encoder = AtomEncoder(self.nhid)\n",
        "        self.convs = self.get_convs()\n",
        "\n",
        "    def forward(self, data):\n",
        "\n",
        "        x, edge_index, edge_attr, batch = data.x, data.edge_index, data.edge_attr, data.batch\n",
        "\n",
        "        x = self.atom_encoder(x)\n",
        "\n",
        "        # For Graph Convolution Network\n",
        "        xs = []\n",
        "\n",
        "        for _ in range(self.args.num_convs):\n",
        "\n",
        "            x = F.relu(self.convs[_](x, edge_index, edge_attr))\n",
        "            xs.append(x)\n",
        "\n",
        "        # For jumping knowledge scheme\n",
        "        x = torch.cat(xs, dim=1)\n",
        "\n",
        "        # For Graph Multiset Transformer\n",
        "        for _index, _model_str in enumerate(self.model_sequence):\n",
        "\n",
        "            if _index == 0:\n",
        "\n",
        "                batch_x, mask = to_dense_batch(x, batch)\n",
        "\n",
        "                extended_attention_mask = mask.unsqueeze(1)\n",
        "                extended_attention_mask = extended_attention_mask.to(dtype=next(self.parameters()).dtype)\n",
        "                extended_attention_mask = (1.0 - extended_attention_mask) * -1e9\n",
        "\n",
        "            if _model_str == 'GMPool_G':\n",
        "\n",
        "                batch_x = self.pools[_index](batch_x, attention_mask=extended_attention_mask, graph=(x, edge_index, batch))\n",
        "\n",
        "            else:\n",
        "\n",
        "                batch_x = self.pools[_index](batch_x, attention_mask=extended_attention_mask)\n",
        "\n",
        "            extended_attention_mask = None\n",
        "\n",
        "        batch_x = self.pools[len(self.model_sequence)](batch_x)\n",
        "        x = batch_x.squeeze(1)\n",
        "\n",
        "        # For Classification\n",
        "        x = self.classifier(x)\n",
        "\n",
        "        return x\n",
        "\n",
        "    def get_convs(self):\n",
        "\n",
        "        convs = nn.ModuleList()\n",
        "\n",
        "        for _ in range(self.args.num_convs):\n",
        "\n",
        "            if self.args.conv == 'GCN':\n",
        "\n",
        "                conv = GCNConv_for_OGB(self.nhid)\n",
        "\n",
        "            elif self.args.conv == 'GIN':\n",
        "\n",
        "                conv = GINConv_for_OGB(self.nhid)\n",
        "\n",
        "            convs.append(conv)\n",
        "\n",
        "        return convs"
      ]
    },
    {
      "cell_type": "code",
      "source": [],
      "metadata": {
        "id": "iEulauoakBjG"
      },
      "execution_count": 3,
      "outputs": []
    },
    {
      "cell_type": "code",
      "source": [
        "import matplotlib.pyplot as plt\n",
        "\n",
        "def plot_training_metrics(losses, val_metrics, test_metrics, epoch_times):\n",
        "    \"\"\"\n",
        "    Plot training loss, validation metric, and test metric over epochs.\n",
        "\n",
        "    Parameters:\n",
        "    - losses: List of training losses for each epoch.\n",
        "    - val_metrics: List of validation metrics for each epoch.\n",
        "    - test_metrics: List of test metrics for each epoch.\n",
        "    \"\"\"\n",
        "    epochs = range(1, len(losses) + 1)\n",
        "\n",
        "    # Plotting training loss\n",
        "    plt.figure(figsize=(12, 5))\n",
        "    plt.subplot(1, 3, 1)\n",
        "    plt.plot(epochs, losses, label='Training Loss', marker='o')\n",
        "    plt.title('Training Loss vs. Epochs')\n",
        "    plt.xlabel('Epochs')\n",
        "    plt.ylabel('Loss')\n",
        "    plt.legend()\n",
        "\n",
        "    # Plotting validation and test metrics\n",
        "    plt.subplot(1, 3, 2)\n",
        "    plt.plot(epochs, val_metrics, label='Validation Metric', marker='o')\n",
        "    plt.plot(epochs, test_metrics, label='Test Metric', marker='o')\n",
        "    plt.title('Validation and Test Metrics vs. Epochs')\n",
        "    plt.xlabel('Epochs')\n",
        "    plt.ylabel('Metric')\n",
        "    plt.legend()\n",
        "\n",
        "    # Plotting time vs. epoch\n",
        "    plt.subplot(1, 3, 3)\n",
        "    plt.plot(epochs, epoch_times, label='Time per Epoch', marker='o', color='orange')\n",
        "    plt.title('Epoch Time vs. Epochs')\n",
        "    plt.xlabel('Epochs')\n",
        "    plt.ylabel('Time (seconds)')\n",
        "    plt.legend()\n",
        "\n",
        "    plt.tight_layout()\n",
        "    plt.show()\n",
        "\n",
        "# Example usage:\n",
        "# plot_training_metrics(training_losses, validation_metrics, test_metrics)"
      ],
      "metadata": {
        "id": "Y-RBmUreF5g6"
      },
      "execution_count": 6,
      "outputs": []
    },
    {
      "cell_type": "code",
      "source": [
        "# baseline GCNConv comparison\n",
        "def conv_TUD(dataset_name):\n",
        "  import numpy as np\n",
        "  import os.path as osp\n",
        "  import time\n",
        "  from argparse import Namespace\n",
        "\n",
        "  import torch\n",
        "  import torch.nn.functional as F\n",
        "  from torch.nn import Linear\n",
        "  from tqdm import tqdm\n",
        "\n",
        "  from torch_geometric.datasets import TUDataset\n",
        "  from torch_geometric.nn import GCNConv, GraphMultisetTransformer\n",
        "  from torch_geometric.datasets import MoleculeNet\n",
        "  from torch_geometric.nn import global_mean_pool\n",
        "  import torch_geometric\n",
        "  from torch.utils.data import Dataset, DataLoader, random_split\n",
        "  from torch_geometric.nn import global_mean_pool\n",
        "  from torch.autograd import Variable\n",
        "\n",
        "  path = '\\tmp\\tud'\n",
        "  dataset = TUDataset(path, dataset_name).shuffle()\n",
        "\n",
        "  num_classes = dataset.num_classes\n",
        "  num_features = dataset.num_features\n",
        "  hidden_channels = 32\n",
        "  task_type='classification'\n",
        "  # print(num_classes)\n",
        "\n",
        "  def collate(data_list):\n",
        "    batch = torch_geometric.data.Batch.from_data_list(data_list)\n",
        "    return batch\n",
        "\n",
        "  total_size = len(dataset)\n",
        "  train_size = int(0.8 * total_size)\n",
        "  test_size = (total_size - train_size) // 2\n",
        "  val_size = total_size - train_size - test_size\n",
        "\n",
        "  # Use random_split to split the dataset into train, test, and validation sets\n",
        "  train_dataset, test_dataset, val_dataset = random_split(dataset, [train_size, test_size, val_size])\n",
        "\n",
        "  train_loader = DataLoader(train_dataset, batch_size=128, shuffle=True, collate_fn=collate)\n",
        "  val_loader = DataLoader(val_dataset, batch_size=128, collate_fn=collate)\n",
        "  test_loader = DataLoader(test_dataset, batch_size=128, collate_fn=collate)\n",
        "\n",
        "  class NN(torch.nn.Module):\n",
        "      def __init__(self):\n",
        "          super().__init__()\n",
        "\n",
        "          self.conv1 = GCNConv(in_channels=num_features, out_channels=hidden_channels, normalize=True)\n",
        "          self.conv2 = GCNConv(in_channels=hidden_channels, out_channels=num_classes, normalize=True)\n",
        "          self.relu = torch.nn.ReLU()\n",
        "\n",
        "          self.lin1 = Linear(32, 16)\n",
        "          self.lin2 = Linear(16, num_classes)\n",
        "\n",
        "      def forward(self, x0, edge_index, batch):\n",
        "          x = self.conv1(x0, edge_index)\n",
        "          x = self.relu(x)\n",
        "          x = self.conv2(x, edge_index)\n",
        "          # global mean pool instead of GMT, along with other adjustments\n",
        "          output = global_mean_pool(x, batch)\n",
        "          # output = output.detach().clone().requires_grad_(True)\n",
        "          # x = self.lin1(x)\n",
        "          # output = self.lin2(x)\n",
        "\n",
        "          return output\n",
        "\n",
        "\n",
        "  device = torch.device('cuda' if torch.cuda.is_available() else 'cpu')\n",
        "  model = NN().to(device)\n",
        "  optimizer = torch.optim.Adam(model.parameters(), lr=0.001, weight_decay=1e-4)\n",
        "\n",
        "  def train(loader):\n",
        "      model.train()\n",
        "\n",
        "      total_loss = 0\n",
        "\n",
        "      epoch_iter = tqdm(loader, ncols=130)\n",
        "      for step, batch in enumerate(epoch_iter):\n",
        "          batch = batch.to(device)\n",
        "          optimizer.zero_grad()\n",
        "          out = model(batch.x, batch.edge_index, batch.batch)\n",
        "          is_labeled = ~torch.isnan(batch.y) # Mask NaNs\n",
        "          loss = F.cross_entropy(out[is_labeled], batch.y[is_labeled])\n",
        "          loss.backward()\n",
        "          # prevent exploding gradients if needed, uncomment\n",
        "          # torch.nn.utils.clip_grad_norm_(model.parameters(), max_norm=1.0)\n",
        "          total_loss += batch.num_graphs * float(loss)\n",
        "          optimizer.step()\n",
        "      return total_loss / len(train_dataset)\n",
        "\n",
        "\n",
        "  @torch.no_grad()\n",
        "  def test(loader):\n",
        "\n",
        "      model.eval()\n",
        "\n",
        "      total_same = 0\n",
        "      epoch_iter = tqdm(loader, ncols=130)\n",
        "      for step, batch in enumerate(epoch_iter):\n",
        "          batch = batch.to(device)\n",
        "          out = model(batch.x, batch.edge_index, batch.batch)\n",
        "          total_same += int((out.argmax(dim=-1) == batch.y).sum())\n",
        "      return total_same / len(loader.dataset)\n",
        "\n",
        "\n",
        "  times = []\n",
        "  training_losses = []\n",
        "  validation_metrics = []\n",
        "  test_metrics = []\n",
        "  for epoch in range(1, 201):\n",
        "      start = time.time()\n",
        "      train_loss = train(train_loader)\n",
        "      val_acc = test(val_loader)\n",
        "      test_acc = test(test_loader)\n",
        "      training_losses.append(train_loss)\n",
        "      validation_metrics.append(val_acc)\n",
        "      test_metrics.append(test_acc)\n",
        "      print(f'Epoch: {epoch:03d}, Loss: {train_loss:.4f}, '\n",
        "            f'Val Acc: {val_acc:.4f}, Test Acc: {test_acc:.4f}')\n",
        "      times.append(time.time() - start)\n",
        "  print(f\"Median time per epoch: {torch.tensor(times).median():.4f}s\")\n",
        "  plot_training_metrics(training_losses, validation_metrics, test_metrics, times)\n",
        "  print(f'Best Validation Metric: {max(validation_metrics)}')\n",
        "  print(f'Test Metric: {test_metrics[np.argmax(validation_metrics)]}')\n",
        "\n",
        "conv_TUD('DD')\n",
        "conv_TUD('PROTEINS')"
      ],
      "metadata": {
        "colab": {
          "base_uri": "https://localhost:8080/",
          "height": 1000
        },
        "id": "4ESTAIUl51Zd",
        "outputId": "d10a2043-4dee-410d-fafd-8acb63bea69e"
      },
      "execution_count": 22,
      "outputs": [
        {
          "output_type": "stream",
          "name": "stderr",
          "text": [
            "100%|███████████████████████████████████████████████████████████████████████████████████████████████| 7/7 [00:00<00:00, 26.57it/s]\n",
            "100%|███████████████████████████████████████████████████████████████████████████████████████████████| 1/1 [00:00<00:00, 30.73it/s]\n",
            "100%|███████████████████████████████████████████████████████████████████████████████████████████████| 1/1 [00:00<00:00, 33.74it/s]\n"
          ]
        },
        {
          "output_type": "stream",
          "name": "stdout",
          "text": [
            "Epoch: 001, Loss: 0.7089, Val Acc: 0.3304, Test Acc: 0.3964\n"
          ]
        },
        {
          "output_type": "stream",
          "name": "stderr",
          "text": [
            "100%|███████████████████████████████████████████████████████████████████████████████████████████████| 7/7 [00:00<00:00, 38.39it/s]\n",
            "100%|███████████████████████████████████████████████████████████████████████████████████████████████| 1/1 [00:00<00:00, 43.45it/s]\n",
            "100%|███████████████████████████████████████████████████████████████████████████████████████████████| 1/1 [00:00<00:00, 49.26it/s]\n"
          ]
        },
        {
          "output_type": "stream",
          "name": "stdout",
          "text": [
            "Epoch: 002, Loss: 0.6977, Val Acc: 0.6696, Test Acc: 0.5946\n"
          ]
        },
        {
          "output_type": "stream",
          "name": "stderr",
          "text": [
            "100%|███████████████████████████████████████████████████████████████████████████████████████████████| 7/7 [00:00<00:00, 38.61it/s]\n",
            "100%|███████████████████████████████████████████████████████████████████████████████████████████████| 1/1 [00:00<00:00, 56.18it/s]\n",
            "100%|███████████████████████████████████████████████████████████████████████████████████████████████| 1/1 [00:00<00:00, 55.45it/s]\n"
          ]
        },
        {
          "output_type": "stream",
          "name": "stdout",
          "text": [
            "Epoch: 003, Loss: 0.6901, Val Acc: 0.6696, Test Acc: 0.5946\n"
          ]
        },
        {
          "output_type": "stream",
          "name": "stderr",
          "text": [
            "100%|███████████████████████████████████████████████████████████████████████████████████████████████| 7/7 [00:00<00:00, 39.21it/s]\n",
            "100%|███████████████████████████████████████████████████████████████████████████████████████████████| 1/1 [00:00<00:00, 47.41it/s]\n",
            "100%|███████████████████████████████████████████████████████████████████████████████████████████████| 1/1 [00:00<00:00, 53.24it/s]\n"
          ]
        },
        {
          "output_type": "stream",
          "name": "stdout",
          "text": [
            "Epoch: 004, Loss: 0.6858, Val Acc: 0.6696, Test Acc: 0.5946\n"
          ]
        },
        {
          "output_type": "stream",
          "name": "stderr",
          "text": [
            "100%|███████████████████████████████████████████████████████████████████████████████████████████████| 7/7 [00:00<00:00, 34.16it/s]\n",
            "100%|███████████████████████████████████████████████████████████████████████████████████████████████| 1/1 [00:00<00:00, 46.11it/s]\n",
            "100%|███████████████████████████████████████████████████████████████████████████████████████████████| 1/1 [00:00<00:00, 51.99it/s]\n"
          ]
        },
        {
          "output_type": "stream",
          "name": "stdout",
          "text": [
            "Epoch: 005, Loss: 0.6839, Val Acc: 0.6696, Test Acc: 0.5946\n"
          ]
        },
        {
          "output_type": "stream",
          "name": "stderr",
          "text": [
            "100%|███████████████████████████████████████████████████████████████████████████████████████████████| 7/7 [00:00<00:00, 36.68it/s]\n",
            "100%|███████████████████████████████████████████████████████████████████████████████████████████████| 1/1 [00:00<00:00, 50.35it/s]\n",
            "100%|███████████████████████████████████████████████████████████████████████████████████████████████| 1/1 [00:00<00:00, 40.13it/s]\n"
          ]
        },
        {
          "output_type": "stream",
          "name": "stdout",
          "text": [
            "Epoch: 006, Loss: 0.6825, Val Acc: 0.6696, Test Acc: 0.5946\n"
          ]
        },
        {
          "output_type": "stream",
          "name": "stderr",
          "text": [
            "100%|███████████████████████████████████████████████████████████████████████████████████████████████| 7/7 [00:00<00:00, 35.77it/s]\n",
            "100%|███████████████████████████████████████████████████████████████████████████████████████████████| 1/1 [00:00<00:00, 48.06it/s]\n",
            "100%|███████████████████████████████████████████████████████████████████████████████████████████████| 1/1 [00:00<00:00, 51.83it/s]\n"
          ]
        },
        {
          "output_type": "stream",
          "name": "stdout",
          "text": [
            "Epoch: 007, Loss: 0.6816, Val Acc: 0.6696, Test Acc: 0.5946\n"
          ]
        },
        {
          "output_type": "stream",
          "name": "stderr",
          "text": [
            "100%|███████████████████████████████████████████████████████████████████████████████████████████████| 7/7 [00:00<00:00, 37.18it/s]\n",
            "100%|███████████████████████████████████████████████████████████████████████████████████████████████| 1/1 [00:00<00:00, 52.21it/s]\n",
            "100%|███████████████████████████████████████████████████████████████████████████████████████████████| 1/1 [00:00<00:00, 54.95it/s]\n"
          ]
        },
        {
          "output_type": "stream",
          "name": "stdout",
          "text": [
            "Epoch: 008, Loss: 0.6807, Val Acc: 0.6696, Test Acc: 0.5946\n"
          ]
        },
        {
          "output_type": "stream",
          "name": "stderr",
          "text": [
            "100%|███████████████████████████████████████████████████████████████████████████████████████████████| 7/7 [00:00<00:00, 39.26it/s]\n",
            "100%|███████████████████████████████████████████████████████████████████████████████████████████████| 1/1 [00:00<00:00, 50.64it/s]\n",
            "100%|███████████████████████████████████████████████████████████████████████████████████████████████| 1/1 [00:00<00:00, 55.32it/s]\n"
          ]
        },
        {
          "output_type": "stream",
          "name": "stdout",
          "text": [
            "Epoch: 009, Loss: 0.6798, Val Acc: 0.6696, Test Acc: 0.5946\n"
          ]
        },
        {
          "output_type": "stream",
          "name": "stderr",
          "text": [
            "100%|███████████████████████████████████████████████████████████████████████████████████████████████| 7/7 [00:00<00:00, 41.41it/s]\n",
            "100%|███████████████████████████████████████████████████████████████████████████████████████████████| 1/1 [00:00<00:00, 58.46it/s]\n",
            "100%|███████████████████████████████████████████████████████████████████████████████████████████████| 1/1 [00:00<00:00, 47.05it/s]\n"
          ]
        },
        {
          "output_type": "stream",
          "name": "stdout",
          "text": [
            "Epoch: 010, Loss: 0.6790, Val Acc: 0.6696, Test Acc: 0.5946\n"
          ]
        },
        {
          "output_type": "stream",
          "name": "stderr",
          "text": [
            "100%|███████████████████████████████████████████████████████████████████████████████████████████████| 7/7 [00:00<00:00, 36.51it/s]\n",
            "100%|███████████████████████████████████████████████████████████████████████████████████████████████| 1/1 [00:00<00:00, 58.10it/s]\n",
            "100%|███████████████████████████████████████████████████████████████████████████████████████████████| 1/1 [00:00<00:00, 54.93it/s]\n"
          ]
        },
        {
          "output_type": "stream",
          "name": "stdout",
          "text": [
            "Epoch: 011, Loss: 0.6783, Val Acc: 0.6696, Test Acc: 0.5946\n"
          ]
        },
        {
          "output_type": "stream",
          "name": "stderr",
          "text": [
            "100%|███████████████████████████████████████████████████████████████████████████████████████████████| 7/7 [00:00<00:00, 40.67it/s]\n",
            "100%|███████████████████████████████████████████████████████████████████████████████████████████████| 1/1 [00:00<00:00, 57.82it/s]\n",
            "100%|███████████████████████████████████████████████████████████████████████████████████████████████| 1/1 [00:00<00:00, 50.79it/s]\n"
          ]
        },
        {
          "output_type": "stream",
          "name": "stdout",
          "text": [
            "Epoch: 012, Loss: 0.6776, Val Acc: 0.6696, Test Acc: 0.5946\n"
          ]
        },
        {
          "output_type": "stream",
          "name": "stderr",
          "text": [
            "100%|███████████████████████████████████████████████████████████████████████████████████████████████| 7/7 [00:00<00:00, 36.94it/s]\n",
            "100%|███████████████████████████████████████████████████████████████████████████████████████████████| 1/1 [00:00<00:00, 48.19it/s]\n",
            "100%|███████████████████████████████████████████████████████████████████████████████████████████████| 1/1 [00:00<00:00, 45.58it/s]\n"
          ]
        },
        {
          "output_type": "stream",
          "name": "stdout",
          "text": [
            "Epoch: 013, Loss: 0.6771, Val Acc: 0.6696, Test Acc: 0.5946\n"
          ]
        },
        {
          "output_type": "stream",
          "name": "stderr",
          "text": [
            "100%|███████████████████████████████████████████████████████████████████████████████████████████████| 7/7 [00:00<00:00, 36.38it/s]\n",
            "100%|███████████████████████████████████████████████████████████████████████████████████████████████| 1/1 [00:00<00:00, 50.25it/s]\n",
            "100%|███████████████████████████████████████████████████████████████████████████████████████████████| 1/1 [00:00<00:00, 42.74it/s]\n"
          ]
        },
        {
          "output_type": "stream",
          "name": "stdout",
          "text": [
            "Epoch: 014, Loss: 0.6762, Val Acc: 0.6696, Test Acc: 0.5946\n"
          ]
        },
        {
          "output_type": "stream",
          "name": "stderr",
          "text": [
            "100%|███████████████████████████████████████████████████████████████████████████████████████████████| 7/7 [00:00<00:00, 35.33it/s]\n",
            "100%|███████████████████████████████████████████████████████████████████████████████████████████████| 1/1 [00:00<00:00, 52.73it/s]\n",
            "100%|███████████████████████████████████████████████████████████████████████████████████████████████| 1/1 [00:00<00:00, 42.44it/s]\n"
          ]
        },
        {
          "output_type": "stream",
          "name": "stdout",
          "text": [
            "Epoch: 015, Loss: 0.6756, Val Acc: 0.6696, Test Acc: 0.5946\n"
          ]
        },
        {
          "output_type": "stream",
          "name": "stderr",
          "text": [
            "100%|███████████████████████████████████████████████████████████████████████████████████████████████| 7/7 [00:00<00:00, 37.63it/s]\n",
            "100%|███████████████████████████████████████████████████████████████████████████████████████████████| 1/1 [00:00<00:00, 34.08it/s]\n",
            "100%|███████████████████████████████████████████████████████████████████████████████████████████████| 1/1 [00:00<00:00, 40.17it/s]\n"
          ]
        },
        {
          "output_type": "stream",
          "name": "stdout",
          "text": [
            "Epoch: 016, Loss: 0.6749, Val Acc: 0.6696, Test Acc: 0.5946\n"
          ]
        },
        {
          "output_type": "stream",
          "name": "stderr",
          "text": [
            "100%|███████████████████████████████████████████████████████████████████████████████████████████████| 7/7 [00:00<00:00, 25.60it/s]\n",
            "100%|███████████████████████████████████████████████████████████████████████████████████████████████| 1/1 [00:00<00:00, 36.88it/s]\n",
            "100%|███████████████████████████████████████████████████████████████████████████████████████████████| 1/1 [00:00<00:00, 44.10it/s]\n"
          ]
        },
        {
          "output_type": "stream",
          "name": "stdout",
          "text": [
            "Epoch: 017, Loss: 0.6742, Val Acc: 0.6696, Test Acc: 0.5946\n"
          ]
        },
        {
          "output_type": "stream",
          "name": "stderr",
          "text": [
            "100%|███████████████████████████████████████████████████████████████████████████████████████████████| 7/7 [00:00<00:00, 24.68it/s]\n",
            "100%|███████████████████████████████████████████████████████████████████████████████████████████████| 1/1 [00:00<00:00, 30.15it/s]\n",
            "100%|███████████████████████████████████████████████████████████████████████████████████████████████| 1/1 [00:00<00:00, 34.10it/s]\n"
          ]
        },
        {
          "output_type": "stream",
          "name": "stdout",
          "text": [
            "Epoch: 018, Loss: 0.6736, Val Acc: 0.6696, Test Acc: 0.5946\n"
          ]
        },
        {
          "output_type": "stream",
          "name": "stderr",
          "text": [
            "100%|███████████████████████████████████████████████████████████████████████████████████████████████| 7/7 [00:00<00:00, 24.50it/s]\n",
            "100%|███████████████████████████████████████████████████████████████████████████████████████████████| 1/1 [00:00<00:00, 39.45it/s]\n",
            "100%|███████████████████████████████████████████████████████████████████████████████████████████████| 1/1 [00:00<00:00, 40.89it/s]\n"
          ]
        },
        {
          "output_type": "stream",
          "name": "stdout",
          "text": [
            "Epoch: 019, Loss: 0.6730, Val Acc: 0.6696, Test Acc: 0.5946\n"
          ]
        },
        {
          "output_type": "stream",
          "name": "stderr",
          "text": [
            "100%|███████████████████████████████████████████████████████████████████████████████████████████████| 7/7 [00:00<00:00, 23.05it/s]\n",
            "100%|███████████████████████████████████████████████████████████████████████████████████████████████| 1/1 [00:00<00:00, 26.62it/s]\n",
            "100%|███████████████████████████████████████████████████████████████████████████████████████████████| 1/1 [00:00<00:00, 41.89it/s]\n"
          ]
        },
        {
          "output_type": "stream",
          "name": "stdout",
          "text": [
            "Epoch: 020, Loss: 0.6723, Val Acc: 0.6696, Test Acc: 0.5946\n"
          ]
        },
        {
          "output_type": "stream",
          "name": "stderr",
          "text": [
            "100%|███████████████████████████████████████████████████████████████████████████████████████████████| 7/7 [00:00<00:00, 23.39it/s]\n",
            "100%|███████████████████████████████████████████████████████████████████████████████████████████████| 1/1 [00:00<00:00, 32.27it/s]\n",
            "100%|███████████████████████████████████████████████████████████████████████████████████████████████| 1/1 [00:00<00:00, 37.90it/s]\n"
          ]
        },
        {
          "output_type": "stream",
          "name": "stdout",
          "text": [
            "Epoch: 021, Loss: 0.6717, Val Acc: 0.6696, Test Acc: 0.5946\n"
          ]
        },
        {
          "output_type": "stream",
          "name": "stderr",
          "text": [
            "100%|███████████████████████████████████████████████████████████████████████████████████████████████| 7/7 [00:00<00:00, 25.54it/s]\n",
            "100%|███████████████████████████████████████████████████████████████████████████████████████████████| 1/1 [00:00<00:00, 36.19it/s]\n",
            "100%|███████████████████████████████████████████████████████████████████████████████████████████████| 1/1 [00:00<00:00, 40.29it/s]\n"
          ]
        },
        {
          "output_type": "stream",
          "name": "stdout",
          "text": [
            "Epoch: 022, Loss: 0.6711, Val Acc: 0.6696, Test Acc: 0.5946\n"
          ]
        },
        {
          "output_type": "stream",
          "name": "stderr",
          "text": [
            "100%|███████████████████████████████████████████████████████████████████████████████████████████████| 7/7 [00:00<00:00, 24.42it/s]\n",
            "100%|███████████████████████████████████████████████████████████████████████████████████████████████| 1/1 [00:00<00:00, 40.90it/s]\n",
            "100%|███████████████████████████████████████████████████████████████████████████████████████████████| 1/1 [00:00<00:00, 43.69it/s]\n"
          ]
        },
        {
          "output_type": "stream",
          "name": "stdout",
          "text": [
            "Epoch: 023, Loss: 0.6705, Val Acc: 0.6696, Test Acc: 0.5946\n"
          ]
        },
        {
          "output_type": "stream",
          "name": "stderr",
          "text": [
            "100%|███████████████████████████████████████████████████████████████████████████████████████████████| 7/7 [00:00<00:00, 25.67it/s]\n",
            "100%|███████████████████████████████████████████████████████████████████████████████████████████████| 1/1 [00:00<00:00, 41.54it/s]\n",
            "100%|███████████████████████████████████████████████████████████████████████████████████████████████| 1/1 [00:00<00:00, 42.10it/s]\n"
          ]
        },
        {
          "output_type": "stream",
          "name": "stdout",
          "text": [
            "Epoch: 024, Loss: 0.6699, Val Acc: 0.6696, Test Acc: 0.5946\n"
          ]
        },
        {
          "output_type": "stream",
          "name": "stderr",
          "text": [
            "100%|███████████████████████████████████████████████████████████████████████████████████████████████| 7/7 [00:00<00:00, 24.18it/s]\n",
            "100%|███████████████████████████████████████████████████████████████████████████████████████████████| 1/1 [00:00<00:00, 42.93it/s]\n",
            "100%|███████████████████████████████████████████████████████████████████████████████████████████████| 1/1 [00:00<00:00, 38.18it/s]\n"
          ]
        },
        {
          "output_type": "stream",
          "name": "stdout",
          "text": [
            "Epoch: 025, Loss: 0.6692, Val Acc: 0.6696, Test Acc: 0.5946\n"
          ]
        },
        {
          "output_type": "stream",
          "name": "stderr",
          "text": [
            "100%|███████████████████████████████████████████████████████████████████████████████████████████████| 7/7 [00:00<00:00, 24.35it/s]\n",
            "100%|███████████████████████████████████████████████████████████████████████████████████████████████| 1/1 [00:00<00:00, 30.26it/s]\n",
            "100%|███████████████████████████████████████████████████████████████████████████████████████████████| 1/1 [00:00<00:00, 29.84it/s]\n"
          ]
        },
        {
          "output_type": "stream",
          "name": "stdout",
          "text": [
            "Epoch: 026, Loss: 0.6688, Val Acc: 0.6696, Test Acc: 0.5946\n"
          ]
        },
        {
          "output_type": "stream",
          "name": "stderr",
          "text": [
            "100%|███████████████████████████████████████████████████████████████████████████████████████████████| 7/7 [00:00<00:00, 23.13it/s]\n",
            "100%|███████████████████████████████████████████████████████████████████████████████████████████████| 1/1 [00:00<00:00, 32.54it/s]\n",
            "100%|███████████████████████████████████████████████████████████████████████████████████████████████| 1/1 [00:00<00:00, 33.48it/s]\n"
          ]
        },
        {
          "output_type": "stream",
          "name": "stdout",
          "text": [
            "Epoch: 027, Loss: 0.6680, Val Acc: 0.6696, Test Acc: 0.5946\n"
          ]
        },
        {
          "output_type": "stream",
          "name": "stderr",
          "text": [
            "100%|███████████████████████████████████████████████████████████████████████████████████████████████| 7/7 [00:00<00:00, 23.29it/s]\n",
            "100%|███████████████████████████████████████████████████████████████████████████████████████████████| 1/1 [00:00<00:00, 34.83it/s]\n",
            "100%|███████████████████████████████████████████████████████████████████████████████████████████████| 1/1 [00:00<00:00, 39.76it/s]\n"
          ]
        },
        {
          "output_type": "stream",
          "name": "stdout",
          "text": [
            "Epoch: 028, Loss: 0.6675, Val Acc: 0.6696, Test Acc: 0.5946\n"
          ]
        },
        {
          "output_type": "stream",
          "name": "stderr",
          "text": [
            "100%|███████████████████████████████████████████████████████████████████████████████████████████████| 7/7 [00:00<00:00, 22.09it/s]\n",
            "100%|███████████████████████████████████████████████████████████████████████████████████████████████| 1/1 [00:00<00:00, 37.41it/s]\n",
            "100%|███████████████████████████████████████████████████████████████████████████████████████████████| 1/1 [00:00<00:00, 42.97it/s]\n"
          ]
        },
        {
          "output_type": "stream",
          "name": "stdout",
          "text": [
            "Epoch: 029, Loss: 0.6670, Val Acc: 0.6696, Test Acc: 0.5946\n"
          ]
        },
        {
          "output_type": "stream",
          "name": "stderr",
          "text": [
            "100%|███████████████████████████████████████████████████████████████████████████████████████████████| 7/7 [00:00<00:00, 36.74it/s]\n",
            "100%|███████████████████████████████████████████████████████████████████████████████████████████████| 1/1 [00:00<00:00, 48.32it/s]\n",
            "100%|███████████████████████████████████████████████████████████████████████████████████████████████| 1/1 [00:00<00:00, 48.16it/s]\n"
          ]
        },
        {
          "output_type": "stream",
          "name": "stdout",
          "text": [
            "Epoch: 030, Loss: 0.6664, Val Acc: 0.6696, Test Acc: 0.5946\n"
          ]
        },
        {
          "output_type": "stream",
          "name": "stderr",
          "text": [
            "100%|███████████████████████████████████████████████████████████████████████████████████████████████| 7/7 [00:00<00:00, 35.33it/s]\n",
            "100%|███████████████████████████████████████████████████████████████████████████████████████████████| 1/1 [00:00<00:00,  2.60it/s]\n",
            "100%|███████████████████████████████████████████████████████████████████████████████████████████████| 1/1 [00:00<00:00, 51.52it/s]\n"
          ]
        },
        {
          "output_type": "stream",
          "name": "stdout",
          "text": [
            "Epoch: 031, Loss: 0.6657, Val Acc: 0.6696, Test Acc: 0.5946\n"
          ]
        },
        {
          "output_type": "stream",
          "name": "stderr",
          "text": [
            "100%|███████████████████████████████████████████████████████████████████████████████████████████████| 7/7 [00:00<00:00, 34.79it/s]\n",
            "100%|███████████████████████████████████████████████████████████████████████████████████████████████| 1/1 [00:00<00:00, 42.48it/s]\n",
            "100%|███████████████████████████████████████████████████████████████████████████████████████████████| 1/1 [00:00<00:00, 46.93it/s]\n"
          ]
        },
        {
          "output_type": "stream",
          "name": "stdout",
          "text": [
            "Epoch: 032, Loss: 0.6652, Val Acc: 0.6696, Test Acc: 0.5946\n"
          ]
        },
        {
          "output_type": "stream",
          "name": "stderr",
          "text": [
            "100%|███████████████████████████████████████████████████████████████████████████████████████████████| 7/7 [00:00<00:00, 35.01it/s]\n",
            "100%|███████████████████████████████████████████████████████████████████████████████████████████████| 1/1 [00:00<00:00, 46.87it/s]\n",
            "100%|███████████████████████████████████████████████████████████████████████████████████████████████| 1/1 [00:00<00:00, 38.00it/s]\n"
          ]
        },
        {
          "output_type": "stream",
          "name": "stdout",
          "text": [
            "Epoch: 033, Loss: 0.6647, Val Acc: 0.6696, Test Acc: 0.5946\n"
          ]
        },
        {
          "output_type": "stream",
          "name": "stderr",
          "text": [
            "100%|███████████████████████████████████████████████████████████████████████████████████████████████| 7/7 [00:00<00:00, 33.67it/s]\n",
            "100%|███████████████████████████████████████████████████████████████████████████████████████████████| 1/1 [00:00<00:00, 48.08it/s]\n",
            "100%|███████████████████████████████████████████████████████████████████████████████████████████████| 1/1 [00:00<00:00, 45.28it/s]\n"
          ]
        },
        {
          "output_type": "stream",
          "name": "stdout",
          "text": [
            "Epoch: 034, Loss: 0.6642, Val Acc: 0.6964, Test Acc: 0.6126\n"
          ]
        },
        {
          "output_type": "stream",
          "name": "stderr",
          "text": [
            "100%|███████████████████████████████████████████████████████████████████████████████████████████████| 7/7 [00:00<00:00, 35.36it/s]\n",
            "100%|███████████████████████████████████████████████████████████████████████████████████████████████| 1/1 [00:00<00:00, 35.57it/s]\n",
            "100%|███████████████████████████████████████████████████████████████████████████████████████████████| 1/1 [00:00<00:00, 42.85it/s]\n"
          ]
        },
        {
          "output_type": "stream",
          "name": "stdout",
          "text": [
            "Epoch: 035, Loss: 0.6634, Val Acc: 0.6964, Test Acc: 0.6126\n"
          ]
        },
        {
          "output_type": "stream",
          "name": "stderr",
          "text": [
            "100%|███████████████████████████████████████████████████████████████████████████████████████████████| 7/7 [00:00<00:00, 34.71it/s]\n",
            "100%|███████████████████████████████████████████████████████████████████████████████████████████████| 1/1 [00:00<00:00, 41.49it/s]\n",
            "100%|███████████████████████████████████████████████████████████████████████████████████████████████| 1/1 [00:00<00:00, 55.55it/s]\n"
          ]
        },
        {
          "output_type": "stream",
          "name": "stdout",
          "text": [
            "Epoch: 036, Loss: 0.6629, Val Acc: 0.6964, Test Acc: 0.6126\n"
          ]
        },
        {
          "output_type": "stream",
          "name": "stderr",
          "text": [
            "100%|███████████████████████████████████████████████████████████████████████████████████████████████| 7/7 [00:00<00:00, 34.59it/s]\n",
            "100%|███████████████████████████████████████████████████████████████████████████████████████████████| 1/1 [00:00<00:00, 47.90it/s]\n",
            "100%|███████████████████████████████████████████████████████████████████████████████████████████████| 1/1 [00:00<00:00, 36.63it/s]\n"
          ]
        },
        {
          "output_type": "stream",
          "name": "stdout",
          "text": [
            "Epoch: 037, Loss: 0.6624, Val Acc: 0.6964, Test Acc: 0.6126\n"
          ]
        },
        {
          "output_type": "stream",
          "name": "stderr",
          "text": [
            "100%|███████████████████████████████████████████████████████████████████████████████████████████████| 7/7 [00:00<00:00, 36.24it/s]\n",
            "100%|███████████████████████████████████████████████████████████████████████████████████████████████| 1/1 [00:00<00:00, 46.19it/s]\n",
            "100%|███████████████████████████████████████████████████████████████████████████████████████████████| 1/1 [00:00<00:00, 48.89it/s]\n"
          ]
        },
        {
          "output_type": "stream",
          "name": "stdout",
          "text": [
            "Epoch: 038, Loss: 0.6618, Val Acc: 0.6964, Test Acc: 0.6126\n"
          ]
        },
        {
          "output_type": "stream",
          "name": "stderr",
          "text": [
            "100%|███████████████████████████████████████████████████████████████████████████████████████████████| 7/7 [00:00<00:00, 34.22it/s]\n",
            "100%|███████████████████████████████████████████████████████████████████████████████████████████████| 1/1 [00:00<00:00, 45.66it/s]\n",
            "100%|███████████████████████████████████████████████████████████████████████████████████████████████| 1/1 [00:00<00:00, 47.45it/s]\n"
          ]
        },
        {
          "output_type": "stream",
          "name": "stdout",
          "text": [
            "Epoch: 039, Loss: 0.6613, Val Acc: 0.6964, Test Acc: 0.6126\n"
          ]
        },
        {
          "output_type": "stream",
          "name": "stderr",
          "text": [
            "100%|███████████████████████████████████████████████████████████████████████████████████████████████| 7/7 [00:00<00:00, 36.49it/s]\n",
            "100%|███████████████████████████████████████████████████████████████████████████████████████████████| 1/1 [00:00<00:00, 47.11it/s]\n",
            "100%|███████████████████████████████████████████████████████████████████████████████████████████████| 1/1 [00:00<00:00, 52.69it/s]\n"
          ]
        },
        {
          "output_type": "stream",
          "name": "stdout",
          "text": [
            "Epoch: 040, Loss: 0.6606, Val Acc: 0.6964, Test Acc: 0.6126\n"
          ]
        },
        {
          "output_type": "stream",
          "name": "stderr",
          "text": [
            "100%|███████████████████████████████████████████████████████████████████████████████████████████████| 7/7 [00:00<00:00, 38.83it/s]\n",
            "100%|███████████████████████████████████████████████████████████████████████████████████████████████| 1/1 [00:00<00:00, 45.69it/s]\n",
            "100%|███████████████████████████████████████████████████████████████████████████████████████████████| 1/1 [00:00<00:00, 57.58it/s]\n"
          ]
        },
        {
          "output_type": "stream",
          "name": "stdout",
          "text": [
            "Epoch: 041, Loss: 0.6601, Val Acc: 0.6964, Test Acc: 0.5946\n"
          ]
        },
        {
          "output_type": "stream",
          "name": "stderr",
          "text": [
            "100%|███████████████████████████████████████████████████████████████████████████████████████████████| 7/7 [00:00<00:00, 39.15it/s]\n",
            "100%|███████████████████████████████████████████████████████████████████████████████████████████████| 1/1 [00:00<00:00, 53.59it/s]\n",
            "100%|███████████████████████████████████████████████████████████████████████████████████████████████| 1/1 [00:00<00:00, 52.59it/s]\n"
          ]
        },
        {
          "output_type": "stream",
          "name": "stdout",
          "text": [
            "Epoch: 042, Loss: 0.6596, Val Acc: 0.6875, Test Acc: 0.5946\n"
          ]
        },
        {
          "output_type": "stream",
          "name": "stderr",
          "text": [
            "100%|███████████████████████████████████████████████████████████████████████████████████████████████| 7/7 [00:00<00:00, 38.95it/s]\n",
            "100%|███████████████████████████████████████████████████████████████████████████████████████████████| 1/1 [00:00<00:00, 33.09it/s]\n",
            "100%|███████████████████████████████████████████████████████████████████████████████████████████████| 1/1 [00:00<00:00, 57.57it/s]\n"
          ]
        },
        {
          "output_type": "stream",
          "name": "stdout",
          "text": [
            "Epoch: 043, Loss: 0.6592, Val Acc: 0.6964, Test Acc: 0.6126\n"
          ]
        },
        {
          "output_type": "stream",
          "name": "stderr",
          "text": [
            "100%|███████████████████████████████████████████████████████████████████████████████████████████████| 7/7 [00:00<00:00, 37.20it/s]\n",
            "100%|███████████████████████████████████████████████████████████████████████████████████████████████| 1/1 [00:00<00:00, 59.50it/s]\n",
            "100%|███████████████████████████████████████████████████████████████████████████████████████████████| 1/1 [00:00<00:00, 48.41it/s]\n"
          ]
        },
        {
          "output_type": "stream",
          "name": "stdout",
          "text": [
            "Epoch: 044, Loss: 0.6585, Val Acc: 0.6875, Test Acc: 0.5946\n"
          ]
        },
        {
          "output_type": "stream",
          "name": "stderr",
          "text": [
            "100%|███████████████████████████████████████████████████████████████████████████████████████████████| 7/7 [00:00<00:00, 39.01it/s]\n",
            "100%|███████████████████████████████████████████████████████████████████████████████████████████████| 1/1 [00:00<00:00, 49.77it/s]\n",
            "100%|███████████████████████████████████████████████████████████████████████████████████████████████| 1/1 [00:00<00:00, 52.44it/s]\n"
          ]
        },
        {
          "output_type": "stream",
          "name": "stdout",
          "text": [
            "Epoch: 045, Loss: 0.6581, Val Acc: 0.6875, Test Acc: 0.5946\n"
          ]
        },
        {
          "output_type": "stream",
          "name": "stderr",
          "text": [
            "100%|███████████████████████████████████████████████████████████████████████████████████████████████| 7/7 [00:00<00:00, 38.80it/s]\n",
            "100%|███████████████████████████████████████████████████████████████████████████████████████████████| 1/1 [00:00<00:00, 52.40it/s]\n",
            "100%|███████████████████████████████████████████████████████████████████████████████████████████████| 1/1 [00:00<00:00, 55.84it/s]\n"
          ]
        },
        {
          "output_type": "stream",
          "name": "stdout",
          "text": [
            "Epoch: 046, Loss: 0.6573, Val Acc: 0.6875, Test Acc: 0.5946\n"
          ]
        },
        {
          "output_type": "stream",
          "name": "stderr",
          "text": [
            "100%|███████████████████████████████████████████████████████████████████████████████████████████████| 7/7 [00:00<00:00, 39.83it/s]\n",
            "100%|███████████████████████████████████████████████████████████████████████████████████████████████| 1/1 [00:00<00:00, 60.57it/s]\n",
            "100%|███████████████████████████████████████████████████████████████████████████████████████████████| 1/1 [00:00<00:00, 35.16it/s]\n"
          ]
        },
        {
          "output_type": "stream",
          "name": "stdout",
          "text": [
            "Epoch: 047, Loss: 0.6569, Val Acc: 0.6964, Test Acc: 0.6036\n"
          ]
        },
        {
          "output_type": "stream",
          "name": "stderr",
          "text": [
            "100%|███████████████████████████████████████████████████████████████████████████████████████████████| 7/7 [00:00<00:00, 39.07it/s]\n",
            "100%|███████████████████████████████████████████████████████████████████████████████████████████████| 1/1 [00:00<00:00, 50.91it/s]\n",
            "100%|███████████████████████████████████████████████████████████████████████████████████████████████| 1/1 [00:00<00:00, 52.22it/s]\n"
          ]
        },
        {
          "output_type": "stream",
          "name": "stdout",
          "text": [
            "Epoch: 048, Loss: 0.6564, Val Acc: 0.6875, Test Acc: 0.6036\n"
          ]
        },
        {
          "output_type": "stream",
          "name": "stderr",
          "text": [
            "100%|███████████████████████████████████████████████████████████████████████████████████████████████| 7/7 [00:00<00:00, 34.75it/s]\n",
            "100%|███████████████████████████████████████████████████████████████████████████████████████████████| 1/1 [00:00<00:00, 56.11it/s]\n",
            "100%|███████████████████████████████████████████████████████████████████████████████████████████████| 1/1 [00:00<00:00, 49.35it/s]\n"
          ]
        },
        {
          "output_type": "stream",
          "name": "stdout",
          "text": [
            "Epoch: 049, Loss: 0.6559, Val Acc: 0.6964, Test Acc: 0.6036\n"
          ]
        },
        {
          "output_type": "stream",
          "name": "stderr",
          "text": [
            "100%|███████████████████████████████████████████████████████████████████████████████████████████████| 7/7 [00:00<00:00, 40.18it/s]\n",
            "100%|███████████████████████████████████████████████████████████████████████████████████████████████| 1/1 [00:00<00:00, 55.67it/s]\n",
            "100%|███████████████████████████████████████████████████████████████████████████████████████████████| 1/1 [00:00<00:00, 53.76it/s]\n"
          ]
        },
        {
          "output_type": "stream",
          "name": "stdout",
          "text": [
            "Epoch: 050, Loss: 0.6553, Val Acc: 0.7054, Test Acc: 0.6036\n"
          ]
        },
        {
          "output_type": "stream",
          "name": "stderr",
          "text": [
            "100%|███████████████████████████████████████████████████████████████████████████████████████████████| 7/7 [00:00<00:00, 40.09it/s]\n",
            "100%|███████████████████████████████████████████████████████████████████████████████████████████████| 1/1 [00:00<00:00, 50.30it/s]\n",
            "100%|███████████████████████████████████████████████████████████████████████████████████████████████| 1/1 [00:00<00:00, 55.47it/s]\n"
          ]
        },
        {
          "output_type": "stream",
          "name": "stdout",
          "text": [
            "Epoch: 051, Loss: 0.6549, Val Acc: 0.7054, Test Acc: 0.6036\n"
          ]
        },
        {
          "output_type": "stream",
          "name": "stderr",
          "text": [
            "100%|███████████████████████████████████████████████████████████████████████████████████████████████| 7/7 [00:00<00:00, 37.82it/s]\n",
            "100%|███████████████████████████████████████████████████████████████████████████████████████████████| 1/1 [00:00<00:00, 52.42it/s]\n",
            "100%|███████████████████████████████████████████████████████████████████████████████████████████████| 1/1 [00:00<00:00, 47.78it/s]\n"
          ]
        },
        {
          "output_type": "stream",
          "name": "stdout",
          "text": [
            "Epoch: 052, Loss: 0.6545, Val Acc: 0.6964, Test Acc: 0.6036\n"
          ]
        },
        {
          "output_type": "stream",
          "name": "stderr",
          "text": [
            "100%|███████████████████████████████████████████████████████████████████████████████████████████████| 7/7 [00:00<00:00, 36.07it/s]\n",
            "100%|███████████████████████████████████████████████████████████████████████████████████████████████| 1/1 [00:00<00:00, 31.44it/s]\n",
            "100%|███████████████████████████████████████████████████████████████████████████████████████████████| 1/1 [00:00<00:00, 48.00it/s]\n"
          ]
        },
        {
          "output_type": "stream",
          "name": "stdout",
          "text": [
            "Epoch: 053, Loss: 0.6541, Val Acc: 0.7054, Test Acc: 0.6036\n"
          ]
        },
        {
          "output_type": "stream",
          "name": "stderr",
          "text": [
            "100%|███████████████████████████████████████████████████████████████████████████████████████████████| 7/7 [00:00<00:00, 35.65it/s]\n",
            "100%|███████████████████████████████████████████████████████████████████████████████████████████████| 1/1 [00:00<00:00, 48.95it/s]\n",
            "100%|███████████████████████████████████████████████████████████████████████████████████████████████| 1/1 [00:00<00:00, 44.62it/s]\n"
          ]
        },
        {
          "output_type": "stream",
          "name": "stdout",
          "text": [
            "Epoch: 054, Loss: 0.6533, Val Acc: 0.7054, Test Acc: 0.6036\n"
          ]
        },
        {
          "output_type": "stream",
          "name": "stderr",
          "text": [
            "100%|███████████████████████████████████████████████████████████████████████████████████████████████| 7/7 [00:00<00:00, 35.53it/s]\n",
            "100%|███████████████████████████████████████████████████████████████████████████████████████████████| 1/1 [00:00<00:00, 56.64it/s]\n",
            "100%|███████████████████████████████████████████████████████████████████████████████████████████████| 1/1 [00:00<00:00, 51.33it/s]\n"
          ]
        },
        {
          "output_type": "stream",
          "name": "stdout",
          "text": [
            "Epoch: 055, Loss: 0.6527, Val Acc: 0.7054, Test Acc: 0.6036\n"
          ]
        },
        {
          "output_type": "stream",
          "name": "stderr",
          "text": [
            "100%|███████████████████████████████████████████████████████████████████████████████████████████████| 7/7 [00:00<00:00, 34.28it/s]\n",
            "100%|███████████████████████████████████████████████████████████████████████████████████████████████| 1/1 [00:00<00:00, 51.45it/s]\n",
            "100%|███████████████████████████████████████████████████████████████████████████████████████████████| 1/1 [00:00<00:00, 40.59it/s]\n"
          ]
        },
        {
          "output_type": "stream",
          "name": "stdout",
          "text": [
            "Epoch: 056, Loss: 0.6522, Val Acc: 0.7054, Test Acc: 0.6036\n"
          ]
        },
        {
          "output_type": "stream",
          "name": "stderr",
          "text": [
            "100%|███████████████████████████████████████████████████████████████████████████████████████████████| 7/7 [00:00<00:00, 35.41it/s]\n",
            "100%|███████████████████████████████████████████████████████████████████████████████████████████████| 1/1 [00:00<00:00, 40.86it/s]\n",
            "100%|███████████████████████████████████████████████████████████████████████████████████████████████| 1/1 [00:00<00:00, 38.35it/s]\n"
          ]
        },
        {
          "output_type": "stream",
          "name": "stdout",
          "text": [
            "Epoch: 057, Loss: 0.6517, Val Acc: 0.7054, Test Acc: 0.6036\n"
          ]
        },
        {
          "output_type": "stream",
          "name": "stderr",
          "text": [
            "100%|███████████████████████████████████████████████████████████████████████████████████████████████| 7/7 [00:00<00:00, 36.95it/s]\n",
            "100%|███████████████████████████████████████████████████████████████████████████████████████████████| 1/1 [00:00<00:00, 46.52it/s]\n",
            "100%|███████████████████████████████████████████████████████████████████████████████████████████████| 1/1 [00:00<00:00, 49.42it/s]\n"
          ]
        },
        {
          "output_type": "stream",
          "name": "stdout",
          "text": [
            "Epoch: 058, Loss: 0.6512, Val Acc: 0.7054, Test Acc: 0.6036\n"
          ]
        },
        {
          "output_type": "stream",
          "name": "stderr",
          "text": [
            "100%|███████████████████████████████████████████████████████████████████████████████████████████████| 7/7 [00:00<00:00, 35.03it/s]\n",
            "100%|███████████████████████████████████████████████████████████████████████████████████████████████| 1/1 [00:00<00:00, 46.13it/s]\n",
            "100%|███████████████████████████████████████████████████████████████████████████████████████████████| 1/1 [00:00<00:00, 34.16it/s]\n"
          ]
        },
        {
          "output_type": "stream",
          "name": "stdout",
          "text": [
            "Epoch: 059, Loss: 0.6508, Val Acc: 0.7143, Test Acc: 0.6036\n"
          ]
        },
        {
          "output_type": "stream",
          "name": "stderr",
          "text": [
            "100%|███████████████████████████████████████████████████████████████████████████████████████████████| 7/7 [00:00<00:00, 36.34it/s]\n",
            "100%|███████████████████████████████████████████████████████████████████████████████████████████████| 1/1 [00:00<00:00, 40.27it/s]\n",
            "100%|███████████████████████████████████████████████████████████████████████████████████████████████| 1/1 [00:00<00:00, 42.79it/s]\n"
          ]
        },
        {
          "output_type": "stream",
          "name": "stdout",
          "text": [
            "Epoch: 060, Loss: 0.6502, Val Acc: 0.7143, Test Acc: 0.6036\n"
          ]
        },
        {
          "output_type": "stream",
          "name": "stderr",
          "text": [
            "100%|███████████████████████████████████████████████████████████████████████████████████████████████| 7/7 [00:00<00:00, 33.71it/s]\n",
            "100%|███████████████████████████████████████████████████████████████████████████████████████████████| 1/1 [00:00<00:00, 46.74it/s]\n",
            "100%|███████████████████████████████████████████████████████████████████████████████████████████████| 1/1 [00:00<00:00, 50.05it/s]\n"
          ]
        },
        {
          "output_type": "stream",
          "name": "stdout",
          "text": [
            "Epoch: 061, Loss: 0.6497, Val Acc: 0.7143, Test Acc: 0.6126\n"
          ]
        },
        {
          "output_type": "stream",
          "name": "stderr",
          "text": [
            "100%|███████████████████████████████████████████████████████████████████████████████████████████████| 7/7 [00:00<00:00, 35.55it/s]\n",
            "100%|███████████████████████████████████████████████████████████████████████████████████████████████| 1/1 [00:00<00:00, 37.04it/s]\n",
            "100%|███████████████████████████████████████████████████████████████████████████████████████████████| 1/1 [00:00<00:00, 40.09it/s]\n"
          ]
        },
        {
          "output_type": "stream",
          "name": "stdout",
          "text": [
            "Epoch: 062, Loss: 0.6491, Val Acc: 0.7143, Test Acc: 0.6126\n"
          ]
        },
        {
          "output_type": "stream",
          "name": "stderr",
          "text": [
            "100%|███████████████████████████████████████████████████████████████████████████████████████████████| 7/7 [00:00<00:00, 35.44it/s]\n",
            "100%|███████████████████████████████████████████████████████████████████████████████████████████████| 1/1 [00:00<00:00, 46.61it/s]\n",
            "100%|███████████████████████████████████████████████████████████████████████████████████████████████| 1/1 [00:00<00:00, 46.45it/s]\n"
          ]
        },
        {
          "output_type": "stream",
          "name": "stdout",
          "text": [
            "Epoch: 063, Loss: 0.6487, Val Acc: 0.7143, Test Acc: 0.6036\n"
          ]
        },
        {
          "output_type": "stream",
          "name": "stderr",
          "text": [
            "100%|███████████████████████████████████████████████████████████████████████████████████████████████| 7/7 [00:00<00:00, 37.16it/s]\n",
            "100%|███████████████████████████████████████████████████████████████████████████████████████████████| 1/1 [00:00<00:00, 54.97it/s]\n",
            "100%|███████████████████████████████████████████████████████████████████████████████████████████████| 1/1 [00:00<00:00, 43.68it/s]\n"
          ]
        },
        {
          "output_type": "stream",
          "name": "stdout",
          "text": [
            "Epoch: 064, Loss: 0.6481, Val Acc: 0.7143, Test Acc: 0.6036\n"
          ]
        },
        {
          "output_type": "stream",
          "name": "stderr",
          "text": [
            "100%|███████████████████████████████████████████████████████████████████████████████████████████████| 7/7 [00:00<00:00, 38.47it/s]\n",
            "100%|███████████████████████████████████████████████████████████████████████████████████████████████| 1/1 [00:00<00:00, 49.54it/s]\n",
            "100%|███████████████████████████████████████████████████████████████████████████████████████████████| 1/1 [00:00<00:00, 50.90it/s]\n"
          ]
        },
        {
          "output_type": "stream",
          "name": "stdout",
          "text": [
            "Epoch: 065, Loss: 0.6474, Val Acc: 0.7143, Test Acc: 0.6036\n"
          ]
        },
        {
          "output_type": "stream",
          "name": "stderr",
          "text": [
            "100%|███████████████████████████████████████████████████████████████████████████████████████████████| 7/7 [00:00<00:00, 38.99it/s]\n",
            "100%|███████████████████████████████████████████████████████████████████████████████████████████████| 1/1 [00:00<00:00, 39.22it/s]\n",
            "100%|███████████████████████████████████████████████████████████████████████████████████████████████| 1/1 [00:00<00:00, 42.52it/s]\n"
          ]
        },
        {
          "output_type": "stream",
          "name": "stdout",
          "text": [
            "Epoch: 066, Loss: 0.6471, Val Acc: 0.7143, Test Acc: 0.6036\n"
          ]
        },
        {
          "output_type": "stream",
          "name": "stderr",
          "text": [
            "100%|███████████████████████████████████████████████████████████████████████████████████████████████| 7/7 [00:00<00:00, 24.81it/s]\n",
            "100%|███████████████████████████████████████████████████████████████████████████████████████████████| 1/1 [00:00<00:00, 38.05it/s]\n",
            "100%|███████████████████████████████████████████████████████████████████████████████████████████████| 1/1 [00:00<00:00, 40.19it/s]\n"
          ]
        },
        {
          "output_type": "stream",
          "name": "stdout",
          "text": [
            "Epoch: 067, Loss: 0.6463, Val Acc: 0.7143, Test Acc: 0.6036\n"
          ]
        },
        {
          "output_type": "stream",
          "name": "stderr",
          "text": [
            "100%|███████████████████████████████████████████████████████████████████████████████████████████████| 7/7 [00:00<00:00, 25.87it/s]\n",
            "100%|███████████████████████████████████████████████████████████████████████████████████████████████| 1/1 [00:00<00:00, 45.55it/s]\n",
            "100%|███████████████████████████████████████████████████████████████████████████████████████████████| 1/1 [00:00<00:00, 29.02it/s]\n"
          ]
        },
        {
          "output_type": "stream",
          "name": "stdout",
          "text": [
            "Epoch: 068, Loss: 0.6458, Val Acc: 0.7143, Test Acc: 0.6036\n"
          ]
        },
        {
          "output_type": "stream",
          "name": "stderr",
          "text": [
            "100%|███████████████████████████████████████████████████████████████████████████████████████████████| 7/7 [00:00<00:00, 23.38it/s]\n",
            "100%|███████████████████████████████████████████████████████████████████████████████████████████████| 1/1 [00:00<00:00, 26.29it/s]\n",
            "100%|███████████████████████████████████████████████████████████████████████████████████████████████| 1/1 [00:00<00:00, 45.16it/s]\n"
          ]
        },
        {
          "output_type": "stream",
          "name": "stdout",
          "text": [
            "Epoch: 069, Loss: 0.6453, Val Acc: 0.7143, Test Acc: 0.6036\n"
          ]
        },
        {
          "output_type": "stream",
          "name": "stderr",
          "text": [
            "100%|███████████████████████████████████████████████████████████████████████████████████████████████| 7/7 [00:00<00:00, 23.48it/s]\n",
            "100%|███████████████████████████████████████████████████████████████████████████████████████████████| 1/1 [00:00<00:00, 41.05it/s]\n",
            "100%|███████████████████████████████████████████████████████████████████████████████████████████████| 1/1 [00:00<00:00, 44.41it/s]\n"
          ]
        },
        {
          "output_type": "stream",
          "name": "stdout",
          "text": [
            "Epoch: 070, Loss: 0.6446, Val Acc: 0.7054, Test Acc: 0.6036\n"
          ]
        },
        {
          "output_type": "stream",
          "name": "stderr",
          "text": [
            "100%|███████████████████████████████████████████████████████████████████████████████████████████████| 7/7 [00:00<00:00, 26.59it/s]\n",
            "100%|███████████████████████████████████████████████████████████████████████████████████████████████| 1/1 [00:00<00:00, 45.26it/s]\n",
            "100%|███████████████████████████████████████████████████████████████████████████████████████████████| 1/1 [00:00<00:00, 46.31it/s]\n"
          ]
        },
        {
          "output_type": "stream",
          "name": "stdout",
          "text": [
            "Epoch: 071, Loss: 0.6442, Val Acc: 0.7054, Test Acc: 0.6036\n"
          ]
        },
        {
          "output_type": "stream",
          "name": "stderr",
          "text": [
            "100%|███████████████████████████████████████████████████████████████████████████████████████████████| 7/7 [00:00<00:00, 25.63it/s]\n",
            "100%|███████████████████████████████████████████████████████████████████████████████████████████████| 1/1 [00:00<00:00, 45.81it/s]\n",
            "100%|███████████████████████████████████████████████████████████████████████████████████████████████| 1/1 [00:00<00:00, 45.22it/s]\n"
          ]
        },
        {
          "output_type": "stream",
          "name": "stdout",
          "text": [
            "Epoch: 072, Loss: 0.6437, Val Acc: 0.7143, Test Acc: 0.6036\n"
          ]
        },
        {
          "output_type": "stream",
          "name": "stderr",
          "text": [
            "100%|███████████████████████████████████████████████████████████████████████████████████████████████| 7/7 [00:00<00:00, 25.52it/s]\n",
            "100%|███████████████████████████████████████████████████████████████████████████████████████████████| 1/1 [00:00<00:00, 36.66it/s]\n",
            "100%|███████████████████████████████████████████████████████████████████████████████████████████████| 1/1 [00:00<00:00, 46.15it/s]\n"
          ]
        },
        {
          "output_type": "stream",
          "name": "stdout",
          "text": [
            "Epoch: 073, Loss: 0.6432, Val Acc: 0.7143, Test Acc: 0.5946\n"
          ]
        },
        {
          "output_type": "stream",
          "name": "stderr",
          "text": [
            "100%|███████████████████████████████████████████████████████████████████████████████████████████████| 7/7 [00:00<00:00, 25.66it/s]\n",
            "100%|███████████████████████████████████████████████████████████████████████████████████████████████| 1/1 [00:00<00:00, 45.80it/s]\n",
            "100%|███████████████████████████████████████████████████████████████████████████████████████████████| 1/1 [00:00<00:00, 44.57it/s]\n"
          ]
        },
        {
          "output_type": "stream",
          "name": "stdout",
          "text": [
            "Epoch: 074, Loss: 0.6428, Val Acc: 0.7143, Test Acc: 0.6036\n"
          ]
        },
        {
          "output_type": "stream",
          "name": "stderr",
          "text": [
            "100%|███████████████████████████████████████████████████████████████████████████████████████████████| 7/7 [00:00<00:00, 26.41it/s]\n",
            "100%|███████████████████████████████████████████████████████████████████████████████████████████████| 1/1 [00:00<00:00, 41.90it/s]\n",
            "100%|███████████████████████████████████████████████████████████████████████████████████████████████| 1/1 [00:00<00:00, 45.75it/s]\n"
          ]
        },
        {
          "output_type": "stream",
          "name": "stdout",
          "text": [
            "Epoch: 075, Loss: 0.6420, Val Acc: 0.7054, Test Acc: 0.6036\n"
          ]
        },
        {
          "output_type": "stream",
          "name": "stderr",
          "text": [
            "100%|███████████████████████████████████████████████████████████████████████████████████████████████| 7/7 [00:00<00:00, 25.85it/s]\n",
            "100%|███████████████████████████████████████████████████████████████████████████████████████████████| 1/1 [00:00<00:00, 46.77it/s]\n",
            "100%|███████████████████████████████████████████████████████████████████████████████████████████████| 1/1 [00:00<00:00, 47.19it/s]\n"
          ]
        },
        {
          "output_type": "stream",
          "name": "stdout",
          "text": [
            "Epoch: 076, Loss: 0.6416, Val Acc: 0.7054, Test Acc: 0.6036\n"
          ]
        },
        {
          "output_type": "stream",
          "name": "stderr",
          "text": [
            "100%|███████████████████████████████████████████████████████████████████████████████████████████████| 7/7 [00:00<00:00, 25.80it/s]\n",
            "100%|███████████████████████████████████████████████████████████████████████████████████████████████| 1/1 [00:00<00:00, 29.72it/s]\n",
            "100%|███████████████████████████████████████████████████████████████████████████████████████████████| 1/1 [00:00<00:00, 38.00it/s]\n"
          ]
        },
        {
          "output_type": "stream",
          "name": "stdout",
          "text": [
            "Epoch: 077, Loss: 0.6409, Val Acc: 0.7232, Test Acc: 0.6036\n"
          ]
        },
        {
          "output_type": "stream",
          "name": "stderr",
          "text": [
            "100%|███████████████████████████████████████████████████████████████████████████████████████████████| 7/7 [00:00<00:00, 25.43it/s]\n",
            "100%|███████████████████████████████████████████████████████████████████████████████████████████████| 1/1 [00:00<00:00, 44.41it/s]\n",
            "100%|███████████████████████████████████████████████████████████████████████████████████████████████| 1/1 [00:00<00:00, 45.47it/s]\n"
          ]
        },
        {
          "output_type": "stream",
          "name": "stdout",
          "text": [
            "Epoch: 078, Loss: 0.6404, Val Acc: 0.7232, Test Acc: 0.6036\n"
          ]
        },
        {
          "output_type": "stream",
          "name": "stderr",
          "text": [
            "100%|███████████████████████████████████████████████████████████████████████████████████████████████| 7/7 [00:00<00:00, 26.18it/s]\n",
            "100%|███████████████████████████████████████████████████████████████████████████████████████████████| 1/1 [00:00<00:00, 46.31it/s]\n",
            "100%|███████████████████████████████████████████████████████████████████████████████████████████████| 1/1 [00:00<00:00, 45.77it/s]\n"
          ]
        },
        {
          "output_type": "stream",
          "name": "stdout",
          "text": [
            "Epoch: 079, Loss: 0.6402, Val Acc: 0.7054, Test Acc: 0.6036\n"
          ]
        },
        {
          "output_type": "stream",
          "name": "stderr",
          "text": [
            "100%|███████████████████████████████████████████████████████████████████████████████████████████████| 7/7 [00:00<00:00, 25.93it/s]\n",
            "100%|███████████████████████████████████████████████████████████████████████████████████████████████| 1/1 [00:00<00:00, 43.90it/s]\n",
            "100%|███████████████████████████████████████████████████████████████████████████████████████████████| 1/1 [00:00<00:00, 38.78it/s]\n"
          ]
        },
        {
          "output_type": "stream",
          "name": "stdout",
          "text": [
            "Epoch: 080, Loss: 0.6400, Val Acc: 0.7232, Test Acc: 0.5946\n"
          ]
        },
        {
          "output_type": "stream",
          "name": "stderr",
          "text": [
            "100%|███████████████████████████████████████████████████████████████████████████████████████████████| 7/7 [00:00<00:00, 25.90it/s]\n",
            "100%|███████████████████████████████████████████████████████████████████████████████████████████████| 1/1 [00:00<00:00, 39.28it/s]\n",
            "100%|███████████████████████████████████████████████████████████████████████████████████████████████| 1/1 [00:00<00:00, 45.53it/s]\n"
          ]
        },
        {
          "output_type": "stream",
          "name": "stdout",
          "text": [
            "Epoch: 081, Loss: 0.6391, Val Acc: 0.7232, Test Acc: 0.6036\n"
          ]
        },
        {
          "output_type": "stream",
          "name": "stderr",
          "text": [
            "100%|███████████████████████████████████████████████████████████████████████████████████████████████| 7/7 [00:00<00:00, 27.63it/s]\n",
            "100%|███████████████████████████████████████████████████████████████████████████████████████████████| 1/1 [00:00<00:00, 44.93it/s]\n",
            "100%|███████████████████████████████████████████████████████████████████████████████████████████████| 1/1 [00:00<00:00, 41.75it/s]\n"
          ]
        },
        {
          "output_type": "stream",
          "name": "stdout",
          "text": [
            "Epoch: 082, Loss: 0.6384, Val Acc: 0.7232, Test Acc: 0.5946\n"
          ]
        },
        {
          "output_type": "stream",
          "name": "stderr",
          "text": [
            "100%|███████████████████████████████████████████████████████████████████████████████████████████████| 7/7 [00:00<00:00, 34.74it/s]\n",
            "100%|███████████████████████████████████████████████████████████████████████████████████████████████| 1/1 [00:00<00:00, 43.36it/s]\n",
            "100%|███████████████████████████████████████████████████████████████████████████████████████████████| 1/1 [00:00<00:00, 36.69it/s]\n"
          ]
        },
        {
          "output_type": "stream",
          "name": "stdout",
          "text": [
            "Epoch: 083, Loss: 0.6379, Val Acc: 0.7232, Test Acc: 0.6036\n"
          ]
        },
        {
          "output_type": "stream",
          "name": "stderr",
          "text": [
            "100%|███████████████████████████████████████████████████████████████████████████████████████████████| 7/7 [00:00<00:00, 34.46it/s]\n",
            "100%|███████████████████████████████████████████████████████████████████████████████████████████████| 1/1 [00:00<00:00, 45.03it/s]\n",
            "100%|███████████████████████████████████████████████████████████████████████████████████████████████| 1/1 [00:00<00:00, 45.96it/s]\n"
          ]
        },
        {
          "output_type": "stream",
          "name": "stdout",
          "text": [
            "Epoch: 084, Loss: 0.6375, Val Acc: 0.7232, Test Acc: 0.6036\n"
          ]
        },
        {
          "output_type": "stream",
          "name": "stderr",
          "text": [
            "100%|███████████████████████████████████████████████████████████████████████████████████████████████| 7/7 [00:00<00:00, 36.52it/s]\n",
            "100%|███████████████████████████████████████████████████████████████████████████████████████████████| 1/1 [00:00<00:00, 48.40it/s]\n",
            "100%|███████████████████████████████████████████████████████████████████████████████████████████████| 1/1 [00:00<00:00, 37.90it/s]\n"
          ]
        },
        {
          "output_type": "stream",
          "name": "stdout",
          "text": [
            "Epoch: 085, Loss: 0.6372, Val Acc: 0.7232, Test Acc: 0.5946\n"
          ]
        },
        {
          "output_type": "stream",
          "name": "stderr",
          "text": [
            "100%|███████████████████████████████████████████████████████████████████████████████████████████████| 7/7 [00:00<00:00, 33.37it/s]\n",
            "100%|███████████████████████████████████████████████████████████████████████████████████████████████| 1/1 [00:00<00:00, 49.03it/s]\n",
            "100%|███████████████████████████████████████████████████████████████████████████████████████████████| 1/1 [00:00<00:00, 37.31it/s]\n"
          ]
        },
        {
          "output_type": "stream",
          "name": "stdout",
          "text": [
            "Epoch: 086, Loss: 0.6366, Val Acc: 0.7232, Test Acc: 0.5946\n"
          ]
        },
        {
          "output_type": "stream",
          "name": "stderr",
          "text": [
            "100%|███████████████████████████████████████████████████████████████████████████████████████████████| 7/7 [00:00<00:00, 33.80it/s]\n",
            "100%|███████████████████████████████████████████████████████████████████████████████████████████████| 1/1 [00:00<00:00, 41.71it/s]\n",
            "100%|███████████████████████████████████████████████████████████████████████████████████████████████| 1/1 [00:00<00:00, 41.61it/s]\n"
          ]
        },
        {
          "output_type": "stream",
          "name": "stdout",
          "text": [
            "Epoch: 087, Loss: 0.6361, Val Acc: 0.7232, Test Acc: 0.5946\n"
          ]
        },
        {
          "output_type": "stream",
          "name": "stderr",
          "text": [
            "100%|███████████████████████████████████████████████████████████████████████████████████████████████| 7/7 [00:00<00:00, 35.30it/s]\n",
            "100%|███████████████████████████████████████████████████████████████████████████████████████████████| 1/1 [00:00<00:00, 43.06it/s]\n",
            "100%|███████████████████████████████████████████████████████████████████████████████████████████████| 1/1 [00:00<00:00, 47.64it/s]\n"
          ]
        },
        {
          "output_type": "stream",
          "name": "stdout",
          "text": [
            "Epoch: 088, Loss: 0.6358, Val Acc: 0.7232, Test Acc: 0.6036\n"
          ]
        },
        {
          "output_type": "stream",
          "name": "stderr",
          "text": [
            "100%|███████████████████████████████████████████████████████████████████████████████████████████████| 7/7 [00:00<00:00, 32.98it/s]\n",
            "100%|███████████████████████████████████████████████████████████████████████████████████████████████| 1/1 [00:00<00:00, 38.65it/s]\n",
            "100%|███████████████████████████████████████████████████████████████████████████████████████████████| 1/1 [00:00<00:00, 32.80it/s]\n"
          ]
        },
        {
          "output_type": "stream",
          "name": "stdout",
          "text": [
            "Epoch: 089, Loss: 0.6351, Val Acc: 0.7232, Test Acc: 0.5946\n"
          ]
        },
        {
          "output_type": "stream",
          "name": "stderr",
          "text": [
            "100%|███████████████████████████████████████████████████████████████████████████████████████████████| 7/7 [00:00<00:00, 34.71it/s]\n",
            "100%|███████████████████████████████████████████████████████████████████████████████████████████████| 1/1 [00:00<00:00, 54.04it/s]\n",
            "100%|███████████████████████████████████████████████████████████████████████████████████████████████| 1/1 [00:00<00:00, 40.96it/s]\n"
          ]
        },
        {
          "output_type": "stream",
          "name": "stdout",
          "text": [
            "Epoch: 090, Loss: 0.6348, Val Acc: 0.7232, Test Acc: 0.5946\n"
          ]
        },
        {
          "output_type": "stream",
          "name": "stderr",
          "text": [
            "100%|███████████████████████████████████████████████████████████████████████████████████████████████| 7/7 [00:00<00:00, 34.19it/s]\n",
            "100%|███████████████████████████████████████████████████████████████████████████████████████████████| 1/1 [00:00<00:00, 36.97it/s]\n",
            "100%|███████████████████████████████████████████████████████████████████████████████████████████████| 1/1 [00:00<00:00, 45.81it/s]\n"
          ]
        },
        {
          "output_type": "stream",
          "name": "stdout",
          "text": [
            "Epoch: 091, Loss: 0.6343, Val Acc: 0.7232, Test Acc: 0.5946\n"
          ]
        },
        {
          "output_type": "stream",
          "name": "stderr",
          "text": [
            "100%|███████████████████████████████████████████████████████████████████████████████████████████████| 7/7 [00:00<00:00, 33.78it/s]\n",
            "100%|███████████████████████████████████████████████████████████████████████████████████████████████| 1/1 [00:00<00:00, 44.01it/s]\n",
            "100%|███████████████████████████████████████████████████████████████████████████████████████████████| 1/1 [00:00<00:00, 39.36it/s]\n"
          ]
        },
        {
          "output_type": "stream",
          "name": "stdout",
          "text": [
            "Epoch: 092, Loss: 0.6342, Val Acc: 0.7679, Test Acc: 0.6396\n"
          ]
        },
        {
          "output_type": "stream",
          "name": "stderr",
          "text": [
            "100%|███████████████████████████████████████████████████████████████████████████████████████████████| 7/7 [00:00<00:00, 32.05it/s]\n",
            "100%|███████████████████████████████████████████████████████████████████████████████████████████████| 1/1 [00:00<00:00, 46.52it/s]\n",
            "100%|███████████████████████████████████████████████████████████████████████████████████████████████| 1/1 [00:00<00:00, 51.98it/s]\n"
          ]
        },
        {
          "output_type": "stream",
          "name": "stdout",
          "text": [
            "Epoch: 093, Loss: 0.6334, Val Acc: 0.7679, Test Acc: 0.6396\n"
          ]
        },
        {
          "output_type": "stream",
          "name": "stderr",
          "text": [
            "100%|███████████████████████████████████████████████████████████████████████████████████████████████| 7/7 [00:00<00:00, 39.50it/s]\n",
            "100%|███████████████████████████████████████████████████████████████████████████████████████████████| 1/1 [00:00<00:00, 41.36it/s]\n",
            "100%|███████████████████████████████████████████████████████████████████████████████████████████████| 1/1 [00:00<00:00, 41.28it/s]\n"
          ]
        },
        {
          "output_type": "stream",
          "name": "stdout",
          "text": [
            "Epoch: 094, Loss: 0.6330, Val Acc: 0.7679, Test Acc: 0.6396\n"
          ]
        },
        {
          "output_type": "stream",
          "name": "stderr",
          "text": [
            "100%|███████████████████████████████████████████████████████████████████████████████████████████████| 7/7 [00:00<00:00, 39.05it/s]\n",
            "100%|███████████████████████████████████████████████████████████████████████████████████████████████| 1/1 [00:00<00:00, 46.46it/s]\n",
            "100%|███████████████████████████████████████████████████████████████████████████████████████████████| 1/1 [00:00<00:00, 51.08it/s]\n"
          ]
        },
        {
          "output_type": "stream",
          "name": "stdout",
          "text": [
            "Epoch: 095, Loss: 0.6328, Val Acc: 0.7679, Test Acc: 0.6306\n"
          ]
        },
        {
          "output_type": "stream",
          "name": "stderr",
          "text": [
            "100%|███████████████████████████████████████████████████████████████████████████████████████████████| 7/7 [00:00<00:00, 39.31it/s]\n",
            "100%|███████████████████████████████████████████████████████████████████████████████████████████████| 1/1 [00:00<00:00, 53.90it/s]\n",
            "100%|███████████████████████████████████████████████████████████████████████████████████████████████| 1/1 [00:00<00:00, 44.77it/s]\n"
          ]
        },
        {
          "output_type": "stream",
          "name": "stdout",
          "text": [
            "Epoch: 096, Loss: 0.6324, Val Acc: 0.7679, Test Acc: 0.6306\n"
          ]
        },
        {
          "output_type": "stream",
          "name": "stderr",
          "text": [
            "100%|███████████████████████████████████████████████████████████████████████████████████████████████| 7/7 [00:00<00:00, 36.59it/s]\n",
            "100%|███████████████████████████████████████████████████████████████████████████████████████████████| 1/1 [00:00<00:00, 45.99it/s]\n",
            "100%|███████████████████████████████████████████████████████████████████████████████████████████████| 1/1 [00:00<00:00, 47.99it/s]\n"
          ]
        },
        {
          "output_type": "stream",
          "name": "stdout",
          "text": [
            "Epoch: 097, Loss: 0.6318, Val Acc: 0.7679, Test Acc: 0.6306\n"
          ]
        },
        {
          "output_type": "stream",
          "name": "stderr",
          "text": [
            "100%|███████████████████████████████████████████████████████████████████████████████████████████████| 7/7 [00:00<00:00, 39.14it/s]\n",
            "100%|███████████████████████████████████████████████████████████████████████████████████████████████| 1/1 [00:00<00:00, 39.41it/s]\n",
            "100%|███████████████████████████████████████████████████████████████████████████████████████████████| 1/1 [00:00<00:00, 42.41it/s]\n"
          ]
        },
        {
          "output_type": "stream",
          "name": "stdout",
          "text": [
            "Epoch: 098, Loss: 0.6315, Val Acc: 0.7679, Test Acc: 0.6306\n"
          ]
        },
        {
          "output_type": "stream",
          "name": "stderr",
          "text": [
            "100%|███████████████████████████████████████████████████████████████████████████████████████████████| 7/7 [00:00<00:00, 37.64it/s]\n",
            "100%|███████████████████████████████████████████████████████████████████████████████████████████████| 1/1 [00:00<00:00, 43.82it/s]\n",
            "100%|███████████████████████████████████████████████████████████████████████████████████████████████| 1/1 [00:00<00:00, 47.81it/s]\n"
          ]
        },
        {
          "output_type": "stream",
          "name": "stdout",
          "text": [
            "Epoch: 099, Loss: 0.6309, Val Acc: 0.7679, Test Acc: 0.6306\n"
          ]
        },
        {
          "output_type": "stream",
          "name": "stderr",
          "text": [
            "100%|███████████████████████████████████████████████████████████████████████████████████████████████| 7/7 [00:00<00:00, 38.98it/s]\n",
            "100%|███████████████████████████████████████████████████████████████████████████████████████████████| 1/1 [00:00<00:00, 44.61it/s]\n",
            "100%|███████████████████████████████████████████████████████████████████████████████████████████████| 1/1 [00:00<00:00, 44.55it/s]\n"
          ]
        },
        {
          "output_type": "stream",
          "name": "stdout",
          "text": [
            "Epoch: 100, Loss: 0.6308, Val Acc: 0.7768, Test Acc: 0.6306\n"
          ]
        },
        {
          "output_type": "stream",
          "name": "stderr",
          "text": [
            "100%|███████████████████████████████████████████████████████████████████████████████████████████████| 7/7 [00:00<00:00, 34.06it/s]\n",
            "100%|███████████████████████████████████████████████████████████████████████████████████████████████| 1/1 [00:00<00:00, 45.81it/s]\n",
            "100%|███████████████████████████████████████████████████████████████████████████████████████████████| 1/1 [00:00<00:00, 53.31it/s]\n"
          ]
        },
        {
          "output_type": "stream",
          "name": "stdout",
          "text": [
            "Epoch: 101, Loss: 0.6302, Val Acc: 0.7768, Test Acc: 0.6396\n"
          ]
        },
        {
          "output_type": "stream",
          "name": "stderr",
          "text": [
            "100%|███████████████████████████████████████████████████████████████████████████████████████████████| 7/7 [00:00<00:00, 37.62it/s]\n",
            "100%|███████████████████████████████████████████████████████████████████████████████████████████████| 1/1 [00:00<00:00, 45.50it/s]\n",
            "100%|███████████████████████████████████████████████████████████████████████████████████████████████| 1/1 [00:00<00:00, 42.62it/s]\n"
          ]
        },
        {
          "output_type": "stream",
          "name": "stdout",
          "text": [
            "Epoch: 102, Loss: 0.6302, Val Acc: 0.7679, Test Acc: 0.6306\n"
          ]
        },
        {
          "output_type": "stream",
          "name": "stderr",
          "text": [
            "100%|███████████████████████████████████████████████████████████████████████████████████████████████| 7/7 [00:00<00:00, 37.10it/s]\n",
            "100%|███████████████████████████████████████████████████████████████████████████████████████████████| 1/1 [00:00<00:00, 46.85it/s]\n",
            "100%|███████████████████████████████████████████████████████████████████████████████████████████████| 1/1 [00:00<00:00, 41.69it/s]\n"
          ]
        },
        {
          "output_type": "stream",
          "name": "stdout",
          "text": [
            "Epoch: 103, Loss: 0.6295, Val Acc: 0.7768, Test Acc: 0.6306\n"
          ]
        },
        {
          "output_type": "stream",
          "name": "stderr",
          "text": [
            "100%|███████████████████████████████████████████████████████████████████████████████████████████████| 7/7 [00:00<00:00, 39.56it/s]\n",
            "100%|███████████████████████████████████████████████████████████████████████████████████████████████| 1/1 [00:00<00:00, 39.85it/s]\n",
            "100%|███████████████████████████████████████████████████████████████████████████████████████████████| 1/1 [00:00<00:00, 44.97it/s]\n"
          ]
        },
        {
          "output_type": "stream",
          "name": "stdout",
          "text": [
            "Epoch: 104, Loss: 0.6291, Val Acc: 0.7768, Test Acc: 0.6396\n"
          ]
        },
        {
          "output_type": "stream",
          "name": "stderr",
          "text": [
            "100%|███████████████████████████████████████████████████████████████████████████████████████████████| 7/7 [00:00<00:00, 33.40it/s]\n",
            "100%|███████████████████████████████████████████████████████████████████████████████████████████████| 1/1 [00:00<00:00, 49.08it/s]\n",
            "100%|███████████████████████████████████████████████████████████████████████████████████████████████| 1/1 [00:00<00:00, 42.24it/s]\n"
          ]
        },
        {
          "output_type": "stream",
          "name": "stdout",
          "text": [
            "Epoch: 105, Loss: 0.6287, Val Acc: 0.7768, Test Acc: 0.6396\n"
          ]
        },
        {
          "output_type": "stream",
          "name": "stderr",
          "text": [
            "100%|███████████████████████████████████████████████████████████████████████████████████████████████| 7/7 [00:00<00:00, 34.81it/s]\n",
            "100%|███████████████████████████████████████████████████████████████████████████████████████████████| 1/1 [00:00<00:00, 41.69it/s]\n",
            "100%|███████████████████████████████████████████████████████████████████████████████████████████████| 1/1 [00:00<00:00, 48.00it/s]\n"
          ]
        },
        {
          "output_type": "stream",
          "name": "stdout",
          "text": [
            "Epoch: 106, Loss: 0.6283, Val Acc: 0.7768, Test Acc: 0.6306\n"
          ]
        },
        {
          "output_type": "stream",
          "name": "stderr",
          "text": [
            "100%|███████████████████████████████████████████████████████████████████████████████████████████████| 7/7 [00:00<00:00, 36.15it/s]\n",
            "100%|███████████████████████████████████████████████████████████████████████████████████████████████| 1/1 [00:00<00:00, 36.70it/s]\n",
            "100%|███████████████████████████████████████████████████████████████████████████████████████████████| 1/1 [00:00<00:00, 50.35it/s]\n"
          ]
        },
        {
          "output_type": "stream",
          "name": "stdout",
          "text": [
            "Epoch: 107, Loss: 0.6281, Val Acc: 0.7768, Test Acc: 0.6396\n"
          ]
        },
        {
          "output_type": "stream",
          "name": "stderr",
          "text": [
            "100%|███████████████████████████████████████████████████████████████████████████████████████████████| 7/7 [00:00<00:00, 32.07it/s]\n",
            "100%|███████████████████████████████████████████████████████████████████████████████████████████████| 1/1 [00:00<00:00, 42.55it/s]\n",
            "100%|███████████████████████████████████████████████████████████████████████████████████████████████| 1/1 [00:00<00:00, 45.16it/s]\n"
          ]
        },
        {
          "output_type": "stream",
          "name": "stdout",
          "text": [
            "Epoch: 108, Loss: 0.6279, Val Acc: 0.7768, Test Acc: 0.6396\n"
          ]
        },
        {
          "output_type": "stream",
          "name": "stderr",
          "text": [
            "100%|███████████████████████████████████████████████████████████████████████████████████████████████| 7/7 [00:00<00:00, 34.72it/s]\n",
            "100%|███████████████████████████████████████████████████████████████████████████████████████████████| 1/1 [00:00<00:00, 48.87it/s]\n",
            "100%|███████████████████████████████████████████████████████████████████████████████████████████████| 1/1 [00:00<00:00, 48.03it/s]\n"
          ]
        },
        {
          "output_type": "stream",
          "name": "stdout",
          "text": [
            "Epoch: 109, Loss: 0.6277, Val Acc: 0.7679, Test Acc: 0.6306\n"
          ]
        },
        {
          "output_type": "stream",
          "name": "stderr",
          "text": [
            "100%|███████████████████████████████████████████████████████████████████████████████████████████████| 7/7 [00:00<00:00, 38.26it/s]\n",
            "100%|███████████████████████████████████████████████████████████████████████████████████████████████| 1/1 [00:00<00:00, 45.03it/s]\n",
            "100%|███████████████████████████████████████████████████████████████████████████████████████████████| 1/1 [00:00<00:00, 51.40it/s]\n"
          ]
        },
        {
          "output_type": "stream",
          "name": "stdout",
          "text": [
            "Epoch: 110, Loss: 0.6274, Val Acc: 0.7768, Test Acc: 0.6306\n"
          ]
        },
        {
          "output_type": "stream",
          "name": "stderr",
          "text": [
            "100%|███████████████████████████████████████████████████████████████████████████████████████████████| 7/7 [00:00<00:00, 36.18it/s]\n",
            "100%|███████████████████████████████████████████████████████████████████████████████████████████████| 1/1 [00:00<00:00, 47.94it/s]\n",
            "100%|███████████████████████████████████████████████████████████████████████████████████████████████| 1/1 [00:00<00:00, 44.24it/s]\n"
          ]
        },
        {
          "output_type": "stream",
          "name": "stdout",
          "text": [
            "Epoch: 111, Loss: 0.6269, Val Acc: 0.7679, Test Acc: 0.6306\n"
          ]
        },
        {
          "output_type": "stream",
          "name": "stderr",
          "text": [
            "100%|███████████████████████████████████████████████████████████████████████████████████████████████| 7/7 [00:00<00:00, 37.04it/s]\n",
            "100%|███████████████████████████████████████████████████████████████████████████████████████████████| 1/1 [00:00<00:00, 46.35it/s]\n",
            "100%|███████████████████████████████████████████████████████████████████████████████████████████████| 1/1 [00:00<00:00, 43.15it/s]\n"
          ]
        },
        {
          "output_type": "stream",
          "name": "stdout",
          "text": [
            "Epoch: 112, Loss: 0.6274, Val Acc: 0.7768, Test Acc: 0.6306\n"
          ]
        },
        {
          "output_type": "stream",
          "name": "stderr",
          "text": [
            "100%|███████████████████████████████████████████████████████████████████████████████████████████████| 7/7 [00:00<00:00, 32.44it/s]\n",
            "100%|███████████████████████████████████████████████████████████████████████████████████████████████| 1/1 [00:00<00:00, 43.70it/s]\n",
            "100%|███████████████████████████████████████████████████████████████████████████████████████████████| 1/1 [00:00<00:00, 45.87it/s]\n"
          ]
        },
        {
          "output_type": "stream",
          "name": "stdout",
          "text": [
            "Epoch: 113, Loss: 0.6264, Val Acc: 0.7768, Test Acc: 0.6306\n"
          ]
        },
        {
          "output_type": "stream",
          "name": "stderr",
          "text": [
            "100%|███████████████████████████████████████████████████████████████████████████████████████████████| 7/7 [00:00<00:00, 35.50it/s]\n",
            "100%|███████████████████████████████████████████████████████████████████████████████████████████████| 1/1 [00:00<00:00, 44.50it/s]\n",
            "100%|███████████████████████████████████████████████████████████████████████████████████████████████| 1/1 [00:00<00:00, 36.74it/s]\n"
          ]
        },
        {
          "output_type": "stream",
          "name": "stdout",
          "text": [
            "Epoch: 114, Loss: 0.6260, Val Acc: 0.7768, Test Acc: 0.6306\n"
          ]
        },
        {
          "output_type": "stream",
          "name": "stderr",
          "text": [
            "100%|███████████████████████████████████████████████████████████████████████████████████████████████| 7/7 [00:00<00:00, 35.49it/s]\n",
            "100%|███████████████████████████████████████████████████████████████████████████████████████████████| 1/1 [00:00<00:00, 42.40it/s]\n",
            "100%|███████████████████████████████████████████████████████████████████████████████████████████████| 1/1 [00:00<00:00, 45.17it/s]\n"
          ]
        },
        {
          "output_type": "stream",
          "name": "stdout",
          "text": [
            "Epoch: 115, Loss: 0.6257, Val Acc: 0.7768, Test Acc: 0.6306\n"
          ]
        },
        {
          "output_type": "stream",
          "name": "stderr",
          "text": [
            "100%|███████████████████████████████████████████████████████████████████████████████████████████████| 7/7 [00:00<00:00, 32.43it/s]\n",
            "100%|███████████████████████████████████████████████████████████████████████████████████████████████| 1/1 [00:00<00:00, 32.91it/s]\n",
            "100%|███████████████████████████████████████████████████████████████████████████████████████████████| 1/1 [00:00<00:00, 42.76it/s]\n"
          ]
        },
        {
          "output_type": "stream",
          "name": "stdout",
          "text": [
            "Epoch: 116, Loss: 0.6255, Val Acc: 0.7768, Test Acc: 0.6306\n"
          ]
        },
        {
          "output_type": "stream",
          "name": "stderr",
          "text": [
            "100%|███████████████████████████████████████████████████████████████████████████████████████████████| 7/7 [00:00<00:00, 34.38it/s]\n",
            "100%|███████████████████████████████████████████████████████████████████████████████████████████████| 1/1 [00:00<00:00, 42.58it/s]\n",
            "100%|███████████████████████████████████████████████████████████████████████████████████████████████| 1/1 [00:00<00:00, 40.78it/s]\n"
          ]
        },
        {
          "output_type": "stream",
          "name": "stdout",
          "text": [
            "Epoch: 117, Loss: 0.6255, Val Acc: 0.7589, Test Acc: 0.6306\n"
          ]
        },
        {
          "output_type": "stream",
          "name": "stderr",
          "text": [
            "100%|███████████████████████████████████████████████████████████████████████████████████████████████| 7/7 [00:00<00:00, 35.53it/s]\n",
            "100%|███████████████████████████████████████████████████████████████████████████████████████████████| 1/1 [00:00<00:00, 39.97it/s]\n",
            "100%|███████████████████████████████████████████████████████████████████████████████████████████████| 1/1 [00:00<00:00, 40.87it/s]\n"
          ]
        },
        {
          "output_type": "stream",
          "name": "stdout",
          "text": [
            "Epoch: 118, Loss: 0.6251, Val Acc: 0.7768, Test Acc: 0.6306\n"
          ]
        },
        {
          "output_type": "stream",
          "name": "stderr",
          "text": [
            "100%|███████████████████████████████████████████████████████████████████████████████████████████████| 7/7 [00:00<00:00, 27.66it/s]\n",
            "100%|███████████████████████████████████████████████████████████████████████████████████████████████| 1/1 [00:00<00:00, 32.48it/s]\n",
            "100%|███████████████████████████████████████████████████████████████████████████████████████████████| 1/1 [00:00<00:00, 32.10it/s]\n"
          ]
        },
        {
          "output_type": "stream",
          "name": "stdout",
          "text": [
            "Epoch: 119, Loss: 0.6247, Val Acc: 0.7768, Test Acc: 0.6306\n"
          ]
        },
        {
          "output_type": "stream",
          "name": "stderr",
          "text": [
            "100%|███████████████████████████████████████████████████████████████████████████████████████████████| 7/7 [00:00<00:00, 21.94it/s]\n",
            "100%|███████████████████████████████████████████████████████████████████████████████████████████████| 1/1 [00:00<00:00, 24.69it/s]\n",
            "100%|███████████████████████████████████████████████████████████████████████████████████████████████| 1/1 [00:00<00:00, 28.54it/s]\n"
          ]
        },
        {
          "output_type": "stream",
          "name": "stdout",
          "text": [
            "Epoch: 120, Loss: 0.6245, Val Acc: 0.7589, Test Acc: 0.6306\n"
          ]
        },
        {
          "output_type": "stream",
          "name": "stderr",
          "text": [
            "100%|███████████████████████████████████████████████████████████████████████████████████████████████| 7/7 [00:00<00:00, 23.44it/s]\n",
            "100%|███████████████████████████████████████████████████████████████████████████████████████████████| 1/1 [00:00<00:00, 31.69it/s]\n",
            "100%|███████████████████████████████████████████████████████████████████████████████████████████████| 1/1 [00:00<00:00, 40.69it/s]\n"
          ]
        },
        {
          "output_type": "stream",
          "name": "stdout",
          "text": [
            "Epoch: 121, Loss: 0.6243, Val Acc: 0.7768, Test Acc: 0.6306\n"
          ]
        },
        {
          "output_type": "stream",
          "name": "stderr",
          "text": [
            "100%|███████████████████████████████████████████████████████████████████████████████████████████████| 7/7 [00:00<00:00, 24.04it/s]\n",
            "100%|███████████████████████████████████████████████████████████████████████████████████████████████| 1/1 [00:00<00:00, 27.09it/s]\n",
            "100%|███████████████████████████████████████████████████████████████████████████████████████████████| 1/1 [00:00<00:00, 30.74it/s]\n"
          ]
        },
        {
          "output_type": "stream",
          "name": "stdout",
          "text": [
            "Epoch: 122, Loss: 0.6243, Val Acc: 0.7679, Test Acc: 0.6216\n"
          ]
        },
        {
          "output_type": "stream",
          "name": "stderr",
          "text": [
            "100%|███████████████████████████████████████████████████████████████████████████████████████████████| 7/7 [00:00<00:00, 22.59it/s]\n",
            "100%|███████████████████████████████████████████████████████████████████████████████████████████████| 1/1 [00:00<00:00, 28.03it/s]\n",
            "100%|███████████████████████████████████████████████████████████████████████████████████████████████| 1/1 [00:00<00:00, 34.76it/s]\n"
          ]
        },
        {
          "output_type": "stream",
          "name": "stdout",
          "text": [
            "Epoch: 123, Loss: 0.6237, Val Acc: 0.7589, Test Acc: 0.6306\n"
          ]
        },
        {
          "output_type": "stream",
          "name": "stderr",
          "text": [
            "100%|███████████████████████████████████████████████████████████████████████████████████████████████| 7/7 [00:00<00:00, 24.46it/s]\n",
            "100%|███████████████████████████████████████████████████████████████████████████████████████████████| 1/1 [00:00<00:00, 36.72it/s]\n",
            "100%|███████████████████████████████████████████████████████████████████████████████████████████████| 1/1 [00:00<00:00, 28.68it/s]\n"
          ]
        },
        {
          "output_type": "stream",
          "name": "stdout",
          "text": [
            "Epoch: 124, Loss: 0.6235, Val Acc: 0.7768, Test Acc: 0.6306\n"
          ]
        },
        {
          "output_type": "stream",
          "name": "stderr",
          "text": [
            "100%|███████████████████████████████████████████████████████████████████████████████████████████████| 7/7 [00:00<00:00, 23.34it/s]\n",
            "100%|███████████████████████████████████████████████████████████████████████████████████████████████| 1/1 [00:00<00:00, 31.94it/s]\n",
            "100%|███████████████████████████████████████████████████████████████████████████████████████████████| 1/1 [00:00<00:00, 32.78it/s]\n"
          ]
        },
        {
          "output_type": "stream",
          "name": "stdout",
          "text": [
            "Epoch: 125, Loss: 0.6235, Val Acc: 0.7768, Test Acc: 0.6306\n"
          ]
        },
        {
          "output_type": "stream",
          "name": "stderr",
          "text": [
            "100%|███████████████████████████████████████████████████████████████████████████████████████████████| 7/7 [00:00<00:00, 24.52it/s]\n",
            "100%|███████████████████████████████████████████████████████████████████████████████████████████████| 1/1 [00:00<00:00, 24.93it/s]\n",
            "100%|███████████████████████████████████████████████████████████████████████████████████████████████| 1/1 [00:00<00:00, 43.49it/s]\n"
          ]
        },
        {
          "output_type": "stream",
          "name": "stdout",
          "text": [
            "Epoch: 126, Loss: 0.6231, Val Acc: 0.7679, Test Acc: 0.6306\n"
          ]
        },
        {
          "output_type": "stream",
          "name": "stderr",
          "text": [
            "100%|███████████████████████████████████████████████████████████████████████████████████████████████| 7/7 [00:00<00:00, 23.58it/s]\n",
            "100%|███████████████████████████████████████████████████████████████████████████████████████████████| 1/1 [00:00<00:00, 36.80it/s]\n",
            "100%|███████████████████████████████████████████████████████████████████████████████████████████████| 1/1 [00:00<00:00, 31.82it/s]\n"
          ]
        },
        {
          "output_type": "stream",
          "name": "stdout",
          "text": [
            "Epoch: 127, Loss: 0.6229, Val Acc: 0.7679, Test Acc: 0.6216\n"
          ]
        },
        {
          "output_type": "stream",
          "name": "stderr",
          "text": [
            "100%|███████████████████████████████████████████████████████████████████████████████████████████████| 7/7 [00:00<00:00, 24.16it/s]\n",
            "100%|███████████████████████████████████████████████████████████████████████████████████████████████| 1/1 [00:00<00:00, 37.03it/s]\n",
            "100%|███████████████████████████████████████████████████████████████████████████████████████████████| 1/1 [00:00<00:00, 38.80it/s]\n"
          ]
        },
        {
          "output_type": "stream",
          "name": "stdout",
          "text": [
            "Epoch: 128, Loss: 0.6227, Val Acc: 0.7679, Test Acc: 0.6216\n"
          ]
        },
        {
          "output_type": "stream",
          "name": "stderr",
          "text": [
            "100%|███████████████████████████████████████████████████████████████████████████████████████████████| 7/7 [00:00<00:00, 25.35it/s]\n",
            "100%|███████████████████████████████████████████████████████████████████████████████████████████████| 1/1 [00:00<00:00, 44.66it/s]\n",
            "100%|███████████████████████████████████████████████████████████████████████████████████████████████| 1/1 [00:00<00:00, 44.62it/s]\n"
          ]
        },
        {
          "output_type": "stream",
          "name": "stdout",
          "text": [
            "Epoch: 129, Loss: 0.6225, Val Acc: 0.7589, Test Acc: 0.6306\n"
          ]
        },
        {
          "output_type": "stream",
          "name": "stderr",
          "text": [
            "100%|███████████████████████████████████████████████████████████████████████████████████████████████| 7/7 [00:00<00:00, 26.29it/s]\n",
            "100%|███████████████████████████████████████████████████████████████████████████████████████████████| 1/1 [00:00<00:00, 39.53it/s]\n",
            "100%|███████████████████████████████████████████████████████████████████████████████████████████████| 1/1 [00:00<00:00, 38.64it/s]\n"
          ]
        },
        {
          "output_type": "stream",
          "name": "stdout",
          "text": [
            "Epoch: 130, Loss: 0.6223, Val Acc: 0.7589, Test Acc: 0.6306\n"
          ]
        },
        {
          "output_type": "stream",
          "name": "stderr",
          "text": [
            "100%|███████████████████████████████████████████████████████████████████████████████████████████████| 7/7 [00:00<00:00, 22.99it/s]\n",
            "100%|███████████████████████████████████████████████████████████████████████████████████████████████| 1/1 [00:00<00:00, 28.86it/s]\n",
            "100%|███████████████████████████████████████████████████████████████████████████████████████████████| 1/1 [00:00<00:00, 24.80it/s]\n"
          ]
        },
        {
          "output_type": "stream",
          "name": "stdout",
          "text": [
            "Epoch: 131, Loss: 0.6226, Val Acc: 0.7768, Test Acc: 0.6306\n"
          ]
        },
        {
          "output_type": "stream",
          "name": "stderr",
          "text": [
            "100%|███████████████████████████████████████████████████████████████████████████████████████████████| 7/7 [00:00<00:00, 22.44it/s]\n",
            "100%|███████████████████████████████████████████████████████████████████████████████████████████████| 1/1 [00:00<00:00, 35.96it/s]\n",
            "100%|███████████████████████████████████████████████████████████████████████████████████████████████| 1/1 [00:00<00:00, 42.21it/s]\n"
          ]
        },
        {
          "output_type": "stream",
          "name": "stdout",
          "text": [
            "Epoch: 132, Loss: 0.6220, Val Acc: 0.7589, Test Acc: 0.6216\n"
          ]
        },
        {
          "output_type": "stream",
          "name": "stderr",
          "text": [
            "100%|███████████████████████████████████████████████████████████████████████████████████████████████| 7/7 [00:00<00:00, 21.81it/s]\n",
            "100%|███████████████████████████████████████████████████████████████████████████████████████████████| 1/1 [00:00<00:00, 34.37it/s]\n",
            "100%|███████████████████████████████████████████████████████████████████████████████████████████████| 1/1 [00:00<00:00, 39.84it/s]\n"
          ]
        },
        {
          "output_type": "stream",
          "name": "stdout",
          "text": [
            "Epoch: 133, Loss: 0.6221, Val Acc: 0.7768, Test Acc: 0.6216\n"
          ]
        },
        {
          "output_type": "stream",
          "name": "stderr",
          "text": [
            "100%|███████████████████████████████████████████████████████████████████████████████████████████████| 7/7 [00:00<00:00, 27.19it/s]\n",
            "100%|███████████████████████████████████████████████████████████████████████████████████████████████| 1/1 [00:00<00:00, 44.22it/s]\n",
            "100%|███████████████████████████████████████████████████████████████████████████████████████████████| 1/1 [00:00<00:00, 38.79it/s]\n"
          ]
        },
        {
          "output_type": "stream",
          "name": "stdout",
          "text": [
            "Epoch: 134, Loss: 0.6216, Val Acc: 0.7768, Test Acc: 0.6216\n"
          ]
        },
        {
          "output_type": "stream",
          "name": "stderr",
          "text": [
            "100%|███████████████████████████████████████████████████████████████████████████████████████████████| 7/7 [00:00<00:00, 33.67it/s]\n",
            "100%|███████████████████████████████████████████████████████████████████████████████████████████████| 1/1 [00:00<00:00, 37.90it/s]\n",
            "100%|███████████████████████████████████████████████████████████████████████████████████████████████| 1/1 [00:00<00:00, 49.49it/s]\n"
          ]
        },
        {
          "output_type": "stream",
          "name": "stdout",
          "text": [
            "Epoch: 135, Loss: 0.6215, Val Acc: 0.7768, Test Acc: 0.6216\n"
          ]
        },
        {
          "output_type": "stream",
          "name": "stderr",
          "text": [
            "100%|███████████████████████████████████████████████████████████████████████████████████████████████| 7/7 [00:00<00:00, 34.79it/s]\n",
            "100%|███████████████████████████████████████████████████████████████████████████████████████████████| 1/1 [00:00<00:00, 37.00it/s]\n",
            "100%|███████████████████████████████████████████████████████████████████████████████████████████████| 1/1 [00:00<00:00, 46.32it/s]\n"
          ]
        },
        {
          "output_type": "stream",
          "name": "stdout",
          "text": [
            "Epoch: 136, Loss: 0.6211, Val Acc: 0.7589, Test Acc: 0.6216\n"
          ]
        },
        {
          "output_type": "stream",
          "name": "stderr",
          "text": [
            "100%|███████████████████████████████████████████████████████████████████████████████████████████████| 7/7 [00:00<00:00, 31.03it/s]\n",
            "100%|███████████████████████████████████████████████████████████████████████████████████████████████| 1/1 [00:00<00:00, 41.20it/s]\n",
            "100%|███████████████████████████████████████████████████████████████████████████████████████████████| 1/1 [00:00<00:00, 34.57it/s]\n"
          ]
        },
        {
          "output_type": "stream",
          "name": "stdout",
          "text": [
            "Epoch: 137, Loss: 0.6213, Val Acc: 0.7679, Test Acc: 0.6306\n"
          ]
        },
        {
          "output_type": "stream",
          "name": "stderr",
          "text": [
            "100%|███████████████████████████████████████████████████████████████████████████████████████████████| 7/7 [00:00<00:00, 31.88it/s]\n",
            "100%|███████████████████████████████████████████████████████████████████████████████████████████████| 1/1 [00:00<00:00, 49.23it/s]\n",
            "100%|███████████████████████████████████████████████████████████████████████████████████████████████| 1/1 [00:00<00:00, 49.27it/s]\n"
          ]
        },
        {
          "output_type": "stream",
          "name": "stdout",
          "text": [
            "Epoch: 138, Loss: 0.6208, Val Acc: 0.7589, Test Acc: 0.6216\n"
          ]
        },
        {
          "output_type": "stream",
          "name": "stderr",
          "text": [
            "100%|███████████████████████████████████████████████████████████████████████████████████████████████| 7/7 [00:00<00:00, 32.70it/s]\n",
            "100%|███████████████████████████████████████████████████████████████████████████████████████████████| 1/1 [00:00<00:00, 42.98it/s]\n",
            "100%|███████████████████████████████████████████████████████████████████████████████████████████████| 1/1 [00:00<00:00, 40.59it/s]\n"
          ]
        },
        {
          "output_type": "stream",
          "name": "stdout",
          "text": [
            "Epoch: 139, Loss: 0.6208, Val Acc: 0.7768, Test Acc: 0.6216\n"
          ]
        },
        {
          "output_type": "stream",
          "name": "stderr",
          "text": [
            "100%|███████████████████████████████████████████████████████████████████████████████████████████████| 7/7 [00:00<00:00, 34.18it/s]\n",
            "100%|███████████████████████████████████████████████████████████████████████████████████████████████| 1/1 [00:00<00:00, 31.68it/s]\n",
            "100%|███████████████████████████████████████████████████████████████████████████████████████████████| 1/1 [00:00<00:00, 46.43it/s]\n"
          ]
        },
        {
          "output_type": "stream",
          "name": "stdout",
          "text": [
            "Epoch: 140, Loss: 0.6206, Val Acc: 0.7768, Test Acc: 0.6306\n"
          ]
        },
        {
          "output_type": "stream",
          "name": "stderr",
          "text": [
            "100%|███████████████████████████████████████████████████████████████████████████████████████████████| 7/7 [00:00<00:00, 30.57it/s]\n",
            "100%|███████████████████████████████████████████████████████████████████████████████████████████████| 1/1 [00:00<00:00, 38.66it/s]\n",
            "100%|███████████████████████████████████████████████████████████████████████████████████████████████| 1/1 [00:00<00:00, 50.68it/s]\n"
          ]
        },
        {
          "output_type": "stream",
          "name": "stdout",
          "text": [
            "Epoch: 141, Loss: 0.6203, Val Acc: 0.7768, Test Acc: 0.6216\n"
          ]
        },
        {
          "output_type": "stream",
          "name": "stderr",
          "text": [
            "100%|███████████████████████████████████████████████████████████████████████████████████████████████| 7/7 [00:00<00:00, 32.08it/s]\n",
            "100%|███████████████████████████████████████████████████████████████████████████████████████████████| 1/1 [00:00<00:00, 37.82it/s]\n",
            "100%|███████████████████████████████████████████████████████████████████████████████████████████████| 1/1 [00:00<00:00, 39.02it/s]\n"
          ]
        },
        {
          "output_type": "stream",
          "name": "stdout",
          "text": [
            "Epoch: 142, Loss: 0.6200, Val Acc: 0.7768, Test Acc: 0.6216\n"
          ]
        },
        {
          "output_type": "stream",
          "name": "stderr",
          "text": [
            "100%|███████████████████████████████████████████████████████████████████████████████████████████████| 7/7 [00:00<00:00, 33.53it/s]\n",
            "100%|███████████████████████████████████████████████████████████████████████████████████████████████| 1/1 [00:00<00:00, 38.30it/s]\n",
            "100%|███████████████████████████████████████████████████████████████████████████████████████████████| 1/1 [00:00<00:00, 41.89it/s]\n"
          ]
        },
        {
          "output_type": "stream",
          "name": "stdout",
          "text": [
            "Epoch: 143, Loss: 0.6199, Val Acc: 0.7589, Test Acc: 0.6306\n"
          ]
        },
        {
          "output_type": "stream",
          "name": "stderr",
          "text": [
            "100%|███████████████████████████████████████████████████████████████████████████████████████████████| 7/7 [00:00<00:00, 33.63it/s]\n",
            "100%|███████████████████████████████████████████████████████████████████████████████████████████████| 1/1 [00:00<00:00, 39.25it/s]\n",
            "100%|███████████████████████████████████████████████████████████████████████████████████████████████| 1/1 [00:00<00:00, 39.12it/s]\n"
          ]
        },
        {
          "output_type": "stream",
          "name": "stdout",
          "text": [
            "Epoch: 144, Loss: 0.6199, Val Acc: 0.7679, Test Acc: 0.6216\n"
          ]
        },
        {
          "output_type": "stream",
          "name": "stderr",
          "text": [
            "100%|███████████████████████████████████████████████████████████████████████████████████████████████| 7/7 [00:00<00:00, 35.41it/s]\n",
            "100%|███████████████████████████████████████████████████████████████████████████████████████████████| 1/1 [00:00<00:00, 41.06it/s]\n",
            "100%|███████████████████████████████████████████████████████████████████████████████████████████████| 1/1 [00:00<00:00, 43.51it/s]\n"
          ]
        },
        {
          "output_type": "stream",
          "name": "stdout",
          "text": [
            "Epoch: 145, Loss: 0.6197, Val Acc: 0.7589, Test Acc: 0.6216\n"
          ]
        },
        {
          "output_type": "stream",
          "name": "stderr",
          "text": [
            "100%|███████████████████████████████████████████████████████████████████████████████████████████████| 7/7 [00:00<00:00, 36.13it/s]\n",
            "100%|███████████████████████████████████████████████████████████████████████████████████████████████| 1/1 [00:00<00:00, 44.83it/s]\n",
            "100%|███████████████████████████████████████████████████████████████████████████████████████████████| 1/1 [00:00<00:00, 41.21it/s]\n"
          ]
        },
        {
          "output_type": "stream",
          "name": "stdout",
          "text": [
            "Epoch: 146, Loss: 0.6195, Val Acc: 0.7768, Test Acc: 0.6216\n"
          ]
        },
        {
          "output_type": "stream",
          "name": "stderr",
          "text": [
            "100%|███████████████████████████████████████████████████████████████████████████████████████████████| 7/7 [00:00<00:00, 36.68it/s]\n",
            "100%|███████████████████████████████████████████████████████████████████████████████████████████████| 1/1 [00:00<00:00, 37.12it/s]\n",
            "100%|███████████████████████████████████████████████████████████████████████████████████████████████| 1/1 [00:00<00:00, 42.57it/s]\n"
          ]
        },
        {
          "output_type": "stream",
          "name": "stdout",
          "text": [
            "Epoch: 147, Loss: 0.6195, Val Acc: 0.7768, Test Acc: 0.6396\n"
          ]
        },
        {
          "output_type": "stream",
          "name": "stderr",
          "text": [
            "100%|███████████████████████████████████████████████████████████████████████████████████████████████| 7/7 [00:00<00:00, 36.64it/s]\n",
            "100%|███████████████████████████████████████████████████████████████████████████████████████████████| 1/1 [00:00<00:00, 58.98it/s]\n",
            "100%|███████████████████████████████████████████████████████████████████████████████████████████████| 1/1 [00:00<00:00, 42.08it/s]\n"
          ]
        },
        {
          "output_type": "stream",
          "name": "stdout",
          "text": [
            "Epoch: 148, Loss: 0.6192, Val Acc: 0.7768, Test Acc: 0.6396\n"
          ]
        },
        {
          "output_type": "stream",
          "name": "stderr",
          "text": [
            "100%|███████████████████████████████████████████████████████████████████████████████████████████████| 7/7 [00:00<00:00, 38.95it/s]\n",
            "100%|███████████████████████████████████████████████████████████████████████████████████████████████| 1/1 [00:00<00:00, 44.26it/s]\n",
            "100%|███████████████████████████████████████████████████████████████████████████████████████████████| 1/1 [00:00<00:00, 44.38it/s]\n"
          ]
        },
        {
          "output_type": "stream",
          "name": "stdout",
          "text": [
            "Epoch: 149, Loss: 0.6191, Val Acc: 0.7589, Test Acc: 0.6216\n"
          ]
        },
        {
          "output_type": "stream",
          "name": "stderr",
          "text": [
            "100%|███████████████████████████████████████████████████████████████████████████████████████████████| 7/7 [00:00<00:00, 37.21it/s]\n",
            "100%|███████████████████████████████████████████████████████████████████████████████████████████████| 1/1 [00:00<00:00, 44.77it/s]\n",
            "100%|███████████████████████████████████████████████████████████████████████████████████████████████| 1/1 [00:00<00:00, 42.83it/s]\n"
          ]
        },
        {
          "output_type": "stream",
          "name": "stdout",
          "text": [
            "Epoch: 150, Loss: 0.6189, Val Acc: 0.7589, Test Acc: 0.6306\n"
          ]
        },
        {
          "output_type": "stream",
          "name": "stderr",
          "text": [
            "100%|███████████████████████████████████████████████████████████████████████████████████████████████| 7/7 [00:00<00:00, 34.67it/s]\n",
            "100%|███████████████████████████████████████████████████████████████████████████████████████████████| 1/1 [00:00<00:00, 42.80it/s]\n",
            "100%|███████████████████████████████████████████████████████████████████████████████████████████████| 1/1 [00:00<00:00, 44.12it/s]\n"
          ]
        },
        {
          "output_type": "stream",
          "name": "stdout",
          "text": [
            "Epoch: 151, Loss: 0.6189, Val Acc: 0.7679, Test Acc: 0.6216\n"
          ]
        },
        {
          "output_type": "stream",
          "name": "stderr",
          "text": [
            "100%|███████████████████████████████████████████████████████████████████████████████████████████████| 7/7 [00:00<00:00, 31.76it/s]\n",
            "100%|███████████████████████████████████████████████████████████████████████████████████████████████| 1/1 [00:00<00:00, 39.11it/s]\n",
            "100%|███████████████████████████████████████████████████████████████████████████████████████████████| 1/1 [00:00<00:00, 37.86it/s]\n"
          ]
        },
        {
          "output_type": "stream",
          "name": "stdout",
          "text": [
            "Epoch: 152, Loss: 0.6185, Val Acc: 0.7679, Test Acc: 0.6216\n"
          ]
        },
        {
          "output_type": "stream",
          "name": "stderr",
          "text": [
            "100%|███████████████████████████████████████████████████████████████████████████████████████████████| 7/7 [00:00<00:00, 32.55it/s]\n",
            "100%|███████████████████████████████████████████████████████████████████████████████████████████████| 1/1 [00:00<00:00, 45.01it/s]\n",
            "100%|███████████████████████████████████████████████████████████████████████████████████████████████| 1/1 [00:00<00:00, 41.35it/s]\n"
          ]
        },
        {
          "output_type": "stream",
          "name": "stdout",
          "text": [
            "Epoch: 153, Loss: 0.6184, Val Acc: 0.7768, Test Acc: 0.6396\n"
          ]
        },
        {
          "output_type": "stream",
          "name": "stderr",
          "text": [
            "100%|███████████████████████████████████████████████████████████████████████████████████████████████| 7/7 [00:00<00:00, 32.27it/s]\n",
            "100%|███████████████████████████████████████████████████████████████████████████████████████████████| 1/1 [00:00<00:00, 45.56it/s]\n",
            "100%|███████████████████████████████████████████████████████████████████████████████████████████████| 1/1 [00:00<00:00, 55.69it/s]\n"
          ]
        },
        {
          "output_type": "stream",
          "name": "stdout",
          "text": [
            "Epoch: 154, Loss: 0.6185, Val Acc: 0.7768, Test Acc: 0.6396\n"
          ]
        },
        {
          "output_type": "stream",
          "name": "stderr",
          "text": [
            "100%|███████████████████████████████████████████████████████████████████████████████████████████████| 7/7 [00:00<00:00, 34.60it/s]\n",
            "100%|███████████████████████████████████████████████████████████████████████████████████████████████| 1/1 [00:00<00:00, 34.99it/s]\n",
            "100%|███████████████████████████████████████████████████████████████████████████████████████████████| 1/1 [00:00<00:00, 40.35it/s]\n"
          ]
        },
        {
          "output_type": "stream",
          "name": "stdout",
          "text": [
            "Epoch: 155, Loss: 0.6181, Val Acc: 0.7768, Test Acc: 0.6396\n"
          ]
        },
        {
          "output_type": "stream",
          "name": "stderr",
          "text": [
            "100%|███████████████████████████████████████████████████████████████████████████████████████████████| 7/7 [00:00<00:00, 37.07it/s]\n",
            "100%|███████████████████████████████████████████████████████████████████████████████████████████████| 1/1 [00:00<00:00, 43.88it/s]\n",
            "100%|███████████████████████████████████████████████████████████████████████████████████████████████| 1/1 [00:00<00:00, 39.55it/s]\n"
          ]
        },
        {
          "output_type": "stream",
          "name": "stdout",
          "text": [
            "Epoch: 156, Loss: 0.6179, Val Acc: 0.7768, Test Acc: 0.6216\n"
          ]
        },
        {
          "output_type": "stream",
          "name": "stderr",
          "text": [
            "100%|███████████████████████████████████████████████████████████████████████████████████████████████| 7/7 [00:00<00:00, 36.14it/s]\n",
            "100%|███████████████████████████████████████████████████████████████████████████████████████████████| 1/1 [00:00<00:00, 41.33it/s]\n",
            "100%|███████████████████████████████████████████████████████████████████████████████████████████████| 1/1 [00:00<00:00, 43.90it/s]\n"
          ]
        },
        {
          "output_type": "stream",
          "name": "stdout",
          "text": [
            "Epoch: 157, Loss: 0.6179, Val Acc: 0.7679, Test Acc: 0.6216\n"
          ]
        },
        {
          "output_type": "stream",
          "name": "stderr",
          "text": [
            "100%|███████████████████████████████████████████████████████████████████████████████████████████████| 7/7 [00:00<00:00, 37.02it/s]\n",
            "100%|███████████████████████████████████████████████████████████████████████████████████████████████| 1/1 [00:00<00:00, 52.34it/s]\n",
            "100%|███████████████████████████████████████████████████████████████████████████████████████████████| 1/1 [00:00<00:00, 40.63it/s]\n"
          ]
        },
        {
          "output_type": "stream",
          "name": "stdout",
          "text": [
            "Epoch: 158, Loss: 0.6178, Val Acc: 0.7768, Test Acc: 0.6216\n"
          ]
        },
        {
          "output_type": "stream",
          "name": "stderr",
          "text": [
            "100%|███████████████████████████████████████████████████████████████████████████████████████████████| 7/7 [00:00<00:00, 33.22it/s]\n",
            "100%|███████████████████████████████████████████████████████████████████████████████████████████████| 1/1 [00:00<00:00, 36.75it/s]\n",
            "100%|███████████████████████████████████████████████████████████████████████████████████████████████| 1/1 [00:00<00:00, 45.64it/s]\n"
          ]
        },
        {
          "output_type": "stream",
          "name": "stdout",
          "text": [
            "Epoch: 159, Loss: 0.6180, Val Acc: 0.7768, Test Acc: 0.6396\n"
          ]
        },
        {
          "output_type": "stream",
          "name": "stderr",
          "text": [
            "100%|███████████████████████████████████████████████████████████████████████████████████████████████| 7/7 [00:00<00:00, 32.00it/s]\n",
            "100%|███████████████████████████████████████████████████████████████████████████████████████████████| 1/1 [00:00<00:00, 42.53it/s]\n",
            "100%|███████████████████████████████████████████████████████████████████████████████████████████████| 1/1 [00:00<00:00, 44.16it/s]\n"
          ]
        },
        {
          "output_type": "stream",
          "name": "stdout",
          "text": [
            "Epoch: 160, Loss: 0.6176, Val Acc: 0.7768, Test Acc: 0.6396\n"
          ]
        },
        {
          "output_type": "stream",
          "name": "stderr",
          "text": [
            "100%|███████████████████████████████████████████████████████████████████████████████████████████████| 7/7 [00:00<00:00, 34.93it/s]\n",
            "100%|███████████████████████████████████████████████████████████████████████████████████████████████| 1/1 [00:00<00:00, 43.56it/s]\n",
            "100%|███████████████████████████████████████████████████████████████████████████████████████████████| 1/1 [00:00<00:00, 34.82it/s]\n"
          ]
        },
        {
          "output_type": "stream",
          "name": "stdout",
          "text": [
            "Epoch: 161, Loss: 0.6176, Val Acc: 0.7768, Test Acc: 0.6396\n"
          ]
        },
        {
          "output_type": "stream",
          "name": "stderr",
          "text": [
            "100%|███████████████████████████████████████████████████████████████████████████████████████████████| 7/7 [00:00<00:00, 36.75it/s]\n",
            "100%|███████████████████████████████████████████████████████████████████████████████████████████████| 1/1 [00:00<00:00, 41.71it/s]\n",
            "100%|███████████████████████████████████████████████████████████████████████████████████████████████| 1/1 [00:00<00:00, 46.24it/s]\n"
          ]
        },
        {
          "output_type": "stream",
          "name": "stdout",
          "text": [
            "Epoch: 162, Loss: 0.6173, Val Acc: 0.7679, Test Acc: 0.6306\n"
          ]
        },
        {
          "output_type": "stream",
          "name": "stderr",
          "text": [
            "100%|███████████████████████████████████████████████████████████████████████████████████████████████| 7/7 [00:00<00:00, 36.48it/s]\n",
            "100%|███████████████████████████████████████████████████████████████████████████████████████████████| 1/1 [00:00<00:00, 45.52it/s]\n",
            "100%|███████████████████████████████████████████████████████████████████████████████████████████████| 1/1 [00:00<00:00, 45.90it/s]\n"
          ]
        },
        {
          "output_type": "stream",
          "name": "stdout",
          "text": [
            "Epoch: 163, Loss: 0.6177, Val Acc: 0.7679, Test Acc: 0.6216\n"
          ]
        },
        {
          "output_type": "stream",
          "name": "stderr",
          "text": [
            "100%|███████████████████████████████████████████████████████████████████████████████████████████████| 7/7 [00:00<00:00, 36.73it/s]\n",
            "100%|███████████████████████████████████████████████████████████████████████████████████████████████| 1/1 [00:00<00:00, 40.72it/s]\n",
            "100%|███████████████████████████████████████████████████████████████████████████████████████████████| 1/1 [00:00<00:00, 43.94it/s]\n"
          ]
        },
        {
          "output_type": "stream",
          "name": "stdout",
          "text": [
            "Epoch: 164, Loss: 0.6171, Val Acc: 0.7679, Test Acc: 0.6216\n"
          ]
        },
        {
          "output_type": "stream",
          "name": "stderr",
          "text": [
            "100%|███████████████████████████████████████████████████████████████████████████████████████████████| 7/7 [00:00<00:00, 37.17it/s]\n",
            "100%|███████████████████████████████████████████████████████████████████████████████████████████████| 1/1 [00:00<00:00, 51.34it/s]\n",
            "100%|███████████████████████████████████████████████████████████████████████████████████████████████| 1/1 [00:00<00:00, 44.33it/s]\n"
          ]
        },
        {
          "output_type": "stream",
          "name": "stdout",
          "text": [
            "Epoch: 165, Loss: 0.6170, Val Acc: 0.7768, Test Acc: 0.6396\n"
          ]
        },
        {
          "output_type": "stream",
          "name": "stderr",
          "text": [
            "100%|███████████████████████████████████████████████████████████████████████████████████████████████| 7/7 [00:00<00:00, 35.20it/s]\n",
            "100%|███████████████████████████████████████████████████████████████████████████████████████████████| 1/1 [00:00<00:00, 42.11it/s]\n",
            "100%|███████████████████████████████████████████████████████████████████████████████████████████████| 1/1 [00:00<00:00, 40.74it/s]\n"
          ]
        },
        {
          "output_type": "stream",
          "name": "stdout",
          "text": [
            "Epoch: 166, Loss: 0.6170, Val Acc: 0.7768, Test Acc: 0.6396\n"
          ]
        },
        {
          "output_type": "stream",
          "name": "stderr",
          "text": [
            "100%|███████████████████████████████████████████████████████████████████████████████████████████████| 7/7 [00:00<00:00, 31.35it/s]\n",
            "100%|███████████████████████████████████████████████████████████████████████████████████████████████| 1/1 [00:00<00:00, 42.97it/s]\n",
            "100%|███████████████████████████████████████████████████████████████████████████████████████████████| 1/1 [00:00<00:00, 41.91it/s]\n"
          ]
        },
        {
          "output_type": "stream",
          "name": "stdout",
          "text": [
            "Epoch: 167, Loss: 0.6169, Val Acc: 0.7768, Test Acc: 0.6396\n"
          ]
        },
        {
          "output_type": "stream",
          "name": "stderr",
          "text": [
            "100%|███████████████████████████████████████████████████████████████████████████████████████████████| 7/7 [00:00<00:00, 32.55it/s]\n",
            "100%|███████████████████████████████████████████████████████████████████████████████████████████████| 1/1 [00:00<00:00, 40.15it/s]\n",
            "100%|███████████████████████████████████████████████████████████████████████████████████████████████| 1/1 [00:00<00:00, 32.99it/s]\n"
          ]
        },
        {
          "output_type": "stream",
          "name": "stdout",
          "text": [
            "Epoch: 168, Loss: 0.6168, Val Acc: 0.7679, Test Acc: 0.6396\n"
          ]
        },
        {
          "output_type": "stream",
          "name": "stderr",
          "text": [
            "100%|███████████████████████████████████████████████████████████████████████████████████████████████| 7/7 [00:00<00:00, 35.17it/s]\n",
            "100%|███████████████████████████████████████████████████████████████████████████████████████████████| 1/1 [00:00<00:00, 41.91it/s]\n",
            "100%|███████████████████████████████████████████████████████████████████████████████████████████████| 1/1 [00:00<00:00, 36.08it/s]\n"
          ]
        },
        {
          "output_type": "stream",
          "name": "stdout",
          "text": [
            "Epoch: 169, Loss: 0.6167, Val Acc: 0.7679, Test Acc: 0.6306\n"
          ]
        },
        {
          "output_type": "stream",
          "name": "stderr",
          "text": [
            "100%|███████████████████████████████████████████████████████████████████████████████████████████████| 7/7 [00:00<00:00, 23.88it/s]\n",
            "100%|███████████████████████████████████████████████████████████████████████████████████████████████| 1/1 [00:00<00:00, 30.82it/s]\n",
            "100%|███████████████████████████████████████████████████████████████████████████████████████████████| 1/1 [00:00<00:00, 42.17it/s]\n"
          ]
        },
        {
          "output_type": "stream",
          "name": "stdout",
          "text": [
            "Epoch: 170, Loss: 0.6167, Val Acc: 0.7768, Test Acc: 0.6396\n"
          ]
        },
        {
          "output_type": "stream",
          "name": "stderr",
          "text": [
            "100%|███████████████████████████████████████████████████████████████████████████████████████████████| 7/7 [00:00<00:00, 22.04it/s]\n",
            "100%|███████████████████████████████████████████████████████████████████████████████████████████████| 1/1 [00:00<00:00, 42.29it/s]\n",
            "100%|███████████████████████████████████████████████████████████████████████████████████████████████| 1/1 [00:00<00:00, 44.11it/s]\n"
          ]
        },
        {
          "output_type": "stream",
          "name": "stdout",
          "text": [
            "Epoch: 171, Loss: 0.6164, Val Acc: 0.7768, Test Acc: 0.6396\n"
          ]
        },
        {
          "output_type": "stream",
          "name": "stderr",
          "text": [
            "100%|███████████████████████████████████████████████████████████████████████████████████████████████| 7/7 [00:00<00:00, 22.65it/s]\n",
            "100%|███████████████████████████████████████████████████████████████████████████████████████████████| 1/1 [00:00<00:00, 30.36it/s]\n",
            "100%|███████████████████████████████████████████████████████████████████████████████████████████████| 1/1 [00:00<00:00, 37.54it/s]\n"
          ]
        },
        {
          "output_type": "stream",
          "name": "stdout",
          "text": [
            "Epoch: 172, Loss: 0.6164, Val Acc: 0.7768, Test Acc: 0.6396\n"
          ]
        },
        {
          "output_type": "stream",
          "name": "stderr",
          "text": [
            "100%|███████████████████████████████████████████████████████████████████████████████████████████████| 7/7 [00:00<00:00, 21.26it/s]\n",
            "100%|███████████████████████████████████████████████████████████████████████████████████████████████| 1/1 [00:00<00:00, 26.08it/s]\n",
            "100%|███████████████████████████████████████████████████████████████████████████████████████████████| 1/1 [00:00<00:00, 30.00it/s]\n"
          ]
        },
        {
          "output_type": "stream",
          "name": "stdout",
          "text": [
            "Epoch: 173, Loss: 0.6164, Val Acc: 0.7768, Test Acc: 0.6396\n"
          ]
        },
        {
          "output_type": "stream",
          "name": "stderr",
          "text": [
            "100%|███████████████████████████████████████████████████████████████████████████████████████████████| 7/7 [00:00<00:00, 22.28it/s]\n",
            "100%|███████████████████████████████████████████████████████████████████████████████████████████████| 1/1 [00:00<00:00, 25.32it/s]\n",
            "100%|███████████████████████████████████████████████████████████████████████████████████████████████| 1/1 [00:00<00:00, 28.99it/s]\n"
          ]
        },
        {
          "output_type": "stream",
          "name": "stdout",
          "text": [
            "Epoch: 174, Loss: 0.6161, Val Acc: 0.7679, Test Acc: 0.6396\n"
          ]
        },
        {
          "output_type": "stream",
          "name": "stderr",
          "text": [
            "100%|███████████████████████████████████████████████████████████████████████████████████████████████| 7/7 [00:00<00:00, 23.55it/s]\n",
            "100%|███████████████████████████████████████████████████████████████████████████████████████████████| 1/1 [00:00<00:00, 40.87it/s]\n",
            "100%|███████████████████████████████████████████████████████████████████████████████████████████████| 1/1 [00:00<00:00, 42.89it/s]\n"
          ]
        },
        {
          "output_type": "stream",
          "name": "stdout",
          "text": [
            "Epoch: 175, Loss: 0.6160, Val Acc: 0.7679, Test Acc: 0.6396\n"
          ]
        },
        {
          "output_type": "stream",
          "name": "stderr",
          "text": [
            "100%|███████████████████████████████████████████████████████████████████████████████████████████████| 7/7 [00:00<00:00, 24.16it/s]\n",
            "100%|███████████████████████████████████████████████████████████████████████████████████████████████| 1/1 [00:00<00:00, 26.10it/s]\n",
            "100%|███████████████████████████████████████████████████████████████████████████████████████████████| 1/1 [00:00<00:00, 39.00it/s]\n"
          ]
        },
        {
          "output_type": "stream",
          "name": "stdout",
          "text": [
            "Epoch: 176, Loss: 0.6164, Val Acc: 0.7768, Test Acc: 0.6396\n"
          ]
        },
        {
          "output_type": "stream",
          "name": "stderr",
          "text": [
            "100%|███████████████████████████████████████████████████████████████████████████████████████████████| 7/7 [00:00<00:00, 23.56it/s]\n",
            "100%|███████████████████████████████████████████████████████████████████████████████████████████████| 1/1 [00:00<00:00, 22.77it/s]\n",
            "100%|███████████████████████████████████████████████████████████████████████████████████████████████| 1/1 [00:00<00:00, 34.12it/s]\n"
          ]
        },
        {
          "output_type": "stream",
          "name": "stdout",
          "text": [
            "Epoch: 177, Loss: 0.6161, Val Acc: 0.7679, Test Acc: 0.6396\n"
          ]
        },
        {
          "output_type": "stream",
          "name": "stderr",
          "text": [
            "100%|███████████████████████████████████████████████████████████████████████████████████████████████| 7/7 [00:00<00:00, 20.97it/s]\n",
            "100%|███████████████████████████████████████████████████████████████████████████████████████████████| 1/1 [00:00<00:00, 32.67it/s]\n",
            "100%|███████████████████████████████████████████████████████████████████████████████████████████████| 1/1 [00:00<00:00, 32.73it/s]\n"
          ]
        },
        {
          "output_type": "stream",
          "name": "stdout",
          "text": [
            "Epoch: 178, Loss: 0.6158, Val Acc: 0.7679, Test Acc: 0.6396\n"
          ]
        },
        {
          "output_type": "stream",
          "name": "stderr",
          "text": [
            "100%|███████████████████████████████████████████████████████████████████████████████████████████████| 7/7 [00:00<00:00, 22.59it/s]\n",
            "100%|███████████████████████████████████████████████████████████████████████████████████████████████| 1/1 [00:00<00:00, 35.47it/s]\n",
            "100%|███████████████████████████████████████████████████████████████████████████████████████████████| 1/1 [00:00<00:00, 42.47it/s]\n"
          ]
        },
        {
          "output_type": "stream",
          "name": "stdout",
          "text": [
            "Epoch: 179, Loss: 0.6158, Val Acc: 0.7679, Test Acc: 0.6396\n"
          ]
        },
        {
          "output_type": "stream",
          "name": "stderr",
          "text": [
            "100%|███████████████████████████████████████████████████████████████████████████████████████████████| 7/7 [00:00<00:00, 24.19it/s]\n",
            "100%|███████████████████████████████████████████████████████████████████████████████████████████████| 1/1 [00:00<00:00, 41.22it/s]\n",
            "100%|███████████████████████████████████████████████████████████████████████████████████████████████| 1/1 [00:00<00:00, 43.63it/s]\n"
          ]
        },
        {
          "output_type": "stream",
          "name": "stdout",
          "text": [
            "Epoch: 180, Loss: 0.6161, Val Acc: 0.7768, Test Acc: 0.6396\n"
          ]
        },
        {
          "output_type": "stream",
          "name": "stderr",
          "text": [
            "100%|███████████████████████████████████████████████████████████████████████████████████████████████| 7/7 [00:00<00:00, 22.65it/s]\n",
            "100%|███████████████████████████████████████████████████████████████████████████████████████████████| 1/1 [00:00<00:00, 42.87it/s]\n",
            "100%|███████████████████████████████████████████████████████████████████████████████████████████████| 1/1 [00:00<00:00, 35.50it/s]\n"
          ]
        },
        {
          "output_type": "stream",
          "name": "stdout",
          "text": [
            "Epoch: 181, Loss: 0.6159, Val Acc: 0.7679, Test Acc: 0.6396\n"
          ]
        },
        {
          "output_type": "stream",
          "name": "stderr",
          "text": [
            "100%|███████████████████████████████████████████████████████████████████████████████████████████████| 7/7 [00:00<00:00, 23.21it/s]\n",
            "100%|███████████████████████████████████████████████████████████████████████████████████████████████| 1/1 [00:00<00:00, 36.44it/s]\n",
            "100%|███████████████████████████████████████████████████████████████████████████████████████████████| 1/1 [00:00<00:00, 37.61it/s]\n"
          ]
        },
        {
          "output_type": "stream",
          "name": "stdout",
          "text": [
            "Epoch: 182, Loss: 0.6157, Val Acc: 0.7679, Test Acc: 0.6396\n"
          ]
        },
        {
          "output_type": "stream",
          "name": "stderr",
          "text": [
            "100%|███████████████████████████████████████████████████████████████████████████████████████████████| 7/7 [00:00<00:00, 21.03it/s]\n",
            "100%|███████████████████████████████████████████████████████████████████████████████████████████████| 1/1 [00:00<00:00, 28.16it/s]\n",
            "100%|███████████████████████████████████████████████████████████████████████████████████████████████| 1/1 [00:00<00:00, 41.17it/s]\n"
          ]
        },
        {
          "output_type": "stream",
          "name": "stdout",
          "text": [
            "Epoch: 183, Loss: 0.6155, Val Acc: 0.7768, Test Acc: 0.6396\n"
          ]
        },
        {
          "output_type": "stream",
          "name": "stderr",
          "text": [
            "100%|███████████████████████████████████████████████████████████████████████████████████████████████| 7/7 [00:00<00:00, 22.05it/s]\n",
            "100%|███████████████████████████████████████████████████████████████████████████████████████████████| 1/1 [00:00<00:00, 35.60it/s]\n",
            "100%|███████████████████████████████████████████████████████████████████████████████████████████████| 1/1 [00:00<00:00, 30.29it/s]\n"
          ]
        },
        {
          "output_type": "stream",
          "name": "stdout",
          "text": [
            "Epoch: 184, Loss: 0.6154, Val Acc: 0.7679, Test Acc: 0.6396\n"
          ]
        },
        {
          "output_type": "stream",
          "name": "stderr",
          "text": [
            "100%|███████████████████████████████████████████████████████████████████████████████████████████████| 7/7 [00:00<00:00, 23.30it/s]\n",
            "100%|███████████████████████████████████████████████████████████████████████████████████████████████| 1/1 [00:00<00:00, 42.96it/s]\n",
            "100%|███████████████████████████████████████████████████████████████████████████████████████████████| 1/1 [00:00<00:00, 45.02it/s]\n"
          ]
        },
        {
          "output_type": "stream",
          "name": "stdout",
          "text": [
            "Epoch: 185, Loss: 0.6154, Val Acc: 0.7679, Test Acc: 0.6396\n"
          ]
        },
        {
          "output_type": "stream",
          "name": "stderr",
          "text": [
            "100%|███████████████████████████████████████████████████████████████████████████████████████████████| 7/7 [00:00<00:00, 34.73it/s]\n",
            "100%|███████████████████████████████████████████████████████████████████████████████████████████████| 1/1 [00:00<00:00, 41.64it/s]\n",
            "100%|███████████████████████████████████████████████████████████████████████████████████████████████| 1/1 [00:00<00:00, 38.99it/s]\n"
          ]
        },
        {
          "output_type": "stream",
          "name": "stdout",
          "text": [
            "Epoch: 186, Loss: 0.6152, Val Acc: 0.7679, Test Acc: 0.6396\n"
          ]
        },
        {
          "output_type": "stream",
          "name": "stderr",
          "text": [
            "100%|███████████████████████████████████████████████████████████████████████████████████████████████| 7/7 [00:00<00:00, 33.07it/s]\n",
            "100%|███████████████████████████████████████████████████████████████████████████████████████████████| 1/1 [00:00<00:00, 41.85it/s]\n",
            "100%|███████████████████████████████████████████████████████████████████████████████████████████████| 1/1 [00:00<00:00, 40.26it/s]\n"
          ]
        },
        {
          "output_type": "stream",
          "name": "stdout",
          "text": [
            "Epoch: 187, Loss: 0.6154, Val Acc: 0.7768, Test Acc: 0.6396\n"
          ]
        },
        {
          "output_type": "stream",
          "name": "stderr",
          "text": [
            "100%|███████████████████████████████████████████████████████████████████████████████████████████████| 7/7 [00:00<00:00, 31.92it/s]\n",
            "100%|███████████████████████████████████████████████████████████████████████████████████████████████| 1/1 [00:00<00:00, 48.85it/s]\n",
            "100%|███████████████████████████████████████████████████████████████████████████████████████████████| 1/1 [00:00<00:00, 46.86it/s]\n"
          ]
        },
        {
          "output_type": "stream",
          "name": "stdout",
          "text": [
            "Epoch: 188, Loss: 0.6152, Val Acc: 0.7679, Test Acc: 0.6396\n"
          ]
        },
        {
          "output_type": "stream",
          "name": "stderr",
          "text": [
            "100%|███████████████████████████████████████████████████████████████████████████████████████████████| 7/7 [00:00<00:00, 34.81it/s]\n",
            "100%|███████████████████████████████████████████████████████████████████████████████████████████████| 1/1 [00:00<00:00, 36.97it/s]\n",
            "100%|███████████████████████████████████████████████████████████████████████████████████████████████| 1/1 [00:00<00:00, 40.72it/s]\n"
          ]
        },
        {
          "output_type": "stream",
          "name": "stdout",
          "text": [
            "Epoch: 189, Loss: 0.6151, Val Acc: 0.7679, Test Acc: 0.6396\n"
          ]
        },
        {
          "output_type": "stream",
          "name": "stderr",
          "text": [
            "100%|███████████████████████████████████████████████████████████████████████████████████████████████| 7/7 [00:00<00:00, 35.65it/s]\n",
            "100%|███████████████████████████████████████████████████████████████████████████████████████████████| 1/1 [00:00<00:00, 42.44it/s]\n",
            "100%|███████████████████████████████████████████████████████████████████████████████████████████████| 1/1 [00:00<00:00, 32.79it/s]\n"
          ]
        },
        {
          "output_type": "stream",
          "name": "stdout",
          "text": [
            "Epoch: 190, Loss: 0.6150, Val Acc: 0.7768, Test Acc: 0.6396\n"
          ]
        },
        {
          "output_type": "stream",
          "name": "stderr",
          "text": [
            "100%|███████████████████████████████████████████████████████████████████████████████████████████████| 7/7 [00:00<00:00, 35.02it/s]\n",
            "100%|███████████████████████████████████████████████████████████████████████████████████████████████| 1/1 [00:00<00:00, 39.32it/s]\n",
            "100%|███████████████████████████████████████████████████████████████████████████████████████████████| 1/1 [00:00<00:00, 44.68it/s]\n"
          ]
        },
        {
          "output_type": "stream",
          "name": "stdout",
          "text": [
            "Epoch: 191, Loss: 0.6151, Val Acc: 0.7679, Test Acc: 0.6396\n"
          ]
        },
        {
          "output_type": "stream",
          "name": "stderr",
          "text": [
            "100%|███████████████████████████████████████████████████████████████████████████████████████████████| 7/7 [00:00<00:00, 36.81it/s]\n",
            "100%|███████████████████████████████████████████████████████████████████████████████████████████████| 1/1 [00:00<00:00, 40.62it/s]\n",
            "100%|███████████████████████████████████████████████████████████████████████████████████████████████| 1/1 [00:00<00:00, 46.76it/s]\n"
          ]
        },
        {
          "output_type": "stream",
          "name": "stdout",
          "text": [
            "Epoch: 192, Loss: 0.6152, Val Acc: 0.7768, Test Acc: 0.6396\n"
          ]
        },
        {
          "output_type": "stream",
          "name": "stderr",
          "text": [
            "100%|███████████████████████████████████████████████████████████████████████████████████████████████| 7/7 [00:00<00:00, 37.63it/s]\n",
            "100%|███████████████████████████████████████████████████████████████████████████████████████████████| 1/1 [00:00<00:00, 39.20it/s]\n",
            "100%|███████████████████████████████████████████████████████████████████████████████████████████████| 1/1 [00:00<00:00, 44.99it/s]\n"
          ]
        },
        {
          "output_type": "stream",
          "name": "stdout",
          "text": [
            "Epoch: 193, Loss: 0.6149, Val Acc: 0.7679, Test Acc: 0.6396\n"
          ]
        },
        {
          "output_type": "stream",
          "name": "stderr",
          "text": [
            "100%|███████████████████████████████████████████████████████████████████████████████████████████████| 7/7 [00:00<00:00, 37.37it/s]\n",
            "100%|███████████████████████████████████████████████████████████████████████████████████████████████| 1/1 [00:00<00:00, 40.72it/s]\n",
            "100%|███████████████████████████████████████████████████████████████████████████████████████████████| 1/1 [00:00<00:00, 40.62it/s]\n"
          ]
        },
        {
          "output_type": "stream",
          "name": "stdout",
          "text": [
            "Epoch: 194, Loss: 0.6148, Val Acc: 0.7679, Test Acc: 0.6396\n"
          ]
        },
        {
          "output_type": "stream",
          "name": "stderr",
          "text": [
            "100%|███████████████████████████████████████████████████████████████████████████████████████████████| 7/7 [00:00<00:00, 35.31it/s]\n",
            "100%|███████████████████████████████████████████████████████████████████████████████████████████████| 1/1 [00:00<00:00, 35.60it/s]\n",
            "100%|███████████████████████████████████████████████████████████████████████████████████████████████| 1/1 [00:00<00:00, 46.56it/s]\n"
          ]
        },
        {
          "output_type": "stream",
          "name": "stdout",
          "text": [
            "Epoch: 195, Loss: 0.6150, Val Acc: 0.7679, Test Acc: 0.6396\n"
          ]
        },
        {
          "output_type": "stream",
          "name": "stderr",
          "text": [
            "100%|███████████████████████████████████████████████████████████████████████████████████████████████| 7/7 [00:00<00:00, 36.81it/s]\n",
            "100%|███████████████████████████████████████████████████████████████████████████████████████████████| 1/1 [00:00<00:00, 43.34it/s]\n",
            "100%|███████████████████████████████████████████████████████████████████████████████████████████████| 1/1 [00:00<00:00, 46.71it/s]\n"
          ]
        },
        {
          "output_type": "stream",
          "name": "stdout",
          "text": [
            "Epoch: 196, Loss: 0.6147, Val Acc: 0.7768, Test Acc: 0.6396\n"
          ]
        },
        {
          "output_type": "stream",
          "name": "stderr",
          "text": [
            "100%|███████████████████████████████████████████████████████████████████████████████████████████████| 7/7 [00:00<00:00, 35.62it/s]\n",
            "100%|███████████████████████████████████████████████████████████████████████████████████████████████| 1/1 [00:00<00:00, 39.98it/s]\n",
            "100%|███████████████████████████████████████████████████████████████████████████████████████████████| 1/1 [00:00<00:00, 42.70it/s]\n"
          ]
        },
        {
          "output_type": "stream",
          "name": "stdout",
          "text": [
            "Epoch: 197, Loss: 0.6147, Val Acc: 0.7679, Test Acc: 0.6396\n"
          ]
        },
        {
          "output_type": "stream",
          "name": "stderr",
          "text": [
            "100%|███████████████████████████████████████████████████████████████████████████████████████████████| 7/7 [00:00<00:00, 39.37it/s]\n",
            "100%|███████████████████████████████████████████████████████████████████████████████████████████████| 1/1 [00:00<00:00, 35.60it/s]\n",
            "100%|███████████████████████████████████████████████████████████████████████████████████████████████| 1/1 [00:00<00:00, 45.42it/s]\n"
          ]
        },
        {
          "output_type": "stream",
          "name": "stdout",
          "text": [
            "Epoch: 198, Loss: 0.6147, Val Acc: 0.7679, Test Acc: 0.6396\n"
          ]
        },
        {
          "output_type": "stream",
          "name": "stderr",
          "text": [
            "100%|███████████████████████████████████████████████████████████████████████████████████████████████| 7/7 [00:00<00:00, 35.56it/s]\n",
            "100%|███████████████████████████████████████████████████████████████████████████████████████████████| 1/1 [00:00<00:00, 40.85it/s]\n",
            "100%|███████████████████████████████████████████████████████████████████████████████████████████████| 1/1 [00:00<00:00,  3.29it/s]\n"
          ]
        },
        {
          "output_type": "stream",
          "name": "stdout",
          "text": [
            "Epoch: 199, Loss: 0.6146, Val Acc: 0.7768, Test Acc: 0.6396\n"
          ]
        },
        {
          "output_type": "stream",
          "name": "stderr",
          "text": [
            "100%|███████████████████████████████████████████████████████████████████████████████████████████████| 7/7 [00:00<00:00, 35.51it/s]\n",
            "100%|███████████████████████████████████████████████████████████████████████████████████████████████| 1/1 [00:00<00:00, 41.12it/s]\n",
            "100%|███████████████████████████████████████████████████████████████████████████████████████████████| 1/1 [00:00<00:00, 40.63it/s]\n"
          ]
        },
        {
          "output_type": "stream",
          "name": "stdout",
          "text": [
            "Epoch: 200, Loss: 0.6145, Val Acc: 0.7679, Test Acc: 0.6396\n",
            "Median time per epoch: 0.2791s\n"
          ]
        },
        {
          "output_type": "display_data",
          "data": {
            "text/plain": [
              "<Figure size 1200x500 with 3 Axes>"
            ],
            "image/png": "[encoded data removed]"
          },
          "metadata": {}
        },
        {
          "output_type": "stream",
          "name": "stdout",
          "text": [
            "Best Validation Metric: 0.7767857142857143\n",
            "Test Metric: 0.6306306306306306\n"
          ]
        }
      ]
    }
  ]
}
