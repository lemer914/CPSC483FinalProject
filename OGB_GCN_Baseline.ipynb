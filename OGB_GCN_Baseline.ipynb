{
  "nbformat": 4,
  "nbformat_minor": 0,
  "metadata": {
    "colab": {
      "provenance": []
    },
    "kernelspec": {
      "name": "python3",
      "display_name": "Python 3"
    },
    "language_info": {
      "name": "python"
    }
  },
  "cells": [
    {
      "cell_type": "code",
      "source": [
        "import os\n",
        "# import pkg_resources\n",
        "# pkg_resources.require('Torch==2.0.1')\n",
        "!pip install torch==2.0.1\n",
        "import torch\n",
        "print('Using torch', torch.__version__)\n",
        "!pip install torch-scatter torch-sparse torch-cluster torch-spline-conv torch-geometric -f https://data.pyg.org/whl/torch-2.0.1+cu118.html\n",
        "!pip install ogb\n",
        "!pip install rdkit-pypi"
      ],
      "metadata": {
        "colab": {
          "base_uri": "https://localhost:8080/"
        },
        "id": "A4tixkw6XbF1",
        "outputId": "33b55cf0-5a95-4676-bf3d-1acea24b3487"
      },
      "execution_count": 40,
      "outputs": [
        {
          "output_type": "stream",
          "name": "stdout",
          "text": [
            "Requirement already satisfied: torch==2.0.1 in /usr/local/lib/python3.10/dist-packages (2.0.1)\n",
            "Requirement already satisfied: filelock in /usr/local/lib/python3.10/dist-packages (from torch==2.0.1) (3.13.1)\n",
            "Requirement already satisfied: typing-extensions in /usr/local/lib/python3.10/dist-packages (from torch==2.0.1) (4.5.0)\n",
            "Requirement already satisfied: sympy in /usr/local/lib/python3.10/dist-packages (from torch==2.0.1) (1.12)\n",
            "Requirement already satisfied: networkx in /usr/local/lib/python3.10/dist-packages (from torch==2.0.1) (3.2.1)\n",
            "Requirement already satisfied: jinja2 in /usr/local/lib/python3.10/dist-packages (from torch==2.0.1) (3.1.2)\n",
            "Requirement already satisfied: nvidia-cuda-nvrtc-cu11==11.7.99 in /usr/local/lib/python3.10/dist-packages (from torch==2.0.1) (11.7.99)\n",
            "Requirement already satisfied: nvidia-cuda-runtime-cu11==11.7.99 in /usr/local/lib/python3.10/dist-packages (from torch==2.0.1) (11.7.99)\n",
            "Requirement already satisfied: nvidia-cuda-cupti-cu11==11.7.101 in /usr/local/lib/python3.10/dist-packages (from torch==2.0.1) (11.7.101)\n",
            "Requirement already satisfied: nvidia-cudnn-cu11==8.5.0.96 in /usr/local/lib/python3.10/dist-packages (from torch==2.0.1) (8.5.0.96)\n",
            "Requirement already satisfied: nvidia-cublas-cu11==11.10.3.66 in /usr/local/lib/python3.10/dist-packages (from torch==2.0.1) (11.10.3.66)\n",
            "Requirement already satisfied: nvidia-cufft-cu11==10.9.0.58 in /usr/local/lib/python3.10/dist-packages (from torch==2.0.1) (10.9.0.58)\n",
            "Requirement already satisfied: nvidia-curand-cu11==10.2.10.91 in /usr/local/lib/python3.10/dist-packages (from torch==2.0.1) (10.2.10.91)\n",
            "Requirement already satisfied: nvidia-cusolver-cu11==11.4.0.1 in /usr/local/lib/python3.10/dist-packages (from torch==2.0.1) (11.4.0.1)\n",
            "Requirement already satisfied: nvidia-cusparse-cu11==11.7.4.91 in /usr/local/lib/python3.10/dist-packages (from torch==2.0.1) (11.7.4.91)\n",
            "Requirement already satisfied: nvidia-nccl-cu11==2.14.3 in /usr/local/lib/python3.10/dist-packages (from torch==2.0.1) (2.14.3)\n",
            "Requirement already satisfied: nvidia-nvtx-cu11==11.7.91 in /usr/local/lib/python3.10/dist-packages (from torch==2.0.1) (11.7.91)\n",
            "Requirement already satisfied: triton==2.0.0 in /usr/local/lib/python3.10/dist-packages (from torch==2.0.1) (2.0.0)\n",
            "Requirement already satisfied: setuptools in /usr/local/lib/python3.10/dist-packages (from nvidia-cublas-cu11==11.10.3.66->torch==2.0.1) (67.7.2)\n",
            "Requirement already satisfied: wheel in /usr/local/lib/python3.10/dist-packages (from nvidia-cublas-cu11==11.10.3.66->torch==2.0.1) (0.42.0)\n",
            "Requirement already satisfied: cmake in /usr/local/lib/python3.10/dist-packages (from triton==2.0.0->torch==2.0.1) (3.27.9)\n",
            "Requirement already satisfied: lit in /usr/local/lib/python3.10/dist-packages (from triton==2.0.0->torch==2.0.1) (17.0.6)\n",
            "Requirement already satisfied: MarkupSafe>=2.0 in /usr/local/lib/python3.10/dist-packages (from jinja2->torch==2.0.1) (2.1.3)\n",
            "Requirement already satisfied: mpmath>=0.19 in /usr/local/lib/python3.10/dist-packages (from sympy->torch==2.0.1) (1.3.0)\n",
            "Using torch 2.0.1+cu117\n",
            "Looking in links: https://data.pyg.org/whl/torch-2.0.1+cu118.html\n",
            "Requirement already satisfied: torch-scatter in /usr/local/lib/python3.10/dist-packages (2.1.2+pt20cu118)\n",
            "Requirement already satisfied: torch-sparse in /usr/local/lib/python3.10/dist-packages (0.6.18+pt20cu118)\n",
            "Requirement already satisfied: torch-cluster in /usr/local/lib/python3.10/dist-packages (1.6.3+pt20cu118)\n",
            "Requirement already satisfied: torch-spline-conv in /usr/local/lib/python3.10/dist-packages (1.2.2+pt20cu118)\n",
            "Requirement already satisfied: torch-geometric in /usr/local/lib/python3.10/dist-packages (2.4.0)\n",
            "Requirement already satisfied: scipy in /usr/local/lib/python3.10/dist-packages (from torch-sparse) (1.11.4)\n",
            "Requirement already satisfied: tqdm in /usr/local/lib/python3.10/dist-packages (from torch-geometric) (4.66.1)\n",
            "Requirement already satisfied: numpy in /usr/local/lib/python3.10/dist-packages (from torch-geometric) (1.23.5)\n",
            "Requirement already satisfied: jinja2 in /usr/local/lib/python3.10/dist-packages (from torch-geometric) (3.1.2)\n",
            "Requirement already satisfied: requests in /usr/local/lib/python3.10/dist-packages (from torch-geometric) (2.31.0)\n",
            "Requirement already satisfied: pyparsing in /usr/local/lib/python3.10/dist-packages (from torch-geometric) (3.1.1)\n",
            "Requirement already satisfied: scikit-learn in /usr/local/lib/python3.10/dist-packages (from torch-geometric) (1.2.2)\n",
            "Requirement already satisfied: psutil>=5.8.0 in /usr/local/lib/python3.10/dist-packages (from torch-geometric) (5.9.5)\n",
            "Requirement already satisfied: MarkupSafe>=2.0 in /usr/local/lib/python3.10/dist-packages (from jinja2->torch-geometric) (2.1.3)\n",
            "Requirement already satisfied: charset-normalizer<4,>=2 in /usr/local/lib/python3.10/dist-packages (from requests->torch-geometric) (3.3.2)\n",
            "Requirement already satisfied: idna<4,>=2.5 in /usr/local/lib/python3.10/dist-packages (from requests->torch-geometric) (3.6)\n",
            "Requirement already satisfied: urllib3<3,>=1.21.1 in /usr/local/lib/python3.10/dist-packages (from requests->torch-geometric) (2.0.7)\n",
            "Requirement already satisfied: certifi>=2017.4.17 in /usr/local/lib/python3.10/dist-packages (from requests->torch-geometric) (2023.11.17)\n",
            "Requirement already satisfied: joblib>=1.1.1 in /usr/local/lib/python3.10/dist-packages (from scikit-learn->torch-geometric) (1.3.2)\n",
            "Requirement already satisfied: threadpoolctl>=2.0.0 in /usr/local/lib/python3.10/dist-packages (from scikit-learn->torch-geometric) (3.2.0)\n",
            "Requirement already satisfied: ogb in /usr/local/lib/python3.10/dist-packages (1.3.6)\n",
            "Requirement already satisfied: torch>=1.6.0 in /usr/local/lib/python3.10/dist-packages (from ogb) (2.0.1)\n",
            "Requirement already satisfied: numpy>=1.16.0 in /usr/local/lib/python3.10/dist-packages (from ogb) (1.23.5)\n",
            "Requirement already satisfied: tqdm>=4.29.0 in /usr/local/lib/python3.10/dist-packages (from ogb) (4.66.1)\n",
            "Requirement already satisfied: scikit-learn>=0.20.0 in /usr/local/lib/python3.10/dist-packages (from ogb) (1.2.2)\n",
            "Requirement already satisfied: pandas>=0.24.0 in /usr/local/lib/python3.10/dist-packages (from ogb) (1.5.3)\n",
            "Requirement already satisfied: six>=1.12.0 in /usr/local/lib/python3.10/dist-packages (from ogb) (1.16.0)\n",
            "Requirement already satisfied: urllib3>=1.24.0 in /usr/local/lib/python3.10/dist-packages (from ogb) (2.0.7)\n",
            "Requirement already satisfied: outdated>=0.2.0 in /usr/local/lib/python3.10/dist-packages (from ogb) (0.2.2)\n",
            "Requirement already satisfied: setuptools>=44 in /usr/local/lib/python3.10/dist-packages (from outdated>=0.2.0->ogb) (67.7.2)\n",
            "Requirement already satisfied: littleutils in /usr/local/lib/python3.10/dist-packages (from outdated>=0.2.0->ogb) (0.2.2)\n",
            "Requirement already satisfied: requests in /usr/local/lib/python3.10/dist-packages (from outdated>=0.2.0->ogb) (2.31.0)\n",
            "Requirement already satisfied: python-dateutil>=2.8.1 in /usr/local/lib/python3.10/dist-packages (from pandas>=0.24.0->ogb) (2.8.2)\n",
            "Requirement already satisfied: pytz>=2020.1 in /usr/local/lib/python3.10/dist-packages (from pandas>=0.24.0->ogb) (2023.3.post1)\n",
            "Requirement already satisfied: scipy>=1.3.2 in /usr/local/lib/python3.10/dist-packages (from scikit-learn>=0.20.0->ogb) (1.11.4)\n",
            "Requirement already satisfied: joblib>=1.1.1 in /usr/local/lib/python3.10/dist-packages (from scikit-learn>=0.20.0->ogb) (1.3.2)\n",
            "Requirement already satisfied: threadpoolctl>=2.0.0 in /usr/local/lib/python3.10/dist-packages (from scikit-learn>=0.20.0->ogb) (3.2.0)\n",
            "Requirement already satisfied: filelock in /usr/local/lib/python3.10/dist-packages (from torch>=1.6.0->ogb) (3.13.1)\n",
            "Requirement already satisfied: typing-extensions in /usr/local/lib/python3.10/dist-packages (from torch>=1.6.0->ogb) (4.5.0)\n",
            "Requirement already satisfied: sympy in /usr/local/lib/python3.10/dist-packages (from torch>=1.6.0->ogb) (1.12)\n",
            "Requirement already satisfied: networkx in /usr/local/lib/python3.10/dist-packages (from torch>=1.6.0->ogb) (3.2.1)\n",
            "Requirement already satisfied: jinja2 in /usr/local/lib/python3.10/dist-packages (from torch>=1.6.0->ogb) (3.1.2)\n",
            "Requirement already satisfied: nvidia-cuda-nvrtc-cu11==11.7.99 in /usr/local/lib/python3.10/dist-packages (from torch>=1.6.0->ogb) (11.7.99)\n",
            "Requirement already satisfied: nvidia-cuda-runtime-cu11==11.7.99 in /usr/local/lib/python3.10/dist-packages (from torch>=1.6.0->ogb) (11.7.99)\n",
            "Requirement already satisfied: nvidia-cuda-cupti-cu11==11.7.101 in /usr/local/lib/python3.10/dist-packages (from torch>=1.6.0->ogb) (11.7.101)\n",
            "Requirement already satisfied: nvidia-cudnn-cu11==8.5.0.96 in /usr/local/lib/python3.10/dist-packages (from torch>=1.6.0->ogb) (8.5.0.96)\n",
            "Requirement already satisfied: nvidia-cublas-cu11==11.10.3.66 in /usr/local/lib/python3.10/dist-packages (from torch>=1.6.0->ogb) (11.10.3.66)\n",
            "Requirement already satisfied: nvidia-cufft-cu11==10.9.0.58 in /usr/local/lib/python3.10/dist-packages (from torch>=1.6.0->ogb) (10.9.0.58)\n",
            "Requirement already satisfied: nvidia-curand-cu11==10.2.10.91 in /usr/local/lib/python3.10/dist-packages (from torch>=1.6.0->ogb) (10.2.10.91)\n",
            "Requirement already satisfied: nvidia-cusolver-cu11==11.4.0.1 in /usr/local/lib/python3.10/dist-packages (from torch>=1.6.0->ogb) (11.4.0.1)\n",
            "Requirement already satisfied: nvidia-cusparse-cu11==11.7.4.91 in /usr/local/lib/python3.10/dist-packages (from torch>=1.6.0->ogb) (11.7.4.91)\n",
            "Requirement already satisfied: nvidia-nccl-cu11==2.14.3 in /usr/local/lib/python3.10/dist-packages (from torch>=1.6.0->ogb) (2.14.3)\n",
            "Requirement already satisfied: nvidia-nvtx-cu11==11.7.91 in /usr/local/lib/python3.10/dist-packages (from torch>=1.6.0->ogb) (11.7.91)\n",
            "Requirement already satisfied: triton==2.0.0 in /usr/local/lib/python3.10/dist-packages (from torch>=1.6.0->ogb) (2.0.0)\n",
            "Requirement already satisfied: wheel in /usr/local/lib/python3.10/dist-packages (from nvidia-cublas-cu11==11.10.3.66->torch>=1.6.0->ogb) (0.42.0)\n",
            "Requirement already satisfied: cmake in /usr/local/lib/python3.10/dist-packages (from triton==2.0.0->torch>=1.6.0->ogb) (3.27.9)\n",
            "Requirement already satisfied: lit in /usr/local/lib/python3.10/dist-packages (from triton==2.0.0->torch>=1.6.0->ogb) (17.0.6)\n",
            "Requirement already satisfied: MarkupSafe>=2.0 in /usr/local/lib/python3.10/dist-packages (from jinja2->torch>=1.6.0->ogb) (2.1.3)\n",
            "Requirement already satisfied: charset-normalizer<4,>=2 in /usr/local/lib/python3.10/dist-packages (from requests->outdated>=0.2.0->ogb) (3.3.2)\n",
            "Requirement already satisfied: idna<4,>=2.5 in /usr/local/lib/python3.10/dist-packages (from requests->outdated>=0.2.0->ogb) (3.6)\n",
            "Requirement already satisfied: certifi>=2017.4.17 in /usr/local/lib/python3.10/dist-packages (from requests->outdated>=0.2.0->ogb) (2023.11.17)\n",
            "Requirement already satisfied: mpmath>=0.19 in /usr/local/lib/python3.10/dist-packages (from sympy->torch>=1.6.0->ogb) (1.3.0)\n",
            "Requirement already satisfied: rdkit-pypi in /usr/local/lib/python3.10/dist-packages (2022.9.5)\n",
            "Requirement already satisfied: numpy in /usr/local/lib/python3.10/dist-packages (from rdkit-pypi) (1.23.5)\n",
            "Requirement already satisfied: Pillow in /usr/local/lib/python3.10/dist-packages (from rdkit-pypi) (9.4.0)\n"
          ]
        }
      ]
    },
    {
      "cell_type": "code",
      "source": [
        "import math\n",
        "\n",
        "import torch\n",
        "import torch.nn as nn\n",
        "import torch.nn.functional as F\n",
        "\n",
        "from torch_geometric.nn import MessagePassing\n",
        "from torch_geometric.nn import GCNConv, GINConv\n",
        "from torch_geometric.utils import degree\n",
        "from torch_geometric.utils import to_dense_batch\n",
        "\n",
        "from ogb.graphproppred.mol_encoder import BondEncoder\n",
        "\n",
        "import torch\n",
        "import torch.nn as nn\n",
        "import torch.nn.functional as F\n",
        "\n",
        "from torch_geometric.nn import GCNConv, GINConv\n",
        "from torch_geometric.nn import global_mean_pool as gap, global_max_pool as gmp, global_add_pool as gsp\n",
        "\n",
        "from torch_geometric.utils import to_dense_batch\n",
        "\n",
        "# from models.layers import SAB, ISAB, PMA\n",
        "# from models.layers import GCNConv_for_OGB, GINConv_for_OGB\n",
        "\n",
        "from ogb.graphproppred.mol_encoder import AtomEncoder\n",
        "\n",
        "from math import ceil\n",
        "\n",
        "# set seed\n",
        "seed_value = 108\n",
        "torch.manual_seed(seed_value)\n",
        "\n",
        "class MAB(nn.Module):\n",
        "    def __init__(self, dim_Q, dim_K, dim_V, num_heads, ln=False, cluster=False, conv=None):\n",
        "        super(MAB, self).__init__()\n",
        "        self.dim_V = dim_V\n",
        "        self.num_heads = num_heads\n",
        "        self.fc_q = nn.Linear(dim_Q, dim_V)\n",
        "\n",
        "        self.fc_k, self.fc_v = self.get_fc_kv(dim_K, dim_V, conv)\n",
        "\n",
        "        if ln:\n",
        "            self.ln0 = nn.LayerNorm(dim_V)\n",
        "            self.ln1 = nn.LayerNorm(dim_V)\n",
        "        self.fc_o = nn.Linear(dim_V, dim_V)\n",
        "\n",
        "        self.softmax_dim = 2\n",
        "        if cluster == True:\n",
        "            self.softmax_dim = 1\n",
        "\n",
        "    def forward(self, Q, K, attention_mask=None, graph=None, return_attn=False):\n",
        "        Q = self.fc_q(Q)\n",
        "\n",
        "        # Adj: Exist (graph is not None), or Identity (else)\n",
        "        if graph is not None:\n",
        "\n",
        "            (x, edge_index, batch) = graph\n",
        "\n",
        "            K, V = self.fc_k(x, edge_index), self.fc_v(x, edge_index)\n",
        "\n",
        "            K, _ = to_dense_batch(K, batch)\n",
        "            V, _ = to_dense_batch(V, batch)\n",
        "\n",
        "        else:\n",
        "\n",
        "            K, V = self.fc_k(K), self.fc_v(K)\n",
        "\n",
        "        dim_split = self.dim_V // self.num_heads\n",
        "        Q_ = torch.cat(Q.split(dim_split, 2), 0)\n",
        "        K_ = torch.cat(K.split(dim_split, 2), 0)\n",
        "        V_ = torch.cat(V.split(dim_split, 2), 0)\n",
        "\n",
        "        if attention_mask is not None:\n",
        "            attention_mask = torch.cat([attention_mask for _ in range(self.num_heads)], 0)\n",
        "            attention_score = Q_.bmm(K_.transpose(1,2))/math.sqrt(self.dim_V)\n",
        "            A = torch.softmax(attention_mask + attention_score, self.softmax_dim)\n",
        "        else:\n",
        "            A = torch.softmax(Q_.bmm(K_.transpose(1,2))/math.sqrt(self.dim_V), self.softmax_dim)\n",
        "\n",
        "        O = torch.cat((Q_ + A.bmm(V_)).split(Q.size(0), 0), 2)\n",
        "        O = O if getattr(self, 'ln0', None) is None else self.ln0(O)\n",
        "        O = O + F.relu(self.fc_o(O))\n",
        "        O = O if getattr(self, 'ln1', None) is None else self.ln1(O)\n",
        "        if return_attn:\n",
        "            return O, A\n",
        "        else:\n",
        "            return O\n",
        "\n",
        "    def get_fc_kv(self, dim_K, dim_V, conv):\n",
        "\n",
        "        if conv == 'GCN':\n",
        "\n",
        "            fc_k = GCNConv(dim_K, dim_V)\n",
        "            fc_v = GCNConv(dim_K, dim_V)\n",
        "\n",
        "        elif conv == 'GIN':\n",
        "\n",
        "            fc_k = GINConv(\n",
        "                nn.Sequential(\n",
        "                    nn.Linear(dim_K, dim_K),\n",
        "                    nn.ReLU(),\n",
        "                    nn.Linear(dim_K, dim_V),\n",
        "                    nn.ReLU(),\n",
        "                    nn.BatchNorm1d(dim_V),\n",
        "            ), train_eps=False)\n",
        "\n",
        "            fc_v = GINConv(\n",
        "                nn.Sequential(\n",
        "                    nn.Linear(dim_K, dim_K),\n",
        "                    nn.ReLU(),\n",
        "                    nn.Linear(dim_K, dim_V),\n",
        "                    nn.ReLU(),\n",
        "                    nn.BatchNorm1d(dim_V),\n",
        "            ), train_eps=False)\n",
        "\n",
        "        else:\n",
        "\n",
        "            fc_k = nn.Linear(dim_K, dim_V)\n",
        "            fc_v = nn.Linear(dim_K, dim_V)\n",
        "\n",
        "        return fc_k, fc_v\n",
        "\n",
        "class SAB(nn.Module):\n",
        "    def __init__(self, dim_in, dim_out, num_heads, ln=False, cluster=False, mab_conv=None):\n",
        "        super(SAB, self).__init__()\n",
        "\n",
        "        self.mab = MAB(dim_in, dim_in, dim_out, num_heads, ln=ln, cluster=cluster, conv=mab_conv)\n",
        "\n",
        "    def forward(self, X, attention_mask=None, graph=None):\n",
        "        return self.mab(X, X, attention_mask, graph)\n",
        "\n",
        "class ISAB(nn.Module):\n",
        "    def __init__(self, dim_in, dim_out, num_heads, num_inds, ln=False, cluster=False, mab_conv=None):\n",
        "        super(ISAB, self).__init__()\n",
        "        self.I = nn.Parameter(torch.Tensor(1, num_inds, dim_out))\n",
        "        nn.init.xavier_uniform_(self.I)\n",
        "\n",
        "        self.mab0 = MAB(dim_out, dim_in, dim_out, num_heads, ln=ln, cluster=cluster, conv=mab_conv)\n",
        "        self.mab1 = MAB(dim_in, dim_out, dim_out, num_heads, ln=ln, cluster=cluster, conv=mab_conv)\n",
        "\n",
        "    def forward(self, X, attention_mask=None, graph=None):\n",
        "        H = self.mab0(self.I.repeat(X.size(0), 1, 1), X, attention_mask, graph)\n",
        "        return self.mab1(X, H)\n",
        "\n",
        "class PMA(nn.Module):\n",
        "    def __init__(self, dim, num_heads, num_seeds, ln=False, cluster=False, mab_conv=None):\n",
        "        super(PMA, self).__init__()\n",
        "        self.S = nn.Parameter(torch.Tensor(1, num_seeds, dim))\n",
        "        nn.init.xavier_uniform_(self.S)\n",
        "\n",
        "        self.mab = MAB(dim, dim, dim, num_heads, ln=ln, cluster=cluster, conv=mab_conv)\n",
        "\n",
        "    def forward(self, X, attention_mask=None, graph=None, return_attn=False):\n",
        "        return self.mab(self.S.repeat(X.size(0), 1, 1), X, attention_mask, graph, return_attn)\n",
        "\n",
        "### GCN convolution along the graph structure\n",
        "class GCNConv_for_OGB(MessagePassing):\n",
        "    def __init__(self, emb_dim):\n",
        "        super(GCNConv_for_OGB, self).__init__(aggr='add')\n",
        "\n",
        "        self.linear = torch.nn.Linear(emb_dim, emb_dim)\n",
        "        self.root_emb = torch.nn.Embedding(1, emb_dim)\n",
        "        self.bond_encoder = BondEncoder(emb_dim = emb_dim)\n",
        "\n",
        "    def forward(self, x, edge_index, edge_attr):\n",
        "        x = self.linear(x)\n",
        "        edge_embedding = self.bond_encoder(edge_attr)\n",
        "\n",
        "        row, col = edge_index\n",
        "\n",
        "        deg = degree(row, x.size(0), dtype = x.dtype) + 1\n",
        "        deg_inv_sqrt = deg.pow(-0.5)\n",
        "        deg_inv_sqrt[deg_inv_sqrt == float('inf')] = 0\n",
        "\n",
        "        norm = deg_inv_sqrt[row] * deg_inv_sqrt[col]\n",
        "\n",
        "        return self.propagate(edge_index, x=x, edge_attr=edge_embedding, norm=norm) + F.relu(x + self.root_emb.weight) * 1./deg.view(-1,1)\n",
        "\n",
        "    def message(self, x_j, edge_attr, norm):\n",
        "        return norm.view(-1, 1) * F.relu(x_j + edge_attr)\n",
        "\n",
        "    def update(self, aggr_out):\n",
        "        return aggr_out\n",
        "\n",
        "### GIN convolution along the graph structure\n",
        "class GINConv_for_OGB(MessagePassing):\n",
        "    def __init__(self, emb_dim):\n",
        "        super(GINConv_for_OGB, self).__init__(aggr = \"add\")\n",
        "\n",
        "        self.mlp = torch.nn.Sequential(torch.nn.Linear(emb_dim, 2*emb_dim), torch.nn.BatchNorm1d(2*emb_dim), torch.nn.ReLU(), torch.nn.Linear(2*emb_dim, emb_dim))\n",
        "        self.eps = torch.nn.Parameter(torch.Tensor([0]))\n",
        "\n",
        "        self.bond_encoder = BondEncoder(emb_dim = emb_dim)\n",
        "\n",
        "    def forward(self, x, edge_index, edge_attr):\n",
        "        edge_embedding = self.bond_encoder(edge_attr)\n",
        "        out = self.mlp((1 + self.eps) * x + self.propagate(edge_index, x=x, edge_attr=edge_embedding))\n",
        "\n",
        "        return out\n",
        "\n",
        "    def message(self, x_j, edge_attr):\n",
        "        return F.relu(x_j + edge_attr)\n",
        "\n",
        "    def update(self, aggr_out):\n",
        "        return aggr_out"
      ],
      "metadata": {
        "id": "hA5jrgTqWjam"
      },
      "execution_count": 54,
      "outputs": []
    },
    {
      "cell_type": "code",
      "execution_count": 42,
      "metadata": {
        "id": "0fe1bMK2M_mA"
      },
      "outputs": [],
      "source": [
        "class GraphRepresentation(torch.nn.Module):\n",
        "\n",
        "    def __init__(self, args):\n",
        "\n",
        "        super(GraphRepresentation, self).__init__()\n",
        "\n",
        "        self.args = args\n",
        "        self.num_features = args.num_features\n",
        "        self.nhid = args.num_hidden\n",
        "        self.num_classes = args.num_classes\n",
        "        self.pooling_ratio = args.pooling_ratio\n",
        "        self.dropout_ratio = args.dropout\n",
        "\n",
        "    def get_convs(self):\n",
        "\n",
        "        convs = nn.ModuleList()\n",
        "\n",
        "        _input_dim = self.num_features\n",
        "        _output_dim = self.nhid\n",
        "\n",
        "        for _ in range(self.args.num_convs):\n",
        "\n",
        "            if self.args.conv == 'GCN':\n",
        "\n",
        "                conv = GCNConv(_input_dim, _output_dim)\n",
        "\n",
        "            elif self.args.conv == 'GIN':\n",
        "\n",
        "                conv = GINConv(\n",
        "                    nn.Sequential(\n",
        "                        nn.Linear(_input_dim, _output_dim),\n",
        "                        nn.ReLU(),\n",
        "                        nn.Linear(_output_dim, _output_dim),\n",
        "                        nn.ReLU(),\n",
        "                        nn.BatchNorm1d(_output_dim),\n",
        "                ), train_eps=False)\n",
        "\n",
        "            convs.append(conv)\n",
        "\n",
        "            _input_dim = _output_dim\n",
        "            _output_dim = _output_dim\n",
        "\n",
        "        return convs\n",
        "\n",
        "    def get_pools(self):\n",
        "\n",
        "        pools = nn.ModuleList([gap])\n",
        "\n",
        "        return pools\n",
        "\n",
        "    def get_classifier(self):\n",
        "\n",
        "        return nn.Sequential(\n",
        "            nn.Linear(self.nhid, self.nhid),\n",
        "            nn.ReLU(),\n",
        "            nn.Dropout(p=self.dropout_ratio),\n",
        "            nn.Linear(self.nhid, self.nhid//2),\n",
        "            nn.ReLU(),\n",
        "            nn.Dropout(p=self.dropout_ratio),\n",
        "            nn.Linear(self.nhid//2, self.num_classes)\n",
        "        )\n",
        "\n",
        "class GraphMultisetTransformer(GraphRepresentation):\n",
        "\n",
        "    def __init__(self, args):\n",
        "\n",
        "        super(GraphMultisetTransformer, self).__init__(args)\n",
        "\n",
        "        self.ln = args.ln\n",
        "        self.num_heads = args.num_heads\n",
        "        self.cluster = args.cluster\n",
        "\n",
        "        self.model_sequence = args.model_string.split('-')\n",
        "\n",
        "        self.convs = self.get_convs()\n",
        "        self.pools = self.get_pools()\n",
        "        self.classifier = self.get_classifier()\n",
        "\n",
        "    def forward(self, data):\n",
        "\n",
        "        x, edge_index, batch = data.x, data.edge_index, data.batch\n",
        "\n",
        "        # For Graph Convolution Network\n",
        "        xs = []\n",
        "\n",
        "        for _ in range(self.args.num_convs):\n",
        "\n",
        "            x = F.relu(self.convs[_](x, edge_index))\n",
        "            xs.append(x)\n",
        "\n",
        "        # For jumping knowledge scheme\n",
        "        x = torch.cat(xs, dim=1)\n",
        "\n",
        "        # For Graph Multiset Transformer\n",
        "        for _index, _model_str in enumerate(self.model_sequence):\n",
        "\n",
        "            if _index == 0:\n",
        "\n",
        "                batch_x, mask = to_dense_batch(x, batch)\n",
        "\n",
        "                extended_attention_mask = mask.unsqueeze(1)\n",
        "                extended_attention_mask = extended_attention_mask.to(dtype=next(self.parameters()).dtype)\n",
        "                extended_attention_mask = (1.0 - extended_attention_mask) * -1e9\n",
        "\n",
        "            if _model_str == 'GMPool_G':\n",
        "\n",
        "                batch_x = self.pools[_index](batch_x, attention_mask=extended_attention_mask, graph=(x, edge_index, batch))\n",
        "\n",
        "            else:\n",
        "\n",
        "                batch_x = self.pools[_index](batch_x, attention_mask=extended_attention_mask)\n",
        "\n",
        "            extended_attention_mask = None\n",
        "\n",
        "        batch_x = self.pools[len(self.model_sequence)](batch_x)\n",
        "        x = batch_x.squeeze(1)\n",
        "\n",
        "        # For Classification\n",
        "        x = self.classifier(x)\n",
        "\n",
        "        return F.log_softmax(x, dim=-1)\n",
        "\n",
        "    def get_pools(self, _input_dim=None, reconstruction=False):\n",
        "\n",
        "        pools = nn.ModuleList()\n",
        "\n",
        "        _input_dim = self.nhid * self.args.num_convs if _input_dim is None else _input_dim\n",
        "        _output_dim = self.nhid\n",
        "        _num_nodes = ceil(self.pooling_ratio * self.args.avg_num_nodes)\n",
        "\n",
        "        for _index, _model_str in enumerate(self.model_sequence):\n",
        "\n",
        "            if (_index == len(self.model_sequence) - 1) and (reconstruction == False):\n",
        "\n",
        "                _num_nodes = 1\n",
        "\n",
        "            if _model_str == 'GMPool_G':\n",
        "\n",
        "                pools.append(\n",
        "                    PMA(_input_dim, self.num_heads, _num_nodes, ln=self.ln, cluster=self.cluster, mab_conv=self.args.mab_conv)\n",
        "                )\n",
        "\n",
        "                _num_nodes = ceil(self.pooling_ratio * _num_nodes)\n",
        "\n",
        "            elif _model_str == 'GMPool_I':\n",
        "\n",
        "                pools.append(\n",
        "                    PMA(_input_dim, self.num_heads, _num_nodes, ln=self.ln, cluster=self.cluster, mab_conv=None)\n",
        "                )\n",
        "\n",
        "                _num_nodes = ceil(self.pooling_ratio * _num_nodes)\n",
        "\n",
        "            elif _model_str == 'SelfAtt':\n",
        "\n",
        "                pools.append(\n",
        "                    SAB(_input_dim, _output_dim, self.num_heads, ln=self.ln, cluster=self.cluster)\n",
        "                )\n",
        "\n",
        "                _input_dim = _output_dim\n",
        "                _output_dim = _output_dim\n",
        "\n",
        "            else:\n",
        "\n",
        "                raise ValueError(\"Model Name in Model String <{}> is Unknown\".format(_model_str))\n",
        "\n",
        "        pools.append(nn.Linear(_input_dim, self.nhid))\n",
        "\n",
        "        return pools\n",
        "\n",
        "class GraphMultisetTransformer_for_OGB(GraphMultisetTransformer):\n",
        "\n",
        "    def __init__(self, args):\n",
        "\n",
        "        super(GraphMultisetTransformer_for_OGB, self).__init__(args)\n",
        "\n",
        "        self.atom_encoder = AtomEncoder(self.nhid)\n",
        "        self.convs = self.get_convs()\n",
        "\n",
        "    def forward(self, data):\n",
        "\n",
        "        x, edge_index, edge_attr, batch = data.x, data.edge_index, data.edge_attr, data.batch\n",
        "\n",
        "        x = self.atom_encoder(x)\n",
        "\n",
        "        # For Graph Convolution Network\n",
        "        xs = []\n",
        "\n",
        "        for _ in range(self.args.num_convs):\n",
        "\n",
        "            x = F.relu(self.convs[_](x, edge_index, edge_attr))\n",
        "            xs.append(x)\n",
        "\n",
        "        # For jumping knowledge scheme\n",
        "        x = torch.cat(xs, dim=1)\n",
        "\n",
        "        # For Graph Multiset Transformer\n",
        "        for _index, _model_str in enumerate(self.model_sequence):\n",
        "\n",
        "            if _index == 0:\n",
        "\n",
        "                batch_x, mask = to_dense_batch(x, batch)\n",
        "\n",
        "                extended_attention_mask = mask.unsqueeze(1)\n",
        "                extended_attention_mask = extended_attention_mask.to(dtype=next(self.parameters()).dtype)\n",
        "                extended_attention_mask = (1.0 - extended_attention_mask) * -1e9\n",
        "\n",
        "            if _model_str == 'GMPool_G':\n",
        "\n",
        "                batch_x = self.pools[_index](batch_x, attention_mask=extended_attention_mask, graph=(x, edge_index, batch))\n",
        "\n",
        "            else:\n",
        "\n",
        "                batch_x = self.pools[_index](batch_x, attention_mask=extended_attention_mask)\n",
        "\n",
        "            extended_attention_mask = None\n",
        "\n",
        "        batch_x = self.pools[len(self.model_sequence)](batch_x)\n",
        "        x = batch_x.squeeze(1)\n",
        "\n",
        "        # For Classification\n",
        "        x = self.classifier(x)\n",
        "\n",
        "        return x\n",
        "\n",
        "    def get_convs(self):\n",
        "\n",
        "        convs = nn.ModuleList()\n",
        "\n",
        "        for _ in range(self.args.num_convs):\n",
        "\n",
        "            if self.args.conv == 'GCN':\n",
        "\n",
        "                conv = GCNConv_for_OGB(self.nhid)\n",
        "\n",
        "            elif self.args.conv == 'GIN':\n",
        "\n",
        "                conv = GINConv_for_OGB(self.nhid)\n",
        "\n",
        "            convs.append(conv)\n",
        "\n",
        "        return convs"
      ]
    },
    {
      "cell_type": "code",
      "source": [
        "import torch\n",
        "from torch_geometric.nn import MessagePassing\n",
        "import torch.nn.functional as F\n",
        "from torch_geometric.nn.inits import uniform\n",
        "\n",
        "from torch_scatter import scatter_mean\n",
        "\n",
        "\n",
        "class NNDecoder(torch.nn.Module):\n",
        "    def __init__(self, num_tasks, emb_dim, graph_pooling = \"mean\"):\n",
        "        super().__init__()\n",
        "        self.linear = torch.nn.Linear(emb_dim, num_tasks)\n",
        "\n",
        "    def forward(self, node_rep):\n",
        "      ## (~2-3 lines of code)\n",
        "      output = self.linear(node_rep[:,0,:])\n",
        "      return output\n"
      ],
      "metadata": {
        "id": "mDkdZXEpYUNu"
      },
      "execution_count": 43,
      "outputs": []
    },
    {
      "cell_type": "code",
      "source": [
        "import matplotlib.pyplot as plt\n",
        "\n",
        "def plot_training_metrics(losses, val_metrics, test_metrics, epoch_times):\n",
        "    \"\"\"\n",
        "    Plot training loss, validation metric, and test metric over epochs.\n",
        "\n",
        "    Parameters:\n",
        "    - losses: List of training losses for each epoch.\n",
        "    - val_metrics: List of validation metrics for each epoch.\n",
        "    - test_metrics: List of test metrics for each epoch.\n",
        "    \"\"\"\n",
        "    epochs = range(1, len(losses) + 1)\n",
        "\n",
        "    # Plotting training loss\n",
        "    plt.figure(figsize=(12, 5))\n",
        "    plt.subplot(1, 3, 1)\n",
        "    plt.plot(epochs, losses, label='Training Loss', marker='o')\n",
        "    plt.title('Training Loss vs. Epochs')\n",
        "    plt.xlabel('Epochs')\n",
        "    plt.ylabel('Loss')\n",
        "    plt.legend()\n",
        "\n",
        "    # Plotting validation and test metrics\n",
        "    plt.subplot(1, 3, 2)\n",
        "    plt.plot(epochs, val_metrics, label='Validation Metric', marker='o')\n",
        "    plt.plot(epochs, test_metrics, label='Test Metric', marker='o')\n",
        "    plt.title('Validation and Test Metrics vs. Epochs')\n",
        "    plt.xlabel('Epochs')\n",
        "    plt.ylabel('Metric')\n",
        "    plt.legend()\n",
        "\n",
        "    # Plotting time vs. epoch\n",
        "    plt.subplot(1, 3, 3)\n",
        "    plt.plot(epochs, epoch_times, label='Time per Epoch', marker='o', color='orange')\n",
        "    plt.title('Time vs. Epochs')\n",
        "    plt.xlabel('Epochs')\n",
        "    plt.ylabel('Time (seconds)')\n",
        "    plt.legend()\n",
        "\n",
        "    plt.tight_layout()\n",
        "    plt.show()\n",
        "\n",
        "# Example usage:\n",
        "# plot_training_metrics(training_losses, validation_metrics, test_metrics)"
      ],
      "metadata": {
        "id": "Y-RBmUreF5g6"
      },
      "execution_count": 48,
      "outputs": []
    },
    {
      "cell_type": "code",
      "source": [
        "# baseline GCNConv comparison\n",
        "def conv_OGB(dataset_name):\n",
        "  import os.path as osp\n",
        "  import time\n",
        "  from argparse import Namespace\n",
        "  import numpy as np\n",
        "\n",
        "  import torch\n",
        "  import torch.nn.functional as F\n",
        "  from torch.nn import Linear\n",
        "  from tqdm import tqdm\n",
        "\n",
        "  from torch_geometric.datasets import TUDataset\n",
        "  from torch_geometric.nn import GCNConv, GraphMultisetTransformer\n",
        "  from torch_geometric.datasets import MoleculeNet\n",
        "  from torch_geometric.nn import global_mean_pool\n",
        "  import torch_geometric\n",
        "  from torch.utils.data import Dataset, DataLoader, random_split\n",
        "  from torch_geometric.nn import global_mean_pool\n",
        "  from torch.autograd import Variable\n",
        "\n",
        "  path = '\\tmp\\ogb'\n",
        "  # dataset = MoleculeNet(path, dataset_name).shuffle()\n",
        "  ### Importing OGB dataset\n",
        "  from ogb.graphproppred.dataset_pyg import PygGraphPropPredDataset\n",
        "  from ogb.graphproppred import Evaluator\n",
        "\n",
        "  dataset = PygGraphPropPredDataset(name=dataset_name)\n",
        "  evaluator = Evaluator(dataset_name)\n",
        "  clf_criterion = torch.nn.BCEWithLogitsLoss()\n",
        "\n",
        "  num_classes = dataset.num_classes\n",
        "  num_features = dataset.num_features\n",
        "  num_tasks = dataset.num_tasks\n",
        "  hidden_channels = 32\n",
        "  task_type='classification'\n",
        "  # print(num_classes)\n",
        "\n",
        "  def collate(data_list):\n",
        "    batch = torch_geometric.data.Batch.from_data_list(data_list)\n",
        "    return batch\n",
        "\n",
        "  total_size = len(dataset)\n",
        "  train_size = int(0.8 * total_size)\n",
        "  test_size = (total_size - train_size) // 2\n",
        "  val_size = total_size - train_size - test_size\n",
        "\n",
        "  # Use random_split to split the dataset into train, test, and validation sets\n",
        "  train_dataset, test_dataset, val_dataset = random_split(dataset, [train_size, test_size, val_size])\n",
        "\n",
        "  train_loader = DataLoader(train_dataset, batch_size=128, shuffle=True, collate_fn=collate)\n",
        "  val_loader = DataLoader(val_dataset, batch_size=128, collate_fn=collate)\n",
        "  test_loader = DataLoader(test_dataset, batch_size=128, collate_fn=collate)\n",
        "\n",
        "  class NN(torch.nn.Module):\n",
        "      def __init__(self):\n",
        "          super().__init__()\n",
        "\n",
        "          self.conv1 = GCNConv(in_channels=num_features, out_channels=hidden_channels, normalize=True)\n",
        "          # was hidden, num_tasks\n",
        "          self.conv2 = GCNConv(in_channels=hidden_channels, out_channels=hidden_channels, normalize=True)\n",
        "          self.relu = torch.nn.ReLU()\n",
        "\n",
        "          # was 32, 16\n",
        "          self.lin1 = Linear(hidden_channels, num_tasks)\n",
        "          self.lin2 = Linear(16, num_tasks)\n",
        "\n",
        "      def forward(self, x0, edge_index, batch):\n",
        "          x = self.conv1(x0, edge_index)\n",
        "          x = self.relu(x)\n",
        "          x = self.conv2(x, edge_index)\n",
        "          x = self.lin1(x)\n",
        "          # global mean pool instead of GMT, along with other adjustments\n",
        "          output = global_mean_pool(x, batch)\n",
        "          # print('output size', output.size())\n",
        "          # output = output.detach().clone().requires_grad_(True)\n",
        "          # x = self.lin1(x)\n",
        "          # output = self.lin2(x)\n",
        "\n",
        "          return output\n",
        "\n",
        "\n",
        "  device = torch.device('cuda' if torch.cuda.is_available() else 'cpu')\n",
        "  model = NN().to(device)\n",
        "  decoder = NNDecoder(emb_dim = 32, num_tasks = dataset.num_tasks).to(device)\n",
        "  print(dataset.num_tasks)\n",
        "  optimizer = torch.optim.Adam(model.parameters(), lr=0.001, weight_decay=1e-4)\n",
        "\n",
        "  def train(loader):\n",
        "      model.train()\n",
        "\n",
        "      total_loss = 0\n",
        "\n",
        "      epoch_iter = tqdm(loader, ncols=0)\n",
        "      for step, batch in enumerate(epoch_iter):\n",
        "          batch = batch.to(device)\n",
        "          optimizer.zero_grad()\n",
        "          out = model(batch.x.float(), batch.edge_index, batch.batch)\n",
        "          is_labeled = ~torch.isnan(batch.y) # Mask NaNs\n",
        "          loss = clf_criterion(out.float()[is_labeled], batch.y.float()[is_labeled])\n",
        "          loss.backward()\n",
        "          # prevent exploding gradients if needed, uncomment\n",
        "          # torch.nn.utils.clip_grad_norm_(model.parameters(), max_norm=1.0)\n",
        "          total_loss += batch.num_graphs * float(loss)\n",
        "          optimizer.step()\n",
        "      print('loss returned:', total_loss / len(train_dataset))\n",
        "      return total_loss / len(train_dataset)\n",
        "\n",
        "\n",
        "  @torch.no_grad()\n",
        "  def test(loader):\n",
        "\n",
        "      model.eval()\n",
        "\n",
        "      y_true = []\n",
        "      y_pred = []\n",
        "\n",
        "      total_same = 0\n",
        "      epoch_iter = tqdm(loader, ncols=0)\n",
        "      for step, batch in enumerate(epoch_iter):\n",
        "          batch = batch.to(device)\n",
        "          out = model(batch.x.float(), batch.edge_index, batch.batch)\n",
        "          y_true.append(batch.y.view(out.shape).detach().cpu())\n",
        "          y_pred.append(out.detach().cpu())\n",
        "      y_true = torch.cat(y_true, dim = 0).numpy()\n",
        "      y_pred = torch.cat(y_pred, dim = 0).numpy()\n",
        "      input_dict = {\"y_true\": y_true, \"y_pred\": y_pred}\n",
        "\n",
        "      return evaluator.eval(input_dict)\n",
        "\n",
        "\n",
        "  times = []\n",
        "  training_losses = []\n",
        "  validation_metrics = []\n",
        "  test_metrics = []\n",
        "  for epoch in range(1, 201):\n",
        "      start = time.time()\n",
        "      train_loss = train(train_loader)\n",
        "      val_acc = test(val_loader)\n",
        "      test_acc = test(test_loader)\n",
        "      training_losses.append(train_loss)\n",
        "      validation_metrics.append(val_acc[dataset.eval_metric])\n",
        "      test_metrics.append(test_acc[dataset.eval_metric])\n",
        "      print(f'Epoch: {epoch:03d}, Loss: {train_loss:.4f}, '\n",
        "            f'Val Acc: {val_acc}, Test Acc: {test_acc}')\n",
        "      times.append(time.time() - start)\n",
        "  best_val_epoch = np.argmax(np.array(validation_metrics))\n",
        "  print(f\"Median time per epoch: {torch.tensor(times).median():.4f}s\")\n",
        "  plot_training_metrics(training_losses, validation_metrics, test_metrics, times)\n",
        "  print('Best Validation Metric: {}'.format(validation_metrics[best_val_epoch]))\n",
        "  print('Test Metric: {}'.format(test_metrics[best_val_epoch]))\n",
        "\n",
        "conv_OGB('ogbg-moltoxcast')\n",
        "conv_OGB('ogbg-molclintox')"
      ],
      "metadata": {
        "colab": {
          "base_uri": "https://localhost:8080/",
          "height": 1000
        },
        "id": "4ESTAIUl51Zd",
        "outputId": "83a6a017-8be2-43e1-c426-3fe7bbf38d16"
      },
      "execution_count": 55,
      "outputs": [
        {
          "output_type": "stream",
          "name": "stdout",
          "text": [
            "617\n"
          ]
        },
        {
          "output_type": "stream",
          "name": "stderr",
          "text": [
            "100% 54/54 [00:02<00:00, 21.56it/s]\n"
          ]
        },
        {
          "output_type": "stream",
          "name": "stdout",
          "text": [
            "loss returned: 0.44660798637929533\n"
          ]
        },
        {
          "output_type": "stream",
          "name": "stderr",
          "text": [
            "100% 7/7 [00:00<00:00, 32.27it/s]\n",
            "100% 7/7 [00:00<00:00, 34.14it/s]\n"
          ]
        },
        {
          "output_type": "stream",
          "name": "stdout",
          "text": [
            "Epoch: 001, Loss: 0.4466, Val Acc: {'rocauc': 0.4754325160986267}, Test Acc: {'rocauc': 0.5044796232439542}\n"
          ]
        },
        {
          "output_type": "stream",
          "name": "stderr",
          "text": [
            "100% 54/54 [00:01<00:00, 34.60it/s]\n"
          ]
        },
        {
          "output_type": "stream",
          "name": "stdout",
          "text": [
            "loss returned: 0.25030947138199655\n"
          ]
        },
        {
          "output_type": "stream",
          "name": "stderr",
          "text": [
            "100% 7/7 [00:00<00:00, 61.91it/s]\n",
            "100% 7/7 [00:00<00:00, 58.18it/s]\n"
          ]
        },
        {
          "output_type": "stream",
          "name": "stdout",
          "text": [
            "Epoch: 002, Loss: 0.2503, Val Acc: {'rocauc': 0.48193606363848246}, Test Acc: {'rocauc': 0.5088891864493598}\n"
          ]
        },
        {
          "output_type": "stream",
          "name": "stderr",
          "text": [
            "100% 54/54 [00:01<00:00, 27.10it/s]\n"
          ]
        },
        {
          "output_type": "stream",
          "name": "stdout",
          "text": [
            "loss returned: 0.24553726779476198\n"
          ]
        },
        {
          "output_type": "stream",
          "name": "stderr",
          "text": [
            "100% 7/7 [00:00<00:00, 56.79it/s]\n",
            "100% 7/7 [00:00<00:00, 65.42it/s]\n"
          ]
        },
        {
          "output_type": "stream",
          "name": "stdout",
          "text": [
            "Epoch: 003, Loss: 0.2455, Val Acc: {'rocauc': 0.48732077262519213}, Test Acc: {'rocauc': 0.5140537621124796}\n"
          ]
        },
        {
          "output_type": "stream",
          "name": "stderr",
          "text": [
            "100% 54/54 [00:01<00:00, 28.96it/s]\n"
          ]
        },
        {
          "output_type": "stream",
          "name": "stdout",
          "text": [
            "loss returned: 0.24420643533979144\n"
          ]
        },
        {
          "output_type": "stream",
          "name": "stderr",
          "text": [
            "100% 7/7 [00:00<00:00, 65.50it/s]\n",
            "100% 7/7 [00:00<00:00, 65.50it/s]\n"
          ]
        },
        {
          "output_type": "stream",
          "name": "stdout",
          "text": [
            "Epoch: 004, Loss: 0.2442, Val Acc: {'rocauc': 0.48921035205355107}, Test Acc: {'rocauc': 0.5201796299741897}\n"
          ]
        },
        {
          "output_type": "stream",
          "name": "stderr",
          "text": [
            "100% 54/54 [00:01<00:00, 34.76it/s]\n"
          ]
        },
        {
          "output_type": "stream",
          "name": "stdout",
          "text": [
            "loss returned: 0.24343095695485875\n"
          ]
        },
        {
          "output_type": "stream",
          "name": "stderr",
          "text": [
            "100% 7/7 [00:00<00:00, 52.74it/s]\n",
            "100% 7/7 [00:00<00:00, 60.83it/s]\n"
          ]
        },
        {
          "output_type": "stream",
          "name": "stdout",
          "text": [
            "Epoch: 005, Loss: 0.2434, Val Acc: {'rocauc': 0.4982497991926172}, Test Acc: {'rocauc': 0.5287151532113319}\n"
          ]
        },
        {
          "output_type": "stream",
          "name": "stderr",
          "text": [
            "100% 54/54 [00:02<00:00, 24.51it/s]\n"
          ]
        },
        {
          "output_type": "stream",
          "name": "stdout",
          "text": [
            "loss returned: 0.2426803992197743\n"
          ]
        },
        {
          "output_type": "stream",
          "name": "stderr",
          "text": [
            "100% 7/7 [00:00<00:00, 42.56it/s]\n",
            "100% 7/7 [00:00<00:00, 67.11it/s]\n"
          ]
        },
        {
          "output_type": "stream",
          "name": "stdout",
          "text": [
            "Epoch: 006, Loss: 0.2427, Val Acc: {'rocauc': 0.5078973702774825}, Test Acc: {'rocauc': 0.5334430942043782}\n"
          ]
        },
        {
          "output_type": "stream",
          "name": "stderr",
          "text": [
            "100% 54/54 [00:01<00:00, 34.28it/s]\n"
          ]
        },
        {
          "output_type": "stream",
          "name": "stdout",
          "text": [
            "loss returned: 0.24224974872767058\n"
          ]
        },
        {
          "output_type": "stream",
          "name": "stderr",
          "text": [
            "100% 7/7 [00:00<00:00, 63.85it/s]\n",
            "100% 7/7 [00:00<00:00, 66.46it/s]\n"
          ]
        },
        {
          "output_type": "stream",
          "name": "stdout",
          "text": [
            "Epoch: 007, Loss: 0.2422, Val Acc: {'rocauc': 0.5158356559396083}, Test Acc: {'rocauc': 0.5414082477285957}\n"
          ]
        },
        {
          "output_type": "stream",
          "name": "stderr",
          "text": [
            "100% 54/54 [00:01<00:00, 34.85it/s]\n"
          ]
        },
        {
          "output_type": "stream",
          "name": "stdout",
          "text": [
            "loss returned: 0.24084988603091448\n"
          ]
        },
        {
          "output_type": "stream",
          "name": "stderr",
          "text": [
            "100% 7/7 [00:00<00:00, 54.30it/s]\n",
            "100% 7/7 [00:00<00:00, 63.38it/s]\n"
          ]
        },
        {
          "output_type": "stream",
          "name": "stdout",
          "text": [
            "Epoch: 008, Loss: 0.2408, Val Acc: {'rocauc': 0.5206724661281046}, Test Acc: {'rocauc': 0.5441947153580298}\n"
          ]
        },
        {
          "output_type": "stream",
          "name": "stderr",
          "text": [
            "100% 54/54 [00:01<00:00, 34.35it/s]\n"
          ]
        },
        {
          "output_type": "stream",
          "name": "stdout",
          "text": [
            "loss returned: 0.24110466420824256\n"
          ]
        },
        {
          "output_type": "stream",
          "name": "stderr",
          "text": [
            "100% 7/7 [00:00<00:00, 52.36it/s]\n",
            "100% 7/7 [00:00<00:00, 46.58it/s]\n"
          ]
        },
        {
          "output_type": "stream",
          "name": "stdout",
          "text": [
            "Epoch: 009, Loss: 0.2411, Val Acc: {'rocauc': 0.5247872994758902}, Test Acc: {'rocauc': 0.5469772616864195}\n"
          ]
        },
        {
          "output_type": "stream",
          "name": "stderr",
          "text": [
            "100% 54/54 [00:01<00:00, 34.09it/s]\n"
          ]
        },
        {
          "output_type": "stream",
          "name": "stdout",
          "text": [
            "loss returned: 0.24047992569190768\n"
          ]
        },
        {
          "output_type": "stream",
          "name": "stderr",
          "text": [
            "100% 7/7 [00:00<00:00, 56.76it/s]\n",
            "100% 7/7 [00:00<00:00, 63.53it/s]\n"
          ]
        },
        {
          "output_type": "stream",
          "name": "stdout",
          "text": [
            "Epoch: 010, Loss: 0.2405, Val Acc: {'rocauc': 0.530888147348296}, Test Acc: {'rocauc': 0.5504081516127989}\n"
          ]
        },
        {
          "output_type": "stream",
          "name": "stderr",
          "text": [
            "100% 54/54 [00:01<00:00, 34.19it/s]\n"
          ]
        },
        {
          "output_type": "stream",
          "name": "stdout",
          "text": [
            "loss returned: 0.2403640217753263\n"
          ]
        },
        {
          "output_type": "stream",
          "name": "stderr",
          "text": [
            "100% 7/7 [00:00<00:00, 59.06it/s]\n",
            "100% 7/7 [00:00<00:00, 63.62it/s]\n"
          ]
        },
        {
          "output_type": "stream",
          "name": "stdout",
          "text": [
            "Epoch: 011, Loss: 0.2404, Val Acc: {'rocauc': 0.531358685618655}, Test Acc: {'rocauc': 0.5518662047460764}\n"
          ]
        },
        {
          "output_type": "stream",
          "name": "stderr",
          "text": [
            "100% 54/54 [00:01<00:00, 34.52it/s]\n"
          ]
        },
        {
          "output_type": "stream",
          "name": "stdout",
          "text": [
            "loss returned: 0.2401756319290695\n"
          ]
        },
        {
          "output_type": "stream",
          "name": "stderr",
          "text": [
            "100% 7/7 [00:00<00:00, 61.42it/s]\n",
            "100% 7/7 [00:00<00:00, 64.05it/s]\n"
          ]
        },
        {
          "output_type": "stream",
          "name": "stdout",
          "text": [
            "Epoch: 012, Loss: 0.2402, Val Acc: {'rocauc': 0.5338545975117708}, Test Acc: {'rocauc': 0.5534628110125367}\n"
          ]
        },
        {
          "output_type": "stream",
          "name": "stderr",
          "text": [
            "100% 54/54 [00:02<00:00, 25.30it/s]\n"
          ]
        },
        {
          "output_type": "stream",
          "name": "stdout",
          "text": [
            "loss returned: 0.24033678047163493\n"
          ]
        },
        {
          "output_type": "stream",
          "name": "stderr",
          "text": [
            "100% 7/7 [00:00<00:00, 63.52it/s]\n",
            "100% 7/7 [00:00<00:00, 68.15it/s]\n"
          ]
        },
        {
          "output_type": "stream",
          "name": "stdout",
          "text": [
            "Epoch: 013, Loss: 0.2403, Val Acc: {'rocauc': 0.5340211497916968}, Test Acc: {'rocauc': 0.5575138709460309}\n"
          ]
        },
        {
          "output_type": "stream",
          "name": "stderr",
          "text": [
            "100% 54/54 [00:01<00:00, 34.90it/s]\n"
          ]
        },
        {
          "output_type": "stream",
          "name": "stdout",
          "text": [
            "loss returned: 0.24041435299739894\n"
          ]
        },
        {
          "output_type": "stream",
          "name": "stderr",
          "text": [
            "100% 7/7 [00:00<00:00, 65.28it/s]\n",
            "100% 7/7 [00:00<00:00, 64.72it/s]\n"
          ]
        },
        {
          "output_type": "stream",
          "name": "stdout",
          "text": [
            "Epoch: 014, Loss: 0.2404, Val Acc: {'rocauc': 0.5382517617670574}, Test Acc: {'rocauc': 0.5578790822441818}\n"
          ]
        },
        {
          "output_type": "stream",
          "name": "stderr",
          "text": [
            "100% 54/54 [00:01<00:00, 34.33it/s]\n"
          ]
        },
        {
          "output_type": "stream",
          "name": "stdout",
          "text": [
            "loss returned: 0.24035826153379836\n"
          ]
        },
        {
          "output_type": "stream",
          "name": "stderr",
          "text": [
            "100% 7/7 [00:00<00:00, 62.65it/s]\n",
            "100% 7/7 [00:00<00:00, 65.41it/s]\n"
          ]
        },
        {
          "output_type": "stream",
          "name": "stdout",
          "text": [
            "Epoch: 015, Loss: 0.2404, Val Acc: {'rocauc': 0.5387157659357834}, Test Acc: {'rocauc': 0.5578269882396264}\n"
          ]
        },
        {
          "output_type": "stream",
          "name": "stderr",
          "text": [
            "100% 54/54 [00:01<00:00, 27.89it/s]\n"
          ]
        },
        {
          "output_type": "stream",
          "name": "stdout",
          "text": [
            "loss returned: 0.23979148056694788\n"
          ]
        },
        {
          "output_type": "stream",
          "name": "stderr",
          "text": [
            "100% 7/7 [00:00<00:00, 40.68it/s]\n",
            "100% 7/7 [00:00<00:00, 44.55it/s]\n"
          ]
        },
        {
          "output_type": "stream",
          "name": "stdout",
          "text": [
            "Epoch: 016, Loss: 0.2398, Val Acc: {'rocauc': 0.5412262624977419}, Test Acc: {'rocauc': 0.5655371659851369}\n"
          ]
        },
        {
          "output_type": "stream",
          "name": "stderr",
          "text": [
            "100% 54/54 [00:01<00:00, 34.79it/s]\n"
          ]
        },
        {
          "output_type": "stream",
          "name": "stdout",
          "text": [
            "loss returned: 0.23980511320923228\n"
          ]
        },
        {
          "output_type": "stream",
          "name": "stderr",
          "text": [
            "100% 7/7 [00:00<00:00, 57.43it/s]\n",
            "100% 7/7 [00:00<00:00, 66.60it/s]\n"
          ]
        },
        {
          "output_type": "stream",
          "name": "stdout",
          "text": [
            "Epoch: 017, Loss: 0.2398, Val Acc: {'rocauc': 0.5442564216407596}, Test Acc: {'rocauc': 0.5633556151079125}\n"
          ]
        },
        {
          "output_type": "stream",
          "name": "stderr",
          "text": [
            "100% 54/54 [00:01<00:00, 34.30it/s]\n"
          ]
        },
        {
          "output_type": "stream",
          "name": "stdout",
          "text": [
            "loss returned: 0.23951709503335092\n"
          ]
        },
        {
          "output_type": "stream",
          "name": "stderr",
          "text": [
            "100% 7/7 [00:00<00:00, 63.88it/s]\n",
            "100% 7/7 [00:00<00:00, 59.31it/s]\n"
          ]
        },
        {
          "output_type": "stream",
          "name": "stdout",
          "text": [
            "Epoch: 018, Loss: 0.2395, Val Acc: {'rocauc': 0.5448794318179866}, Test Acc: {'rocauc': 0.5656329098684791}\n"
          ]
        },
        {
          "output_type": "stream",
          "name": "stderr",
          "text": [
            "100% 54/54 [00:01<00:00, 34.04it/s]\n"
          ]
        },
        {
          "output_type": "stream",
          "name": "stdout",
          "text": [
            "loss returned: 0.23924012876634349\n"
          ]
        },
        {
          "output_type": "stream",
          "name": "stderr",
          "text": [
            "100% 7/7 [00:00<00:00, 57.62it/s]\n",
            "100% 7/7 [00:00<00:00, 40.20it/s]\n"
          ]
        },
        {
          "output_type": "stream",
          "name": "stdout",
          "text": [
            "Epoch: 019, Loss: 0.2392, Val Acc: {'rocauc': 0.543163330147372}, Test Acc: {'rocauc': 0.5657965252804896}\n"
          ]
        },
        {
          "output_type": "stream",
          "name": "stderr",
          "text": [
            "100% 54/54 [00:01<00:00, 29.78it/s]\n"
          ]
        },
        {
          "output_type": "stream",
          "name": "stdout",
          "text": [
            "loss returned: 0.2389745942531452\n"
          ]
        },
        {
          "output_type": "stream",
          "name": "stderr",
          "text": [
            "100% 7/7 [00:00<00:00, 62.47it/s]\n",
            "100% 7/7 [00:00<00:00, 63.45it/s]\n"
          ]
        },
        {
          "output_type": "stream",
          "name": "stdout",
          "text": [
            "Epoch: 020, Loss: 0.2390, Val Acc: {'rocauc': 0.544750670927673}, Test Acc: {'rocauc': 0.5680912161049674}\n"
          ]
        },
        {
          "output_type": "stream",
          "name": "stderr",
          "text": [
            "100% 54/54 [00:01<00:00, 33.97it/s]\n"
          ]
        },
        {
          "output_type": "stream",
          "name": "stdout",
          "text": [
            "loss returned: 0.23886446030946237\n"
          ]
        },
        {
          "output_type": "stream",
          "name": "stderr",
          "text": [
            "100% 7/7 [00:00<00:00, 59.62it/s]\n",
            "100% 7/7 [00:00<00:00, 61.98it/s]\n"
          ]
        },
        {
          "output_type": "stream",
          "name": "stdout",
          "text": [
            "Epoch: 021, Loss: 0.2389, Val Acc: {'rocauc': 0.5440568661629318}, Test Acc: {'rocauc': 0.5685120471881652}\n"
          ]
        },
        {
          "output_type": "stream",
          "name": "stderr",
          "text": [
            "100% 54/54 [00:01<00:00, 34.21it/s]\n"
          ]
        },
        {
          "output_type": "stream",
          "name": "stdout",
          "text": [
            "loss returned: 0.23886193337662923\n"
          ]
        },
        {
          "output_type": "stream",
          "name": "stderr",
          "text": [
            "100% 7/7 [00:00<00:00, 62.90it/s]\n",
            "100% 7/7 [00:00<00:00, 64.95it/s]\n"
          ]
        },
        {
          "output_type": "stream",
          "name": "stdout",
          "text": [
            "Epoch: 022, Loss: 0.2389, Val Acc: {'rocauc': 0.5455300478620215}, Test Acc: {'rocauc': 0.5699323877095454}\n"
          ]
        },
        {
          "output_type": "stream",
          "name": "stderr",
          "text": [
            "100% 54/54 [00:02<00:00, 23.17it/s]\n"
          ]
        },
        {
          "output_type": "stream",
          "name": "stdout",
          "text": [
            "loss returned: 0.2388880061425551\n"
          ]
        },
        {
          "output_type": "stream",
          "name": "stderr",
          "text": [
            "100% 7/7 [00:00<00:00, 42.04it/s]\n",
            "100% 7/7 [00:00<00:00, 65.34it/s]\n"
          ]
        },
        {
          "output_type": "stream",
          "name": "stdout",
          "text": [
            "Epoch: 023, Loss: 0.2389, Val Acc: {'rocauc': 0.5502902440891219}, Test Acc: {'rocauc': 0.5719223099247795}\n"
          ]
        },
        {
          "output_type": "stream",
          "name": "stderr",
          "text": [
            "100% 54/54 [00:01<00:00, 34.07it/s]\n"
          ]
        },
        {
          "output_type": "stream",
          "name": "stdout",
          "text": [
            "loss returned: 0.23884303241359944\n"
          ]
        },
        {
          "output_type": "stream",
          "name": "stderr",
          "text": [
            "100% 7/7 [00:00<00:00, 56.87it/s]\n",
            "100% 7/7 [00:00<00:00, 54.21it/s]\n"
          ]
        },
        {
          "output_type": "stream",
          "name": "stdout",
          "text": [
            "Epoch: 024, Loss: 0.2388, Val Acc: {'rocauc': 0.553873899570557}, Test Acc: {'rocauc': 0.571217897287285}\n"
          ]
        },
        {
          "output_type": "stream",
          "name": "stderr",
          "text": [
            "100% 54/54 [00:01<00:00, 33.98it/s]\n"
          ]
        },
        {
          "output_type": "stream",
          "name": "stdout",
          "text": [
            "loss returned: 0.23849728665268455\n"
          ]
        },
        {
          "output_type": "stream",
          "name": "stderr",
          "text": [
            "100% 7/7 [00:00<00:00, 62.78it/s]\n",
            "100% 7/7 [00:00<00:00, 64.43it/s]\n"
          ]
        },
        {
          "output_type": "stream",
          "name": "stdout",
          "text": [
            "Epoch: 025, Loss: 0.2385, Val Acc: {'rocauc': 0.5531772601951624}, Test Acc: {'rocauc': 0.5720394232387322}\n"
          ]
        },
        {
          "output_type": "stream",
          "name": "stderr",
          "text": [
            "100% 54/54 [00:01<00:00, 31.25it/s]\n"
          ]
        },
        {
          "output_type": "stream",
          "name": "stdout",
          "text": [
            "loss returned: 0.23833983515337676\n"
          ]
        },
        {
          "output_type": "stream",
          "name": "stderr",
          "text": [
            "100% 7/7 [00:00<00:00, 41.71it/s]\n",
            "100% 7/7 [00:00<00:00, 43.20it/s]\n"
          ]
        },
        {
          "output_type": "stream",
          "name": "stdout",
          "text": [
            "Epoch: 026, Loss: 0.2383, Val Acc: {'rocauc': 0.5559275849785843}, Test Acc: {'rocauc': 0.5743227966218583}\n"
          ]
        },
        {
          "output_type": "stream",
          "name": "stderr",
          "text": [
            "100% 54/54 [00:01<00:00, 34.03it/s]\n"
          ]
        },
        {
          "output_type": "stream",
          "name": "stdout",
          "text": [
            "loss returned: 0.2379222162089612\n"
          ]
        },
        {
          "output_type": "stream",
          "name": "stderr",
          "text": [
            "100% 7/7 [00:00<00:00, 62.33it/s]\n",
            "100% 7/7 [00:00<00:00, 64.14it/s]\n"
          ]
        },
        {
          "output_type": "stream",
          "name": "stdout",
          "text": [
            "Epoch: 027, Loss: 0.2379, Val Acc: {'rocauc': 0.5571392568693846}, Test Acc: {'rocauc': 0.5758449912351373}\n"
          ]
        },
        {
          "output_type": "stream",
          "name": "stderr",
          "text": [
            "100% 54/54 [00:01<00:00, 33.94it/s]\n"
          ]
        },
        {
          "output_type": "stream",
          "name": "stdout",
          "text": [
            "loss returned: 0.23815053072337158\n"
          ]
        },
        {
          "output_type": "stream",
          "name": "stderr",
          "text": [
            "100% 7/7 [00:00<00:00, 65.59it/s]\n",
            "100% 7/7 [00:00<00:00, 65.42it/s]\n"
          ]
        },
        {
          "output_type": "stream",
          "name": "stdout",
          "text": [
            "Epoch: 028, Loss: 0.2382, Val Acc: {'rocauc': 0.5574063151272006}, Test Acc: {'rocauc': 0.576831589927141}\n"
          ]
        },
        {
          "output_type": "stream",
          "name": "stderr",
          "text": [
            "100% 54/54 [00:01<00:00, 34.25it/s]\n"
          ]
        },
        {
          "output_type": "stream",
          "name": "stdout",
          "text": [
            "loss returned: 0.23800105293533894\n"
          ]
        },
        {
          "output_type": "stream",
          "name": "stderr",
          "text": [
            "100% 7/7 [00:00<00:00, 56.70it/s]\n",
            "100% 7/7 [00:00<00:00, 57.30it/s]\n"
          ]
        },
        {
          "output_type": "stream",
          "name": "stdout",
          "text": [
            "Epoch: 029, Loss: 0.2380, Val Acc: {'rocauc': 0.56134687146777}, Test Acc: {'rocauc': 0.5803281990123483}\n"
          ]
        },
        {
          "output_type": "stream",
          "name": "stderr",
          "text": [
            "100% 54/54 [00:02<00:00, 26.99it/s]\n"
          ]
        },
        {
          "output_type": "stream",
          "name": "stdout",
          "text": [
            "loss returned: 0.23753837630283034\n"
          ]
        },
        {
          "output_type": "stream",
          "name": "stderr",
          "text": [
            "100% 7/7 [00:00<00:00, 58.91it/s]\n",
            "100% 7/7 [00:00<00:00, 61.70it/s]\n"
          ]
        },
        {
          "output_type": "stream",
          "name": "stdout",
          "text": [
            "Epoch: 030, Loss: 0.2375, Val Acc: {'rocauc': 0.5622367714639502}, Test Acc: {'rocauc': 0.5801930111567813}\n"
          ]
        },
        {
          "output_type": "stream",
          "name": "stderr",
          "text": [
            "100% 54/54 [00:01<00:00, 33.67it/s]\n"
          ]
        },
        {
          "output_type": "stream",
          "name": "stdout",
          "text": [
            "loss returned: 0.2379813145444275\n"
          ]
        },
        {
          "output_type": "stream",
          "name": "stderr",
          "text": [
            "100% 7/7 [00:00<00:00, 61.04it/s]\n",
            "100% 7/7 [00:00<00:00, 62.09it/s]\n"
          ]
        },
        {
          "output_type": "stream",
          "name": "stdout",
          "text": [
            "Epoch: 031, Loss: 0.2380, Val Acc: {'rocauc': 0.5679999557617708}, Test Acc: {'rocauc': 0.5818537233682401}\n"
          ]
        },
        {
          "output_type": "stream",
          "name": "stderr",
          "text": [
            "100% 54/54 [00:01<00:00, 34.23it/s]\n"
          ]
        },
        {
          "output_type": "stream",
          "name": "stdout",
          "text": [
            "loss returned: 0.23731963945547277\n"
          ]
        },
        {
          "output_type": "stream",
          "name": "stderr",
          "text": [
            "100% 7/7 [00:00<00:00, 53.97it/s]\n",
            "100% 7/7 [00:00<00:00, 63.02it/s]\n"
          ]
        },
        {
          "output_type": "stream",
          "name": "stdout",
          "text": [
            "Epoch: 032, Loss: 0.2373, Val Acc: {'rocauc': 0.569405820849073}, Test Acc: {'rocauc': 0.5824279976955381}\n"
          ]
        },
        {
          "output_type": "stream",
          "name": "stderr",
          "text": [
            "100% 54/54 [00:02<00:00, 25.38it/s]\n"
          ]
        },
        {
          "output_type": "stream",
          "name": "stdout",
          "text": [
            "loss returned: 0.23767361388957187\n"
          ]
        },
        {
          "output_type": "stream",
          "name": "stderr",
          "text": [
            "100% 7/7 [00:00<00:00, 44.98it/s]\n",
            "100% 7/7 [00:00<00:00, 18.06it/s]\n"
          ]
        },
        {
          "output_type": "stream",
          "name": "stdout",
          "text": [
            "Epoch: 033, Loss: 0.2377, Val Acc: {'rocauc': 0.5693593800997658}, Test Acc: {'rocauc': 0.5836081436566997}\n"
          ]
        },
        {
          "output_type": "stream",
          "name": "stderr",
          "text": [
            "100% 54/54 [00:01<00:00, 34.53it/s]\n"
          ]
        },
        {
          "output_type": "stream",
          "name": "stdout",
          "text": [
            "loss returned: 0.23714497277062419\n"
          ]
        },
        {
          "output_type": "stream",
          "name": "stderr",
          "text": [
            "100% 7/7 [00:00<00:00, 57.24it/s]\n",
            "100% 7/7 [00:00<00:00, 57.92it/s]\n"
          ]
        },
        {
          "output_type": "stream",
          "name": "stdout",
          "text": [
            "Epoch: 034, Loss: 0.2371, Val Acc: {'rocauc': 0.5743806988697056}, Test Acc: {'rocauc': 0.5866344932941145}\n"
          ]
        },
        {
          "output_type": "stream",
          "name": "stderr",
          "text": [
            "100% 54/54 [00:01<00:00, 33.81it/s]\n"
          ]
        },
        {
          "output_type": "stream",
          "name": "stdout",
          "text": [
            "loss returned: 0.23692352773496778\n"
          ]
        },
        {
          "output_type": "stream",
          "name": "stderr",
          "text": [
            "100% 7/7 [00:00<00:00, 61.32it/s]\n",
            "100% 7/7 [00:00<00:00, 65.97it/s]\n"
          ]
        },
        {
          "output_type": "stream",
          "name": "stdout",
          "text": [
            "Epoch: 035, Loss: 0.2369, Val Acc: {'rocauc': 0.5764077350855349}, Test Acc: {'rocauc': 0.5845746369530747}\n"
          ]
        },
        {
          "output_type": "stream",
          "name": "stderr",
          "text": [
            "100% 54/54 [00:01<00:00, 32.24it/s]\n"
          ]
        },
        {
          "output_type": "stream",
          "name": "stdout",
          "text": [
            "loss returned: 0.2370495181302635\n"
          ]
        },
        {
          "output_type": "stream",
          "name": "stderr",
          "text": [
            "100% 7/7 [00:00<00:00, 42.11it/s]\n",
            "100% 7/7 [00:00<00:00, 40.33it/s]\n"
          ]
        },
        {
          "output_type": "stream",
          "name": "stdout",
          "text": [
            "Epoch: 036, Loss: 0.2370, Val Acc: {'rocauc': 0.5772146002896745}, Test Acc: {'rocauc': 0.5884850121672361}\n"
          ]
        },
        {
          "output_type": "stream",
          "name": "stderr",
          "text": [
            "100% 54/54 [00:01<00:00, 33.78it/s]\n"
          ]
        },
        {
          "output_type": "stream",
          "name": "stdout",
          "text": [
            "loss returned: 0.23725775000652835\n"
          ]
        },
        {
          "output_type": "stream",
          "name": "stderr",
          "text": [
            "100% 7/7 [00:00<00:00, 60.10it/s]\n",
            "100% 7/7 [00:00<00:00, 61.49it/s]\n"
          ]
        },
        {
          "output_type": "stream",
          "name": "stdout",
          "text": [
            "Epoch: 037, Loss: 0.2373, Val Acc: {'rocauc': 0.5786327834086973}, Test Acc: {'rocauc': 0.5885327945406785}\n"
          ]
        },
        {
          "output_type": "stream",
          "name": "stderr",
          "text": [
            "100% 54/54 [00:01<00:00, 33.28it/s]\n"
          ]
        },
        {
          "output_type": "stream",
          "name": "stdout",
          "text": [
            "loss returned: 0.2372265208827511\n"
          ]
        },
        {
          "output_type": "stream",
          "name": "stderr",
          "text": [
            "100% 7/7 [00:00<00:00, 61.74it/s]\n",
            "100% 7/7 [00:00<00:00, 65.49it/s]\n"
          ]
        },
        {
          "output_type": "stream",
          "name": "stdout",
          "text": [
            "Epoch: 038, Loss: 0.2372, Val Acc: {'rocauc': 0.5823070893440101}, Test Acc: {'rocauc': 0.5883693608675595}\n"
          ]
        },
        {
          "output_type": "stream",
          "name": "stderr",
          "text": [
            "100% 54/54 [00:01<00:00, 33.84it/s]\n"
          ]
        },
        {
          "output_type": "stream",
          "name": "stdout",
          "text": [
            "loss returned: 0.2368806413850006\n"
          ]
        },
        {
          "output_type": "stream",
          "name": "stderr",
          "text": [
            "100% 7/7 [00:00<00:00, 58.53it/s]\n",
            "100% 7/7 [00:00<00:00, 44.16it/s]\n"
          ]
        },
        {
          "output_type": "stream",
          "name": "stdout",
          "text": [
            "Epoch: 039, Loss: 0.2369, Val Acc: {'rocauc': 0.5849553533921081}, Test Acc: {'rocauc': 0.591112345680383}\n"
          ]
        },
        {
          "output_type": "stream",
          "name": "stderr",
          "text": [
            "100% 54/54 [00:01<00:00, 27.50it/s]\n"
          ]
        },
        {
          "output_type": "stream",
          "name": "stdout",
          "text": [
            "loss returned: 0.23681561562827308\n"
          ]
        },
        {
          "output_type": "stream",
          "name": "stderr",
          "text": [
            "100% 7/7 [00:00<00:00, 62.40it/s]\n",
            "100% 7/7 [00:00<00:00, 65.72it/s]\n"
          ]
        },
        {
          "output_type": "stream",
          "name": "stdout",
          "text": [
            "Epoch: 040, Loss: 0.2368, Val Acc: {'rocauc': 0.5861408755780954}, Test Acc: {'rocauc': 0.5916510584193801}\n"
          ]
        },
        {
          "output_type": "stream",
          "name": "stderr",
          "text": [
            "100% 54/54 [00:01<00:00, 33.94it/s]\n"
          ]
        },
        {
          "output_type": "stream",
          "name": "stdout",
          "text": [
            "loss returned: 0.2367138810129972\n"
          ]
        },
        {
          "output_type": "stream",
          "name": "stderr",
          "text": [
            "100% 7/7 [00:00<00:00, 57.79it/s]\n",
            "100% 7/7 [00:00<00:00, 61.04it/s]\n"
          ]
        },
        {
          "output_type": "stream",
          "name": "stdout",
          "text": [
            "Epoch: 041, Loss: 0.2367, Val Acc: {'rocauc': 0.5872255382915291}, Test Acc: {'rocauc': 0.5901456144681405}\n"
          ]
        },
        {
          "output_type": "stream",
          "name": "stderr",
          "text": [
            "100% 54/54 [00:01<00:00, 33.69it/s]\n"
          ]
        },
        {
          "output_type": "stream",
          "name": "stdout",
          "text": [
            "loss returned: 0.23689485550274306\n"
          ]
        },
        {
          "output_type": "stream",
          "name": "stderr",
          "text": [
            "100% 7/7 [00:00<00:00, 60.21it/s]\n",
            "100% 7/7 [00:00<00:00, 62.56it/s]\n"
          ]
        },
        {
          "output_type": "stream",
          "name": "stdout",
          "text": [
            "Epoch: 042, Loss: 0.2369, Val Acc: {'rocauc': 0.5859596061061613}, Test Acc: {'rocauc': 0.5910703536534805}\n"
          ]
        },
        {
          "output_type": "stream",
          "name": "stderr",
          "text": [
            "100% 54/54 [00:02<00:00, 24.23it/s]\n"
          ]
        },
        {
          "output_type": "stream",
          "name": "stdout",
          "text": [
            "loss returned: 0.23634007009229577\n"
          ]
        },
        {
          "output_type": "stream",
          "name": "stderr",
          "text": [
            "100% 7/7 [00:00<00:00, 37.69it/s]\n",
            "100% 7/7 [00:00<00:00, 64.42it/s]\n"
          ]
        },
        {
          "output_type": "stream",
          "name": "stdout",
          "text": [
            "Epoch: 043, Loss: 0.2363, Val Acc: {'rocauc': 0.5881939625251968}, Test Acc: {'rocauc': 0.5912116297421764}\n"
          ]
        },
        {
          "output_type": "stream",
          "name": "stderr",
          "text": [
            "100% 54/54 [00:01<00:00, 32.49it/s]\n"
          ]
        },
        {
          "output_type": "stream",
          "name": "stdout",
          "text": [
            "loss returned: 0.23577570770120482\n"
          ]
        },
        {
          "output_type": "stream",
          "name": "stderr",
          "text": [
            "100% 7/7 [00:00<00:00, 61.87it/s]\n",
            "100% 7/7 [00:00<00:00, 62.31it/s]\n"
          ]
        },
        {
          "output_type": "stream",
          "name": "stdout",
          "text": [
            "Epoch: 044, Loss: 0.2358, Val Acc: {'rocauc': 0.5928709552504994}, Test Acc: {'rocauc': 0.5932025080443745}\n"
          ]
        },
        {
          "output_type": "stream",
          "name": "stderr",
          "text": [
            "100% 54/54 [00:01<00:00, 32.14it/s]\n"
          ]
        },
        {
          "output_type": "stream",
          "name": "stdout",
          "text": [
            "loss returned: 0.2360945685090546\n"
          ]
        },
        {
          "output_type": "stream",
          "name": "stderr",
          "text": [
            "100% 7/7 [00:00<00:00, 56.04it/s]\n",
            "100% 7/7 [00:00<00:00, 64.56it/s]\n"
          ]
        },
        {
          "output_type": "stream",
          "name": "stdout",
          "text": [
            "Epoch: 045, Loss: 0.2361, Val Acc: {'rocauc': 0.5907785265892691}, Test Acc: {'rocauc': 0.5922573324502122}\n"
          ]
        },
        {
          "output_type": "stream",
          "name": "stderr",
          "text": [
            "100% 54/54 [00:01<00:00, 29.16it/s]\n"
          ]
        },
        {
          "output_type": "stream",
          "name": "stdout",
          "text": [
            "loss returned: 0.23624834936144748\n"
          ]
        },
        {
          "output_type": "stream",
          "name": "stderr",
          "text": [
            "100% 7/7 [00:00<00:00, 42.86it/s]\n",
            "100% 7/7 [00:00<00:00, 40.29it/s]\n"
          ]
        },
        {
          "output_type": "stream",
          "name": "stdout",
          "text": [
            "Epoch: 046, Loss: 0.2362, Val Acc: {'rocauc': 0.5941596004552019}, Test Acc: {'rocauc': 0.5938454910331226}\n"
          ]
        },
        {
          "output_type": "stream",
          "name": "stderr",
          "text": [
            "100% 54/54 [00:01<00:00, 29.39it/s]\n"
          ]
        },
        {
          "output_type": "stream",
          "name": "stdout",
          "text": [
            "loss returned: 0.23682597019755805\n"
          ]
        },
        {
          "output_type": "stream",
          "name": "stderr",
          "text": [
            "100% 7/7 [00:00<00:00, 55.27it/s]\n",
            "100% 7/7 [00:00<00:00, 61.96it/s]\n"
          ]
        },
        {
          "output_type": "stream",
          "name": "stdout",
          "text": [
            "Epoch: 047, Loss: 0.2368, Val Acc: {'rocauc': 0.5931940689666055}, Test Acc: {'rocauc': 0.5941489625837167}\n"
          ]
        },
        {
          "output_type": "stream",
          "name": "stderr",
          "text": [
            "100% 54/54 [00:01<00:00, 28.09it/s]\n"
          ]
        },
        {
          "output_type": "stream",
          "name": "stdout",
          "text": [
            "loss returned: 0.23612805427684727\n"
          ]
        },
        {
          "output_type": "stream",
          "name": "stderr",
          "text": [
            "100% 7/7 [00:00<00:00, 57.92it/s]\n",
            "100% 7/7 [00:00<00:00, 61.56it/s]\n"
          ]
        },
        {
          "output_type": "stream",
          "name": "stdout",
          "text": [
            "Epoch: 048, Loss: 0.2361, Val Acc: {'rocauc': 0.5920616945811316}, Test Acc: {'rocauc': 0.5937504358515885}\n"
          ]
        },
        {
          "output_type": "stream",
          "name": "stderr",
          "text": [
            "100% 54/54 [00:01<00:00, 29.33it/s]\n"
          ]
        },
        {
          "output_type": "stream",
          "name": "stdout",
          "text": [
            "loss returned: 0.2366639981464464\n"
          ]
        },
        {
          "output_type": "stream",
          "name": "stderr",
          "text": [
            "100% 7/7 [00:00<00:00, 56.43it/s]\n",
            "100% 7/7 [00:00<00:00, 42.55it/s]\n"
          ]
        },
        {
          "output_type": "stream",
          "name": "stdout",
          "text": [
            "Epoch: 049, Loss: 0.2367, Val Acc: {'rocauc': 0.5946416029185597}, Test Acc: {'rocauc': 0.5942253823078995}\n"
          ]
        },
        {
          "output_type": "stream",
          "name": "stderr",
          "text": [
            "100% 54/54 [00:01<00:00, 30.50it/s]\n"
          ]
        },
        {
          "output_type": "stream",
          "name": "stdout",
          "text": [
            "loss returned: 0.23659315646216056\n"
          ]
        },
        {
          "output_type": "stream",
          "name": "stderr",
          "text": [
            "100% 7/7 [00:00<00:00, 58.60it/s]\n",
            "100% 7/7 [00:00<00:00, 61.93it/s]\n"
          ]
        },
        {
          "output_type": "stream",
          "name": "stdout",
          "text": [
            "Epoch: 050, Loss: 0.2366, Val Acc: {'rocauc': 0.5950167922090156}, Test Acc: {'rocauc': 0.593293537745796}\n"
          ]
        },
        {
          "output_type": "stream",
          "name": "stderr",
          "text": [
            "100% 54/54 [00:01<00:00, 28.43it/s]\n"
          ]
        },
        {
          "output_type": "stream",
          "name": "stdout",
          "text": [
            "loss returned: 0.23638640868072955\n"
          ]
        },
        {
          "output_type": "stream",
          "name": "stderr",
          "text": [
            "100% 7/7 [00:00<00:00, 58.97it/s]\n",
            "100% 7/7 [00:00<00:00, 61.60it/s]\n"
          ]
        },
        {
          "output_type": "stream",
          "name": "stdout",
          "text": [
            "Epoch: 051, Loss: 0.2364, Val Acc: {'rocauc': 0.5957877371973607}, Test Acc: {'rocauc': 0.5934895575038479}\n"
          ]
        },
        {
          "output_type": "stream",
          "name": "stderr",
          "text": [
            "100% 54/54 [00:01<00:00, 28.42it/s]\n"
          ]
        },
        {
          "output_type": "stream",
          "name": "stdout",
          "text": [
            "loss returned: 0.23617450773889748\n"
          ]
        },
        {
          "output_type": "stream",
          "name": "stderr",
          "text": [
            "100% 7/7 [00:00<00:00, 62.99it/s]\n",
            "100% 7/7 [00:00<00:00, 39.24it/s]\n"
          ]
        },
        {
          "output_type": "stream",
          "name": "stdout",
          "text": [
            "Epoch: 052, Loss: 0.2362, Val Acc: {'rocauc': 0.5974680835020356}, Test Acc: {'rocauc': 0.5945111464027087}\n"
          ]
        },
        {
          "output_type": "stream",
          "name": "stderr",
          "text": [
            "100% 54/54 [00:02<00:00, 24.10it/s]\n"
          ]
        },
        {
          "output_type": "stream",
          "name": "stdout",
          "text": [
            "loss returned: 0.23649478150699993\n"
          ]
        },
        {
          "output_type": "stream",
          "name": "stderr",
          "text": [
            "100% 7/7 [00:00<00:00, 62.24it/s]\n",
            "100% 7/7 [00:00<00:00, 54.08it/s]\n"
          ]
        },
        {
          "output_type": "stream",
          "name": "stdout",
          "text": [
            "Epoch: 053, Loss: 0.2365, Val Acc: {'rocauc': 0.5978687577413254}, Test Acc: {'rocauc': 0.5950509799229422}\n"
          ]
        },
        {
          "output_type": "stream",
          "name": "stderr",
          "text": [
            "100% 54/54 [00:02<00:00, 24.91it/s]\n"
          ]
        },
        {
          "output_type": "stream",
          "name": "stdout",
          "text": [
            "loss returned: 0.2364045876108175\n"
          ]
        },
        {
          "output_type": "stream",
          "name": "stderr",
          "text": [
            "100% 7/7 [00:00<00:00, 55.72it/s]\n",
            "100% 7/7 [00:00<00:00, 57.83it/s]\n"
          ]
        },
        {
          "output_type": "stream",
          "name": "stdout",
          "text": [
            "Epoch: 054, Loss: 0.2364, Val Acc: {'rocauc': 0.598600156166037}, Test Acc: {'rocauc': 0.5957083274862919}\n"
          ]
        },
        {
          "output_type": "stream",
          "name": "stderr",
          "text": [
            "100% 54/54 [00:02<00:00, 24.03it/s]\n"
          ]
        },
        {
          "output_type": "stream",
          "name": "stdout",
          "text": [
            "loss returned: 0.23602769972631604\n"
          ]
        },
        {
          "output_type": "stream",
          "name": "stderr",
          "text": [
            "100% 7/7 [00:00<00:00, 54.51it/s]\n",
            "100% 7/7 [00:00<00:00, 45.59it/s]\n"
          ]
        },
        {
          "output_type": "stream",
          "name": "stdout",
          "text": [
            "Epoch: 055, Loss: 0.2360, Val Acc: {'rocauc': 0.5982667621810378}, Test Acc: {'rocauc': 0.5952727100457788}\n"
          ]
        },
        {
          "output_type": "stream",
          "name": "stderr",
          "text": [
            "100% 54/54 [00:02<00:00, 23.75it/s]\n"
          ]
        },
        {
          "output_type": "stream",
          "name": "stdout",
          "text": [
            "loss returned: 0.23561194236702543\n"
          ]
        },
        {
          "output_type": "stream",
          "name": "stderr",
          "text": [
            "100% 7/7 [00:00<00:00, 53.56it/s]\n",
            "100% 7/7 [00:00<00:00, 61.19it/s]\n"
          ]
        },
        {
          "output_type": "stream",
          "name": "stdout",
          "text": [
            "Epoch: 056, Loss: 0.2356, Val Acc: {'rocauc': 0.6011445018789993}, Test Acc: {'rocauc': 0.5964407691676686}\n"
          ]
        },
        {
          "output_type": "stream",
          "name": "stderr",
          "text": [
            "100% 54/54 [00:02<00:00, 23.00it/s]\n"
          ]
        },
        {
          "output_type": "stream",
          "name": "stdout",
          "text": [
            "loss returned: 0.23616019437855257\n"
          ]
        },
        {
          "output_type": "stream",
          "name": "stderr",
          "text": [
            "100% 7/7 [00:00<00:00, 53.32it/s]\n",
            "100% 7/7 [00:00<00:00, 61.82it/s]\n"
          ]
        },
        {
          "output_type": "stream",
          "name": "stdout",
          "text": [
            "Epoch: 057, Loss: 0.2362, Val Acc: {'rocauc': 0.600722276873902}, Test Acc: {'rocauc': 0.5966481842034653}\n"
          ]
        },
        {
          "output_type": "stream",
          "name": "stderr",
          "text": [
            "100% 54/54 [00:02<00:00, 20.54it/s]\n"
          ]
        },
        {
          "output_type": "stream",
          "name": "stdout",
          "text": [
            "loss returned: 0.2358829759908487\n"
          ]
        },
        {
          "output_type": "stream",
          "name": "stderr",
          "text": [
            "100% 7/7 [00:00<00:00, 38.78it/s]\n",
            "100% 7/7 [00:00<00:00, 57.01it/s]\n"
          ]
        },
        {
          "output_type": "stream",
          "name": "stdout",
          "text": [
            "Epoch: 058, Loss: 0.2359, Val Acc: {'rocauc': 0.6014318096586359}, Test Acc: {'rocauc': 0.5974200418623228}\n"
          ]
        },
        {
          "output_type": "stream",
          "name": "stderr",
          "text": [
            "100% 54/54 [00:01<00:00, 28.11it/s]\n"
          ]
        },
        {
          "output_type": "stream",
          "name": "stdout",
          "text": [
            "loss returned: 0.23593464599753955\n"
          ]
        },
        {
          "output_type": "stream",
          "name": "stderr",
          "text": [
            "100% 7/7 [00:00<00:00, 56.79it/s]\n",
            "100% 7/7 [00:00<00:00, 63.07it/s]\n"
          ]
        },
        {
          "output_type": "stream",
          "name": "stdout",
          "text": [
            "Epoch: 059, Loss: 0.2359, Val Acc: {'rocauc': 0.6011067055271869}, Test Acc: {'rocauc': 0.5968590763340016}\n"
          ]
        },
        {
          "output_type": "stream",
          "name": "stderr",
          "text": [
            "100% 54/54 [00:01<00:00, 30.49it/s]\n"
          ]
        },
        {
          "output_type": "stream",
          "name": "stdout",
          "text": [
            "loss returned: 0.23598698070028434\n"
          ]
        },
        {
          "output_type": "stream",
          "name": "stderr",
          "text": [
            "100% 7/7 [00:00<00:00, 59.30it/s]\n",
            "100% 7/7 [00:00<00:00, 57.80it/s]\n"
          ]
        },
        {
          "output_type": "stream",
          "name": "stdout",
          "text": [
            "Epoch: 060, Loss: 0.2360, Val Acc: {'rocauc': 0.6014308216620974}, Test Acc: {'rocauc': 0.5975327199096973}\n"
          ]
        },
        {
          "output_type": "stream",
          "name": "stderr",
          "text": [
            "100% 54/54 [00:01<00:00, 29.00it/s]\n"
          ]
        },
        {
          "output_type": "stream",
          "name": "stdout",
          "text": [
            "loss returned: 0.23583295663313686\n"
          ]
        },
        {
          "output_type": "stream",
          "name": "stderr",
          "text": [
            "100% 7/7 [00:00<00:00, 43.08it/s]\n",
            "100% 7/7 [00:00<00:00, 41.15it/s]\n"
          ]
        },
        {
          "output_type": "stream",
          "name": "stdout",
          "text": [
            "Epoch: 061, Loss: 0.2358, Val Acc: {'rocauc': 0.6013695859388758}, Test Acc: {'rocauc': 0.5973842732418102}\n"
          ]
        },
        {
          "output_type": "stream",
          "name": "stderr",
          "text": [
            "100% 54/54 [00:01<00:00, 29.92it/s]\n"
          ]
        },
        {
          "output_type": "stream",
          "name": "stdout",
          "text": [
            "loss returned: 0.23538519694923313\n"
          ]
        },
        {
          "output_type": "stream",
          "name": "stderr",
          "text": [
            "100% 7/7 [00:00<00:00, 56.20it/s]\n",
            "100% 7/7 [00:00<00:00, 17.25it/s]\n"
          ]
        },
        {
          "output_type": "stream",
          "name": "stdout",
          "text": [
            "Epoch: 062, Loss: 0.2354, Val Acc: {'rocauc': 0.6019139731958515}, Test Acc: {'rocauc': 0.5971454843942421}\n"
          ]
        },
        {
          "output_type": "stream",
          "name": "stderr",
          "text": [
            "100% 54/54 [00:01<00:00, 27.69it/s]\n"
          ]
        },
        {
          "output_type": "stream",
          "name": "stdout",
          "text": [
            "loss returned: 0.23576082710622004\n"
          ]
        },
        {
          "output_type": "stream",
          "name": "stderr",
          "text": [
            "100% 7/7 [00:00<00:00, 54.86it/s]\n",
            "100% 7/7 [00:00<00:00, 53.57it/s]\n"
          ]
        },
        {
          "output_type": "stream",
          "name": "stdout",
          "text": [
            "Epoch: 063, Loss: 0.2358, Val Acc: {'rocauc': 0.6043785422736152}, Test Acc: {'rocauc': 0.5976158709787179}\n"
          ]
        },
        {
          "output_type": "stream",
          "name": "stderr",
          "text": [
            "100% 54/54 [00:02<00:00, 24.74it/s]\n"
          ]
        },
        {
          "output_type": "stream",
          "name": "stdout",
          "text": [
            "loss returned: 0.23588402125300192\n"
          ]
        },
        {
          "output_type": "stream",
          "name": "stderr",
          "text": [
            "100% 7/7 [00:00<00:00, 41.06it/s]\n",
            "100% 7/7 [00:00<00:00, 41.80it/s]\n"
          ]
        },
        {
          "output_type": "stream",
          "name": "stdout",
          "text": [
            "Epoch: 064, Loss: 0.2359, Val Acc: {'rocauc': 0.6031569618550503}, Test Acc: {'rocauc': 0.5977778428559154}\n"
          ]
        },
        {
          "output_type": "stream",
          "name": "stderr",
          "text": [
            "100% 54/54 [00:02<00:00, 25.86it/s]\n"
          ]
        },
        {
          "output_type": "stream",
          "name": "stdout",
          "text": [
            "loss returned: 0.23580036080787203\n"
          ]
        },
        {
          "output_type": "stream",
          "name": "stderr",
          "text": [
            "100% 7/7 [00:00<00:00, 54.20it/s]\n",
            "100% 7/7 [00:00<00:00, 56.76it/s]\n"
          ]
        },
        {
          "output_type": "stream",
          "name": "stdout",
          "text": [
            "Epoch: 065, Loss: 0.2358, Val Acc: {'rocauc': 0.6060335411387672}, Test Acc: {'rocauc': 0.5984615625697628}\n"
          ]
        },
        {
          "output_type": "stream",
          "name": "stderr",
          "text": [
            "100% 54/54 [00:02<00:00, 25.99it/s]\n"
          ]
        },
        {
          "output_type": "stream",
          "name": "stdout",
          "text": [
            "loss returned: 0.235853862076042\n"
          ]
        },
        {
          "output_type": "stream",
          "name": "stderr",
          "text": [
            "100% 7/7 [00:00<00:00, 55.28it/s]\n",
            "100% 7/7 [00:00<00:00, 58.27it/s]\n"
          ]
        },
        {
          "output_type": "stream",
          "name": "stdout",
          "text": [
            "Epoch: 066, Loss: 0.2359, Val Acc: {'rocauc': 0.6058745420226515}, Test Acc: {'rocauc': 0.5997024519758692}\n"
          ]
        },
        {
          "output_type": "stream",
          "name": "stderr",
          "text": [
            "100% 54/54 [00:02<00:00, 22.84it/s]\n"
          ]
        },
        {
          "output_type": "stream",
          "name": "stdout",
          "text": [
            "loss returned: 0.23560139499496094\n"
          ]
        },
        {
          "output_type": "stream",
          "name": "stderr",
          "text": [
            "100% 7/7 [00:00<00:00, 38.04it/s]\n",
            "100% 7/7 [00:00<00:00, 41.30it/s]\n"
          ]
        },
        {
          "output_type": "stream",
          "name": "stdout",
          "text": [
            "Epoch: 067, Loss: 0.2356, Val Acc: {'rocauc': 0.6052291962314144}, Test Acc: {'rocauc': 0.5988676712077656}\n"
          ]
        },
        {
          "output_type": "stream",
          "name": "stderr",
          "text": [
            "100% 54/54 [00:02<00:00, 25.08it/s]\n"
          ]
        },
        {
          "output_type": "stream",
          "name": "stdout",
          "text": [
            "loss returned: 0.236198586025669\n"
          ]
        },
        {
          "output_type": "stream",
          "name": "stderr",
          "text": [
            "100% 7/7 [00:00<00:00, 51.58it/s]\n",
            "100% 7/7 [00:00<00:00, 55.19it/s]\n"
          ]
        },
        {
          "output_type": "stream",
          "name": "stdout",
          "text": [
            "Epoch: 068, Loss: 0.2362, Val Acc: {'rocauc': 0.6053181867909335}, Test Acc: {'rocauc': 0.6002764893268691}\n"
          ]
        },
        {
          "output_type": "stream",
          "name": "stderr",
          "text": [
            "100% 54/54 [00:02<00:00, 25.46it/s]\n"
          ]
        },
        {
          "output_type": "stream",
          "name": "stdout",
          "text": [
            "loss returned: 0.23585519040812555\n"
          ]
        },
        {
          "output_type": "stream",
          "name": "stderr",
          "text": [
            "100% 7/7 [00:00<00:00, 54.37it/s]\n",
            "100% 7/7 [00:00<00:00, 62.01it/s]\n"
          ]
        },
        {
          "output_type": "stream",
          "name": "stdout",
          "text": [
            "Epoch: 069, Loss: 0.2359, Val Acc: {'rocauc': 0.6057051025761901}, Test Acc: {'rocauc': 0.599115397322306}\n"
          ]
        },
        {
          "output_type": "stream",
          "name": "stderr",
          "text": [
            "100% 54/54 [00:02<00:00, 21.17it/s]\n"
          ]
        },
        {
          "output_type": "stream",
          "name": "stdout",
          "text": [
            "loss returned: 0.23564792781981364\n"
          ]
        },
        {
          "output_type": "stream",
          "name": "stderr",
          "text": [
            "100% 7/7 [00:00<00:00, 41.34it/s]\n",
            "100% 7/7 [00:00<00:00, 52.16it/s]\n"
          ]
        },
        {
          "output_type": "stream",
          "name": "stdout",
          "text": [
            "Epoch: 070, Loss: 0.2356, Val Acc: {'rocauc': 0.6048829694128927}, Test Acc: {'rocauc': 0.599414785232835}\n"
          ]
        },
        {
          "output_type": "stream",
          "name": "stderr",
          "text": [
            "100% 54/54 [00:02<00:00, 25.86it/s]\n"
          ]
        },
        {
          "output_type": "stream",
          "name": "stdout",
          "text": [
            "loss returned: 0.23607670065265354\n"
          ]
        },
        {
          "output_type": "stream",
          "name": "stderr",
          "text": [
            "100% 7/7 [00:00<00:00, 51.69it/s]\n",
            "100% 7/7 [00:00<00:00, 56.36it/s]\n"
          ]
        },
        {
          "output_type": "stream",
          "name": "stdout",
          "text": [
            "Epoch: 071, Loss: 0.2361, Val Acc: {'rocauc': 0.606655624088493}, Test Acc: {'rocauc': 0.6004461947698532}\n"
          ]
        },
        {
          "output_type": "stream",
          "name": "stderr",
          "text": [
            "100% 54/54 [00:02<00:00, 25.58it/s]\n"
          ]
        },
        {
          "output_type": "stream",
          "name": "stdout",
          "text": [
            "loss returned: 0.23538812314629903\n"
          ]
        },
        {
          "output_type": "stream",
          "name": "stderr",
          "text": [
            "100% 7/7 [00:00<00:00, 49.96it/s]\n",
            "100% 7/7 [00:00<00:00, 55.11it/s]\n"
          ]
        },
        {
          "output_type": "stream",
          "name": "stdout",
          "text": [
            "Epoch: 072, Loss: 0.2354, Val Acc: {'rocauc': 0.6085906603501495}, Test Acc: {'rocauc': 0.5995805381515947}\n"
          ]
        },
        {
          "output_type": "stream",
          "name": "stderr",
          "text": [
            "100% 54/54 [00:02<00:00, 20.04it/s]\n"
          ]
        },
        {
          "output_type": "stream",
          "name": "stdout",
          "text": [
            "loss returned: 0.2356336127912338\n"
          ]
        },
        {
          "output_type": "stream",
          "name": "stderr",
          "text": [
            "100% 7/7 [00:00<00:00, 41.64it/s]\n",
            "100% 7/7 [00:00<00:00, 61.14it/s]\n"
          ]
        },
        {
          "output_type": "stream",
          "name": "stdout",
          "text": [
            "Epoch: 073, Loss: 0.2356, Val Acc: {'rocauc': 0.607672505347675}, Test Acc: {'rocauc': 0.6017220481978128}\n"
          ]
        },
        {
          "output_type": "stream",
          "name": "stderr",
          "text": [
            "100% 54/54 [00:02<00:00, 25.51it/s]\n"
          ]
        },
        {
          "output_type": "stream",
          "name": "stdout",
          "text": [
            "loss returned: 0.2356711853349869\n"
          ]
        },
        {
          "output_type": "stream",
          "name": "stderr",
          "text": [
            "100% 7/7 [00:00<00:00, 50.96it/s]\n",
            "100% 7/7 [00:00<00:00, 56.61it/s]\n"
          ]
        },
        {
          "output_type": "stream",
          "name": "stdout",
          "text": [
            "Epoch: 074, Loss: 0.2357, Val Acc: {'rocauc': 0.6104167303117609}, Test Acc: {'rocauc': 0.6016414393133511}\n"
          ]
        },
        {
          "output_type": "stream",
          "name": "stderr",
          "text": [
            "100% 54/54 [00:02<00:00, 25.11it/s]\n"
          ]
        },
        {
          "output_type": "stream",
          "name": "stdout",
          "text": [
            "loss returned: 0.23520694872902018\n"
          ]
        },
        {
          "output_type": "stream",
          "name": "stderr",
          "text": [
            "100% 7/7 [00:00<00:00, 52.68it/s]\n",
            "100% 7/7 [00:00<00:00, 55.39it/s]\n"
          ]
        },
        {
          "output_type": "stream",
          "name": "stdout",
          "text": [
            "Epoch: 075, Loss: 0.2352, Val Acc: {'rocauc': 0.6091289530281152}, Test Acc: {'rocauc': 0.6031933447690555}\n"
          ]
        },
        {
          "output_type": "stream",
          "name": "stderr",
          "text": [
            "100% 54/54 [00:02<00:00, 18.88it/s]\n"
          ]
        },
        {
          "output_type": "stream",
          "name": "stdout",
          "text": [
            "loss returned: 0.23502109722389078\n"
          ]
        },
        {
          "output_type": "stream",
          "name": "stderr",
          "text": [
            "100% 7/7 [00:00<00:00, 52.15it/s]\n",
            "100% 7/7 [00:00<00:00, 59.74it/s]\n"
          ]
        },
        {
          "output_type": "stream",
          "name": "stdout",
          "text": [
            "Epoch: 076, Loss: 0.2350, Val Acc: {'rocauc': 0.6101826707603187}, Test Acc: {'rocauc': 0.6020382854942955}\n"
          ]
        },
        {
          "output_type": "stream",
          "name": "stderr",
          "text": [
            "100% 54/54 [00:02<00:00, 25.55it/s]\n"
          ]
        },
        {
          "output_type": "stream",
          "name": "stdout",
          "text": [
            "loss returned: 0.2352602902636931\n"
          ]
        },
        {
          "output_type": "stream",
          "name": "stderr",
          "text": [
            "100% 7/7 [00:00<00:00, 53.37it/s]\n",
            "100% 7/7 [00:00<00:00, 56.09it/s]\n"
          ]
        },
        {
          "output_type": "stream",
          "name": "stdout",
          "text": [
            "Epoch: 077, Loss: 0.2353, Val Acc: {'rocauc': 0.6096875549706146}, Test Acc: {'rocauc': 0.6004848650115141}\n"
          ]
        },
        {
          "output_type": "stream",
          "name": "stderr",
          "text": [
            "100% 54/54 [00:02<00:00, 25.39it/s]\n"
          ]
        },
        {
          "output_type": "stream",
          "name": "stdout",
          "text": [
            "loss returned: 0.23548161306638413\n"
          ]
        },
        {
          "output_type": "stream",
          "name": "stderr",
          "text": [
            "100% 7/7 [00:00<00:00, 55.21it/s]\n",
            "100% 7/7 [00:00<00:00, 52.16it/s]\n"
          ]
        },
        {
          "output_type": "stream",
          "name": "stdout",
          "text": [
            "Epoch: 078, Loss: 0.2355, Val Acc: {'rocauc': 0.6128505220637213}, Test Acc: {'rocauc': 0.6023911001393041}\n"
          ]
        },
        {
          "output_type": "stream",
          "name": "stderr",
          "text": [
            "100% 54/54 [00:02<00:00, 18.60it/s]\n"
          ]
        },
        {
          "output_type": "stream",
          "name": "stdout",
          "text": [
            "loss returned: 0.23564928712719732\n"
          ]
        },
        {
          "output_type": "stream",
          "name": "stderr",
          "text": [
            "100% 7/7 [00:00<00:00, 55.36it/s]\n",
            "100% 7/7 [00:00<00:00, 55.90it/s]\n"
          ]
        },
        {
          "output_type": "stream",
          "name": "stdout",
          "text": [
            "Epoch: 079, Loss: 0.2356, Val Acc: {'rocauc': 0.6100710943375738}, Test Acc: {'rocauc': 0.6023286304341803}\n"
          ]
        },
        {
          "output_type": "stream",
          "name": "stderr",
          "text": [
            "100% 54/54 [00:02<00:00, 24.97it/s]\n"
          ]
        },
        {
          "output_type": "stream",
          "name": "stdout",
          "text": [
            "loss returned: 0.23502221017120184\n"
          ]
        },
        {
          "output_type": "stream",
          "name": "stderr",
          "text": [
            "100% 7/7 [00:00<00:00, 54.07it/s]\n",
            "100% 7/7 [00:00<00:00, 57.24it/s]\n"
          ]
        },
        {
          "output_type": "stream",
          "name": "stdout",
          "text": [
            "Epoch: 080, Loss: 0.2350, Val Acc: {'rocauc': 0.6126319530809012}, Test Acc: {'rocauc': 0.6018349088670999}\n"
          ]
        },
        {
          "output_type": "stream",
          "name": "stderr",
          "text": [
            "100% 54/54 [00:02<00:00, 24.85it/s]\n"
          ]
        },
        {
          "output_type": "stream",
          "name": "stdout",
          "text": [
            "loss returned: 0.23500338363577952\n"
          ]
        },
        {
          "output_type": "stream",
          "name": "stderr",
          "text": [
            "100% 7/7 [00:00<00:00, 53.31it/s]\n",
            "100% 7/7 [00:00<00:00, 55.07it/s]\n"
          ]
        },
        {
          "output_type": "stream",
          "name": "stdout",
          "text": [
            "Epoch: 081, Loss: 0.2350, Val Acc: {'rocauc': 0.6123948341998603}, Test Acc: {'rocauc': 0.6032511377691927}\n"
          ]
        },
        {
          "output_type": "stream",
          "name": "stderr",
          "text": [
            "100% 54/54 [00:02<00:00, 20.24it/s]\n"
          ]
        },
        {
          "output_type": "stream",
          "name": "stdout",
          "text": [
            "loss returned: 0.23532660335910563\n"
          ]
        },
        {
          "output_type": "stream",
          "name": "stderr",
          "text": [
            "100% 7/7 [00:00<00:00, 51.36it/s]\n",
            "100% 7/7 [00:00<00:00, 55.52it/s]\n"
          ]
        },
        {
          "output_type": "stream",
          "name": "stdout",
          "text": [
            "Epoch: 082, Loss: 0.2353, Val Acc: {'rocauc': 0.611470087079197}, Test Acc: {'rocauc': 0.6016283595476949}\n"
          ]
        },
        {
          "output_type": "stream",
          "name": "stderr",
          "text": [
            "100% 54/54 [00:02<00:00, 22.77it/s]\n"
          ]
        },
        {
          "output_type": "stream",
          "name": "stdout",
          "text": [
            "loss returned: 0.23498050322859348\n"
          ]
        },
        {
          "output_type": "stream",
          "name": "stderr",
          "text": [
            "100% 7/7 [00:00<00:00, 53.02it/s]\n",
            "100% 7/7 [00:00<00:00, 54.95it/s]\n"
          ]
        },
        {
          "output_type": "stream",
          "name": "stdout",
          "text": [
            "Epoch: 083, Loss: 0.2350, Val Acc: {'rocauc': 0.6104028480022275}, Test Acc: {'rocauc': 0.602629211092221}\n"
          ]
        },
        {
          "output_type": "stream",
          "name": "stderr",
          "text": [
            "100% 54/54 [00:02<00:00, 21.38it/s]\n"
          ]
        },
        {
          "output_type": "stream",
          "name": "stdout",
          "text": [
            "loss returned: 0.23527325331817214\n"
          ]
        },
        {
          "output_type": "stream",
          "name": "stderr",
          "text": [
            "100% 7/7 [00:00<00:00, 53.79it/s]\n",
            "100% 7/7 [00:00<00:00, 40.43it/s]\n"
          ]
        },
        {
          "output_type": "stream",
          "name": "stdout",
          "text": [
            "Epoch: 084, Loss: 0.2353, Val Acc: {'rocauc': 0.6141182683386581}, Test Acc: {'rocauc': 0.603197815222433}\n"
          ]
        },
        {
          "output_type": "stream",
          "name": "stderr",
          "text": [
            "100% 54/54 [00:02<00:00, 20.51it/s]\n"
          ]
        },
        {
          "output_type": "stream",
          "name": "stdout",
          "text": [
            "loss returned: 0.23543585502371497\n"
          ]
        },
        {
          "output_type": "stream",
          "name": "stderr",
          "text": [
            "100% 7/7 [00:00<00:00, 55.01it/s]\n",
            "100% 7/7 [00:00<00:00, 56.03it/s]\n"
          ]
        },
        {
          "output_type": "stream",
          "name": "stdout",
          "text": [
            "Epoch: 085, Loss: 0.2354, Val Acc: {'rocauc': 0.6103870315633856}, Test Acc: {'rocauc': 0.6030080462933376}\n"
          ]
        },
        {
          "output_type": "stream",
          "name": "stderr",
          "text": [
            "100% 54/54 [00:02<00:00, 20.94it/s]\n"
          ]
        },
        {
          "output_type": "stream",
          "name": "stdout",
          "text": [
            "loss returned: 0.23541942893937448\n"
          ]
        },
        {
          "output_type": "stream",
          "name": "stderr",
          "text": [
            "100% 7/7 [00:00<00:00, 55.02it/s]\n",
            "100% 7/7 [00:00<00:00, 53.55it/s]\n"
          ]
        },
        {
          "output_type": "stream",
          "name": "stdout",
          "text": [
            "Epoch: 086, Loss: 0.2354, Val Acc: {'rocauc': 0.6111179623451658}, Test Acc: {'rocauc': 0.60290298171026}\n"
          ]
        },
        {
          "output_type": "stream",
          "name": "stderr",
          "text": [
            "100% 54/54 [00:03<00:00, 16.89it/s]\n"
          ]
        },
        {
          "output_type": "stream",
          "name": "stdout",
          "text": [
            "loss returned: 0.23451801032783687\n"
          ]
        },
        {
          "output_type": "stream",
          "name": "stderr",
          "text": [
            "100% 7/7 [00:00<00:00, 33.27it/s]\n",
            "100% 7/7 [00:00<00:00, 49.43it/s]\n"
          ]
        },
        {
          "output_type": "stream",
          "name": "stdout",
          "text": [
            "Epoch: 087, Loss: 0.2345, Val Acc: {'rocauc': 0.6129001408095904}, Test Acc: {'rocauc': 0.6041674521245846}\n"
          ]
        },
        {
          "output_type": "stream",
          "name": "stderr",
          "text": [
            "100% 54/54 [00:02<00:00, 20.73it/s]\n"
          ]
        },
        {
          "output_type": "stream",
          "name": "stdout",
          "text": [
            "loss returned: 0.23489436015443274\n"
          ]
        },
        {
          "output_type": "stream",
          "name": "stderr",
          "text": [
            "100% 7/7 [00:00<00:00, 50.24it/s]\n",
            "100% 7/7 [00:00<00:00, 49.71it/s]\n"
          ]
        },
        {
          "output_type": "stream",
          "name": "stdout",
          "text": [
            "Epoch: 088, Loss: 0.2349, Val Acc: {'rocauc': 0.6138936835782451}, Test Acc: {'rocauc': 0.6047517492551335}\n"
          ]
        },
        {
          "output_type": "stream",
          "name": "stderr",
          "text": [
            "100% 54/54 [00:02<00:00, 20.88it/s]\n"
          ]
        },
        {
          "output_type": "stream",
          "name": "stdout",
          "text": [
            "loss returned: 0.2347062042086187\n"
          ]
        },
        {
          "output_type": "stream",
          "name": "stderr",
          "text": [
            "100% 7/7 [00:00<00:00, 49.53it/s]\n",
            "100% 7/7 [00:00<00:00, 54.47it/s]\n"
          ]
        },
        {
          "output_type": "stream",
          "name": "stdout",
          "text": [
            "Epoch: 089, Loss: 0.2347, Val Acc: {'rocauc': 0.6135572860111036}, Test Acc: {'rocauc': 0.6042801739984809}\n"
          ]
        },
        {
          "output_type": "stream",
          "name": "stderr",
          "text": [
            "100% 54/54 [00:02<00:00, 18.47it/s]\n"
          ]
        },
        {
          "output_type": "stream",
          "name": "stdout",
          "text": [
            "loss returned: 0.2347665687517939\n"
          ]
        },
        {
          "output_type": "stream",
          "name": "stderr",
          "text": [
            "100% 7/7 [00:00<00:00, 51.34it/s]\n",
            "100% 7/7 [00:00<00:00, 50.71it/s]\n"
          ]
        },
        {
          "output_type": "stream",
          "name": "stdout",
          "text": [
            "Epoch: 090, Loss: 0.2348, Val Acc: {'rocauc': 0.6145875061848382}, Test Acc: {'rocauc': 0.6047049751292829}\n"
          ]
        },
        {
          "output_type": "stream",
          "name": "stderr",
          "text": [
            "100% 54/54 [00:02<00:00, 20.61it/s]\n"
          ]
        },
        {
          "output_type": "stream",
          "name": "stdout",
          "text": [
            "loss returned: 0.2344639223362197\n"
          ]
        },
        {
          "output_type": "stream",
          "name": "stderr",
          "text": [
            "100% 7/7 [00:00<00:00, 49.89it/s]\n",
            "100% 7/7 [00:00<00:00, 52.91it/s]\n"
          ]
        },
        {
          "output_type": "stream",
          "name": "stdout",
          "text": [
            "Epoch: 091, Loss: 0.2345, Val Acc: {'rocauc': 0.6143560604418433}, Test Acc: {'rocauc': 0.6056973064361961}\n"
          ]
        },
        {
          "output_type": "stream",
          "name": "stderr",
          "text": [
            "100% 54/54 [00:03<00:00, 16.65it/s]\n"
          ]
        },
        {
          "output_type": "stream",
          "name": "stdout",
          "text": [
            "loss returned: 0.2348602836576912\n"
          ]
        },
        {
          "output_type": "stream",
          "name": "stderr",
          "text": [
            "100% 7/7 [00:00<00:00, 37.93it/s]\n",
            "100% 7/7 [00:00<00:00, 54.64it/s]\n"
          ]
        },
        {
          "output_type": "stream",
          "name": "stdout",
          "text": [
            "Epoch: 092, Loss: 0.2349, Val Acc: {'rocauc': 0.6160738086686528}, Test Acc: {'rocauc': 0.604788938056414}\n"
          ]
        },
        {
          "output_type": "stream",
          "name": "stderr",
          "text": [
            "100% 54/54 [00:02<00:00, 20.65it/s]\n"
          ]
        },
        {
          "output_type": "stream",
          "name": "stdout",
          "text": [
            "loss returned: 0.23487015543804224\n"
          ]
        },
        {
          "output_type": "stream",
          "name": "stderr",
          "text": [
            "100% 7/7 [00:00<00:00, 48.92it/s]\n",
            "100% 7/7 [00:00<00:00, 53.90it/s]\n"
          ]
        },
        {
          "output_type": "stream",
          "name": "stdout",
          "text": [
            "Epoch: 093, Loss: 0.2349, Val Acc: {'rocauc': 0.616041137802883}, Test Acc: {'rocauc': 0.6057332749106599}\n"
          ]
        },
        {
          "output_type": "stream",
          "name": "stderr",
          "text": [
            "100% 54/54 [00:02<00:00, 20.60it/s]\n"
          ]
        },
        {
          "output_type": "stream",
          "name": "stdout",
          "text": [
            "loss returned: 0.23494401772237727\n"
          ]
        },
        {
          "output_type": "stream",
          "name": "stderr",
          "text": [
            "100% 7/7 [00:00<00:00, 53.49it/s]\n",
            "100% 7/7 [00:00<00:00, 53.26it/s]\n"
          ]
        },
        {
          "output_type": "stream",
          "name": "stdout",
          "text": [
            "Epoch: 094, Loss: 0.2349, Val Acc: {'rocauc': 0.6164794550528099}, Test Acc: {'rocauc': 0.6060039602096988}\n"
          ]
        },
        {
          "output_type": "stream",
          "name": "stderr",
          "text": [
            "100% 54/54 [00:03<00:00, 16.99it/s]\n"
          ]
        },
        {
          "output_type": "stream",
          "name": "stdout",
          "text": [
            "loss returned: 0.2345584524181772\n"
          ]
        },
        {
          "output_type": "stream",
          "name": "stderr",
          "text": [
            "100% 7/7 [00:00<00:00, 47.52it/s]\n",
            "100% 7/7 [00:00<00:00, 52.20it/s]\n"
          ]
        },
        {
          "output_type": "stream",
          "name": "stdout",
          "text": [
            "Epoch: 095, Loss: 0.2346, Val Acc: {'rocauc': 0.6157314099545057}, Test Acc: {'rocauc': 0.6073384472610439}\n"
          ]
        },
        {
          "output_type": "stream",
          "name": "stderr",
          "text": [
            "100% 54/54 [00:02<00:00, 24.49it/s]\n"
          ]
        },
        {
          "output_type": "stream",
          "name": "stdout",
          "text": [
            "loss returned: 0.23453064425346107\n"
          ]
        },
        {
          "output_type": "stream",
          "name": "stderr",
          "text": [
            "100% 7/7 [00:00<00:00, 49.33it/s]\n",
            "100% 7/7 [00:00<00:00, 51.69it/s]\n"
          ]
        },
        {
          "output_type": "stream",
          "name": "stdout",
          "text": [
            "Epoch: 096, Loss: 0.2345, Val Acc: {'rocauc': 0.6164329682444711}, Test Acc: {'rocauc': 0.6065077948593501}\n"
          ]
        },
        {
          "output_type": "stream",
          "name": "stderr",
          "text": [
            "100% 54/54 [00:02<00:00, 24.71it/s]\n"
          ]
        },
        {
          "output_type": "stream",
          "name": "stdout",
          "text": [
            "loss returned: 0.23446033473612615\n"
          ]
        },
        {
          "output_type": "stream",
          "name": "stderr",
          "text": [
            "100% 7/7 [00:00<00:00, 46.26it/s]\n",
            "100% 7/7 [00:00<00:00, 39.80it/s]\n"
          ]
        },
        {
          "output_type": "stream",
          "name": "stdout",
          "text": [
            "Epoch: 097, Loss: 0.2345, Val Acc: {'rocauc': 0.6171991725363963}, Test Acc: {'rocauc': 0.607542076572721}\n"
          ]
        },
        {
          "output_type": "stream",
          "name": "stderr",
          "text": [
            "100% 54/54 [00:02<00:00, 22.00it/s]\n"
          ]
        },
        {
          "output_type": "stream",
          "name": "stdout",
          "text": [
            "loss returned: 0.23432792141903247\n"
          ]
        },
        {
          "output_type": "stream",
          "name": "stderr",
          "text": [
            "100% 7/7 [00:00<00:00, 52.28it/s]\n",
            "100% 7/7 [00:00<00:00, 53.02it/s]\n"
          ]
        },
        {
          "output_type": "stream",
          "name": "stdout",
          "text": [
            "Epoch: 098, Loss: 0.2343, Val Acc: {'rocauc': 0.6172307712369524}, Test Acc: {'rocauc': 0.6070580539765421}\n"
          ]
        },
        {
          "output_type": "stream",
          "name": "stderr",
          "text": [
            "100% 54/54 [00:02<00:00, 23.00it/s]\n"
          ]
        },
        {
          "output_type": "stream",
          "name": "stdout",
          "text": [
            "loss returned: 0.2347347196006914\n"
          ]
        },
        {
          "output_type": "stream",
          "name": "stderr",
          "text": [
            "100% 7/7 [00:00<00:00, 54.77it/s]\n",
            "100% 7/7 [00:00<00:00, 55.07it/s]\n"
          ]
        },
        {
          "output_type": "stream",
          "name": "stdout",
          "text": [
            "Epoch: 099, Loss: 0.2347, Val Acc: {'rocauc': 0.6188578101519009}, Test Acc: {'rocauc': 0.6070805037766155}\n"
          ]
        },
        {
          "output_type": "stream",
          "name": "stderr",
          "text": [
            "100% 54/54 [00:02<00:00, 20.47it/s]\n"
          ]
        },
        {
          "output_type": "stream",
          "name": "stdout",
          "text": [
            "loss returned: 0.23472191402932993\n"
          ]
        },
        {
          "output_type": "stream",
          "name": "stderr",
          "text": [
            "100% 7/7 [00:00<00:00, 37.35it/s]\n",
            "100% 7/7 [00:00<00:00, 38.18it/s]\n"
          ]
        },
        {
          "output_type": "stream",
          "name": "stdout",
          "text": [
            "Epoch: 100, Loss: 0.2347, Val Acc: {'rocauc': 0.6188472928078554}, Test Acc: {'rocauc': 0.6073586335823286}\n"
          ]
        },
        {
          "output_type": "stream",
          "name": "stderr",
          "text": [
            "100% 54/54 [00:02<00:00, 21.30it/s]\n"
          ]
        },
        {
          "output_type": "stream",
          "name": "stdout",
          "text": [
            "loss returned: 0.2341937999770523\n"
          ]
        },
        {
          "output_type": "stream",
          "name": "stderr",
          "text": [
            "100% 7/7 [00:00<00:00, 54.20it/s]\n",
            "100% 7/7 [00:00<00:00, 53.17it/s]\n"
          ]
        },
        {
          "output_type": "stream",
          "name": "stdout",
          "text": [
            "Epoch: 101, Loss: 0.2342, Val Acc: {'rocauc': 0.6170906127764484}, Test Acc: {'rocauc': 0.6073736138094578}\n"
          ]
        },
        {
          "output_type": "stream",
          "name": "stderr",
          "text": [
            "100% 54/54 [00:02<00:00, 20.97it/s]\n"
          ]
        },
        {
          "output_type": "stream",
          "name": "stdout",
          "text": [
            "loss returned: 0.234721967082677\n"
          ]
        },
        {
          "output_type": "stream",
          "name": "stderr",
          "text": [
            "100% 7/7 [00:00<00:00, 47.97it/s]\n",
            "100% 7/7 [00:00<00:00, 50.67it/s]\n"
          ]
        },
        {
          "output_type": "stream",
          "name": "stdout",
          "text": [
            "Epoch: 102, Loss: 0.2347, Val Acc: {'rocauc': 0.6174703241448429}, Test Acc: {'rocauc': 0.6096586192285596}\n"
          ]
        },
        {
          "output_type": "stream",
          "name": "stderr",
          "text": [
            "100% 54/54 [00:03<00:00, 16.28it/s]\n"
          ]
        },
        {
          "output_type": "stream",
          "name": "stdout",
          "text": [
            "loss returned: 0.23465059085072998\n"
          ]
        },
        {
          "output_type": "stream",
          "name": "stderr",
          "text": [
            "100% 7/7 [00:00<00:00, 49.84it/s]\n",
            "100% 7/7 [00:00<00:00, 53.09it/s]\n"
          ]
        },
        {
          "output_type": "stream",
          "name": "stdout",
          "text": [
            "Epoch: 103, Loss: 0.2347, Val Acc: {'rocauc': 0.6174487231609009}, Test Acc: {'rocauc': 0.6088611002751478}\n"
          ]
        },
        {
          "output_type": "stream",
          "name": "stderr",
          "text": [
            "100% 54/54 [00:02<00:00, 20.43it/s]\n"
          ]
        },
        {
          "output_type": "stream",
          "name": "stdout",
          "text": [
            "loss returned: 0.23404206259083818\n"
          ]
        },
        {
          "output_type": "stream",
          "name": "stderr",
          "text": [
            "100% 7/7 [00:00<00:00, 49.53it/s]\n",
            "100% 7/7 [00:00<00:00, 50.95it/s]\n"
          ]
        },
        {
          "output_type": "stream",
          "name": "stdout",
          "text": [
            "Epoch: 104, Loss: 0.2340, Val Acc: {'rocauc': 0.6192825979555674}, Test Acc: {'rocauc': 0.6095980649336299}\n"
          ]
        },
        {
          "output_type": "stream",
          "name": "stderr",
          "text": [
            "100% 54/54 [00:02<00:00, 20.50it/s]\n"
          ]
        },
        {
          "output_type": "stream",
          "name": "stdout",
          "text": [
            "loss returned: 0.23406774542422057\n"
          ]
        },
        {
          "output_type": "stream",
          "name": "stderr",
          "text": [
            "100% 7/7 [00:00<00:00, 50.04it/s]\n",
            "100% 7/7 [00:00<00:00, 37.86it/s]\n"
          ]
        },
        {
          "output_type": "stream",
          "name": "stdout",
          "text": [
            "Epoch: 105, Loss: 0.2341, Val Acc: {'rocauc': 0.6192678790881895}, Test Acc: {'rocauc': 0.6097918571100231}\n"
          ]
        },
        {
          "output_type": "stream",
          "name": "stderr",
          "text": [
            "100% 54/54 [00:02<00:00, 22.69it/s]\n"
          ]
        },
        {
          "output_type": "stream",
          "name": "stdout",
          "text": [
            "loss returned: 0.23398555225255538\n"
          ]
        },
        {
          "output_type": "stream",
          "name": "stderr",
          "text": [
            "100% 7/7 [00:00<00:00, 49.82it/s]\n",
            "100% 7/7 [00:00<00:00, 49.71it/s]\n"
          ]
        },
        {
          "output_type": "stream",
          "name": "stdout",
          "text": [
            "Epoch: 106, Loss: 0.2340, Val Acc: {'rocauc': 0.6180631083869009}, Test Acc: {'rocauc': 0.6092615013127245}\n"
          ]
        },
        {
          "output_type": "stream",
          "name": "stderr",
          "text": [
            "100% 54/54 [00:02<00:00, 24.09it/s]\n"
          ]
        },
        {
          "output_type": "stream",
          "name": "stdout",
          "text": [
            "loss returned: 0.23435639444488826\n"
          ]
        },
        {
          "output_type": "stream",
          "name": "stderr",
          "text": [
            "100% 7/7 [00:00<00:00, 56.67it/s]\n",
            "100% 7/7 [00:00<00:00, 51.72it/s]\n"
          ]
        },
        {
          "output_type": "stream",
          "name": "stdout",
          "text": [
            "Epoch: 107, Loss: 0.2344, Val Acc: {'rocauc': 0.6185513258346608}, Test Acc: {'rocauc': 0.6096194379681542}\n"
          ]
        },
        {
          "output_type": "stream",
          "name": "stderr",
          "text": [
            "100% 54/54 [00:02<00:00, 23.42it/s]\n"
          ]
        },
        {
          "output_type": "stream",
          "name": "stdout",
          "text": [
            "loss returned: 0.23438324683261683\n"
          ]
        },
        {
          "output_type": "stream",
          "name": "stderr",
          "text": [
            "100% 7/7 [00:00<00:00, 40.87it/s]\n",
            "100% 7/7 [00:00<00:00, 38.07it/s]\n"
          ]
        },
        {
          "output_type": "stream",
          "name": "stdout",
          "text": [
            "Epoch: 108, Loss: 0.2344, Val Acc: {'rocauc': 0.6193187069755453}, Test Acc: {'rocauc': 0.6110933965634534}\n"
          ]
        },
        {
          "output_type": "stream",
          "name": "stderr",
          "text": [
            "100% 54/54 [00:02<00:00, 24.57it/s]\n"
          ]
        },
        {
          "output_type": "stream",
          "name": "stdout",
          "text": [
            "loss returned: 0.23435601050756416\n"
          ]
        },
        {
          "output_type": "stream",
          "name": "stderr",
          "text": [
            "100% 7/7 [00:00<00:00, 49.21it/s]\n",
            "100% 7/7 [00:00<00:00, 53.23it/s]\n"
          ]
        },
        {
          "output_type": "stream",
          "name": "stdout",
          "text": [
            "Epoch: 109, Loss: 0.2344, Val Acc: {'rocauc': 0.6195742032832064}, Test Acc: {'rocauc': 0.6102908042738612}\n"
          ]
        },
        {
          "output_type": "stream",
          "name": "stderr",
          "text": [
            "100% 54/54 [00:02<00:00, 24.51it/s]\n"
          ]
        },
        {
          "output_type": "stream",
          "name": "stdout",
          "text": [
            "loss returned: 0.23399350393791588\n"
          ]
        },
        {
          "output_type": "stream",
          "name": "stderr",
          "text": [
            "100% 7/7 [00:00<00:00, 50.32it/s]\n",
            "100% 7/7 [00:00<00:00, 55.31it/s]\n"
          ]
        },
        {
          "output_type": "stream",
          "name": "stdout",
          "text": [
            "Epoch: 110, Loss: 0.2340, Val Acc: {'rocauc': 0.6203339953548954}, Test Acc: {'rocauc': 0.609861324247513}\n"
          ]
        },
        {
          "output_type": "stream",
          "name": "stderr",
          "text": [
            "100% 54/54 [00:02<00:00, 21.71it/s]\n"
          ]
        },
        {
          "output_type": "stream",
          "name": "stdout",
          "text": [
            "loss returned: 0.23419164542554072\n"
          ]
        },
        {
          "output_type": "stream",
          "name": "stderr",
          "text": [
            "100% 7/7 [00:00<00:00, 40.90it/s]\n",
            "100% 7/7 [00:00<00:00, 45.81it/s]\n"
          ]
        },
        {
          "output_type": "stream",
          "name": "stdout",
          "text": [
            "Epoch: 111, Loss: 0.2342, Val Acc: {'rocauc': 0.6194999363036522}, Test Acc: {'rocauc': 0.6110746108533033}\n"
          ]
        },
        {
          "output_type": "stream",
          "name": "stderr",
          "text": [
            "100% 54/54 [00:02<00:00, 23.66it/s]\n"
          ]
        },
        {
          "output_type": "stream",
          "name": "stdout",
          "text": [
            "loss returned: 0.23394894864051752\n"
          ]
        },
        {
          "output_type": "stream",
          "name": "stderr",
          "text": [
            "100% 7/7 [00:00<00:00, 52.33it/s]\n",
            "100% 7/7 [00:00<00:00, 56.37it/s]\n"
          ]
        },
        {
          "output_type": "stream",
          "name": "stdout",
          "text": [
            "Epoch: 112, Loss: 0.2339, Val Acc: {'rocauc': 0.620389793818402}, Test Acc: {'rocauc': 0.6109788827072509}\n"
          ]
        },
        {
          "output_type": "stream",
          "name": "stderr",
          "text": [
            "100% 54/54 [00:02<00:00, 22.99it/s]\n"
          ]
        },
        {
          "output_type": "stream",
          "name": "stdout",
          "text": [
            "loss returned: 0.2338728465335362\n"
          ]
        },
        {
          "output_type": "stream",
          "name": "stderr",
          "text": [
            "100% 7/7 [00:00<00:00, 52.47it/s]\n",
            "100% 7/7 [00:00<00:00, 52.58it/s]\n"
          ]
        },
        {
          "output_type": "stream",
          "name": "stdout",
          "text": [
            "Epoch: 113, Loss: 0.2339, Val Acc: {'rocauc': 0.6219552564927036}, Test Acc: {'rocauc': 0.6113861479423223}\n"
          ]
        },
        {
          "output_type": "stream",
          "name": "stderr",
          "text": [
            "100% 54/54 [00:03<00:00, 17.46it/s]\n"
          ]
        },
        {
          "output_type": "stream",
          "name": "stdout",
          "text": [
            "loss returned: 0.234087501018805\n"
          ]
        },
        {
          "output_type": "stream",
          "name": "stderr",
          "text": [
            "100% 7/7 [00:00<00:00, 48.82it/s]\n",
            "100% 7/7 [00:00<00:00, 54.69it/s]\n"
          ]
        },
        {
          "output_type": "stream",
          "name": "stdout",
          "text": [
            "Epoch: 114, Loss: 0.2341, Val Acc: {'rocauc': 0.6208074020010228}, Test Acc: {'rocauc': 0.6130540577121796}\n"
          ]
        },
        {
          "output_type": "stream",
          "name": "stderr",
          "text": [
            "100% 54/54 [00:02<00:00, 22.64it/s]\n"
          ]
        },
        {
          "output_type": "stream",
          "name": "stdout",
          "text": [
            "loss returned: 0.2343139520278825\n"
          ]
        },
        {
          "output_type": "stream",
          "name": "stderr",
          "text": [
            "100% 7/7 [00:00<00:00, 50.56it/s]\n",
            "100% 7/7 [00:00<00:00, 54.27it/s]\n"
          ]
        },
        {
          "output_type": "stream",
          "name": "stdout",
          "text": [
            "Epoch: 115, Loss: 0.2343, Val Acc: {'rocauc': 0.622739771565037}, Test Acc: {'rocauc': 0.6122247751346259}\n"
          ]
        },
        {
          "output_type": "stream",
          "name": "stderr",
          "text": [
            "100% 54/54 [00:02<00:00, 22.69it/s]\n"
          ]
        },
        {
          "output_type": "stream",
          "name": "stdout",
          "text": [
            "loss returned: 0.23391317173447623\n"
          ]
        },
        {
          "output_type": "stream",
          "name": "stderr",
          "text": [
            "100% 7/7 [00:00<00:00, 54.91it/s]\n",
            "100% 7/7 [00:00<00:00, 55.99it/s]\n"
          ]
        },
        {
          "output_type": "stream",
          "name": "stdout",
          "text": [
            "Epoch: 116, Loss: 0.2339, Val Acc: {'rocauc': 0.6205684433334431}, Test Acc: {'rocauc': 0.6119392786425017}\n"
          ]
        },
        {
          "output_type": "stream",
          "name": "stderr",
          "text": [
            "100% 54/54 [00:02<00:00, 19.03it/s]\n"
          ]
        },
        {
          "output_type": "stream",
          "name": "stdout",
          "text": [
            "loss returned: 0.23406335739283102\n"
          ]
        },
        {
          "output_type": "stream",
          "name": "stderr",
          "text": [
            "100% 7/7 [00:00<00:00, 54.06it/s]\n",
            "100% 7/7 [00:00<00:00, 54.31it/s]\n"
          ]
        },
        {
          "output_type": "stream",
          "name": "stdout",
          "text": [
            "Epoch: 117, Loss: 0.2341, Val Acc: {'rocauc': 0.6211180957220513}, Test Acc: {'rocauc': 0.6123754892032734}\n"
          ]
        },
        {
          "output_type": "stream",
          "name": "stderr",
          "text": [
            "100% 54/54 [00:02<00:00, 23.67it/s]\n"
          ]
        },
        {
          "output_type": "stream",
          "name": "stdout",
          "text": [
            "loss returned: 0.23368831346403404\n"
          ]
        },
        {
          "output_type": "stream",
          "name": "stderr",
          "text": [
            "100% 7/7 [00:00<00:00, 52.81it/s]\n",
            "100% 7/7 [00:00<00:00, 57.20it/s]\n"
          ]
        },
        {
          "output_type": "stream",
          "name": "stdout",
          "text": [
            "Epoch: 118, Loss: 0.2337, Val Acc: {'rocauc': 0.6228591873041904}, Test Acc: {'rocauc': 0.6125671802093519}\n"
          ]
        },
        {
          "output_type": "stream",
          "name": "stderr",
          "text": [
            "100% 54/54 [00:02<00:00, 23.72it/s]\n"
          ]
        },
        {
          "output_type": "stream",
          "name": "stdout",
          "text": [
            "loss returned: 0.2331536008821632\n"
          ]
        },
        {
          "output_type": "stream",
          "name": "stderr",
          "text": [
            "100% 7/7 [00:00<00:00, 51.92it/s]\n",
            "100% 7/7 [00:00<00:00, 37.31it/s]\n"
          ]
        },
        {
          "output_type": "stream",
          "name": "stdout",
          "text": [
            "Epoch: 119, Loss: 0.2332, Val Acc: {'rocauc': 0.6232753679777983}, Test Acc: {'rocauc': 0.6139068113247881}\n"
          ]
        },
        {
          "output_type": "stream",
          "name": "stderr",
          "text": [
            "100% 54/54 [00:02<00:00, 20.97it/s]\n"
          ]
        },
        {
          "output_type": "stream",
          "name": "stdout",
          "text": [
            "loss returned: 0.2342867882362955\n"
          ]
        },
        {
          "output_type": "stream",
          "name": "stderr",
          "text": [
            "100% 7/7 [00:00<00:00, 55.18it/s]\n",
            "100% 7/7 [00:00<00:00, 55.14it/s]\n"
          ]
        },
        {
          "output_type": "stream",
          "name": "stdout",
          "text": [
            "Epoch: 120, Loss: 0.2343, Val Acc: {'rocauc': 0.6212359665469697}, Test Acc: {'rocauc': 0.6124312024068794}\n"
          ]
        },
        {
          "output_type": "stream",
          "name": "stderr",
          "text": [
            "100% 54/54 [00:02<00:00, 20.21it/s]\n"
          ]
        },
        {
          "output_type": "stream",
          "name": "stdout",
          "text": [
            "loss returned: 0.2337923400082324\n"
          ]
        },
        {
          "output_type": "stream",
          "name": "stderr",
          "text": [
            "100% 7/7 [00:00<00:00, 50.09it/s]\n",
            "100% 7/7 [00:00<00:00, 52.30it/s]\n"
          ]
        },
        {
          "output_type": "stream",
          "name": "stdout",
          "text": [
            "Epoch: 121, Loss: 0.2338, Val Acc: {'rocauc': 0.6236285516546581}, Test Acc: {'rocauc': 0.6145602271697792}\n"
          ]
        },
        {
          "output_type": "stream",
          "name": "stderr",
          "text": [
            "100% 54/54 [00:02<00:00, 19.54it/s]\n"
          ]
        },
        {
          "output_type": "stream",
          "name": "stdout",
          "text": [
            "loss returned: 0.23365138001066602\n"
          ]
        },
        {
          "output_type": "stream",
          "name": "stderr",
          "text": [
            "100% 7/7 [00:00<00:00, 36.97it/s]\n",
            "100% 7/7 [00:00<00:00, 52.34it/s]\n"
          ]
        },
        {
          "output_type": "stream",
          "name": "stdout",
          "text": [
            "Epoch: 122, Loss: 0.2337, Val Acc: {'rocauc': 0.6223830770060875}, Test Acc: {'rocauc': 0.614321257224}\n"
          ]
        },
        {
          "output_type": "stream",
          "name": "stderr",
          "text": [
            "100% 54/54 [00:02<00:00, 22.32it/s]\n"
          ]
        },
        {
          "output_type": "stream",
          "name": "stdout",
          "text": [
            "loss returned: 0.23397698010543344\n"
          ]
        },
        {
          "output_type": "stream",
          "name": "stderr",
          "text": [
            "100% 7/7 [00:00<00:00, 54.12it/s]\n",
            "100% 7/7 [00:00<00:00, 55.87it/s]\n"
          ]
        },
        {
          "output_type": "stream",
          "name": "stdout",
          "text": [
            "Epoch: 123, Loss: 0.2340, Val Acc: {'rocauc': 0.6238132776029077}, Test Acc: {'rocauc': 0.6146058951782595}\n"
          ]
        },
        {
          "output_type": "stream",
          "name": "stderr",
          "text": [
            "100% 54/54 [00:02<00:00, 23.30it/s]\n"
          ]
        },
        {
          "output_type": "stream",
          "name": "stdout",
          "text": [
            "loss returned: 0.23397186051826088\n"
          ]
        },
        {
          "output_type": "stream",
          "name": "stderr",
          "text": [
            "100% 7/7 [00:00<00:00, 54.23it/s]\n",
            "100% 7/7 [00:00<00:00, 53.95it/s]\n"
          ]
        },
        {
          "output_type": "stream",
          "name": "stdout",
          "text": [
            "Epoch: 124, Loss: 0.2340, Val Acc: {'rocauc': 0.6230439135724094}, Test Acc: {'rocauc': 0.6145380710089222}\n"
          ]
        },
        {
          "output_type": "stream",
          "name": "stderr",
          "text": [
            "100% 54/54 [00:03<00:00, 17.86it/s]\n"
          ]
        },
        {
          "output_type": "stream",
          "name": "stdout",
          "text": [
            "loss returned: 0.23342865215446093\n"
          ]
        },
        {
          "output_type": "stream",
          "name": "stderr",
          "text": [
            "100% 7/7 [00:00<00:00, 51.57it/s]\n",
            "100% 7/7 [00:00<00:00, 56.03it/s]\n"
          ]
        },
        {
          "output_type": "stream",
          "name": "stdout",
          "text": [
            "Epoch: 125, Loss: 0.2334, Val Acc: {'rocauc': 0.6218153775420014}, Test Acc: {'rocauc': 0.6142290815282484}\n"
          ]
        },
        {
          "output_type": "stream",
          "name": "stderr",
          "text": [
            "100% 54/54 [00:02<00:00, 23.18it/s]\n"
          ]
        },
        {
          "output_type": "stream",
          "name": "stdout",
          "text": [
            "loss returned: 0.2336551065173858\n"
          ]
        },
        {
          "output_type": "stream",
          "name": "stderr",
          "text": [
            "100% 7/7 [00:00<00:00, 52.71it/s]\n",
            "100% 7/7 [00:00<00:00, 53.81it/s]\n"
          ]
        },
        {
          "output_type": "stream",
          "name": "stdout",
          "text": [
            "Epoch: 126, Loss: 0.2337, Val Acc: {'rocauc': 0.6220327647941586}, Test Acc: {'rocauc': 0.6139351329392211}\n"
          ]
        },
        {
          "output_type": "stream",
          "name": "stderr",
          "text": [
            "100% 54/54 [00:02<00:00, 22.94it/s]\n"
          ]
        },
        {
          "output_type": "stream",
          "name": "stdout",
          "text": [
            "loss returned: 0.23340289095747924\n"
          ]
        },
        {
          "output_type": "stream",
          "name": "stderr",
          "text": [
            "100% 7/7 [00:00<00:00, 53.85it/s]\n",
            "100% 7/7 [00:00<00:00, 54.62it/s]\n"
          ]
        },
        {
          "output_type": "stream",
          "name": "stdout",
          "text": [
            "Epoch: 127, Loss: 0.2334, Val Acc: {'rocauc': 0.6252050134658128}, Test Acc: {'rocauc': 0.6164726119251871}\n"
          ]
        },
        {
          "output_type": "stream",
          "name": "stderr",
          "text": [
            "100% 54/54 [00:02<00:00, 20.07it/s]\n"
          ]
        },
        {
          "output_type": "stream",
          "name": "stdout",
          "text": [
            "loss returned: 0.2333336205333037\n"
          ]
        },
        {
          "output_type": "stream",
          "name": "stderr",
          "text": [
            "100% 7/7 [00:00<00:00, 54.20it/s]\n",
            "100% 7/7 [00:00<00:00, 55.71it/s]\n"
          ]
        },
        {
          "output_type": "stream",
          "name": "stdout",
          "text": [
            "Epoch: 128, Loss: 0.2333, Val Acc: {'rocauc': 0.6226054182030499}, Test Acc: {'rocauc': 0.6162594549243763}\n"
          ]
        },
        {
          "output_type": "stream",
          "name": "stderr",
          "text": [
            "100% 54/54 [00:02<00:00, 23.22it/s]\n"
          ]
        },
        {
          "output_type": "stream",
          "name": "stdout",
          "text": [
            "loss returned: 0.2343655895039917\n"
          ]
        },
        {
          "output_type": "stream",
          "name": "stderr",
          "text": [
            "100% 7/7 [00:00<00:00, 53.51it/s]\n",
            "100% 7/7 [00:00<00:00, 54.97it/s]\n"
          ]
        },
        {
          "output_type": "stream",
          "name": "stdout",
          "text": [
            "Epoch: 129, Loss: 0.2344, Val Acc: {'rocauc': 0.6218888470830891}, Test Acc: {'rocauc': 0.614962666368962}\n"
          ]
        },
        {
          "output_type": "stream",
          "name": "stderr",
          "text": [
            "100% 54/54 [00:02<00:00, 22.78it/s]\n"
          ]
        },
        {
          "output_type": "stream",
          "name": "stdout",
          "text": [
            "loss returned: 0.23306584384281503\n"
          ]
        },
        {
          "output_type": "stream",
          "name": "stderr",
          "text": [
            "100% 7/7 [00:00<00:00, 50.62it/s]\n",
            "100% 7/7 [00:00<00:00, 39.29it/s]\n"
          ]
        },
        {
          "output_type": "stream",
          "name": "stdout",
          "text": [
            "Epoch: 130, Loss: 0.2331, Val Acc: {'rocauc': 0.6233222261859586}, Test Acc: {'rocauc': 0.6156952546403994}\n"
          ]
        },
        {
          "output_type": "stream",
          "name": "stderr",
          "text": [
            "100% 54/54 [00:02<00:00, 22.43it/s]\n"
          ]
        },
        {
          "output_type": "stream",
          "name": "stdout",
          "text": [
            "loss returned: 0.23338311408421042\n"
          ]
        },
        {
          "output_type": "stream",
          "name": "stderr",
          "text": [
            "100% 7/7 [00:00<00:00, 49.82it/s]\n",
            "100% 7/7 [00:00<00:00, 51.20it/s]\n"
          ]
        },
        {
          "output_type": "stream",
          "name": "stdout",
          "text": [
            "Epoch: 131, Loss: 0.2334, Val Acc: {'rocauc': 0.6244641816346879}, Test Acc: {'rocauc': 0.6164362074538181}\n"
          ]
        },
        {
          "output_type": "stream",
          "name": "stderr",
          "text": [
            "100% 54/54 [00:02<00:00, 22.70it/s]\n"
          ]
        },
        {
          "output_type": "stream",
          "name": "stdout",
          "text": [
            "loss returned: 0.23307845272753747\n"
          ]
        },
        {
          "output_type": "stream",
          "name": "stderr",
          "text": [
            "100% 7/7 [00:00<00:00, 51.75it/s]\n",
            "100% 7/7 [00:00<00:00, 54.55it/s]\n"
          ]
        },
        {
          "output_type": "stream",
          "name": "stdout",
          "text": [
            "Epoch: 132, Loss: 0.2331, Val Acc: {'rocauc': 0.6233499197646689}, Test Acc: {'rocauc': 0.6177590839518171}\n"
          ]
        },
        {
          "output_type": "stream",
          "name": "stderr",
          "text": [
            "100% 54/54 [00:02<00:00, 19.11it/s]\n"
          ]
        },
        {
          "output_type": "stream",
          "name": "stdout",
          "text": [
            "loss returned: 0.23330374056848074\n"
          ]
        },
        {
          "output_type": "stream",
          "name": "stderr",
          "text": [
            "100% 7/7 [00:00<00:00, 41.64it/s]\n",
            "100% 7/7 [00:00<00:00, 48.55it/s]\n"
          ]
        },
        {
          "output_type": "stream",
          "name": "stdout",
          "text": [
            "Epoch: 133, Loss: 0.2333, Val Acc: {'rocauc': 0.623175485254349}, Test Acc: {'rocauc': 0.6163017287385772}\n"
          ]
        },
        {
          "output_type": "stream",
          "name": "stderr",
          "text": [
            "100% 54/54 [00:02<00:00, 22.38it/s]\n"
          ]
        },
        {
          "output_type": "stream",
          "name": "stdout",
          "text": [
            "loss returned: 0.23376715442182025\n"
          ]
        },
        {
          "output_type": "stream",
          "name": "stderr",
          "text": [
            "100% 7/7 [00:00<00:00, 49.56it/s]\n",
            "100% 7/7 [00:00<00:00, 53.08it/s]\n"
          ]
        },
        {
          "output_type": "stream",
          "name": "stdout",
          "text": [
            "Epoch: 134, Loss: 0.2338, Val Acc: {'rocauc': 0.6251997403121681}, Test Acc: {'rocauc': 0.6169217767932248}\n"
          ]
        },
        {
          "output_type": "stream",
          "name": "stderr",
          "text": [
            "100% 54/54 [00:02<00:00, 22.41it/s]\n"
          ]
        },
        {
          "output_type": "stream",
          "name": "stdout",
          "text": [
            "loss returned: 0.23326173714924137\n"
          ]
        },
        {
          "output_type": "stream",
          "name": "stderr",
          "text": [
            "100% 7/7 [00:00<00:00, 53.62it/s]\n",
            "100% 7/7 [00:00<00:00, 54.33it/s]\n"
          ]
        },
        {
          "output_type": "stream",
          "name": "stdout",
          "text": [
            "Epoch: 135, Loss: 0.2333, Val Acc: {'rocauc': 0.6222762498126592}, Test Acc: {'rocauc': 0.6169557625699316}\n"
          ]
        },
        {
          "output_type": "stream",
          "name": "stderr",
          "text": [
            "100% 54/54 [00:03<00:00, 17.11it/s]\n"
          ]
        },
        {
          "output_type": "stream",
          "name": "stdout",
          "text": [
            "loss returned: 0.23344943026411985\n"
          ]
        },
        {
          "output_type": "stream",
          "name": "stderr",
          "text": [
            "100% 7/7 [00:00<00:00, 50.80it/s]\n",
            "100% 7/7 [00:00<00:00, 53.21it/s]\n"
          ]
        },
        {
          "output_type": "stream",
          "name": "stdout",
          "text": [
            "Epoch: 136, Loss: 0.2334, Val Acc: {'rocauc': 0.6251207208854325}, Test Acc: {'rocauc': 0.6172646123955816}\n"
          ]
        },
        {
          "output_type": "stream",
          "name": "stderr",
          "text": [
            "100% 54/54 [00:02<00:00, 22.39it/s]\n"
          ]
        },
        {
          "output_type": "stream",
          "name": "stdout",
          "text": [
            "loss returned: 0.23309000179649442\n"
          ]
        },
        {
          "output_type": "stream",
          "name": "stderr",
          "text": [
            "100% 7/7 [00:00<00:00, 51.83it/s]\n",
            "100% 7/7 [00:00<00:00, 51.23it/s]\n"
          ]
        },
        {
          "output_type": "stream",
          "name": "stdout",
          "text": [
            "Epoch: 137, Loss: 0.2331, Val Acc: {'rocauc': 0.6260927575336532}, Test Acc: {'rocauc': 0.6178570714742925}\n"
          ]
        },
        {
          "output_type": "stream",
          "name": "stderr",
          "text": [
            "100% 54/54 [00:02<00:00, 22.42it/s]\n"
          ]
        },
        {
          "output_type": "stream",
          "name": "stdout",
          "text": [
            "loss returned: 0.2331493176715367\n"
          ]
        },
        {
          "output_type": "stream",
          "name": "stderr",
          "text": [
            "100% 7/7 [00:00<00:00, 50.88it/s]\n",
            "100% 7/7 [00:00<00:00, 34.76it/s]\n"
          ]
        },
        {
          "output_type": "stream",
          "name": "stdout",
          "text": [
            "Epoch: 138, Loss: 0.2331, Val Acc: {'rocauc': 0.625838521795411}, Test Acc: {'rocauc': 0.6181781779185543}\n"
          ]
        },
        {
          "output_type": "stream",
          "name": "stderr",
          "text": [
            "100% 54/54 [00:02<00:00, 20.75it/s]\n"
          ]
        },
        {
          "output_type": "stream",
          "name": "stdout",
          "text": [
            "loss returned: 0.23293850997099028\n"
          ]
        },
        {
          "output_type": "stream",
          "name": "stderr",
          "text": [
            "100% 7/7 [00:00<00:00, 49.19it/s]\n",
            "100% 7/7 [00:00<00:00, 48.28it/s]\n"
          ]
        },
        {
          "output_type": "stream",
          "name": "stdout",
          "text": [
            "Epoch: 139, Loss: 0.2329, Val Acc: {'rocauc': 0.6245185522846978}, Test Acc: {'rocauc': 0.6175376834133022}\n"
          ]
        },
        {
          "output_type": "stream",
          "name": "stderr",
          "text": [
            "100% 54/54 [00:02<00:00, 22.61it/s]\n"
          ]
        },
        {
          "output_type": "stream",
          "name": "stdout",
          "text": [
            "loss returned: 0.23309022712116687\n"
          ]
        },
        {
          "output_type": "stream",
          "name": "stderr",
          "text": [
            "100% 7/7 [00:00<00:00, 46.42it/s]\n",
            "100% 7/7 [00:00<00:00, 52.76it/s]\n"
          ]
        },
        {
          "output_type": "stream",
          "name": "stdout",
          "text": [
            "Epoch: 140, Loss: 0.2331, Val Acc: {'rocauc': 0.6249220137146192}, Test Acc: {'rocauc': 0.6175380319019665}\n"
          ]
        },
        {
          "output_type": "stream",
          "name": "stderr",
          "text": [
            "100% 54/54 [00:02<00:00, 19.89it/s]\n"
          ]
        },
        {
          "output_type": "stream",
          "name": "stdout",
          "text": [
            "loss returned: 0.23311447672350413\n"
          ]
        },
        {
          "output_type": "stream",
          "name": "stderr",
          "text": [
            "100% 7/7 [00:00<00:00, 35.21it/s]\n",
            "100% 7/7 [00:00<00:00, 38.36it/s]\n"
          ]
        },
        {
          "output_type": "stream",
          "name": "stdout",
          "text": [
            "Epoch: 141, Loss: 0.2331, Val Acc: {'rocauc': 0.6253478058282468}, Test Acc: {'rocauc': 0.6182574530965761}\n"
          ]
        },
        {
          "output_type": "stream",
          "name": "stderr",
          "text": [
            "100% 54/54 [00:02<00:00, 22.42it/s]\n"
          ]
        },
        {
          "output_type": "stream",
          "name": "stdout",
          "text": [
            "loss returned: 0.2332440391921441\n"
          ]
        },
        {
          "output_type": "stream",
          "name": "stderr",
          "text": [
            "100% 7/7 [00:00<00:00, 51.19it/s]\n",
            "100% 7/7 [00:00<00:00, 57.29it/s]\n"
          ]
        },
        {
          "output_type": "stream",
          "name": "stdout",
          "text": [
            "Epoch: 142, Loss: 0.2332, Val Acc: {'rocauc': 0.626646230449744}, Test Acc: {'rocauc': 0.6184059491687806}\n"
          ]
        },
        {
          "output_type": "stream",
          "name": "stderr",
          "text": [
            "100% 54/54 [00:02<00:00, 23.15it/s]\n"
          ]
        },
        {
          "output_type": "stream",
          "name": "stdout",
          "text": [
            "loss returned: 0.23341243875269987\n"
          ]
        },
        {
          "output_type": "stream",
          "name": "stderr",
          "text": [
            "100% 7/7 [00:00<00:00, 52.03it/s]\n",
            "100% 7/7 [00:00<00:00, 52.43it/s]\n"
          ]
        },
        {
          "output_type": "stream",
          "name": "stdout",
          "text": [
            "Epoch: 143, Loss: 0.2334, Val Acc: {'rocauc': 0.6242073216273877}, Test Acc: {'rocauc': 0.6190985516500888}\n"
          ]
        },
        {
          "output_type": "stream",
          "name": "stderr",
          "text": [
            "100% 54/54 [00:03<00:00, 17.54it/s]\n"
          ]
        },
        {
          "output_type": "stream",
          "name": "stdout",
          "text": [
            "loss returned: 0.23323517201940797\n"
          ]
        },
        {
          "output_type": "stream",
          "name": "stderr",
          "text": [
            "100% 7/7 [00:00<00:00, 49.98it/s]\n",
            "100% 7/7 [00:00<00:00, 53.07it/s]\n"
          ]
        },
        {
          "output_type": "stream",
          "name": "stdout",
          "text": [
            "Epoch: 144, Loss: 0.2332, Val Acc: {'rocauc': 0.6261911225098412}, Test Acc: {'rocauc': 0.6208527171758923}\n"
          ]
        },
        {
          "output_type": "stream",
          "name": "stderr",
          "text": [
            "100% 54/54 [00:02<00:00, 22.46it/s]\n"
          ]
        },
        {
          "output_type": "stream",
          "name": "stdout",
          "text": [
            "loss returned: 0.23332618247315765\n"
          ]
        },
        {
          "output_type": "stream",
          "name": "stderr",
          "text": [
            "100% 7/7 [00:00<00:00, 48.82it/s]\n",
            "100% 7/7 [00:00<00:00, 49.85it/s]\n"
          ]
        },
        {
          "output_type": "stream",
          "name": "stdout",
          "text": [
            "Epoch: 145, Loss: 0.2333, Val Acc: {'rocauc': 0.6276105974228573}, Test Acc: {'rocauc': 0.6181160771167035}\n"
          ]
        },
        {
          "output_type": "stream",
          "name": "stderr",
          "text": [
            "100% 54/54 [00:02<00:00, 22.28it/s]\n"
          ]
        },
        {
          "output_type": "stream",
          "name": "stdout",
          "text": [
            "loss returned: 0.23334316346283904\n"
          ]
        },
        {
          "output_type": "stream",
          "name": "stderr",
          "text": [
            "100% 7/7 [00:00<00:00, 50.32it/s]\n",
            "100% 7/7 [00:00<00:00, 53.42it/s]\n"
          ]
        },
        {
          "output_type": "stream",
          "name": "stdout",
          "text": [
            "Epoch: 146, Loss: 0.2333, Val Acc: {'rocauc': 0.6285394100793339}, Test Acc: {'rocauc': 0.619945495795796}\n"
          ]
        },
        {
          "output_type": "stream",
          "name": "stderr",
          "text": [
            "100% 54/54 [00:02<00:00, 18.88it/s]\n"
          ]
        },
        {
          "output_type": "stream",
          "name": "stdout",
          "text": [
            "loss returned: 0.23283063694617492\n"
          ]
        },
        {
          "output_type": "stream",
          "name": "stderr",
          "text": [
            "100% 7/7 [00:00<00:00, 50.59it/s]\n",
            "100% 7/7 [00:00<00:00, 56.03it/s]\n"
          ]
        },
        {
          "output_type": "stream",
          "name": "stdout",
          "text": [
            "Epoch: 147, Loss: 0.2328, Val Acc: {'rocauc': 0.6273506556450329}, Test Acc: {'rocauc': 0.6209514968942527}\n"
          ]
        },
        {
          "output_type": "stream",
          "name": "stderr",
          "text": [
            "100% 54/54 [00:02<00:00, 22.56it/s]\n"
          ]
        },
        {
          "output_type": "stream",
          "name": "stdout",
          "text": [
            "loss returned: 0.23284324871555362\n"
          ]
        },
        {
          "output_type": "stream",
          "name": "stderr",
          "text": [
            "100% 7/7 [00:00<00:00, 51.89it/s]\n",
            "100% 7/7 [00:00<00:00, 51.50it/s]\n"
          ]
        },
        {
          "output_type": "stream",
          "name": "stdout",
          "text": [
            "Epoch: 148, Loss: 0.2328, Val Acc: {'rocauc': 0.630655107581186}, Test Acc: {'rocauc': 0.6214840508873652}\n"
          ]
        },
        {
          "output_type": "stream",
          "name": "stderr",
          "text": [
            "100% 54/54 [00:02<00:00, 21.54it/s]\n"
          ]
        },
        {
          "output_type": "stream",
          "name": "stdout",
          "text": [
            "loss returned: 0.2331734283933139\n"
          ]
        },
        {
          "output_type": "stream",
          "name": "stderr",
          "text": [
            "100% 7/7 [00:00<00:00, 37.92it/s]\n",
            "100% 7/7 [00:00<00:00, 39.73it/s]\n"
          ]
        },
        {
          "output_type": "stream",
          "name": "stdout",
          "text": [
            "Epoch: 149, Loss: 0.2332, Val Acc: {'rocauc': 0.6279645057881461}, Test Acc: {'rocauc': 0.6219798183610754}\n"
          ]
        },
        {
          "output_type": "stream",
          "name": "stderr",
          "text": [
            "100% 54/54 [00:02<00:00, 19.70it/s]\n"
          ]
        },
        {
          "output_type": "stream",
          "name": "stdout",
          "text": [
            "loss returned: 0.233034379245936\n"
          ]
        },
        {
          "output_type": "stream",
          "name": "stderr",
          "text": [
            "100% 7/7 [00:00<00:00, 48.21it/s]\n",
            "100% 7/7 [00:00<00:00, 51.26it/s]\n"
          ]
        },
        {
          "output_type": "stream",
          "name": "stdout",
          "text": [
            "Epoch: 150, Loss: 0.2330, Val Acc: {'rocauc': 0.6282956968466537}, Test Acc: {'rocauc': 0.6216399303814817}\n"
          ]
        },
        {
          "output_type": "stream",
          "name": "stderr",
          "text": [
            "100% 54/54 [00:02<00:00, 22.27it/s]\n"
          ]
        },
        {
          "output_type": "stream",
          "name": "stdout",
          "text": [
            "loss returned: 0.2328407904149492\n"
          ]
        },
        {
          "output_type": "stream",
          "name": "stderr",
          "text": [
            "100% 7/7 [00:00<00:00, 48.92it/s]\n",
            "100% 7/7 [00:00<00:00, 52.65it/s]\n"
          ]
        },
        {
          "output_type": "stream",
          "name": "stdout",
          "text": [
            "Epoch: 151, Loss: 0.2328, Val Acc: {'rocauc': 0.628808950371572}, Test Acc: {'rocauc': 0.6230945908756641}\n"
          ]
        },
        {
          "output_type": "stream",
          "name": "stderr",
          "text": [
            "100% 54/54 [00:03<00:00, 17.51it/s]\n"
          ]
        },
        {
          "output_type": "stream",
          "name": "stdout",
          "text": [
            "loss returned: 0.23347353024663453\n"
          ]
        },
        {
          "output_type": "stream",
          "name": "stderr",
          "text": [
            "100% 7/7 [00:00<00:00, 34.04it/s]\n",
            "100% 7/7 [00:00<00:00, 50.67it/s]\n"
          ]
        },
        {
          "output_type": "stream",
          "name": "stdout",
          "text": [
            "Epoch: 152, Loss: 0.2335, Val Acc: {'rocauc': 0.6293556415610984}, Test Acc: {'rocauc': 0.621936808202484}\n"
          ]
        },
        {
          "output_type": "stream",
          "name": "stderr",
          "text": [
            "100% 54/54 [00:02<00:00, 22.22it/s]\n"
          ]
        },
        {
          "output_type": "stream",
          "name": "stdout",
          "text": [
            "loss returned: 0.233239664732541\n"
          ]
        },
        {
          "output_type": "stream",
          "name": "stderr",
          "text": [
            "100% 7/7 [00:00<00:00, 49.10it/s]\n",
            "100% 7/7 [00:00<00:00, 49.84it/s]\n"
          ]
        },
        {
          "output_type": "stream",
          "name": "stdout",
          "text": [
            "Epoch: 153, Loss: 0.2332, Val Acc: {'rocauc': 0.6260132371163563}, Test Acc: {'rocauc': 0.6219689118820789}\n"
          ]
        },
        {
          "output_type": "stream",
          "name": "stderr",
          "text": [
            "100% 54/54 [00:02<00:00, 22.04it/s]\n"
          ]
        },
        {
          "output_type": "stream",
          "name": "stdout",
          "text": [
            "loss returned: 0.2323669668363065\n"
          ]
        },
        {
          "output_type": "stream",
          "name": "stderr",
          "text": [
            "100% 7/7 [00:00<00:00, 44.47it/s]\n",
            "100% 7/7 [00:00<00:00, 46.71it/s]\n"
          ]
        },
        {
          "output_type": "stream",
          "name": "stdout",
          "text": [
            "Epoch: 154, Loss: 0.2324, Val Acc: {'rocauc': 0.6297635019800459}, Test Acc: {'rocauc': 0.6233428283734621}\n"
          ]
        },
        {
          "output_type": "stream",
          "name": "stderr",
          "text": [
            "100% 54/54 [00:02<00:00, 19.01it/s]\n"
          ]
        },
        {
          "output_type": "stream",
          "name": "stdout",
          "text": [
            "loss returned: 0.23293037153020196\n"
          ]
        },
        {
          "output_type": "stream",
          "name": "stderr",
          "text": [
            "100% 7/7 [00:00<00:00, 43.51it/s]\n",
            "100% 7/7 [00:00<00:00, 46.68it/s]\n"
          ]
        },
        {
          "output_type": "stream",
          "name": "stdout",
          "text": [
            "Epoch: 155, Loss: 0.2329, Val Acc: {'rocauc': 0.6290060840615269}, Test Acc: {'rocauc': 0.6232797960700781}\n"
          ]
        },
        {
          "output_type": "stream",
          "name": "stderr",
          "text": [
            "100% 54/54 [00:02<00:00, 21.79it/s]\n"
          ]
        },
        {
          "output_type": "stream",
          "name": "stdout",
          "text": [
            "loss returned: 0.2326697016683334\n"
          ]
        },
        {
          "output_type": "stream",
          "name": "stderr",
          "text": [
            "100% 7/7 [00:00<00:00, 47.73it/s]\n",
            "100% 7/7 [00:00<00:00, 51.54it/s]\n"
          ]
        },
        {
          "output_type": "stream",
          "name": "stdout",
          "text": [
            "Epoch: 156, Loss: 0.2327, Val Acc: {'rocauc': 0.6306531052581301}, Test Acc: {'rocauc': 0.6250614143692751}\n"
          ]
        },
        {
          "output_type": "stream",
          "name": "stderr",
          "text": [
            "100% 54/54 [00:02<00:00, 21.44it/s]\n"
          ]
        },
        {
          "output_type": "stream",
          "name": "stdout",
          "text": [
            "loss returned: 0.2327052154103104\n"
          ]
        },
        {
          "output_type": "stream",
          "name": "stderr",
          "text": [
            "100% 7/7 [00:00<00:00, 36.77it/s]\n",
            "100% 7/7 [00:00<00:00, 38.47it/s]\n"
          ]
        },
        {
          "output_type": "stream",
          "name": "stdout",
          "text": [
            "Epoch: 157, Loss: 0.2327, Val Acc: {'rocauc': 0.6287710639589531}, Test Acc: {'rocauc': 0.6230180692685344}\n"
          ]
        },
        {
          "output_type": "stream",
          "name": "stderr",
          "text": [
            "100% 54/54 [00:02<00:00, 21.93it/s]\n"
          ]
        },
        {
          "output_type": "stream",
          "name": "stdout",
          "text": [
            "loss returned: 0.23208308582229448\n"
          ]
        },
        {
          "output_type": "stream",
          "name": "stderr",
          "text": [
            "100% 7/7 [00:00<00:00, 49.68it/s]\n",
            "100% 7/7 [00:00<00:00, 48.28it/s]\n"
          ]
        },
        {
          "output_type": "stream",
          "name": "stdout",
          "text": [
            "Epoch: 158, Loss: 0.2321, Val Acc: {'rocauc': 0.6302636362010047}, Test Acc: {'rocauc': 0.623162367262704}\n"
          ]
        },
        {
          "output_type": "stream",
          "name": "stderr",
          "text": [
            "100% 54/54 [00:02<00:00, 21.94it/s]\n"
          ]
        },
        {
          "output_type": "stream",
          "name": "stdout",
          "text": [
            "loss returned: 0.23281350107999307\n"
          ]
        },
        {
          "output_type": "stream",
          "name": "stderr",
          "text": [
            "100% 7/7 [00:00<00:00, 49.00it/s]\n",
            "100% 7/7 [00:00<00:00, 48.77it/s]\n"
          ]
        },
        {
          "output_type": "stream",
          "name": "stdout",
          "text": [
            "Epoch: 159, Loss: 0.2328, Val Acc: {'rocauc': 0.6293687899622423}, Test Acc: {'rocauc': 0.6234303546672745}\n"
          ]
        },
        {
          "output_type": "stream",
          "name": "stderr",
          "text": [
            "100% 54/54 [00:03<00:00, 17.86it/s]\n"
          ]
        },
        {
          "output_type": "stream",
          "name": "stdout",
          "text": [
            "loss returned: 0.23266196231800335\n"
          ]
        },
        {
          "output_type": "stream",
          "name": "stderr",
          "text": [
            "100% 7/7 [00:00<00:00, 36.70it/s]\n",
            "100% 7/7 [00:00<00:00, 50.67it/s]\n"
          ]
        },
        {
          "output_type": "stream",
          "name": "stdout",
          "text": [
            "Epoch: 160, Loss: 0.2327, Val Acc: {'rocauc': 0.6304914583214517}, Test Acc: {'rocauc': 0.6234819370286584}\n"
          ]
        },
        {
          "output_type": "stream",
          "name": "stderr",
          "text": [
            "100% 54/54 [00:02<00:00, 22.24it/s]\n"
          ]
        },
        {
          "output_type": "stream",
          "name": "stdout",
          "text": [
            "loss returned: 0.23206463360577909\n"
          ]
        },
        {
          "output_type": "stream",
          "name": "stderr",
          "text": [
            "100% 7/7 [00:00<00:00, 45.93it/s]\n",
            "100% 7/7 [00:00<00:00, 50.69it/s]\n"
          ]
        },
        {
          "output_type": "stream",
          "name": "stdout",
          "text": [
            "Epoch: 161, Loss: 0.2321, Val Acc: {'rocauc': 0.6293013412815726}, Test Acc: {'rocauc': 0.6246426075926924}\n"
          ]
        },
        {
          "output_type": "stream",
          "name": "stderr",
          "text": [
            "100% 54/54 [00:02<00:00, 21.99it/s]\n"
          ]
        },
        {
          "output_type": "stream",
          "name": "stdout",
          "text": [
            "loss returned: 0.23322454711786164\n"
          ]
        },
        {
          "output_type": "stream",
          "name": "stderr",
          "text": [
            "100% 7/7 [00:00<00:00, 46.49it/s]\n",
            "100% 7/7 [00:00<00:00, 50.92it/s]\n"
          ]
        },
        {
          "output_type": "stream",
          "name": "stdout",
          "text": [
            "Epoch: 162, Loss: 0.2332, Val Acc: {'rocauc': 0.6308903677654909}, Test Acc: {'rocauc': 0.624513545817319}\n"
          ]
        },
        {
          "output_type": "stream",
          "name": "stderr",
          "text": [
            "100% 54/54 [00:02<00:00, 18.03it/s]\n"
          ]
        },
        {
          "output_type": "stream",
          "name": "stdout",
          "text": [
            "loss returned: 0.23241506554294952\n"
          ]
        },
        {
          "output_type": "stream",
          "name": "stderr",
          "text": [
            "100% 7/7 [00:00<00:00, 50.17it/s]\n",
            "100% 7/7 [00:00<00:00, 51.01it/s]\n"
          ]
        },
        {
          "output_type": "stream",
          "name": "stdout",
          "text": [
            "Epoch: 163, Loss: 0.2324, Val Acc: {'rocauc': 0.6306891338494368}, Test Acc: {'rocauc': 0.6234911320953951}\n"
          ]
        },
        {
          "output_type": "stream",
          "name": "stderr",
          "text": [
            "100% 54/54 [00:02<00:00, 22.08it/s]\n"
          ]
        },
        {
          "output_type": "stream",
          "name": "stdout",
          "text": [
            "loss returned: 0.2326481021701768\n"
          ]
        },
        {
          "output_type": "stream",
          "name": "stderr",
          "text": [
            "100% 7/7 [00:00<00:00, 48.45it/s]\n",
            "100% 7/7 [00:00<00:00, 47.91it/s]\n"
          ]
        },
        {
          "output_type": "stream",
          "name": "stdout",
          "text": [
            "Epoch: 164, Loss: 0.2326, Val Acc: {'rocauc': 0.6289782914318104}, Test Acc: {'rocauc': 0.6233950674736584}\n"
          ]
        },
        {
          "output_type": "stream",
          "name": "stderr",
          "text": [
            "100% 54/54 [00:02<00:00, 22.03it/s]\n"
          ]
        },
        {
          "output_type": "stream",
          "name": "stdout",
          "text": [
            "loss returned: 0.23250894636871516\n"
          ]
        },
        {
          "output_type": "stream",
          "name": "stderr",
          "text": [
            "100% 7/7 [00:00<00:00, 40.12it/s]\n",
            "100% 7/7 [00:00<00:00, 37.46it/s]\n"
          ]
        },
        {
          "output_type": "stream",
          "name": "stdout",
          "text": [
            "Epoch: 165, Loss: 0.2325, Val Acc: {'rocauc': 0.6294470080215366}, Test Acc: {'rocauc': 0.6232345749320183}\n"
          ]
        },
        {
          "output_type": "stream",
          "name": "stderr",
          "text": [
            "100% 54/54 [00:02<00:00, 21.83it/s]\n"
          ]
        },
        {
          "output_type": "stream",
          "name": "stdout",
          "text": [
            "loss returned: 0.2325729896480071\n"
          ]
        },
        {
          "output_type": "stream",
          "name": "stderr",
          "text": [
            "100% 7/7 [00:00<00:00, 47.54it/s]\n",
            "100% 7/7 [00:00<00:00, 50.75it/s]\n"
          ]
        },
        {
          "output_type": "stream",
          "name": "stdout",
          "text": [
            "Epoch: 166, Loss: 0.2326, Val Acc: {'rocauc': 0.6275113642994438}, Test Acc: {'rocauc': 0.6245364163936693}\n"
          ]
        },
        {
          "output_type": "stream",
          "name": "stderr",
          "text": [
            "100% 54/54 [00:02<00:00, 21.70it/s]\n"
          ]
        },
        {
          "output_type": "stream",
          "name": "stdout",
          "text": [
            "loss returned: 0.2328703327533455\n"
          ]
        },
        {
          "output_type": "stream",
          "name": "stderr",
          "text": [
            "100% 7/7 [00:00<00:00, 46.55it/s]\n",
            "100% 7/7 [00:00<00:00, 47.44it/s]\n"
          ]
        },
        {
          "output_type": "stream",
          "name": "stdout",
          "text": [
            "Epoch: 167, Loss: 0.2329, Val Acc: {'rocauc': 0.6317014197830557}, Test Acc: {'rocauc': 0.624512703244162}\n"
          ]
        },
        {
          "output_type": "stream",
          "name": "stderr",
          "text": [
            "100% 54/54 [00:03<00:00, 17.94it/s]\n"
          ]
        },
        {
          "output_type": "stream",
          "name": "stdout",
          "text": [
            "loss returned: 0.2322411085617438\n"
          ]
        },
        {
          "output_type": "stream",
          "name": "stderr",
          "text": [
            "100% 7/7 [00:00<00:00, 36.20it/s]\n",
            "100% 7/7 [00:00<00:00, 52.09it/s]\n"
          ]
        },
        {
          "output_type": "stream",
          "name": "stdout",
          "text": [
            "Epoch: 168, Loss: 0.2322, Val Acc: {'rocauc': 0.6319359438754797}, Test Acc: {'rocauc': 0.6245548303066033}\n"
          ]
        },
        {
          "output_type": "stream",
          "name": "stderr",
          "text": [
            "100% 54/54 [00:02<00:00, 21.88it/s]\n"
          ]
        },
        {
          "output_type": "stream",
          "name": "stdout",
          "text": [
            "loss returned: 0.23220470594595194\n"
          ]
        },
        {
          "output_type": "stream",
          "name": "stderr",
          "text": [
            "100% 7/7 [00:00<00:00, 44.79it/s]\n",
            "100% 7/7 [00:00<00:00, 50.43it/s]\n"
          ]
        },
        {
          "output_type": "stream",
          "name": "stdout",
          "text": [
            "Epoch: 169, Loss: 0.2322, Val Acc: {'rocauc': 0.6302824691640411}, Test Acc: {'rocauc': 0.6253115227557895}\n"
          ]
        },
        {
          "output_type": "stream",
          "name": "stderr",
          "text": [
            "100% 54/54 [00:02<00:00, 21.85it/s]\n"
          ]
        },
        {
          "output_type": "stream",
          "name": "stdout",
          "text": [
            "loss returned: 0.232502073310207\n"
          ]
        },
        {
          "output_type": "stream",
          "name": "stderr",
          "text": [
            "100% 7/7 [00:00<00:00, 44.79it/s]\n",
            "100% 7/7 [00:00<00:00, 48.75it/s]\n"
          ]
        },
        {
          "output_type": "stream",
          "name": "stdout",
          "text": [
            "Epoch: 170, Loss: 0.2325, Val Acc: {'rocauc': 0.6304460879887259}, Test Acc: {'rocauc': 0.6270398349638898}\n"
          ]
        },
        {
          "output_type": "stream",
          "name": "stderr",
          "text": [
            "100% 54/54 [00:03<00:00, 17.91it/s]\n"
          ]
        },
        {
          "output_type": "stream",
          "name": "stdout",
          "text": [
            "loss returned: 0.23257528816298215\n"
          ]
        },
        {
          "output_type": "stream",
          "name": "stderr",
          "text": [
            "100% 7/7 [00:00<00:00, 46.62it/s]\n",
            "100% 7/7 [00:00<00:00, 49.85it/s]\n"
          ]
        },
        {
          "output_type": "stream",
          "name": "stdout",
          "text": [
            "Epoch: 171, Loss: 0.2326, Val Acc: {'rocauc': 0.6314206459650702}, Test Acc: {'rocauc': 0.6268101999519772}\n"
          ]
        },
        {
          "output_type": "stream",
          "name": "stderr",
          "text": [
            "100% 54/54 [00:02<00:00, 21.79it/s]\n"
          ]
        },
        {
          "output_type": "stream",
          "name": "stdout",
          "text": [
            "loss returned: 0.23220638309553832\n"
          ]
        },
        {
          "output_type": "stream",
          "name": "stderr",
          "text": [
            "100% 7/7 [00:00<00:00, 48.41it/s]\n",
            "100% 7/7 [00:00<00:00, 52.08it/s]\n"
          ]
        },
        {
          "output_type": "stream",
          "name": "stdout",
          "text": [
            "Epoch: 172, Loss: 0.2322, Val Acc: {'rocauc': 0.6290758572283175}, Test Acc: {'rocauc': 0.623918541596994}\n"
          ]
        },
        {
          "output_type": "stream",
          "name": "stderr",
          "text": [
            "100% 54/54 [00:02<00:00, 20.81it/s]\n"
          ]
        },
        {
          "output_type": "stream",
          "name": "stdout",
          "text": [
            "loss returned: 0.23201136435259884\n"
          ]
        },
        {
          "output_type": "stream",
          "name": "stderr",
          "text": [
            "100% 7/7 [00:00<00:00, 37.44it/s]\n",
            "100% 7/7 [00:00<00:00, 37.71it/s]\n"
          ]
        },
        {
          "output_type": "stream",
          "name": "stdout",
          "text": [
            "Epoch: 173, Loss: 0.2320, Val Acc: {'rocauc': 0.6312642597331175}, Test Acc: {'rocauc': 0.6250558474210597}\n"
          ]
        },
        {
          "output_type": "stream",
          "name": "stderr",
          "text": [
            "100% 54/54 [00:02<00:00, 20.97it/s]\n"
          ]
        },
        {
          "output_type": "stream",
          "name": "stdout",
          "text": [
            "loss returned: 0.23236132921004782\n"
          ]
        },
        {
          "output_type": "stream",
          "name": "stderr",
          "text": [
            "100% 7/7 [00:00<00:00, 46.14it/s]\n",
            "100% 7/7 [00:00<00:00, 49.11it/s]\n"
          ]
        },
        {
          "output_type": "stream",
          "name": "stdout",
          "text": [
            "Epoch: 174, Loss: 0.2324, Val Acc: {'rocauc': 0.6298803256627906}, Test Acc: {'rocauc': 0.626789574933706}\n"
          ]
        },
        {
          "output_type": "stream",
          "name": "stderr",
          "text": [
            "100% 54/54 [00:02<00:00, 20.09it/s]\n"
          ]
        },
        {
          "output_type": "stream",
          "name": "stdout",
          "text": [
            "loss returned: 0.23240603068653418\n"
          ]
        },
        {
          "output_type": "stream",
          "name": "stderr",
          "text": [
            "100% 7/7 [00:00<00:00, 47.24it/s]\n",
            "100% 7/7 [00:00<00:00, 49.29it/s]\n"
          ]
        },
        {
          "output_type": "stream",
          "name": "stdout",
          "text": [
            "Epoch: 175, Loss: 0.2324, Val Acc: {'rocauc': 0.6317855333425412}, Test Acc: {'rocauc': 0.6256800447925045}\n"
          ]
        },
        {
          "output_type": "stream",
          "name": "stderr",
          "text": [
            "100% 54/54 [00:03<00:00, 15.87it/s]\n"
          ]
        },
        {
          "output_type": "stream",
          "name": "stdout",
          "text": [
            "loss returned: 0.23230300619546596\n"
          ]
        },
        {
          "output_type": "stream",
          "name": "stderr",
          "text": [
            "100% 7/7 [00:00<00:00, 47.66it/s]\n",
            "100% 7/7 [00:00<00:00, 47.23it/s]\n"
          ]
        },
        {
          "output_type": "stream",
          "name": "stdout",
          "text": [
            "Epoch: 176, Loss: 0.2323, Val Acc: {'rocauc': 0.6311187289106046}, Test Acc: {'rocauc': 0.62636802882572}\n"
          ]
        },
        {
          "output_type": "stream",
          "name": "stderr",
          "text": [
            "100% 54/54 [00:02<00:00, 19.99it/s]\n"
          ]
        },
        {
          "output_type": "stream",
          "name": "stdout",
          "text": [
            "loss returned: 0.23195566011934865\n"
          ]
        },
        {
          "output_type": "stream",
          "name": "stderr",
          "text": [
            "100% 7/7 [00:00<00:00, 47.28it/s]\n",
            "100% 7/7 [00:00<00:00, 48.81it/s]\n"
          ]
        },
        {
          "output_type": "stream",
          "name": "stdout",
          "text": [
            "Epoch: 177, Loss: 0.2320, Val Acc: {'rocauc': 0.6324260531700532}, Test Acc: {'rocauc': 0.6264202270337362}\n"
          ]
        },
        {
          "output_type": "stream",
          "name": "stderr",
          "text": [
            "100% 54/54 [00:02<00:00, 19.61it/s]\n"
          ]
        },
        {
          "output_type": "stream",
          "name": "stdout",
          "text": [
            "loss returned: 0.23186327027857478\n"
          ]
        },
        {
          "output_type": "stream",
          "name": "stderr",
          "text": [
            "100% 7/7 [00:00<00:00, 47.61it/s]\n",
            "100% 7/7 [00:00<00:00, 35.55it/s]\n"
          ]
        },
        {
          "output_type": "stream",
          "name": "stdout",
          "text": [
            "Epoch: 178, Loss: 0.2319, Val Acc: {'rocauc': 0.6301877521997962}, Test Acc: {'rocauc': 0.6264484204467359}\n"
          ]
        },
        {
          "output_type": "stream",
          "name": "stderr",
          "text": [
            "100% 54/54 [00:03<00:00, 17.58it/s]\n"
          ]
        },
        {
          "output_type": "stream",
          "name": "stdout",
          "text": [
            "loss returned: 0.23259567351626237\n"
          ]
        },
        {
          "output_type": "stream",
          "name": "stderr",
          "text": [
            "100% 7/7 [00:00<00:00, 47.48it/s]\n",
            "100% 7/7 [00:00<00:00, 50.23it/s]\n"
          ]
        },
        {
          "output_type": "stream",
          "name": "stdout",
          "text": [
            "Epoch: 179, Loss: 0.2326, Val Acc: {'rocauc': 0.632705212272976}, Test Acc: {'rocauc': 0.6260093805493335}\n"
          ]
        },
        {
          "output_type": "stream",
          "name": "stderr",
          "text": [
            "100% 54/54 [00:02<00:00, 19.28it/s]\n"
          ]
        },
        {
          "output_type": "stream",
          "name": "stdout",
          "text": [
            "loss returned: 0.23214375241157265\n"
          ]
        },
        {
          "output_type": "stream",
          "name": "stderr",
          "text": [
            "100% 7/7 [00:00<00:00, 45.36it/s]\n",
            "100% 7/7 [00:00<00:00, 48.59it/s]\n"
          ]
        },
        {
          "output_type": "stream",
          "name": "stdout",
          "text": [
            "Epoch: 180, Loss: 0.2321, Val Acc: {'rocauc': 0.6324954751580091}, Test Acc: {'rocauc': 0.6273128643215119}\n"
          ]
        },
        {
          "output_type": "stream",
          "name": "stderr",
          "text": [
            "100% 54/54 [00:03<00:00, 15.64it/s]\n"
          ]
        },
        {
          "output_type": "stream",
          "name": "stdout",
          "text": [
            "loss returned: 0.23204174772469713\n"
          ]
        },
        {
          "output_type": "stream",
          "name": "stderr",
          "text": [
            "100% 7/7 [00:00<00:00, 43.81it/s]\n",
            "100% 7/7 [00:00<00:00, 48.99it/s]\n"
          ]
        },
        {
          "output_type": "stream",
          "name": "stdout",
          "text": [
            "Epoch: 181, Loss: 0.2320, Val Acc: {'rocauc': 0.6324943857621094}, Test Acc: {'rocauc': 0.6271893287706716}\n"
          ]
        },
        {
          "output_type": "stream",
          "name": "stderr",
          "text": [
            "100% 54/54 [00:02<00:00, 19.15it/s]\n"
          ]
        },
        {
          "output_type": "stream",
          "name": "stdout",
          "text": [
            "loss returned: 0.23216113392535173\n"
          ]
        },
        {
          "output_type": "stream",
          "name": "stderr",
          "text": [
            "100% 7/7 [00:00<00:00, 48.51it/s]\n",
            "100% 7/7 [00:00<00:00, 47.44it/s]\n"
          ]
        },
        {
          "output_type": "stream",
          "name": "stdout",
          "text": [
            "Epoch: 182, Loss: 0.2322, Val Acc: {'rocauc': 0.6332700738196886}, Test Acc: {'rocauc': 0.6278000299819088}\n"
          ]
        },
        {
          "output_type": "stream",
          "name": "stderr",
          "text": [
            "100% 54/54 [00:02<00:00, 18.10it/s]\n"
          ]
        },
        {
          "output_type": "stream",
          "name": "stdout",
          "text": [
            "loss returned: 0.2321198860253954\n"
          ]
        },
        {
          "output_type": "stream",
          "name": "stderr",
          "text": [
            "100% 7/7 [00:00<00:00, 33.99it/s]\n",
            "100% 7/7 [00:00<00:00, 36.82it/s]\n"
          ]
        },
        {
          "output_type": "stream",
          "name": "stdout",
          "text": [
            "Epoch: 183, Loss: 0.2321, Val Acc: {'rocauc': 0.6323233269000883}, Test Acc: {'rocauc': 0.6271445770005064}\n"
          ]
        },
        {
          "output_type": "stream",
          "name": "stderr",
          "text": [
            "100% 54/54 [00:02<00:00, 19.21it/s]\n"
          ]
        },
        {
          "output_type": "stream",
          "name": "stdout",
          "text": [
            "loss returned: 0.23251386072823327\n"
          ]
        },
        {
          "output_type": "stream",
          "name": "stderr",
          "text": [
            "100% 7/7 [00:00<00:00, 44.19it/s]\n",
            "100% 7/7 [00:00<00:00, 45.80it/s]\n"
          ]
        },
        {
          "output_type": "stream",
          "name": "stdout",
          "text": [
            "Epoch: 184, Loss: 0.2325, Val Acc: {'rocauc': 0.6336008835666157}, Test Acc: {'rocauc': 0.6283806616193127}\n"
          ]
        },
        {
          "output_type": "stream",
          "name": "stderr",
          "text": [
            "100% 54/54 [00:02<00:00, 19.46it/s]\n"
          ]
        },
        {
          "output_type": "stream",
          "name": "stdout",
          "text": [
            "loss returned: 0.23221940813537242\n"
          ]
        },
        {
          "output_type": "stream",
          "name": "stderr",
          "text": [
            "100% 7/7 [00:00<00:00, 45.83it/s]\n",
            "100% 7/7 [00:00<00:00, 45.74it/s]\n"
          ]
        },
        {
          "output_type": "stream",
          "name": "stdout",
          "text": [
            "Epoch: 185, Loss: 0.2322, Val Acc: {'rocauc': 0.6323839872177806}, Test Acc: {'rocauc': 0.6288262575852058}\n"
          ]
        },
        {
          "output_type": "stream",
          "name": "stderr",
          "text": [
            "100% 54/54 [00:03<00:00, 15.59it/s]\n"
          ]
        },
        {
          "output_type": "stream",
          "name": "stdout",
          "text": [
            "loss returned: 0.23215407978515235\n"
          ]
        },
        {
          "output_type": "stream",
          "name": "stderr",
          "text": [
            "100% 7/7 [00:00<00:00, 44.55it/s]\n",
            "100% 7/7 [00:00<00:00, 47.40it/s]\n"
          ]
        },
        {
          "output_type": "stream",
          "name": "stdout",
          "text": [
            "Epoch: 186, Loss: 0.2322, Val Acc: {'rocauc': 0.6340354082974073}, Test Acc: {'rocauc': 0.6278563671370002}\n"
          ]
        },
        {
          "output_type": "stream",
          "name": "stderr",
          "text": [
            "100% 54/54 [00:02<00:00, 19.31it/s]\n"
          ]
        },
        {
          "output_type": "stream",
          "name": "stdout",
          "text": [
            "loss returned: 0.23220039354990243\n"
          ]
        },
        {
          "output_type": "stream",
          "name": "stderr",
          "text": [
            "100% 7/7 [00:00<00:00, 44.47it/s]\n",
            "100% 7/7 [00:00<00:00, 47.59it/s]\n"
          ]
        },
        {
          "output_type": "stream",
          "name": "stdout",
          "text": [
            "Epoch: 187, Loss: 0.2322, Val Acc: {'rocauc': 0.6335051659880435}, Test Acc: {'rocauc': 0.629181851382517}\n"
          ]
        },
        {
          "output_type": "stream",
          "name": "stderr",
          "text": [
            "100% 54/54 [00:03<00:00, 17.98it/s]\n"
          ]
        },
        {
          "output_type": "stream",
          "name": "stdout",
          "text": [
            "loss returned: 0.2319698831951653\n"
          ]
        },
        {
          "output_type": "stream",
          "name": "stderr",
          "text": [
            "100% 7/7 [00:00<00:00, 30.48it/s]\n",
            "100% 7/7 [00:00<00:00, 38.49it/s]\n"
          ]
        },
        {
          "output_type": "stream",
          "name": "stdout",
          "text": [
            "Epoch: 188, Loss: 0.2320, Val Acc: {'rocauc': 0.6333724793819006}, Test Acc: {'rocauc': 0.6269056093780253}\n"
          ]
        },
        {
          "output_type": "stream",
          "name": "stderr",
          "text": [
            "100% 54/54 [00:02<00:00, 19.68it/s]\n"
          ]
        },
        {
          "output_type": "stream",
          "name": "stdout",
          "text": [
            "loss returned: 0.23204326700886208\n"
          ]
        },
        {
          "output_type": "stream",
          "name": "stderr",
          "text": [
            "100% 7/7 [00:00<00:00, 48.00it/s]\n",
            "100% 7/7 [00:00<00:00, 50.75it/s]\n"
          ]
        },
        {
          "output_type": "stream",
          "name": "stdout",
          "text": [
            "Epoch: 189, Loss: 0.2320, Val Acc: {'rocauc': 0.6328874701076201}, Test Acc: {'rocauc': 0.6306949656932773}\n"
          ]
        },
        {
          "output_type": "stream",
          "name": "stderr",
          "text": [
            "100% 54/54 [00:02<00:00, 19.66it/s]\n"
          ]
        },
        {
          "output_type": "stream",
          "name": "stdout",
          "text": [
            "loss returned: 0.232027360432002\n"
          ]
        },
        {
          "output_type": "stream",
          "name": "stderr",
          "text": [
            "100% 7/7 [00:00<00:00, 44.37it/s]\n",
            "100% 7/7 [00:00<00:00, 49.93it/s]\n"
          ]
        },
        {
          "output_type": "stream",
          "name": "stdout",
          "text": [
            "Epoch: 190, Loss: 0.2320, Val Acc: {'rocauc': 0.6336771538432509}, Test Acc: {'rocauc': 0.6307247257228333}\n"
          ]
        },
        {
          "output_type": "stream",
          "name": "stderr",
          "text": [
            "100% 54/54 [00:03<00:00, 16.28it/s]\n"
          ]
        },
        {
          "output_type": "stream",
          "name": "stdout",
          "text": [
            "loss returned: 0.23144659605040147\n"
          ]
        },
        {
          "output_type": "stream",
          "name": "stderr",
          "text": [
            "100% 7/7 [00:00<00:00, 48.17it/s]\n",
            "100% 7/7 [00:00<00:00, 50.77it/s]\n"
          ]
        },
        {
          "output_type": "stream",
          "name": "stdout",
          "text": [
            "Epoch: 191, Loss: 0.2314, Val Acc: {'rocauc': 0.6340832453317242}, Test Acc: {'rocauc': 0.6300705685547208}\n"
          ]
        },
        {
          "output_type": "stream",
          "name": "stderr",
          "text": [
            "100% 54/54 [00:02<00:00, 19.43it/s]\n"
          ]
        },
        {
          "output_type": "stream",
          "name": "stdout",
          "text": [
            "loss returned: 0.23192604303186212\n"
          ]
        },
        {
          "output_type": "stream",
          "name": "stderr",
          "text": [
            "100% 7/7 [00:00<00:00, 44.46it/s]\n",
            "100% 7/7 [00:00<00:00, 48.84it/s]\n"
          ]
        },
        {
          "output_type": "stream",
          "name": "stdout",
          "text": [
            "Epoch: 192, Loss: 0.2319, Val Acc: {'rocauc': 0.6317978375796561}, Test Acc: {'rocauc': 0.6291394192549012}\n"
          ]
        },
        {
          "output_type": "stream",
          "name": "stderr",
          "text": [
            "100% 54/54 [00:03<00:00, 17.53it/s]\n"
          ]
        },
        {
          "output_type": "stream",
          "name": "stdout",
          "text": [
            "loss returned: 0.23225332049343397\n"
          ]
        },
        {
          "output_type": "stream",
          "name": "stderr",
          "text": [
            "100% 7/7 [00:00<00:00, 36.44it/s]\n",
            "100% 7/7 [00:00<00:00, 40.15it/s]\n"
          ]
        },
        {
          "output_type": "stream",
          "name": "stdout",
          "text": [
            "Epoch: 193, Loss: 0.2323, Val Acc: {'rocauc': 0.632355169895183}, Test Acc: {'rocauc': 0.6288816120181541}\n"
          ]
        },
        {
          "output_type": "stream",
          "name": "stderr",
          "text": [
            "100% 54/54 [00:02<00:00, 19.20it/s]\n"
          ]
        },
        {
          "output_type": "stream",
          "name": "stdout",
          "text": [
            "loss returned: 0.23181500431399998\n"
          ]
        },
        {
          "output_type": "stream",
          "name": "stderr",
          "text": [
            "100% 7/7 [00:00<00:00, 43.42it/s]\n",
            "100% 7/7 [00:00<00:00, 45.53it/s]\n"
          ]
        },
        {
          "output_type": "stream",
          "name": "stdout",
          "text": [
            "Epoch: 194, Loss: 0.2318, Val Acc: {'rocauc': 0.6340384970470833}, Test Acc: {'rocauc': 0.6295992928978333}\n"
          ]
        },
        {
          "output_type": "stream",
          "name": "stderr",
          "text": [
            "100% 54/54 [00:02<00:00, 19.12it/s]\n"
          ]
        },
        {
          "output_type": "stream",
          "name": "stdout",
          "text": [
            "loss returned: 0.23256365166808704\n"
          ]
        },
        {
          "output_type": "stream",
          "name": "stderr",
          "text": [
            "100% 7/7 [00:00<00:00, 41.75it/s]\n",
            "100% 7/7 [00:00<00:00, 44.35it/s]\n"
          ]
        },
        {
          "output_type": "stream",
          "name": "stdout",
          "text": [
            "Epoch: 195, Loss: 0.2326, Val Acc: {'rocauc': 0.6336964680965606}, Test Acc: {'rocauc': 0.630647589423532}\n"
          ]
        },
        {
          "output_type": "stream",
          "name": "stderr",
          "text": [
            "100% 54/54 [00:03<00:00, 16.37it/s]\n"
          ]
        },
        {
          "output_type": "stream",
          "name": "stdout",
          "text": [
            "loss returned: 0.23204387909469382\n"
          ]
        },
        {
          "output_type": "stream",
          "name": "stderr",
          "text": [
            "100% 7/7 [00:00<00:00, 43.27it/s]\n",
            "100% 7/7 [00:00<00:00, 47.13it/s]\n"
          ]
        },
        {
          "output_type": "stream",
          "name": "stdout",
          "text": [
            "Epoch: 196, Loss: 0.2320, Val Acc: {'rocauc': 0.6326788722393657}, Test Acc: {'rocauc': 0.630569766422333}\n"
          ]
        },
        {
          "output_type": "stream",
          "name": "stderr",
          "text": [
            "100% 54/54 [00:02<00:00, 19.33it/s]\n"
          ]
        },
        {
          "output_type": "stream",
          "name": "stdout",
          "text": [
            "loss returned: 0.23203755027177383\n"
          ]
        },
        {
          "output_type": "stream",
          "name": "stderr",
          "text": [
            "100% 7/7 [00:00<00:00, 43.24it/s]\n",
            "100% 7/7 [00:00<00:00, 45.78it/s]\n"
          ]
        },
        {
          "output_type": "stream",
          "name": "stdout",
          "text": [
            "Epoch: 197, Loss: 0.2320, Val Acc: {'rocauc': 0.6323494602699937}, Test Acc: {'rocauc': 0.6291372960297886}\n"
          ]
        },
        {
          "output_type": "stream",
          "name": "stderr",
          "text": [
            "100% 54/54 [00:03<00:00, 16.30it/s]\n"
          ]
        },
        {
          "output_type": "stream",
          "name": "stdout",
          "text": [
            "loss returned: 0.23181493235399006\n"
          ]
        },
        {
          "output_type": "stream",
          "name": "stderr",
          "text": [
            "100% 7/7 [00:00<00:00, 31.39it/s]\n",
            "100% 7/7 [00:00<00:00, 45.14it/s]\n"
          ]
        },
        {
          "output_type": "stream",
          "name": "stdout",
          "text": [
            "Epoch: 198, Loss: 0.2318, Val Acc: {'rocauc': 0.6350802776892885}, Test Acc: {'rocauc': 0.6307807797930923}\n"
          ]
        },
        {
          "output_type": "stream",
          "name": "stderr",
          "text": [
            "100% 54/54 [00:02<00:00, 19.10it/s]\n"
          ]
        },
        {
          "output_type": "stream",
          "name": "stdout",
          "text": [
            "loss returned: 0.2315764190417337\n"
          ]
        },
        {
          "output_type": "stream",
          "name": "stderr",
          "text": [
            "100% 7/7 [00:00<00:00, 44.21it/s]\n",
            "100% 7/7 [00:00<00:00, 46.72it/s]\n"
          ]
        },
        {
          "output_type": "stream",
          "name": "stdout",
          "text": [
            "Epoch: 199, Loss: 0.2316, Val Acc: {'rocauc': 0.6335187529639665}, Test Acc: {'rocauc': 0.6286496747690516}\n"
          ]
        },
        {
          "output_type": "stream",
          "name": "stderr",
          "text": [
            "100% 54/54 [00:02<00:00, 19.09it/s]\n"
          ]
        },
        {
          "output_type": "stream",
          "name": "stdout",
          "text": [
            "loss returned: 0.23132020175978324\n"
          ]
        },
        {
          "output_type": "stream",
          "name": "stderr",
          "text": [
            "100% 7/7 [00:00<00:00, 45.10it/s]\n",
            "100% 7/7 [00:00<00:00, 32.05it/s]\n"
          ]
        },
        {
          "output_type": "stream",
          "name": "stdout",
          "text": [
            "Epoch: 200, Loss: 0.2313, Val Acc: {'rocauc': 0.6349938870180035}, Test Acc: {'rocauc': 0.631673606219504}\n",
            "Median time per epoch: 4.4569s\n"
          ]
        },
        {
          "output_type": "display_data",
          "data": {
            "text/plain": [
              "<Figure size 1200x500 with 3 Axes>"
            ],
            "image/png": "[encoded data removed]"
          },
          "metadata": {}
        },
        {
          "output_type": "stream",
          "name": "stdout",
          "text": [
            "Best Validation Metric: 0.6350802776892885\n",
            "Test Metric: 0.6307807797930923\n",
            "2\n"
          ]
        },
        {
          "output_type": "stream",
          "name": "stderr",
          "text": [
            "100% 10/10 [00:00<00:00, 29.11it/s]\n"
          ]
        },
        {
          "output_type": "stream",
          "name": "stdout",
          "text": [
            "loss returned: 0.4861934959232353\n"
          ]
        },
        {
          "output_type": "stream",
          "name": "stderr",
          "text": [
            "100% 2/2 [00:00<00:00, 38.34it/s]\n",
            "100% 2/2 [00:00<00:00, 35.48it/s]\n"
          ]
        },
        {
          "output_type": "stream",
          "name": "stdout",
          "text": [
            "Epoch: 001, Loss: 0.4862, Val Acc: {'rocauc': 0.6840074819922487}, Test Acc: {'rocauc': 0.6354124933226495}\n"
          ]
        },
        {
          "output_type": "stream",
          "name": "stderr",
          "text": [
            "100% 10/10 [00:00<00:00, 42.41it/s]\n"
          ]
        },
        {
          "output_type": "stream",
          "name": "stdout",
          "text": [
            "loss returned: 0.28691146731578526\n"
          ]
        },
        {
          "output_type": "stream",
          "name": "stderr",
          "text": [
            "100% 2/2 [00:00<00:00, 68.87it/s]\n",
            "100% 2/2 [00:00<00:00, 65.51it/s]\n"
          ]
        },
        {
          "output_type": "stream",
          "name": "stdout",
          "text": [
            "Epoch: 002, Loss: 0.2869, Val Acc: {'rocauc': 0.6869182943365743}, Test Acc: {'rocauc': 0.6422158787393163}\n"
          ]
        },
        {
          "output_type": "stream",
          "name": "stderr",
          "text": [
            "100% 10/10 [00:00<00:00, 46.81it/s]\n"
          ]
        },
        {
          "output_type": "stream",
          "name": "stdout",
          "text": [
            "loss returned: 0.23847041820995288\n"
          ]
        },
        {
          "output_type": "stream",
          "name": "stderr",
          "text": [
            "100% 2/2 [00:00<00:00, 69.27it/s]\n",
            "100% 2/2 [00:00<00:00, 70.83it/s]\n"
          ]
        },
        {
          "output_type": "stream",
          "name": "stdout",
          "text": [
            "Epoch: 003, Loss: 0.2385, Val Acc: {'rocauc': 0.687105584566708}, Test Acc: {'rocauc': 0.6451555822649573}\n"
          ]
        },
        {
          "output_type": "stream",
          "name": "stderr",
          "text": [
            "100% 10/10 [00:00<00:00, 47.98it/s]\n"
          ]
        },
        {
          "output_type": "stream",
          "name": "stdout",
          "text": [
            "loss returned: 0.23675597016837616\n"
          ]
        },
        {
          "output_type": "stream",
          "name": "stderr",
          "text": [
            "100% 2/2 [00:00<00:00, 61.36it/s]\n",
            "100% 2/2 [00:00<00:00, 73.09it/s]\n"
          ]
        },
        {
          "output_type": "stream",
          "name": "stdout",
          "text": [
            "Epoch: 004, Loss: 0.2368, Val Acc: {'rocauc': 0.6932344710193012}, Test Acc: {'rocauc': 0.6478231837606838}\n"
          ]
        },
        {
          "output_type": "stream",
          "name": "stderr",
          "text": [
            "100% 10/10 [00:00<00:00, 48.07it/s]\n"
          ]
        },
        {
          "output_type": "stream",
          "name": "stdout",
          "text": [
            "loss returned: 0.23777248259321498\n"
          ]
        },
        {
          "output_type": "stream",
          "name": "stderr",
          "text": [
            "100% 2/2 [00:00<00:00, 57.77it/s]\n",
            "100% 2/2 [00:00<00:00, 69.49it/s]\n"
          ]
        },
        {
          "output_type": "stream",
          "name": "stdout",
          "text": [
            "Epoch: 005, Loss: 0.2378, Val Acc: {'rocauc': 0.6975212294317341}, Test Acc: {'rocauc': 0.6482872596153846}\n"
          ]
        },
        {
          "output_type": "stream",
          "name": "stderr",
          "text": [
            "100% 10/10 [00:00<00:00, 47.33it/s]\n"
          ]
        },
        {
          "output_type": "stream",
          "name": "stdout",
          "text": [
            "loss returned: 0.23668652295965345\n"
          ]
        },
        {
          "output_type": "stream",
          "name": "stderr",
          "text": [
            "100% 2/2 [00:00<00:00, 62.19it/s]\n",
            "100% 2/2 [00:00<00:00, 67.33it/s]\n"
          ]
        },
        {
          "output_type": "stream",
          "name": "stdout",
          "text": [
            "Epoch: 006, Loss: 0.2367, Val Acc: {'rocauc': 0.7021703066847464}, Test Acc: {'rocauc': 0.6491235977564103}\n"
          ]
        },
        {
          "output_type": "stream",
          "name": "stderr",
          "text": [
            "100% 10/10 [00:00<00:00, 47.44it/s]\n"
          ]
        },
        {
          "output_type": "stream",
          "name": "stdout",
          "text": [
            "loss returned: 0.23585493447516148\n"
          ]
        },
        {
          "output_type": "stream",
          "name": "stderr",
          "text": [
            "100% 2/2 [00:00<00:00, 62.43it/s]\n",
            "100% 2/2 [00:00<00:00, 62.38it/s]\n"
          ]
        },
        {
          "output_type": "stream",
          "name": "stdout",
          "text": [
            "Epoch: 007, Loss: 0.2359, Val Acc: {'rocauc': 0.7052479732263928}, Test Acc: {'rocauc': 0.6497187166132479}\n"
          ]
        },
        {
          "output_type": "stream",
          "name": "stderr",
          "text": [
            "100% 10/10 [00:00<00:00, 50.33it/s]\n"
          ]
        },
        {
          "output_type": "stream",
          "name": "stdout",
          "text": [
            "loss returned: 0.235474755030179\n"
          ]
        },
        {
          "output_type": "stream",
          "name": "stderr",
          "text": [
            "100% 2/2 [00:00<00:00, 55.52it/s]\n",
            "100% 2/2 [00:00<00:00, 68.27it/s]\n"
          ]
        },
        {
          "output_type": "stream",
          "name": "stdout",
          "text": [
            "Epoch: 008, Loss: 0.2355, Val Acc: {'rocauc': 0.7077536712731889}, Test Acc: {'rocauc': 0.6502069978632479}\n"
          ]
        },
        {
          "output_type": "stream",
          "name": "stderr",
          "text": [
            "100% 10/10 [00:00<00:00, 44.76it/s]\n"
          ]
        },
        {
          "output_type": "stream",
          "name": "stdout",
          "text": [
            "loss returned: 0.23535805039744978\n"
          ]
        },
        {
          "output_type": "stream",
          "name": "stderr",
          "text": [
            "100% 2/2 [00:00<00:00, 74.95it/s]\n",
            "100% 2/2 [00:00<00:00, 72.09it/s]\n"
          ]
        },
        {
          "output_type": "stream",
          "name": "stdout",
          "text": [
            "Epoch: 009, Loss: 0.2354, Val Acc: {'rocauc': 0.7084783089543483}, Test Acc: {'rocauc': 0.6514798677884616}\n"
          ]
        },
        {
          "output_type": "stream",
          "name": "stderr",
          "text": [
            "100% 10/10 [00:00<00:00, 21.18it/s]\n"
          ]
        },
        {
          "output_type": "stream",
          "name": "stdout",
          "text": [
            "loss returned: 0.23533342065799046\n"
          ]
        },
        {
          "output_type": "stream",
          "name": "stderr",
          "text": [
            "100% 2/2 [00:00<00:00, 74.39it/s]\n",
            "100% 2/2 [00:00<00:00, 72.50it/s]\n"
          ]
        },
        {
          "output_type": "stream",
          "name": "stdout",
          "text": [
            "Epoch: 010, Loss: 0.2353, Val Acc: {'rocauc': 0.7096263331506112}, Test Acc: {'rocauc': 0.6512144431089744}\n"
          ]
        },
        {
          "output_type": "stream",
          "name": "stderr",
          "text": [
            "100% 10/10 [00:00<00:00, 43.55it/s]\n"
          ]
        },
        {
          "output_type": "stream",
          "name": "stdout",
          "text": [
            "loss returned: 0.2349088226053091\n"
          ]
        },
        {
          "output_type": "stream",
          "name": "stderr",
          "text": [
            "100% 2/2 [00:00<00:00, 65.23it/s]\n",
            "100% 2/2 [00:00<00:00, 76.78it/s]\n"
          ]
        },
        {
          "output_type": "stream",
          "name": "stdout",
          "text": [
            "Epoch: 011, Loss: 0.2349, Val Acc: {'rocauc': 0.7084213284863872}, Test Acc: {'rocauc': 0.6526584201388889}\n"
          ]
        },
        {
          "output_type": "stream",
          "name": "stderr",
          "text": [
            "100% 10/10 [00:00<00:00, 42.87it/s]\n"
          ]
        },
        {
          "output_type": "stream",
          "name": "stdout",
          "text": [
            "loss returned: 0.2346502003479973\n"
          ]
        },
        {
          "output_type": "stream",
          "name": "stderr",
          "text": [
            "100% 2/2 [00:00<00:00, 91.01it/s]\n",
            "100% 2/2 [00:00<00:00, 67.68it/s]\n"
          ]
        },
        {
          "output_type": "stream",
          "name": "stdout",
          "text": [
            "Epoch: 012, Loss: 0.2347, Val Acc: {'rocauc': 0.7106868430416511}, Test Acc: {'rocauc': 0.6529605702457265}\n"
          ]
        },
        {
          "output_type": "stream",
          "name": "stderr",
          "text": [
            "100% 10/10 [00:00<00:00, 47.26it/s]\n"
          ]
        },
        {
          "output_type": "stream",
          "name": "stdout",
          "text": [
            "loss returned: 0.23460082009523023\n"
          ]
        },
        {
          "output_type": "stream",
          "name": "stderr",
          "text": [
            "100% 2/2 [00:00<00:00, 66.57it/s]\n",
            "100% 2/2 [00:00<00:00, 64.35it/s]\n"
          ]
        },
        {
          "output_type": "stream",
          "name": "stdout",
          "text": [
            "Epoch: 013, Loss: 0.2346, Val Acc: {'rocauc': 0.71062986257369}, Test Acc: {'rocauc': 0.6539037459935897}\n"
          ]
        },
        {
          "output_type": "stream",
          "name": "stderr",
          "text": [
            "100% 10/10 [00:00<00:00, 46.67it/s]\n"
          ]
        },
        {
          "output_type": "stream",
          "name": "stdout",
          "text": [
            "loss returned: 0.23435925039368904\n"
          ]
        },
        {
          "output_type": "stream",
          "name": "stderr",
          "text": [
            "100% 2/2 [00:00<00:00, 66.04it/s]\n",
            "100% 2/2 [00:00<00:00, 56.61it/s]\n"
          ]
        },
        {
          "output_type": "stream",
          "name": "stdout",
          "text": [
            "Epoch: 014, Loss: 0.2344, Val Acc: {'rocauc': 0.7125635921256359}, Test Acc: {'rocauc': 0.6578567374465811}\n"
          ]
        },
        {
          "output_type": "stream",
          "name": "stderr",
          "text": [
            "100% 10/10 [00:00<00:00, 44.39it/s]\n"
          ]
        },
        {
          "output_type": "stream",
          "name": "stdout",
          "text": [
            "loss returned: 0.23424831237155033\n"
          ]
        },
        {
          "output_type": "stream",
          "name": "stderr",
          "text": [
            "100% 2/2 [00:00<00:00, 77.59it/s]\n",
            "100% 2/2 [00:00<00:00, 69.29it/s]\n"
          ]
        },
        {
          "output_type": "stream",
          "name": "stdout",
          "text": [
            "Epoch: 015, Loss: 0.2342, Val Acc: {'rocauc': 0.7136810824846369}, Test Acc: {'rocauc': 0.6591020633012821}\n"
          ]
        },
        {
          "output_type": "stream",
          "name": "stderr",
          "text": [
            "100% 10/10 [00:00<00:00, 45.08it/s]\n"
          ]
        },
        {
          "output_type": "stream",
          "name": "stdout",
          "text": [
            "loss returned: 0.23430352699039952\n"
          ]
        },
        {
          "output_type": "stream",
          "name": "stderr",
          "text": [
            "100% 2/2 [00:00<00:00, 61.18it/s]\n",
            "100% 2/2 [00:00<00:00, 66.08it/s]\n"
          ]
        },
        {
          "output_type": "stream",
          "name": "stdout",
          "text": [
            "Epoch: 016, Loss: 0.2343, Val Acc: {'rocauc': 0.7149512420299471}, Test Acc: {'rocauc': 0.6601888020833333}\n"
          ]
        },
        {
          "output_type": "stream",
          "name": "stderr",
          "text": [
            "100% 10/10 [00:00<00:00, 44.20it/s]\n"
          ]
        },
        {
          "output_type": "stream",
          "name": "stdout",
          "text": [
            "loss returned: 0.23378579748777087\n"
          ]
        },
        {
          "output_type": "stream",
          "name": "stderr",
          "text": [
            "100% 2/2 [00:00<00:00, 78.62it/s]\n",
            "100% 2/2 [00:00<00:00, 63.19it/s]\n"
          ]
        },
        {
          "output_type": "stream",
          "name": "stdout",
          "text": [
            "Epoch: 017, Loss: 0.2338, Val Acc: {'rocauc': 0.7167933700701076}, Test Acc: {'rocauc': 0.6582507011217948}\n"
          ]
        },
        {
          "output_type": "stream",
          "name": "stderr",
          "text": [
            "100% 10/10 [00:00<00:00, 42.06it/s]\n"
          ]
        },
        {
          "output_type": "stream",
          "name": "stdout",
          "text": [
            "loss returned: 0.2339822984790267\n"
          ]
        },
        {
          "output_type": "stream",
          "name": "stderr",
          "text": [
            "100% 2/2 [00:00<00:00, 95.80it/s]\n",
            "100% 2/2 [00:00<00:00, 70.89it/s]\n"
          ]
        },
        {
          "output_type": "stream",
          "name": "stdout",
          "text": [
            "Epoch: 018, Loss: 0.2340, Val Acc: {'rocauc': 0.7144403412096207}, Test Acc: {'rocauc': 0.6594075520833333}\n"
          ]
        },
        {
          "output_type": "stream",
          "name": "stderr",
          "text": [
            "100% 10/10 [00:00<00:00, 44.24it/s]\n"
          ]
        },
        {
          "output_type": "stream",
          "name": "stdout",
          "text": [
            "loss returned: 0.23350518519196037\n"
          ]
        },
        {
          "output_type": "stream",
          "name": "stderr",
          "text": [
            "100% 2/2 [00:00<00:00, 69.57it/s]\n",
            "100% 2/2 [00:00<00:00, 66.36it/s]\n"
          ]
        },
        {
          "output_type": "stream",
          "name": "stdout",
          "text": [
            "Epoch: 019, Loss: 0.2335, Val Acc: {'rocauc': 0.7130826673590875}, Test Acc: {'rocauc': 0.6582874265491452}\n"
          ]
        },
        {
          "output_type": "stream",
          "name": "stderr",
          "text": [
            "100% 10/10 [00:00<00:00, 43.73it/s]\n"
          ]
        },
        {
          "output_type": "stream",
          "name": "stdout",
          "text": [
            "loss returned: 0.2333561791316823\n"
          ]
        },
        {
          "output_type": "stream",
          "name": "stderr",
          "text": [
            "100% 2/2 [00:00<00:00, 83.32it/s]\n",
            "100% 2/2 [00:00<00:00, 63.38it/s]\n"
          ]
        },
        {
          "output_type": "stream",
          "name": "stdout",
          "text": [
            "Epoch: 020, Loss: 0.2334, Val Acc: {'rocauc': 0.7127814161930315}, Test Acc: {'rocauc': 0.6589376335470085}\n"
          ]
        },
        {
          "output_type": "stream",
          "name": "stderr",
          "text": [
            "100% 10/10 [00:00<00:00, 42.06it/s]\n"
          ]
        },
        {
          "output_type": "stream",
          "name": "stdout",
          "text": [
            "loss returned: 0.2331752101815827\n"
          ]
        },
        {
          "output_type": "stream",
          "name": "stderr",
          "text": [
            "100% 2/2 [00:00<00:00, 82.76it/s]\n",
            "100% 2/2 [00:00<00:00, 67.93it/s]\n"
          ]
        },
        {
          "output_type": "stream",
          "name": "stdout",
          "text": [
            "Epoch: 021, Loss: 0.2332, Val Acc: {'rocauc': 0.7132353365453967}, Test Acc: {'rocauc': 0.659072015224359}\n"
          ]
        },
        {
          "output_type": "stream",
          "name": "stderr",
          "text": [
            "100% 10/10 [00:00<00:00, 43.88it/s]\n"
          ]
        },
        {
          "output_type": "stream",
          "name": "stdout",
          "text": [
            "loss returned: 0.23266486731451713\n"
          ]
        },
        {
          "output_type": "stream",
          "name": "stderr",
          "text": [
            "100% 2/2 [00:00<00:00, 94.30it/s]\n",
            "100% 2/2 [00:00<00:00, 64.93it/s]\n"
          ]
        },
        {
          "output_type": "stream",
          "name": "stdout",
          "text": [
            "Epoch: 022, Loss: 0.2327, Val Acc: {'rocauc': 0.7108212400103864}, Test Acc: {'rocauc': 0.6586204594017094}\n"
          ]
        },
        {
          "output_type": "stream",
          "name": "stderr",
          "text": [
            "100% 10/10 [00:00<00:00, 47.16it/s]\n"
          ]
        },
        {
          "output_type": "stream",
          "name": "stdout",
          "text": [
            "loss returned: 0.23279232445356707\n"
          ]
        },
        {
          "output_type": "stream",
          "name": "stderr",
          "text": [
            "100% 2/2 [00:00<00:00, 66.12it/s]\n",
            "100% 2/2 [00:00<00:00, 63.63it/s]\n"
          ]
        },
        {
          "output_type": "stream",
          "name": "stdout",
          "text": [
            "Epoch: 023, Loss: 0.2328, Val Acc: {'rocauc': 0.7098258850004329}, Test Acc: {'rocauc': 0.6576622596153845}\n"
          ]
        },
        {
          "output_type": "stream",
          "name": "stderr",
          "text": [
            "100% 10/10 [00:00<00:00, 39.95it/s]\n"
          ]
        },
        {
          "output_type": "stream",
          "name": "stdout",
          "text": [
            "loss returned: 0.23256136710415645\n"
          ]
        },
        {
          "output_type": "stream",
          "name": "stderr",
          "text": [
            "100% 2/2 [00:00<00:00, 97.01it/s]\n",
            "100% 2/2 [00:00<00:00, 55.54it/s]\n"
          ]
        },
        {
          "output_type": "stream",
          "name": "stdout",
          "text": [
            "Epoch: 024, Loss: 0.2326, Val Acc: {'rocauc': 0.7091623149937971}, Test Acc: {'rocauc': 0.6556874332264957}\n"
          ]
        },
        {
          "output_type": "stream",
          "name": "stderr",
          "text": [
            "100% 10/10 [00:00<00:00, 48.34it/s]\n"
          ]
        },
        {
          "output_type": "stream",
          "name": "stdout",
          "text": [
            "loss returned: 0.23230286541881448\n"
          ]
        },
        {
          "output_type": "stream",
          "name": "stderr",
          "text": [
            "100% 2/2 [00:00<00:00, 76.39it/s]\n",
            "100% 2/2 [00:00<00:00, 76.85it/s]\n"
          ]
        },
        {
          "output_type": "stream",
          "name": "stdout",
          "text": [
            "Epoch: 025, Loss: 0.2323, Val Acc: {'rocauc': 0.7088305299904791}, Test Acc: {'rocauc': 0.6541950454059828}\n"
          ]
        },
        {
          "output_type": "stream",
          "name": "stderr",
          "text": [
            "100% 10/10 [00:00<00:00, 42.72it/s]\n"
          ]
        },
        {
          "output_type": "stream",
          "name": "stdout",
          "text": [
            "loss returned: 0.23223024647080423\n"
          ]
        },
        {
          "output_type": "stream",
          "name": "stderr",
          "text": [
            "100% 2/2 [00:00<00:00, 69.45it/s]\n",
            "100% 2/2 [00:00<00:00, 62.40it/s]\n"
          ]
        },
        {
          "output_type": "stream",
          "name": "stdout",
          "text": [
            "Epoch: 026, Loss: 0.2322, Val Acc: {'rocauc': 0.7074728561399459}, Test Acc: {'rocauc': 0.6542559762286324}\n"
          ]
        },
        {
          "output_type": "stream",
          "name": "stderr",
          "text": [
            "100% 10/10 [00:00<00:00, 43.70it/s]\n"
          ]
        },
        {
          "output_type": "stream",
          "name": "stdout",
          "text": [
            "loss returned: 0.23167738793488785\n"
          ]
        },
        {
          "output_type": "stream",
          "name": "stderr",
          "text": [
            "100% 2/2 [00:00<00:00, 77.67it/s]\n",
            "100% 2/2 [00:00<00:00, 72.74it/s]\n"
          ]
        },
        {
          "output_type": "stream",
          "name": "stdout",
          "text": [
            "Epoch: 027, Loss: 0.2317, Val Acc: {'rocauc': 0.7085292788244233}, Test Acc: {'rocauc': 0.6542651575854701}\n"
          ]
        },
        {
          "output_type": "stream",
          "name": "stderr",
          "text": [
            "100% 10/10 [00:00<00:00, 44.09it/s]\n"
          ]
        },
        {
          "output_type": "stream",
          "name": "stdout",
          "text": [
            "loss returned: 0.23172784212481462\n"
          ]
        },
        {
          "output_type": "stream",
          "name": "stderr",
          "text": [
            "100% 2/2 [00:00<00:00, 77.13it/s]\n",
            "100% 2/2 [00:00<00:00, 66.22it/s]\n"
          ]
        },
        {
          "output_type": "stream",
          "name": "stdout",
          "text": [
            "Epoch: 028, Loss: 0.2317, Val Acc: {'rocauc': 0.7065080349672543}, Test Acc: {'rocauc': 0.6528704260149572}\n"
          ]
        },
        {
          "output_type": "stream",
          "name": "stderr",
          "text": [
            "100% 10/10 [00:00<00:00, 42.94it/s]\n"
          ]
        },
        {
          "output_type": "stream",
          "name": "stdout",
          "text": [
            "loss returned: 0.2316815579825796\n"
          ]
        },
        {
          "output_type": "stream",
          "name": "stderr",
          "text": [
            "100% 2/2 [00:00<00:00, 97.83it/s]\n",
            "100% 2/2 [00:00<00:00, 70.03it/s]\n"
          ]
        },
        {
          "output_type": "stream",
          "name": "stdout",
          "text": [
            "Epoch: 029, Loss: 0.2317, Val Acc: {'rocauc': 0.7079878441668349}, Test Acc: {'rocauc': 0.6521534455128205}\n"
          ]
        },
        {
          "output_type": "stream",
          "name": "stderr",
          "text": [
            "100% 10/10 [00:00<00:00, 33.03it/s]\n"
          ]
        },
        {
          "output_type": "stream",
          "name": "stdout",
          "text": [
            "loss returned: 0.23177516842726223\n"
          ]
        },
        {
          "output_type": "stream",
          "name": "stderr",
          "text": [
            "100% 2/2 [00:00<00:00, 73.18it/s]\n",
            "100% 2/2 [00:00<00:00, 72.11it/s]\n"
          ]
        },
        {
          "output_type": "stream",
          "name": "stdout",
          "text": [
            "Epoch: 030, Loss: 0.2318, Val Acc: {'rocauc': 0.7062678514757219}, Test Acc: {'rocauc': 0.6505208333333333}\n"
          ]
        },
        {
          "output_type": "stream",
          "name": "stderr",
          "text": [
            "100% 10/10 [00:00<00:00, 33.90it/s]\n"
          ]
        },
        {
          "output_type": "stream",
          "name": "stdout",
          "text": [
            "loss returned: 0.23099651468395682\n"
          ]
        },
        {
          "output_type": "stream",
          "name": "stderr",
          "text": [
            "100% 2/2 [00:00<00:00, 71.77it/s]\n",
            "100% 2/2 [00:00<00:00, 73.95it/s]\n"
          ]
        },
        {
          "output_type": "stream",
          "name": "stdout",
          "text": [
            "Epoch: 031, Loss: 0.2310, Val Acc: {'rocauc': 0.7043076752930766}, Test Acc: {'rocauc': 0.6501302083333333}\n"
          ]
        },
        {
          "output_type": "stream",
          "name": "stderr",
          "text": [
            "100% 10/10 [00:00<00:00, 32.75it/s]\n"
          ]
        },
        {
          "output_type": "stream",
          "name": "stdout",
          "text": [
            "loss returned: 0.23045147860787057\n"
          ]
        },
        {
          "output_type": "stream",
          "name": "stderr",
          "text": [
            "100% 2/2 [00:00<00:00, 73.11it/s]\n",
            "100% 2/2 [00:00<00:00, 70.62it/s]\n"
          ]
        },
        {
          "output_type": "stream",
          "name": "stdout",
          "text": [
            "Epoch: 032, Loss: 0.2305, Val Acc: {'rocauc': 0.7042771414558149}, Test Acc: {'rocauc': 0.6486712072649572}\n"
          ]
        },
        {
          "output_type": "stream",
          "name": "stderr",
          "text": [
            "100% 10/10 [00:00<00:00, 34.03it/s]\n"
          ]
        },
        {
          "output_type": "stream",
          "name": "stdout",
          "text": [
            "loss returned: 0.230593961568125\n"
          ]
        },
        {
          "output_type": "stream",
          "name": "stderr",
          "text": [
            "100% 2/2 [00:00<00:00, 70.66it/s]\n",
            "100% 2/2 [00:00<00:00, 71.10it/s]\n"
          ]
        },
        {
          "output_type": "stream",
          "name": "stdout",
          "text": [
            "Epoch: 033, Loss: 0.2306, Val Acc: {'rocauc': 0.7043382091303385}, Test Acc: {'rocauc': 0.6454084869123932}\n"
          ]
        },
        {
          "output_type": "stream",
          "name": "stderr",
          "text": [
            "100% 10/10 [00:00<00:00, 36.39it/s]\n"
          ]
        },
        {
          "output_type": "stream",
          "name": "stdout",
          "text": [
            "loss returned: 0.23009886091084525\n"
          ]
        },
        {
          "output_type": "stream",
          "name": "stderr",
          "text": [
            "100% 2/2 [00:00<00:00, 71.75it/s]\n",
            "100% 2/2 [00:00<00:00, 66.47it/s]\n"
          ]
        },
        {
          "output_type": "stream",
          "name": "stdout",
          "text": [
            "Epoch: 034, Loss: 0.2301, Val Acc: {'rocauc': 0.7026487502764875}, Test Acc: {'rocauc': 0.6431865985576923}\n"
          ]
        },
        {
          "output_type": "stream",
          "name": "stderr",
          "text": [
            "100% 10/10 [00:00<00:00, 35.38it/s]\n"
          ]
        },
        {
          "output_type": "stream",
          "name": "stdout",
          "text": [
            "loss returned: 0.23003487745702114\n"
          ]
        },
        {
          "output_type": "stream",
          "name": "stderr",
          "text": [
            "100% 2/2 [00:00<00:00, 69.48it/s]\n",
            "100% 2/2 [00:00<00:00, 74.31it/s]\n"
          ]
        },
        {
          "output_type": "stream",
          "name": "stdout",
          "text": [
            "Epoch: 035, Loss: 0.2300, Val Acc: {'rocauc': 0.7001430522296914}, Test Acc: {'rocauc': 0.6392861912393162}\n"
          ]
        },
        {
          "output_type": "stream",
          "name": "stderr",
          "text": [
            "100% 10/10 [00:00<00:00, 33.34it/s]\n"
          ]
        },
        {
          "output_type": "stream",
          "name": "stdout",
          "text": [
            "loss returned: 0.22988315475481633\n"
          ]
        },
        {
          "output_type": "stream",
          "name": "stderr",
          "text": [
            "100% 2/2 [00:00<00:00, 71.58it/s]\n",
            "100% 2/2 [00:00<00:00, 69.61it/s]\n"
          ]
        },
        {
          "output_type": "stream",
          "name": "stdout",
          "text": [
            "Epoch: 036, Loss: 0.2299, Val Acc: {'rocauc': 0.6968557360337747}, Test Acc: {'rocauc': 0.6380684094551282}\n"
          ]
        },
        {
          "output_type": "stream",
          "name": "stderr",
          "text": [
            "100% 10/10 [00:00<00:00, 37.92it/s]\n"
          ]
        },
        {
          "output_type": "stream",
          "name": "stdout",
          "text": [
            "loss returned: 0.22925391137145718\n"
          ]
        },
        {
          "output_type": "stream",
          "name": "stderr",
          "text": [
            "100% 2/2 [00:00<00:00, 75.51it/s]\n",
            "100% 2/2 [00:00<00:00, 74.21it/s]\n"
          ]
        },
        {
          "output_type": "stream",
          "name": "stdout",
          "text": [
            "Epoch: 037, Loss: 0.2293, Val Acc: {'rocauc': 0.693686467980343}, Test Acc: {'rocauc': 0.6361486712072649}\n"
          ]
        },
        {
          "output_type": "stream",
          "name": "stderr",
          "text": [
            "100% 10/10 [00:00<00:00, 36.66it/s]\n"
          ]
        },
        {
          "output_type": "stream",
          "name": "stdout",
          "text": [
            "loss returned: 0.229222273140212\n"
          ]
        },
        {
          "output_type": "stream",
          "name": "stderr",
          "text": [
            "100% 2/2 [00:00<00:00, 72.28it/s]\n",
            "100% 2/2 [00:00<00:00, 71.09it/s]\n"
          ]
        },
        {
          "output_type": "stream",
          "name": "stdout",
          "text": [
            "Epoch: 038, Loss: 0.2292, Val Acc: {'rocauc': 0.6927521806449132}, Test Acc: {'rocauc': 0.6333650507478632}\n"
          ]
        },
        {
          "output_type": "stream",
          "name": "stderr",
          "text": [
            "100% 10/10 [00:00<00:00, 31.87it/s]\n"
          ]
        },
        {
          "output_type": "stream",
          "name": "stdout",
          "text": [
            "loss returned: 0.22915359821791975\n"
          ]
        },
        {
          "output_type": "stream",
          "name": "stderr",
          "text": [
            "100% 2/2 [00:00<00:00, 52.60it/s]\n",
            "100% 2/2 [00:00<00:00, 43.48it/s]\n"
          ]
        },
        {
          "output_type": "stream",
          "name": "stdout",
          "text": [
            "Epoch: 039, Loss: 0.2292, Val Acc: {'rocauc': 0.6934157506515488}, Test Acc: {'rocauc': 0.6320679754273504}\n"
          ]
        },
        {
          "output_type": "stream",
          "name": "stderr",
          "text": [
            "100% 10/10 [00:00<00:00, 31.91it/s]\n"
          ]
        },
        {
          "output_type": "stream",
          "name": "stdout",
          "text": [
            "loss returned: 0.22897220175211758\n"
          ]
        },
        {
          "output_type": "stream",
          "name": "stderr",
          "text": [
            "100% 2/2 [00:00<00:00, 49.56it/s]\n",
            "100% 2/2 [00:00<00:00, 53.44it/s]\n"
          ]
        },
        {
          "output_type": "stream",
          "name": "stdout",
          "text": [
            "Epoch: 040, Loss: 0.2290, Val Acc: {'rocauc': 0.6888888087475837}, Test Acc: {'rocauc': 0.628762686965812}\n"
          ]
        },
        {
          "output_type": "stream",
          "name": "stderr",
          "text": [
            "100% 10/10 [00:00<00:00, 32.41it/s]\n"
          ]
        },
        {
          "output_type": "stream",
          "name": "stdout",
          "text": [
            "loss returned: 0.22928472079027518\n"
          ]
        },
        {
          "output_type": "stream",
          "name": "stderr",
          "text": [
            "100% 2/2 [00:00<00:00, 60.73it/s]\n",
            "100% 2/2 [00:00<00:00, 45.63it/s]\n"
          ]
        },
        {
          "output_type": "stream",
          "name": "stdout",
          "text": [
            "Epoch: 041, Loss: 0.2293, Val Acc: {'rocauc': 0.6756703018762682}, Test Acc: {'rocauc': 0.6190079126602565}\n"
          ]
        },
        {
          "output_type": "stream",
          "name": "stderr",
          "text": [
            "100% 10/10 [00:00<00:00, 33.82it/s]\n"
          ]
        },
        {
          "output_type": "stream",
          "name": "stdout",
          "text": [
            "loss returned: 0.22822642316261052\n"
          ]
        },
        {
          "output_type": "stream",
          "name": "stderr",
          "text": [
            "100% 2/2 [00:00<00:00, 66.81it/s]\n",
            "100% 2/2 [00:00<00:00, 71.35it/s]\n"
          ]
        },
        {
          "output_type": "stream",
          "name": "stdout",
          "text": [
            "Epoch: 042, Loss: 0.2282, Val Acc: {'rocauc': 0.6771195772385871}, Test Acc: {'rocauc': 0.6200579260149572}\n"
          ]
        },
        {
          "output_type": "stream",
          "name": "stderr",
          "text": [
            "100% 10/10 [00:00<00:00, 42.53it/s]\n"
          ]
        },
        {
          "output_type": "stream",
          "name": "stdout",
          "text": [
            "loss returned: 0.22766026650113033\n"
          ]
        },
        {
          "output_type": "stream",
          "name": "stderr",
          "text": [
            "100% 2/2 [00:00<00:00, 77.14it/s]\n",
            "100% 2/2 [00:00<00:00, 73.70it/s]\n"
          ]
        },
        {
          "output_type": "stream",
          "name": "stdout",
          "text": [
            "Epoch: 043, Loss: 0.2277, Val Acc: {'rocauc': 0.6663762345768058}, Test Acc: {'rocauc': 0.606939436431624}\n"
          ]
        },
        {
          "output_type": "stream",
          "name": "stderr",
          "text": [
            "100% 10/10 [00:00<00:00, 44.46it/s]\n"
          ]
        },
        {
          "output_type": "stream",
          "name": "stdout",
          "text": [
            "loss returned: 0.2277360335434018\n"
          ]
        },
        {
          "output_type": "stream",
          "name": "stderr",
          "text": [
            "100% 2/2 [00:00<00:00, 62.70it/s]\n",
            "100% 2/2 [00:00<00:00, 63.83it/s]\n"
          ]
        },
        {
          "output_type": "stream",
          "name": "stdout",
          "text": [
            "Epoch: 044, Loss: 0.2277, Val Acc: {'rocauc': 0.6639316042045333}, Test Acc: {'rocauc': 0.6040247729700855}\n"
          ]
        },
        {
          "output_type": "stream",
          "name": "stderr",
          "text": [
            "100% 10/10 [00:00<00:00, 39.46it/s]\n"
          ]
        },
        {
          "output_type": "stream",
          "name": "stdout",
          "text": [
            "loss returned: 0.2272265060386044\n"
          ]
        },
        {
          "output_type": "stream",
          "name": "stderr",
          "text": [
            "100% 2/2 [00:00<00:00, 86.19it/s]\n",
            "100% 2/2 [00:00<00:00, 67.51it/s]\n"
          ]
        },
        {
          "output_type": "stream",
          "name": "stdout",
          "text": [
            "Epoch: 045, Loss: 0.2272, Val Acc: {'rocauc': 0.6626044641912621}, Test Acc: {'rocauc': 0.60240718482906}\n"
          ]
        },
        {
          "output_type": "stream",
          "name": "stderr",
          "text": [
            "100% 10/10 [00:00<00:00, 43.34it/s]\n"
          ]
        },
        {
          "output_type": "stream",
          "name": "stdout",
          "text": [
            "loss returned: 0.2263351271432098\n"
          ]
        },
        {
          "output_type": "stream",
          "name": "stderr",
          "text": [
            "100% 2/2 [00:00<00:00, 89.89it/s]\n",
            "100% 2/2 [00:00<00:00, 59.71it/s]\n"
          ]
        },
        {
          "output_type": "stream",
          "name": "stdout",
          "text": [
            "Epoch: 046, Loss: 0.2263, Val Acc: {'rocauc': 0.6671314060952271}, Test Acc: {'rocauc': 0.6043177417200855}\n"
          ]
        },
        {
          "output_type": "stream",
          "name": "stderr",
          "text": [
            "100% 10/10 [00:00<00:00, 42.92it/s]\n"
          ]
        },
        {
          "output_type": "stream",
          "name": "stdout",
          "text": [
            "loss returned: 0.22703269071037946\n"
          ]
        },
        {
          "output_type": "stream",
          "name": "stderr",
          "text": [
            "100% 2/2 [00:00<00:00, 80.47it/s]\n",
            "100% 2/2 [00:00<00:00, 54.73it/s]\n"
          ]
        },
        {
          "output_type": "stream",
          "name": "stdout",
          "text": [
            "Epoch: 047, Loss: 0.2270, Val Acc: {'rocauc': 0.6644465922314224}, Test Acc: {'rocauc': 0.6039913862179488}\n"
          ]
        },
        {
          "output_type": "stream",
          "name": "stderr",
          "text": [
            "100% 10/10 [00:00<00:00, 44.53it/s]\n"
          ]
        },
        {
          "output_type": "stream",
          "name": "stdout",
          "text": [
            "loss returned: 0.2265480221529112\n"
          ]
        },
        {
          "output_type": "stream",
          "name": "stderr",
          "text": [
            "100% 2/2 [00:00<00:00, 72.05it/s]\n",
            "100% 2/2 [00:00<00:00, 63.32it/s]\n"
          ]
        },
        {
          "output_type": "stream",
          "name": "stdout",
          "text": [
            "Epoch: 048, Loss: 0.2265, Val Acc: {'rocauc': 0.6617007106930941}, Test Acc: {'rocauc': 0.6017786792200855}\n"
          ]
        },
        {
          "output_type": "stream",
          "name": "stderr",
          "text": [
            "100% 10/10 [00:00<00:00, 43.29it/s]\n"
          ]
        },
        {
          "output_type": "stream",
          "name": "stdout",
          "text": [
            "loss returned: 0.2265734007104184\n"
          ]
        },
        {
          "output_type": "stream",
          "name": "stderr",
          "text": [
            "100% 2/2 [00:00<00:00, 88.32it/s]\n",
            "100% 2/2 [00:00<00:00, 60.37it/s]\n"
          ]
        },
        {
          "output_type": "stream",
          "name": "stdout",
          "text": [
            "Epoch: 049, Loss: 0.2266, Val Acc: {'rocauc': 0.6627876672148332}, Test Acc: {'rocauc': 0.6015650040064103}\n"
          ]
        },
        {
          "output_type": "stream",
          "name": "stderr",
          "text": [
            "100% 10/10 [00:00<00:00, 46.36it/s]\n"
          ]
        },
        {
          "output_type": "stream",
          "name": "stdout",
          "text": [
            "loss returned: 0.22644465576280082\n"
          ]
        },
        {
          "output_type": "stream",
          "name": "stderr",
          "text": [
            "100% 2/2 [00:00<00:00, 70.25it/s]\n",
            "100% 2/2 [00:00<00:00, 69.53it/s]\n"
          ]
        },
        {
          "output_type": "stream",
          "name": "stdout",
          "text": [
            "Epoch: 050, Loss: 0.2264, Val Acc: {'rocauc': 0.6635123048959926}, Test Acc: {'rocauc': 0.6013546674679486}\n"
          ]
        },
        {
          "output_type": "stream",
          "name": "stderr",
          "text": [
            "100% 10/10 [00:00<00:00, 41.24it/s]\n"
          ]
        },
        {
          "output_type": "stream",
          "name": "stdout",
          "text": [
            "loss returned: 0.22618443081683773\n"
          ]
        },
        {
          "output_type": "stream",
          "name": "stderr",
          "text": [
            "100% 2/2 [00:00<00:00, 71.86it/s]\n",
            "100% 2/2 [00:00<00:00, 67.37it/s]\n"
          ]
        },
        {
          "output_type": "stream",
          "name": "stdout",
          "text": [
            "Epoch: 051, Loss: 0.2262, Val Acc: {'rocauc': 0.6645687275804699}, Test Acc: {'rocauc': 0.6020140558226496}\n"
          ]
        },
        {
          "output_type": "stream",
          "name": "stderr",
          "text": [
            "100% 10/10 [00:00<00:00, 43.74it/s]\n"
          ]
        },
        {
          "output_type": "stream",
          "name": "stdout",
          "text": [
            "loss returned: 0.22595522791828573\n"
          ]
        },
        {
          "output_type": "stream",
          "name": "stderr",
          "text": [
            "100% 2/2 [00:00<00:00, 95.24it/s]\n",
            "100% 2/2 [00:00<00:00, 62.91it/s]\n"
          ]
        },
        {
          "output_type": "stream",
          "name": "stdout",
          "text": [
            "Epoch: 052, Loss: 0.2260, Val Acc: {'rocauc': 0.6663192541088447}, Test Acc: {'rocauc': 0.602004874465812}\n"
          ]
        },
        {
          "output_type": "stream",
          "name": "stderr",
          "text": [
            "100% 10/10 [00:00<00:00, 48.70it/s]\n"
          ]
        },
        {
          "output_type": "stream",
          "name": "stdout",
          "text": [
            "loss returned: 0.22607498978730686\n"
          ]
        },
        {
          "output_type": "stream",
          "name": "stderr",
          "text": [
            "100% 2/2 [00:00<00:00, 74.92it/s]\n",
            "100% 2/2 [00:00<00:00, 56.85it/s]\n"
          ]
        },
        {
          "output_type": "stream",
          "name": "stdout",
          "text": [
            "Epoch: 053, Loss: 0.2261, Val Acc: {'rocauc': 0.6663803217833684}, Test Acc: {'rocauc': 0.60107421875}\n"
          ]
        },
        {
          "output_type": "stream",
          "name": "stderr",
          "text": [
            "100% 10/10 [00:00<00:00, 42.45it/s]\n"
          ]
        },
        {
          "output_type": "stream",
          "name": "stdout",
          "text": [
            "loss returned: 0.22595626447636832\n"
          ]
        },
        {
          "output_type": "stream",
          "name": "stderr",
          "text": [
            "100% 2/2 [00:00<00:00, 69.56it/s]\n",
            "100% 2/2 [00:00<00:00, 73.13it/s]\n"
          ]
        },
        {
          "output_type": "stream",
          "name": "stdout",
          "text": [
            "Epoch: 054, Loss: 0.2260, Val Acc: {'rocauc': 0.6690346018099113}, Test Acc: {'rocauc': 0.6029021434294872}\n"
          ]
        },
        {
          "output_type": "stream",
          "name": "stderr",
          "text": [
            "100% 10/10 [00:00<00:00, 41.71it/s]\n"
          ]
        },
        {
          "output_type": "stream",
          "name": "stdout",
          "text": [
            "loss returned: 0.22561850370389744\n"
          ]
        },
        {
          "output_type": "stream",
          "name": "stderr",
          "text": [
            "100% 2/2 [00:00<00:00, 88.53it/s]\n",
            "100% 2/2 [00:00<00:00, 70.83it/s]\n"
          ]
        },
        {
          "output_type": "stream",
          "name": "stdout",
          "text": [
            "Epoch: 055, Loss: 0.2256, Val Acc: {'rocauc': 0.6674367444678457}, Test Acc: {'rocauc': 0.5992429553952991}\n"
          ]
        },
        {
          "output_type": "stream",
          "name": "stderr",
          "text": [
            "100% 10/10 [00:00<00:00, 43.94it/s]\n"
          ]
        },
        {
          "output_type": "stream",
          "name": "stdout",
          "text": [
            "loss returned: 0.22638767586735525\n"
          ]
        },
        {
          "output_type": "stream",
          "name": "stderr",
          "text": [
            "100% 2/2 [00:00<00:00, 79.51it/s]\n",
            "100% 2/2 [00:00<00:00, 69.74it/s]\n"
          ]
        },
        {
          "output_type": "stream",
          "name": "stdout",
          "text": [
            "Epoch: 056, Loss: 0.2264, Val Acc: {'rocauc': 0.6674672783051074}, Test Acc: {'rocauc': 0.5987029246794872}\n"
          ]
        },
        {
          "output_type": "stream",
          "name": "stderr",
          "text": [
            "100% 10/10 [00:00<00:00, 41.34it/s]\n"
          ]
        },
        {
          "output_type": "stream",
          "name": "stdout",
          "text": [
            "loss returned: 0.22544210853968305\n"
          ]
        },
        {
          "output_type": "stream",
          "name": "stderr",
          "text": [
            "100% 2/2 [00:00<00:00, 104.57it/s]\n",
            "100% 2/2 [00:00<00:00, 68.66it/s]\n"
          ]
        },
        {
          "output_type": "stream",
          "name": "stdout",
          "text": [
            "Epoch: 057, Loss: 0.2254, Val Acc: {'rocauc': 0.6671049594645279}, Test Acc: {'rocauc': 0.5986753806089744}\n"
          ]
        },
        {
          "output_type": "stream",
          "name": "stderr",
          "text": [
            "100% 10/10 [00:00<00:00, 39.57it/s]\n"
          ]
        },
        {
          "output_type": "stream",
          "name": "stdout",
          "text": [
            "loss returned: 0.2256534143235096\n"
          ]
        },
        {
          "output_type": "stream",
          "name": "stderr",
          "text": [
            "100% 2/2 [00:00<00:00, 90.54it/s]\n",
            "100% 2/2 [00:00<00:00, 63.67it/s]\n"
          ]
        },
        {
          "output_type": "stream",
          "name": "stdout",
          "text": [
            "Epoch: 058, Loss: 0.2257, Val Acc: {'rocauc': 0.6698203071655944}, Test Acc: {'rocauc': 0.6000792935363248}\n"
          ]
        },
        {
          "output_type": "stream",
          "name": "stderr",
          "text": [
            "100% 10/10 [00:00<00:00, 44.13it/s]\n"
          ]
        },
        {
          "output_type": "stream",
          "name": "stdout",
          "text": [
            "loss returned: 0.22586394640775578\n"
          ]
        },
        {
          "output_type": "stream",
          "name": "stderr",
          "text": [
            "100% 2/2 [00:00<00:00, 81.12it/s]\n",
            "100% 2/2 [00:00<00:00, 74.31it/s]\n"
          ]
        },
        {
          "output_type": "stream",
          "name": "stdout",
          "text": [
            "Epoch: 059, Loss: 0.2259, Val Acc: {'rocauc': 0.6718720848600251}, Test Acc: {'rocauc': 0.601608406784188}\n"
          ]
        },
        {
          "output_type": "stream",
          "name": "stderr",
          "text": [
            "100% 10/10 [00:00<00:00, 41.15it/s]\n"
          ]
        },
        {
          "output_type": "stream",
          "name": "stdout",
          "text": [
            "loss returned: 0.22614283539247554\n"
          ]
        },
        {
          "output_type": "stream",
          "name": "stderr",
          "text": [
            "100% 2/2 [00:00<00:00, 101.19it/s]\n",
            "100% 2/2 [00:00<00:00, 61.91it/s]\n"
          ]
        },
        {
          "output_type": "stream",
          "name": "stdout",
          "text": [
            "Epoch: 060, Loss: 0.2261, Val Acc: {'rocauc': 0.6708461960128098}, Test Acc: {'rocauc': 0.5984041132478632}\n"
          ]
        },
        {
          "output_type": "stream",
          "name": "stderr",
          "text": [
            "100% 10/10 [00:00<00:00, 44.76it/s]\n"
          ]
        },
        {
          "output_type": "stream",
          "name": "stdout",
          "text": [
            "loss returned: 0.22500063848636798\n"
          ]
        },
        {
          "output_type": "stream",
          "name": "stderr",
          "text": [
            "100% 2/2 [00:00<00:00, 97.31it/s]\n",
            "100% 2/2 [00:00<00:00, 66.17it/s]\n"
          ]
        },
        {
          "output_type": "stream",
          "name": "stdout",
          "text": [
            "Epoch: 061, Loss: 0.2250, Val Acc: {'rocauc': 0.6773638479366819}, Test Acc: {'rocauc': 0.6027894631410255}\n"
          ]
        },
        {
          "output_type": "stream",
          "name": "stderr",
          "text": [
            "100% 10/10 [00:00<00:00, 43.68it/s]\n"
          ]
        },
        {
          "output_type": "stream",
          "name": "stdout",
          "text": [
            "loss returned: 0.22544713137918967\n"
          ]
        },
        {
          "output_type": "stream",
          "name": "stderr",
          "text": [
            "100% 2/2 [00:00<00:00, 99.59it/s]\n",
            "100% 2/2 [00:00<00:00, 71.25it/s]\n"
          ]
        },
        {
          "output_type": "stream",
          "name": "stdout",
          "text": [
            "Epoch: 062, Loss: 0.2254, Val Acc: {'rocauc': 0.6749192175644095}, Test Acc: {'rocauc': 0.6017761752136752}\n"
          ]
        },
        {
          "output_type": "stream",
          "name": "stderr",
          "text": [
            "100% 10/10 [00:00<00:00, 42.76it/s]\n"
          ]
        },
        {
          "output_type": "stream",
          "name": "stdout",
          "text": [
            "loss returned: 0.22505001697269766\n"
          ]
        },
        {
          "output_type": "stream",
          "name": "stderr",
          "text": [
            "100% 2/2 [00:00<00:00, 85.67it/s]\n",
            "100% 2/2 [00:00<00:00, 65.74it/s]\n"
          ]
        },
        {
          "output_type": "stream",
          "name": "stdout",
          "text": [
            "Epoch: 063, Loss: 0.2251, Val Acc: {'rocauc': 0.6767002779300462}, Test Acc: {'rocauc': 0.6012970753205129}\n"
          ]
        },
        {
          "output_type": "stream",
          "name": "stderr",
          "text": [
            "100% 10/10 [00:00<00:00, 39.73it/s]\n"
          ]
        },
        {
          "output_type": "stream",
          "name": "stdout",
          "text": [
            "loss returned: 0.22506326935384155\n"
          ]
        },
        {
          "output_type": "stream",
          "name": "stderr",
          "text": [
            "100% 2/2 [00:00<00:00, 84.81it/s]\n",
            "100% 2/2 [00:00<00:00, 68.60it/s]\n"
          ]
        },
        {
          "output_type": "stream",
          "name": "stdout",
          "text": [
            "Epoch: 064, Loss: 0.2251, Val Acc: {'rocauc': 0.6786909879499534}, Test Acc: {'rocauc': 0.6017761752136752}\n"
          ]
        },
        {
          "output_type": "stream",
          "name": "stderr",
          "text": [
            "100% 10/10 [00:00<00:00, 44.34it/s]\n"
          ]
        },
        {
          "output_type": "stream",
          "name": "stdout",
          "text": [
            "loss returned: 0.22522871529369612\n"
          ]
        },
        {
          "output_type": "stream",
          "name": "stderr",
          "text": [
            "100% 2/2 [00:00<00:00, 90.63it/s]\n",
            "100% 2/2 [00:00<00:00, 75.53it/s]\n"
          ]
        },
        {
          "output_type": "stream",
          "name": "stdout",
          "text": [
            "Epoch: 065, Loss: 0.2252, Val Acc: {'rocauc': 0.6827640095015531}, Test Acc: {'rocauc': 0.606461171207265}\n"
          ]
        },
        {
          "output_type": "stream",
          "name": "stderr",
          "text": [
            "100% 10/10 [00:00<00:00, 43.61it/s]\n"
          ]
        },
        {
          "output_type": "stream",
          "name": "stdout",
          "text": [
            "loss returned: 0.2248072921346548\n"
          ]
        },
        {
          "output_type": "stream",
          "name": "stderr",
          "text": [
            "100% 2/2 [00:00<00:00, 86.65it/s]\n",
            "100% 2/2 [00:00<00:00, 67.42it/s]\n"
          ]
        },
        {
          "output_type": "stream",
          "name": "stdout",
          "text": [
            "Epoch: 066, Loss: 0.2248, Val Acc: {'rocauc': 0.6810745506477021}, Test Acc: {'rocauc': 0.6036533453525641}\n"
          ]
        },
        {
          "output_type": "stream",
          "name": "stderr",
          "text": [
            "100% 10/10 [00:00<00:00, 41.26it/s]\n"
          ]
        },
        {
          "output_type": "stream",
          "name": "stdout",
          "text": [
            "loss returned: 0.22455078648572044\n"
          ]
        },
        {
          "output_type": "stream",
          "name": "stderr",
          "text": [
            "100% 2/2 [00:00<00:00, 79.74it/s]\n",
            "100% 2/2 [00:00<00:00, 71.51it/s]\n"
          ]
        },
        {
          "output_type": "stream",
          "name": "stdout",
          "text": [
            "Epoch: 067, Loss: 0.2246, Val Acc: {'rocauc': 0.6821615071694411}, Test Acc: {'rocauc': 0.6038394764957266}\n"
          ]
        },
        {
          "output_type": "stream",
          "name": "stderr",
          "text": [
            "100% 10/10 [00:00<00:00, 45.37it/s]\n"
          ]
        },
        {
          "output_type": "stream",
          "name": "stdout",
          "text": [
            "loss returned: 0.2247786565946382\n"
          ]
        },
        {
          "output_type": "stream",
          "name": "stderr",
          "text": [
            "100% 2/2 [00:00<00:00, 74.39it/s]\n",
            "100% 2/2 [00:00<00:00, 75.95it/s]\n"
          ]
        },
        {
          "output_type": "stream",
          "name": "stdout",
          "text": [
            "Epoch: 068, Loss: 0.2248, Val Acc: {'rocauc': 0.6845756037044517}, Test Acc: {'rocauc': 0.606409421741453}\n"
          ]
        },
        {
          "output_type": "stream",
          "name": "stderr",
          "text": [
            "100% 10/10 [00:00<00:00, 43.45it/s]\n"
          ]
        },
        {
          "output_type": "stream",
          "name": "stdout",
          "text": [
            "loss returned: 0.22488456728547232\n"
          ]
        },
        {
          "output_type": "stream",
          "name": "stderr",
          "text": [
            "100% 2/2 [00:00<00:00, 75.83it/s]\n",
            "100% 2/2 [00:00<00:00, 71.69it/s]\n"
          ]
        },
        {
          "output_type": "stream",
          "name": "stdout",
          "text": [
            "Epoch: 069, Loss: 0.2249, Val Acc: {'rocauc': 0.6842438187011338}, Test Acc: {'rocauc': 0.6043828458867522}\n"
          ]
        },
        {
          "output_type": "stream",
          "name": "stderr",
          "text": [
            "100% 10/10 [00:00<00:00, 41.65it/s]\n"
          ]
        },
        {
          "output_type": "stream",
          "name": "stdout",
          "text": [
            "loss returned: 0.22413670862760712\n"
          ]
        },
        {
          "output_type": "stream",
          "name": "stderr",
          "text": [
            "100% 2/2 [00:00<00:00, 95.35it/s]\n",
            "100% 2/2 [00:00<00:00, 55.13it/s]\n"
          ]
        },
        {
          "output_type": "stream",
          "name": "stdout",
          "text": [
            "Epoch: 070, Loss: 0.2241, Val Acc: {'rocauc': 0.6753731379167749}, Test Acc: {'rocauc': 0.5970277443910257}\n"
          ]
        },
        {
          "output_type": "stream",
          "name": "stderr",
          "text": [
            "100% 10/10 [00:00<00:00, 42.77it/s]\n"
          ]
        },
        {
          "output_type": "stream",
          "name": "stdout",
          "text": [
            "loss returned: 0.22451610882134887\n"
          ]
        },
        {
          "output_type": "stream",
          "name": "stderr",
          "text": [
            "100% 2/2 [00:00<00:00, 92.07it/s]\n",
            "100% 2/2 [00:00<00:00, 71.57it/s]\n"
          ]
        },
        {
          "output_type": "stream",
          "name": "stdout",
          "text": [
            "Epoch: 071, Loss: 0.2245, Val Acc: {'rocauc': 0.6743167152322975}, Test Acc: {'rocauc': 0.5960937500000001}\n"
          ]
        },
        {
          "output_type": "stream",
          "name": "stderr",
          "text": [
            "100% 10/10 [00:00<00:00, 43.37it/s]\n"
          ]
        },
        {
          "output_type": "stream",
          "name": "stdout",
          "text": [
            "loss returned: 0.22424532020122293\n"
          ]
        },
        {
          "output_type": "stream",
          "name": "stderr",
          "text": [
            "100% 2/2 [00:00<00:00, 84.00it/s]\n",
            "100% 2/2 [00:00<00:00, 67.40it/s]\n"
          ]
        },
        {
          "output_type": "stream",
          "name": "stdout",
          "text": [
            "Epoch: 072, Loss: 0.2242, Val Acc: {'rocauc': 0.6750108190761952}, Test Acc: {'rocauc': 0.5969484508547008}\n"
          ]
        },
        {
          "output_type": "stream",
          "name": "stderr",
          "text": [
            "100% 10/10 [00:00<00:00, 31.77it/s]\n"
          ]
        },
        {
          "output_type": "stream",
          "name": "stdout",
          "text": [
            "loss returned: 0.2244775916412662\n"
          ]
        },
        {
          "output_type": "stream",
          "name": "stderr",
          "text": [
            "100% 2/2 [00:00<00:00, 51.33it/s]\n",
            "100% 2/2 [00:00<00:00, 65.47it/s]\n"
          ]
        },
        {
          "output_type": "stream",
          "name": "stdout",
          "text": [
            "Epoch: 073, Loss: 0.2245, Val Acc: {'rocauc': 0.6771847321196733}, Test Acc: {'rocauc': 0.597018563034188}\n"
          ]
        },
        {
          "output_type": "stream",
          "name": "stderr",
          "text": [
            "100% 10/10 [00:00<00:00, 32.71it/s]\n"
          ]
        },
        {
          "output_type": "stream",
          "name": "stdout",
          "text": [
            "loss returned: 0.22425103083467401\n"
          ]
        },
        {
          "output_type": "stream",
          "name": "stderr",
          "text": [
            "100% 2/2 [00:00<00:00, 56.86it/s]\n",
            "100% 2/2 [00:00<00:00, 63.49it/s]\n"
          ]
        },
        {
          "output_type": "stream",
          "name": "stdout",
          "text": [
            "Epoch: 074, Loss: 0.2243, Val Acc: {'rocauc': 0.6764906282757758}, Test Acc: {'rocauc': 0.5969117254273504}\n"
          ]
        },
        {
          "output_type": "stream",
          "name": "stderr",
          "text": [
            "100% 10/10 [00:00<00:00, 33.89it/s]\n"
          ]
        },
        {
          "output_type": "stream",
          "name": "stdout",
          "text": [
            "loss returned: 0.22475820156500362\n"
          ]
        },
        {
          "output_type": "stream",
          "name": "stderr",
          "text": [
            "100% 2/2 [00:00<00:00, 54.86it/s]\n",
            "100% 2/2 [00:00<00:00, 54.48it/s]\n"
          ]
        },
        {
          "output_type": "stream",
          "name": "stdout",
          "text": [
            "Epoch: 075, Loss: 0.2248, Val Acc: {'rocauc': 0.6782106209668888}, Test Acc: {'rocauc': 0.597995125534188}\n"
          ]
        },
        {
          "output_type": "stream",
          "name": "stderr",
          "text": [
            "100% 10/10 [00:00<00:00, 33.74it/s]\n"
          ]
        },
        {
          "output_type": "stream",
          "name": "stdout",
          "text": [
            "loss returned: 0.2243610232639474\n"
          ]
        },
        {
          "output_type": "stream",
          "name": "stderr",
          "text": [
            "100% 2/2 [00:00<00:00, 63.34it/s]\n",
            "100% 2/2 [00:00<00:00, 61.34it/s]\n"
          ]
        },
        {
          "output_type": "stream",
          "name": "stdout",
          "text": [
            "Epoch: 076, Loss: 0.2244, Val Acc: {'rocauc': 0.6795988286546839}, Test Acc: {'rocauc': 0.5959593683226496}\n"
          ]
        },
        {
          "output_type": "stream",
          "name": "stderr",
          "text": [
            "100% 10/10 [00:00<00:00, 35.73it/s]\n"
          ]
        },
        {
          "output_type": "stream",
          "name": "stdout",
          "text": [
            "loss returned: 0.22369575419736856\n"
          ]
        },
        {
          "output_type": "stream",
          "name": "stderr",
          "text": [
            "100% 2/2 [00:00<00:00, 65.64it/s]\n",
            "100% 2/2 [00:00<00:00, 75.07it/s]\n"
          ]
        },
        {
          "output_type": "stream",
          "name": "stdout",
          "text": [
            "Epoch: 077, Loss: 0.2237, Val Acc: {'rocauc': 0.6839731013723397}, Test Acc: {'rocauc': 0.5999298878205128}\n"
          ]
        },
        {
          "output_type": "stream",
          "name": "stderr",
          "text": [
            "100% 10/10 [00:00<00:00, 30.37it/s]\n"
          ]
        },
        {
          "output_type": "stream",
          "name": "stdout",
          "text": [
            "loss returned: 0.22401787816317378\n"
          ]
        },
        {
          "output_type": "stream",
          "name": "stderr",
          "text": [
            "100% 2/2 [00:00<00:00, 66.96it/s]\n",
            "100% 2/2 [00:00<00:00, 75.96it/s]\n"
          ]
        },
        {
          "output_type": "stream",
          "name": "stdout",
          "text": [
            "Epoch: 078, Loss: 0.2240, Val Acc: {'rocauc': 0.6860859467412943}, Test Acc: {'rocauc': 0.6015199318910257}\n"
          ]
        },
        {
          "output_type": "stream",
          "name": "stderr",
          "text": [
            "100% 10/10 [00:00<00:00, 32.42it/s]\n"
          ]
        },
        {
          "output_type": "stream",
          "name": "stdout",
          "text": [
            "loss returned: 0.22377150734787166\n"
          ]
        },
        {
          "output_type": "stream",
          "name": "stderr",
          "text": [
            "100% 2/2 [00:00<00:00, 76.99it/s]\n",
            "100% 2/2 [00:00<00:00, 76.64it/s]\n"
          ]
        },
        {
          "output_type": "stream",
          "name": "stdout",
          "text": [
            "Epoch: 079, Loss: 0.2238, Val Acc: {'rocauc': 0.6868105844224537}, Test Acc: {'rocauc': 0.5992003872863247}\n"
          ]
        },
        {
          "output_type": "stream",
          "name": "stderr",
          "text": [
            "100% 10/10 [00:00<00:00, 35.95it/s]\n"
          ]
        },
        {
          "output_type": "stream",
          "name": "stdout",
          "text": [
            "loss returned: 0.2236757138389132\n"
          ]
        },
        {
          "output_type": "stream",
          "name": "stderr",
          "text": [
            "100% 2/2 [00:00<00:00, 61.52it/s]\n",
            "100% 2/2 [00:00<00:00, 68.40it/s]\n"
          ]
        },
        {
          "output_type": "stream",
          "name": "stdout",
          "text": [
            "Epoch: 080, Loss: 0.2237, Val Acc: {'rocauc': 0.6898882509641}, Test Acc: {'rocauc': 0.6019990317841881}\n"
          ]
        },
        {
          "output_type": "stream",
          "name": "stderr",
          "text": [
            "100% 10/10 [00:00<00:00, 32.72it/s]\n"
          ]
        },
        {
          "output_type": "stream",
          "name": "stdout",
          "text": [
            "loss returned: 0.22355887799773752\n"
          ]
        },
        {
          "output_type": "stream",
          "name": "stderr",
          "text": [
            "100% 2/2 [00:00<00:00, 61.24it/s]\n",
            "100% 2/2 [00:00<00:00, 58.98it/s]\n"
          ]
        },
        {
          "output_type": "stream",
          "name": "stdout",
          "text": [
            "Epoch: 081, Loss: 0.2236, Val Acc: {'rocauc': 0.6923634151736341}, Test Acc: {'rocauc': 0.6038853832799145}\n"
          ]
        },
        {
          "output_type": "stream",
          "name": "stderr",
          "text": [
            "100% 10/10 [00:00<00:00, 32.90it/s]\n"
          ]
        },
        {
          "output_type": "stream",
          "name": "stdout",
          "text": [
            "loss returned: 0.22446636394751365\n"
          ]
        },
        {
          "output_type": "stream",
          "name": "stderr",
          "text": [
            "100% 2/2 [00:00<00:00, 55.69it/s]\n",
            "100% 2/2 [00:00<00:00, 63.88it/s]\n"
          ]
        },
        {
          "output_type": "stream",
          "name": "stdout",
          "text": [
            "Epoch: 082, Loss: 0.2245, Val Acc: {'rocauc': 0.6942055432137946}, Test Acc: {'rocauc': 0.6084209735576923}\n"
          ]
        },
        {
          "output_type": "stream",
          "name": "stderr",
          "text": [
            "100% 10/10 [00:00<00:00, 32.88it/s]\n"
          ]
        },
        {
          "output_type": "stream",
          "name": "stdout",
          "text": [
            "loss returned: 0.22378899317288378\n"
          ]
        },
        {
          "output_type": "stream",
          "name": "stderr",
          "text": [
            "100% 2/2 [00:00<00:00, 51.83it/s]\n",
            "100% 2/2 [00:00<00:00, 66.37it/s]\n"
          ]
        },
        {
          "output_type": "stream",
          "name": "stdout",
          "text": [
            "Epoch: 083, Loss: 0.2238, Val Acc: {'rocauc': 0.6962573209082255}, Test Acc: {'rocauc': 0.6078684228098291}\n"
          ]
        },
        {
          "output_type": "stream",
          "name": "stderr",
          "text": [
            "100% 10/10 [00:00<00:00, 33.65it/s]\n"
          ]
        },
        {
          "output_type": "stream",
          "name": "stdout",
          "text": [
            "loss returned: 0.2231684041088865\n"
          ]
        },
        {
          "output_type": "stream",
          "name": "stderr",
          "text": [
            "100% 2/2 [00:00<00:00, 73.07it/s]\n",
            "100% 2/2 [00:00<00:00, 66.92it/s]\n"
          ]
        },
        {
          "output_type": "stream",
          "name": "stdout",
          "text": [
            "Epoch: 084, Loss: 0.2232, Val Acc: {'rocauc': 0.6978857120875528}, Test Acc: {'rocauc': 0.6061256343482906}\n"
          ]
        },
        {
          "output_type": "stream",
          "name": "stderr",
          "text": [
            "100% 10/10 [00:00<00:00, 43.54it/s]\n"
          ]
        },
        {
          "output_type": "stream",
          "name": "stdout",
          "text": [
            "loss returned: 0.22355070732893528\n"
          ]
        },
        {
          "output_type": "stream",
          "name": "stderr",
          "text": [
            "100% 2/2 [00:00<00:00, 89.36it/s]\n",
            "100% 2/2 [00:00<00:00, 61.70it/s]\n"
          ]
        },
        {
          "output_type": "stream",
          "name": "stdout",
          "text": [
            "Epoch: 085, Loss: 0.2236, Val Acc: {'rocauc': 0.6982480309281325}, Test Acc: {'rocauc': 0.6071389222756409}\n"
          ]
        },
        {
          "output_type": "stream",
          "name": "stderr",
          "text": [
            "100% 10/10 [00:00<00:00, 43.21it/s]\n"
          ]
        },
        {
          "output_type": "stream",
          "name": "stdout",
          "text": [
            "loss returned: 0.22442450886000828\n"
          ]
        },
        {
          "output_type": "stream",
          "name": "stderr",
          "text": [
            "100% 2/2 [00:00<00:00, 69.81it/s]\n",
            "100% 2/2 [00:00<00:00, 63.93it/s]\n"
          ]
        },
        {
          "output_type": "stream",
          "name": "stdout",
          "text": [
            "Epoch: 086, Loss: 0.2244, Val Acc: {'rocauc': 0.6982480309281325}, Test Acc: {'rocauc': 0.6066748464209402}\n"
          ]
        },
        {
          "output_type": "stream",
          "name": "stderr",
          "text": [
            "100% 10/10 [00:00<00:00, 43.37it/s]\n"
          ]
        },
        {
          "output_type": "stream",
          "name": "stdout",
          "text": [
            "loss returned: 0.2236469004438854\n"
          ]
        },
        {
          "output_type": "stream",
          "name": "stderr",
          "text": [
            "100% 2/2 [00:00<00:00, 92.62it/s]\n",
            "100% 2/2 [00:00<00:00, 72.17it/s]\n"
          ]
        },
        {
          "output_type": "stream",
          "name": "stdout",
          "text": [
            "Epoch: 087, Loss: 0.2236, Val Acc: {'rocauc': 0.6978857120875528}, Test Acc: {'rocauc': 0.6029513888888889}\n"
          ]
        },
        {
          "output_type": "stream",
          "name": "stderr",
          "text": [
            "100% 10/10 [00:00<00:00, 44.66it/s]\n"
          ]
        },
        {
          "output_type": "stream",
          "name": "stdout",
          "text": [
            "loss returned: 0.2241396287252699\n"
          ]
        },
        {
          "output_type": "stream",
          "name": "stderr",
          "text": [
            "100% 2/2 [00:00<00:00, 64.62it/s]\n",
            "100% 2/2 [00:00<00:00, 67.87it/s]\n"
          ]
        },
        {
          "output_type": "stream",
          "name": "stdout",
          "text": [
            "Epoch: 088, Loss: 0.2241, Val Acc: {'rocauc': 0.6947469778713828}, Test Acc: {'rocauc': 0.6011660323183761}\n"
          ]
        },
        {
          "output_type": "stream",
          "name": "stderr",
          "text": [
            "100% 10/10 [00:00<00:00, 40.65it/s]\n"
          ]
        },
        {
          "output_type": "stream",
          "name": "stdout",
          "text": [
            "loss returned: 0.2242563048805048\n"
          ]
        },
        {
          "output_type": "stream",
          "name": "stderr",
          "text": [
            "100% 2/2 [00:00<00:00, 93.07it/s]\n",
            "100% 2/2 [00:00<00:00, 55.78it/s]\n"
          ]
        },
        {
          "output_type": "stream",
          "name": "stdout",
          "text": [
            "Epoch: 089, Loss: 0.2243, Val Acc: {'rocauc': 0.6950482290374388}, Test Acc: {'rocauc': 0.601263688568376}\n"
          ]
        },
        {
          "output_type": "stream",
          "name": "stderr",
          "text": [
            "100% 10/10 [00:00<00:00, 43.34it/s]\n"
          ]
        },
        {
          "output_type": "stream",
          "name": "stdout",
          "text": [
            "loss returned: 0.2246629871194591\n"
          ]
        },
        {
          "output_type": "stream",
          "name": "stderr",
          "text": [
            "100% 2/2 [00:00<00:00, 88.32it/s]\n",
            "100% 2/2 [00:00<00:00, 73.65it/s]\n"
          ]
        },
        {
          "output_type": "stream",
          "name": "stdout",
          "text": [
            "Epoch: 090, Loss: 0.2247, Val Acc: {'rocauc': 0.6999680236192454}, Test Acc: {'rocauc': 0.6075721153846154}\n"
          ]
        },
        {
          "output_type": "stream",
          "name": "stderr",
          "text": [
            "100% 10/10 [00:00<00:00, 43.45it/s]\n"
          ]
        },
        {
          "output_type": "stream",
          "name": "stdout",
          "text": [
            "loss returned: 0.22323901290160736\n"
          ]
        },
        {
          "output_type": "stream",
          "name": "stderr",
          "text": [
            "100% 2/2 [00:00<00:00, 93.61it/s]\n",
            "100% 2/2 [00:00<00:00, 73.43it/s]\n"
          ]
        },
        {
          "output_type": "stream",
          "name": "stdout",
          "text": [
            "Epoch: 091, Loss: 0.2232, Val Acc: {'rocauc': 0.6985187482569266}, Test Acc: {'rocauc': 0.603412126068376}\n"
          ]
        },
        {
          "output_type": "stream",
          "name": "stderr",
          "text": [
            "100% 10/10 [00:00<00:00, 40.44it/s]\n"
          ]
        },
        {
          "output_type": "stream",
          "name": "stdout",
          "text": [
            "loss returned: 0.22363417829677879\n"
          ]
        },
        {
          "output_type": "stream",
          "name": "stderr",
          "text": [
            "100% 2/2 [00:00<00:00, 89.09it/s]\n",
            "100% 2/2 [00:00<00:00, 67.71it/s]\n"
          ]
        },
        {
          "output_type": "stream",
          "name": "stdout",
          "text": [
            "Epoch: 092, Loss: 0.2236, Val Acc: {'rocauc': 0.7010244463037227}, Test Acc: {'rocauc': 0.6083441840277777}\n"
          ]
        },
        {
          "output_type": "stream",
          "name": "stderr",
          "text": [
            "100% 10/10 [00:00<00:00, 40.02it/s]\n"
          ]
        },
        {
          "output_type": "stream",
          "name": "stdout",
          "text": [
            "loss returned: 0.22307088549716506\n"
          ]
        },
        {
          "output_type": "stream",
          "name": "stderr",
          "text": [
            "100% 2/2 [00:00<00:00, 75.44it/s]\n",
            "100% 2/2 [00:00<00:00, 69.84it/s]\n"
          ]
        },
        {
          "output_type": "stream",
          "name": "stdout",
          "text": [
            "Epoch: 093, Loss: 0.2231, Val Acc: {'rocauc': 0.7037397940047891}, Test Acc: {'rocauc': 0.6124799679487178}\n"
          ]
        },
        {
          "output_type": "stream",
          "name": "stderr",
          "text": [
            "100% 10/10 [00:00<00:00, 44.47it/s]\n"
          ]
        },
        {
          "output_type": "stream",
          "name": "stdout",
          "text": [
            "loss returned: 0.22295119885314227\n"
          ]
        },
        {
          "output_type": "stream",
          "name": "stderr",
          "text": [
            "100% 2/2 [00:00<00:00, 102.73it/s]\n",
            "100% 2/2 [00:00<00:00, 61.48it/s]\n"
          ]
        },
        {
          "output_type": "stream",
          "name": "stdout",
          "text": [
            "Epoch: 094, Loss: 0.2230, Val Acc: {'rocauc': 0.7041021128453688}, Test Acc: {'rocauc': 0.6141251001602565}\n"
          ]
        },
        {
          "output_type": "stream",
          "name": "stderr",
          "text": [
            "100% 10/10 [00:00<00:00, 42.43it/s]\n"
          ]
        },
        {
          "output_type": "stream",
          "name": "stdout",
          "text": [
            "loss returned: 0.22272634677822362\n"
          ]
        },
        {
          "output_type": "stream",
          "name": "stderr",
          "text": [
            "100% 2/2 [00:00<00:00, 92.96it/s]\n",
            "100% 2/2 [00:00<00:00, 76.93it/s]\n"
          ]
        },
        {
          "output_type": "stream",
          "name": "stdout",
          "text": [
            "Epoch: 095, Loss: 0.2227, Val Acc: {'rocauc': 0.7044949655232104}, Test Acc: {'rocauc': 0.612577624198718}\n"
          ]
        },
        {
          "output_type": "stream",
          "name": "stderr",
          "text": [
            "100% 10/10 [00:00<00:00, 41.30it/s]\n"
          ]
        },
        {
          "output_type": "stream",
          "name": "stdout",
          "text": [
            "loss returned: 0.22305360428869067\n"
          ]
        },
        {
          "output_type": "stream",
          "name": "stderr",
          "text": [
            "100% 2/2 [00:00<00:00, 104.23it/s]\n",
            "100% 2/2 [00:00<00:00, 55.22it/s]\n"
          ]
        },
        {
          "output_type": "stream",
          "name": "stdout",
          "text": [
            "Epoch: 096, Loss: 0.2231, Val Acc: {'rocauc': 0.7024431878287797}, Test Acc: {'rocauc': 0.610602797809829}\n"
          ]
        },
        {
          "output_type": "stream",
          "name": "stderr",
          "text": [
            "100% 10/10 [00:00<00:00, 44.65it/s]\n"
          ]
        },
        {
          "output_type": "stream",
          "name": "stdout",
          "text": [
            "loss returned: 0.22279665383820207\n"
          ]
        },
        {
          "output_type": "stream",
          "name": "stderr",
          "text": [
            "100% 2/2 [00:00<00:00, 80.51it/s]\n",
            "100% 2/2 [00:00<00:00, 60.86it/s]\n"
          ]
        },
        {
          "output_type": "stream",
          "name": "stdout",
          "text": [
            "Epoch: 097, Loss: 0.2228, Val Acc: {'rocauc': 0.7048572843637901}, Test Acc: {'rocauc': 0.6112070980235043}\n"
          ]
        },
        {
          "output_type": "stream",
          "name": "stderr",
          "text": [
            "100% 10/10 [00:00<00:00, 43.07it/s]\n"
          ]
        },
        {
          "output_type": "stream",
          "name": "stdout",
          "text": [
            "loss returned: 0.22245863978384312\n"
          ]
        },
        {
          "output_type": "stream",
          "name": "stderr",
          "text": [
            "100% 2/2 [00:00<00:00, 102.80it/s]\n",
            "100% 2/2 [00:00<00:00, 74.32it/s]\n"
          ]
        },
        {
          "output_type": "stream",
          "name": "stdout",
          "text": [
            "Epoch: 098, Loss: 0.2225, Val Acc: {'rocauc': 0.7042547820316782}, Test Acc: {'rocauc': 0.6104166666666666}\n"
          ]
        },
        {
          "output_type": "stream",
          "name": "stderr",
          "text": [
            "100% 10/10 [00:00<00:00, 41.31it/s]\n"
          ]
        },
        {
          "output_type": "stream",
          "name": "stdout",
          "text": [
            "loss returned: 0.2228746639783861\n"
          ]
        },
        {
          "output_type": "stream",
          "name": "stderr",
          "text": [
            "100% 2/2 [00:00<00:00, 81.58it/s]\n",
            "100% 2/2 [00:00<00:00, 71.97it/s]\n"
          ]
        },
        {
          "output_type": "stream",
          "name": "stdout",
          "text": [
            "Epoch: 099, Loss: 0.2229, Val Acc: {'rocauc': 0.7042547820316782}, Test Acc: {'rocauc': 0.6116436298076924}\n"
          ]
        },
        {
          "output_type": "stream",
          "name": "stderr",
          "text": [
            "100% 10/10 [00:00<00:00, 46.45it/s]\n"
          ]
        },
        {
          "output_type": "stream",
          "name": "stdout",
          "text": [
            "loss returned: 0.22350994625604323\n"
          ]
        },
        {
          "output_type": "stream",
          "name": "stderr",
          "text": [
            "100% 2/2 [00:00<00:00, 66.98it/s]\n",
            "100% 2/2 [00:00<00:00, 74.10it/s]\n"
          ]
        },
        {
          "output_type": "stream",
          "name": "stdout",
          "text": [
            "Epoch: 100, Loss: 0.2235, Val Acc: {'rocauc': 0.7062454920515853}, Test Acc: {'rocauc': 0.6148546006944444}\n"
          ]
        },
        {
          "output_type": "stream",
          "name": "stderr",
          "text": [
            "100% 10/10 [00:00<00:00, 42.48it/s]\n"
          ]
        },
        {
          "output_type": "stream",
          "name": "stdout",
          "text": [
            "loss returned: 0.22227052230132424\n"
          ]
        },
        {
          "output_type": "stream",
          "name": "stderr",
          "text": [
            "100% 2/2 [00:00<00:00, 69.06it/s]\n",
            "100% 2/2 [00:00<00:00, 69.07it/s]\n"
          ]
        },
        {
          "output_type": "stream",
          "name": "stdout",
          "text": [
            "Epoch: 101, Loss: 0.2223, Val Acc: {'rocauc': 0.7091135089389612}, Test Acc: {'rocauc': 0.611332298344017}\n"
          ]
        },
        {
          "output_type": "stream",
          "name": "stderr",
          "text": [
            "100% 10/10 [00:00<00:00, 42.09it/s]\n"
          ]
        },
        {
          "output_type": "stream",
          "name": "stdout",
          "text": [
            "loss returned: 0.22312543309663535\n"
          ]
        },
        {
          "output_type": "stream",
          "name": "stderr",
          "text": [
            "100% 2/2 [00:00<00:00, 89.01it/s]\n",
            "100% 2/2 [00:00<00:00, 76.97it/s]\n"
          ]
        },
        {
          "output_type": "stream",
          "name": "stdout",
          "text": [
            "Epoch: 102, Loss: 0.2231, Val Acc: {'rocauc': 0.7101393977861765}, Test Acc: {'rocauc': 0.613404780982906}\n"
          ]
        },
        {
          "output_type": "stream",
          "name": "stderr",
          "text": [
            "100% 10/10 [00:00<00:00, 41.13it/s]\n"
          ]
        },
        {
          "output_type": "stream",
          "name": "stdout",
          "text": [
            "loss returned: 0.22245868935764693\n"
          ]
        },
        {
          "output_type": "stream",
          "name": "stderr",
          "text": [
            "100% 2/2 [00:00<00:00, 101.18it/s]\n",
            "100% 2/2 [00:00<00:00, 63.23it/s]\n"
          ]
        },
        {
          "output_type": "stream",
          "name": "stdout",
          "text": [
            "Epoch: 103, Loss: 0.2225, Val Acc: {'rocauc': 0.7135793831684025}, Test Acc: {'rocauc': 0.6185688768696582}\n"
          ]
        },
        {
          "output_type": "stream",
          "name": "stderr",
          "text": [
            "100% 10/10 [00:00<00:00, 41.65it/s]\n"
          ]
        },
        {
          "output_type": "stream",
          "name": "stdout",
          "text": [
            "loss returned: 0.22348981999826067\n"
          ]
        },
        {
          "output_type": "stream",
          "name": "stderr",
          "text": [
            "100% 2/2 [00:00<00:00, 77.19it/s]\n",
            "100% 2/2 [00:00<00:00, 68.13it/s]\n"
          ]
        },
        {
          "output_type": "stream",
          "name": "stdout",
          "text": [
            "Epoch: 104, Loss: 0.2235, Val Acc: {'rocauc': 0.7146358058528798}, Test Acc: {'rocauc': 0.6187641893696582}\n"
          ]
        },
        {
          "output_type": "stream",
          "name": "stderr",
          "text": [
            "100% 10/10 [00:00<00:00, 41.78it/s]\n"
          ]
        },
        {
          "output_type": "stream",
          "name": "stdout",
          "text": [
            "loss returned: 0.2231849221911701\n"
          ]
        },
        {
          "output_type": "stream",
          "name": "stderr",
          "text": [
            "100% 2/2 [00:00<00:00, 85.26it/s]\n",
            "100% 2/2 [00:00<00:00, 63.80it/s]\n"
          ]
        },
        {
          "output_type": "stream",
          "name": "stdout",
          "text": [
            "Epoch: 105, Loss: 0.2232, Val Acc: {'rocauc': 0.7152993758595154}, Test Acc: {'rocauc': 0.6170764890491452}\n"
          ]
        },
        {
          "output_type": "stream",
          "name": "stderr",
          "text": [
            "100% 10/10 [00:00<00:00, 41.78it/s]\n"
          ]
        },
        {
          "output_type": "stream",
          "name": "stdout",
          "text": [
            "loss returned: 0.2227414953668273\n"
          ]
        },
        {
          "output_type": "stream",
          "name": "stderr",
          "text": [
            "100% 2/2 [00:00<00:00, 82.19it/s]\n",
            "100% 2/2 [00:00<00:00, 58.10it/s]\n"
          ]
        },
        {
          "output_type": "stream",
          "name": "stdout",
          "text": [
            "Epoch: 106, Loss: 0.2227, Val Acc: {'rocauc': 0.7156311608628333}, Test Acc: {'rocauc': 0.6188985710470085}\n"
          ]
        },
        {
          "output_type": "stream",
          "name": "stderr",
          "text": [
            "100% 10/10 [00:00<00:00, 39.26it/s]\n"
          ]
        },
        {
          "output_type": "stream",
          "name": "stdout",
          "text": [
            "loss returned: 0.2226920808451747\n"
          ]
        },
        {
          "output_type": "stream",
          "name": "stderr",
          "text": [
            "100% 2/2 [00:00<00:00, 82.97it/s]\n",
            "100% 2/2 [00:00<00:00, 76.58it/s]\n"
          ]
        },
        {
          "output_type": "stream",
          "name": "stdout",
          "text": [
            "Epoch: 107, Loss: 0.2227, Val Acc: {'rocauc': 0.7177440062317879}, Test Acc: {'rocauc': 0.6177692641559829}\n"
          ]
        },
        {
          "output_type": "stream",
          "name": "stderr",
          "text": [
            "100% 10/10 [00:00<00:00, 42.05it/s]\n"
          ]
        },
        {
          "output_type": "stream",
          "name": "stdout",
          "text": [
            "loss returned: 0.22252577494050768\n"
          ]
        },
        {
          "output_type": "stream",
          "name": "stderr",
          "text": [
            "100% 2/2 [00:00<00:00, 67.63it/s]\n",
            "100% 2/2 [00:00<00:00, 78.05it/s]\n"
          ]
        },
        {
          "output_type": "stream",
          "name": "stdout",
          "text": [
            "Epoch: 108, Loss: 0.2225, Val Acc: {'rocauc': 0.7163557985439928}, Test Acc: {'rocauc': 0.6198233840811966}\n"
          ]
        },
        {
          "output_type": "stream",
          "name": "stderr",
          "text": [
            "100% 10/10 [00:00<00:00, 44.26it/s]\n"
          ]
        },
        {
          "output_type": "stream",
          "name": "stdout",
          "text": [
            "loss returned: 0.22251180663490377\n"
          ]
        },
        {
          "output_type": "stream",
          "name": "stderr",
          "text": [
            "100% 2/2 [00:00<00:00, 91.84it/s]\n",
            "100% 2/2 [00:00<00:00, 74.15it/s]\n"
          ]
        },
        {
          "output_type": "stream",
          "name": "stdout",
          "text": [
            "Epoch: 109, Loss: 0.2225, Val Acc: {'rocauc': 0.7160545473779367}, Test Acc: {'rocauc': 0.6166858640491453}\n"
          ]
        },
        {
          "output_type": "stream",
          "name": "stderr",
          "text": [
            "100% 10/10 [00:00<00:00, 42.72it/s]\n"
          ]
        },
        {
          "output_type": "stream",
          "name": "stdout",
          "text": [
            "loss returned: 0.22236913783281764\n"
          ]
        },
        {
          "output_type": "stream",
          "name": "stderr",
          "text": [
            "100% 2/2 [00:00<00:00, 77.32it/s]\n",
            "100% 2/2 [00:00<00:00, 60.61it/s]\n"
          ]
        },
        {
          "output_type": "stream",
          "name": "stdout",
          "text": [
            "Epoch: 110, Loss: 0.2224, Val Acc: {'rocauc': 0.7149981246934594}, Test Acc: {'rocauc': 0.6171132144764957}\n"
          ]
        },
        {
          "output_type": "stream",
          "name": "stderr",
          "text": [
            "100% 10/10 [00:00<00:00, 41.86it/s]\n"
          ]
        },
        {
          "output_type": "stream",
          "name": "stdout",
          "text": [
            "loss returned: 0.2223502988284367\n"
          ]
        },
        {
          "output_type": "stream",
          "name": "stderr",
          "text": [
            "100% 2/2 [00:00<00:00, 87.24it/s]\n",
            "100% 2/2 [00:00<00:00, 56.43it/s]\n"
          ]
        },
        {
          "output_type": "stream",
          "name": "stdout",
          "text": [
            "Epoch: 111, Loss: 0.2224, Val Acc: {'rocauc': 0.7149370570189357}, Test Acc: {'rocauc': 0.6134231436965811}\n"
          ]
        },
        {
          "output_type": "stream",
          "name": "stderr",
          "text": [
            "100% 10/10 [00:00<00:00, 40.78it/s]\n"
          ]
        },
        {
          "output_type": "stream",
          "name": "stdout",
          "text": [
            "loss returned: 0.22354781811869215\n"
          ]
        },
        {
          "output_type": "stream",
          "name": "stderr",
          "text": [
            "100% 2/2 [00:00<00:00, 70.86it/s]\n",
            "100% 2/2 [00:00<00:00, 77.55it/s]\n"
          ]
        },
        {
          "output_type": "stream",
          "name": "stdout",
          "text": [
            "Epoch: 112, Loss: 0.2235, Val Acc: {'rocauc': 0.7167181173845725}, Test Acc: {'rocauc': 0.6157610510149572}\n"
          ]
        },
        {
          "output_type": "stream",
          "name": "stderr",
          "text": [
            "100% 10/10 [00:00<00:00, 43.31it/s]\n"
          ]
        },
        {
          "output_type": "stream",
          "name": "stdout",
          "text": [
            "loss returned: 0.2229918327803939\n"
          ]
        },
        {
          "output_type": "stream",
          "name": "stderr",
          "text": [
            "100% 2/2 [00:00<00:00, 85.35it/s]\n",
            "100% 2/2 [00:00<00:00, 73.33it/s]\n"
          ]
        },
        {
          "output_type": "stream",
          "name": "stdout",
          "text": [
            "Epoch: 113, Loss: 0.2230, Val Acc: {'rocauc': 0.7101088639489146}, Test Acc: {'rocauc': 0.6127579126602565}\n"
          ]
        },
        {
          "output_type": "stream",
          "name": "stderr",
          "text": [
            "100% 10/10 [00:00<00:00, 41.16it/s]\n"
          ]
        },
        {
          "output_type": "stream",
          "name": "stdout",
          "text": [
            "loss returned: 0.22470703215088308\n"
          ]
        },
        {
          "output_type": "stream",
          "name": "stderr",
          "text": [
            "100% 2/2 [00:00<00:00, 85.30it/s]\n",
            "100% 2/2 [00:00<00:00, 61.46it/s]\n"
          ]
        },
        {
          "output_type": "stream",
          "name": "stdout",
          "text": [
            "Epoch: 114, Loss: 0.2247, Val Acc: {'rocauc': 0.7149370570189357}, Test Acc: {'rocauc': 0.6111311431623931}\n"
          ]
        },
        {
          "output_type": "stream",
          "name": "stderr",
          "text": [
            "100% 10/10 [00:00<00:00, 32.06it/s]\n"
          ]
        },
        {
          "output_type": "stream",
          "name": "stdout",
          "text": [
            "loss returned: 0.22202109561241046\n"
          ]
        },
        {
          "output_type": "stream",
          "name": "stderr",
          "text": [
            "100% 2/2 [00:00<00:00, 68.75it/s]\n",
            "100% 2/2 [00:00<00:00, 65.47it/s]\n"
          ]
        },
        {
          "output_type": "stream",
          "name": "stdout",
          "text": [
            "Epoch: 115, Loss: 0.2220, Val Acc: {'rocauc': 0.7163252647067309}, Test Acc: {'rocauc': 0.6194936899038461}\n"
          ]
        },
        {
          "output_type": "stream",
          "name": "stderr",
          "text": [
            "100% 10/10 [00:00<00:00, 29.63it/s]\n"
          ]
        },
        {
          "output_type": "stream",
          "name": "stdout",
          "text": [
            "loss returned: 0.22272962362053633\n"
          ]
        },
        {
          "output_type": "stream",
          "name": "stderr",
          "text": [
            "100% 2/2 [00:00<00:00, 61.10it/s]\n",
            "100% 2/2 [00:00<00:00, 59.37it/s]\n"
          ]
        },
        {
          "output_type": "stream",
          "name": "stdout",
          "text": [
            "Epoch: 116, Loss: 0.2227, Val Acc: {'rocauc': 0.7174427550657319}, Test Acc: {'rocauc': 0.6170247395833333}\n"
          ]
        },
        {
          "output_type": "stream",
          "name": "stderr",
          "text": [
            "100% 10/10 [00:00<00:00, 37.64it/s]\n"
          ]
        },
        {
          "output_type": "stream",
          "name": "stdout",
          "text": [
            "loss returned: 0.22261526113238808\n"
          ]
        },
        {
          "output_type": "stream",
          "name": "stderr",
          "text": [
            "100% 2/2 [00:00<00:00, 48.76it/s]\n",
            "100% 2/2 [00:00<00:00, 71.51it/s]\n"
          ]
        },
        {
          "output_type": "stream",
          "name": "stdout",
          "text": [
            "Epoch: 117, Loss: 0.2226, Val Acc: {'rocauc': 0.7184686439129473}, Test Acc: {'rocauc': 0.6157276642628204}\n"
          ]
        },
        {
          "output_type": "stream",
          "name": "stderr",
          "text": [
            "100% 10/10 [00:00<00:00, 36.97it/s]\n"
          ]
        },
        {
          "output_type": "stream",
          "name": "stdout",
          "text": [
            "loss returned: 0.22332873831958108\n"
          ]
        },
        {
          "output_type": "stream",
          "name": "stderr",
          "text": [
            "100% 2/2 [00:00<00:00, 74.67it/s]\n",
            "100% 2/2 [00:00<00:00, 70.61it/s]\n"
          ]
        },
        {
          "output_type": "stream",
          "name": "stdout",
          "text": [
            "Epoch: 118, Loss: 0.2233, Val Acc: {'rocauc': 0.7204898877701162}, Test Acc: {'rocauc': 0.6210870726495725}\n"
          ]
        },
        {
          "output_type": "stream",
          "name": "stderr",
          "text": [
            "100% 10/10 [00:00<00:00, 34.42it/s]\n"
          ]
        },
        {
          "output_type": "stream",
          "name": "stdout",
          "text": [
            "loss returned: 0.22307795201641942\n"
          ]
        },
        {
          "output_type": "stream",
          "name": "stderr",
          "text": [
            "100% 2/2 [00:00<00:00, 69.35it/s]\n",
            "100% 2/2 [00:00<00:00, 71.10it/s]\n"
          ]
        },
        {
          "output_type": "stream",
          "name": "stdout",
          "text": [
            "Epoch: 119, Loss: 0.2231, Val Acc: {'rocauc': 0.7252875470028755}, Test Acc: {'rocauc': 0.6205011351495726}\n"
          ]
        },
        {
          "output_type": "stream",
          "name": "stderr",
          "text": [
            "100% 10/10 [00:00<00:00, 33.89it/s]\n"
          ]
        },
        {
          "output_type": "stream",
          "name": "stdout",
          "text": [
            "loss returned: 0.22321326872941097\n"
          ]
        },
        {
          "output_type": "stream",
          "name": "stderr",
          "text": [
            "100% 2/2 [00:00<00:00, 70.96it/s]\n",
            "100% 2/2 [00:00<00:00, 75.35it/s]\n"
          ]
        },
        {
          "output_type": "stream",
          "name": "stdout",
          "text": [
            "Epoch: 120, Loss: 0.2232, Val Acc: {'rocauc': 0.7245934431589779}, Test Acc: {'rocauc': 0.6210870726495725}\n"
          ]
        },
        {
          "output_type": "stream",
          "name": "stderr",
          "text": [
            "100% 10/10 [00:00<00:00, 36.20it/s]\n"
          ]
        },
        {
          "output_type": "stream",
          "name": "stdout",
          "text": [
            "loss returned: 0.2228845268689809\n"
          ]
        },
        {
          "output_type": "stream",
          "name": "stderr",
          "text": [
            "100% 2/2 [00:00<00:00, 71.83it/s]\n",
            "100% 2/2 [00:00<00:00, 76.77it/s]\n"
          ]
        },
        {
          "output_type": "stream",
          "name": "stdout",
          "text": [
            "Epoch: 121, Loss: 0.2229, Val Acc: {'rocauc': 0.7256498658434553}, Test Acc: {'rocauc': 0.6167501335470085}\n"
          ]
        },
        {
          "output_type": "stream",
          "name": "stderr",
          "text": [
            "100% 10/10 [00:00<00:00, 32.17it/s]\n"
          ]
        },
        {
          "output_type": "stream",
          "name": "stdout",
          "text": [
            "loss returned: 0.22228209302144775\n"
          ]
        },
        {
          "output_type": "stream",
          "name": "stderr",
          "text": [
            "100% 2/2 [00:00<00:00, 47.75it/s]\n",
            "100% 2/2 [00:00<00:00, 49.18it/s]\n"
          ]
        },
        {
          "output_type": "stream",
          "name": "stdout",
          "text": [
            "Epoch: 122, Loss: 0.2223, Val Acc: {'rocauc': 0.7187393612417414}, Test Acc: {'rocauc': 0.6169821714743589}\n"
          ]
        },
        {
          "output_type": "stream",
          "name": "stderr",
          "text": [
            "100% 10/10 [00:00<00:00, 31.53it/s]\n"
          ]
        },
        {
          "output_type": "stream",
          "name": "stdout",
          "text": [
            "loss returned: 0.22217805994001108\n"
          ]
        },
        {
          "output_type": "stream",
          "name": "stderr",
          "text": [
            "100% 2/2 [00:00<00:00, 57.63it/s]\n",
            "100% 2/2 [00:00<00:00, 55.00it/s]\n"
          ]
        },
        {
          "output_type": "stream",
          "name": "stdout",
          "text": [
            "Epoch: 123, Loss: 0.2222, Val Acc: {'rocauc': 0.719433465085639}, Test Acc: {'rocauc': 0.6189110910790598}\n"
          ]
        },
        {
          "output_type": "stream",
          "name": "stderr",
          "text": [
            "100% 10/10 [00:00<00:00, 35.91it/s]\n"
          ]
        },
        {
          "output_type": "stream",
          "name": "stdout",
          "text": [
            "loss returned: 0.221836592412217\n"
          ]
        },
        {
          "output_type": "stream",
          "name": "stderr",
          "text": [
            "100% 2/2 [00:00<00:00, 74.03it/s]\n",
            "100% 2/2 [00:00<00:00, 68.71it/s]\n"
          ]
        },
        {
          "output_type": "stream",
          "name": "stdout",
          "text": [
            "Epoch: 124, Loss: 0.2218, Val Acc: {'rocauc': 0.7214852427800698}, Test Acc: {'rocauc': 0.6165272769764957}\n"
          ]
        },
        {
          "output_type": "stream",
          "name": "stderr",
          "text": [
            "100% 10/10 [00:00<00:00, 34.56it/s]\n"
          ]
        },
        {
          "output_type": "stream",
          "name": "stdout",
          "text": [
            "loss returned: 0.2227569535614372\n"
          ]
        },
        {
          "output_type": "stream",
          "name": "stderr",
          "text": [
            "100% 2/2 [00:00<00:00, 71.56it/s]\n",
            "100% 2/2 [00:00<00:00, 63.08it/s]\n"
          ]
        },
        {
          "output_type": "stream",
          "name": "stdout",
          "text": [
            "Epoch: 125, Loss: 0.2228, Val Acc: {'rocauc': 0.722873450467865}, Test Acc: {'rocauc': 0.6174245459401709}\n"
          ]
        },
        {
          "output_type": "stream",
          "name": "stderr",
          "text": [
            "100% 10/10 [00:00<00:00, 31.42it/s]\n"
          ]
        },
        {
          "output_type": "stream",
          "name": "stdout",
          "text": [
            "loss returned: 0.2233926766913993\n"
          ]
        },
        {
          "output_type": "stream",
          "name": "stderr",
          "text": [
            "100% 2/2 [00:00<00:00, 59.06it/s]\n",
            "100% 2/2 [00:00<00:00, 66.23it/s]\n"
          ]
        },
        {
          "output_type": "stream",
          "name": "stdout",
          "text": [
            "Epoch: 126, Loss: 0.2234, Val Acc: {'rocauc': 0.7266757546906706}, Test Acc: {'rocauc': 0.6223140357905983}\n"
          ]
        },
        {
          "output_type": "stream",
          "name": "stderr",
          "text": [
            "100% 10/10 [00:00<00:00, 33.26it/s]\n"
          ]
        },
        {
          "output_type": "stream",
          "name": "stdout",
          "text": [
            "loss returned: 0.2221235236835924\n"
          ]
        },
        {
          "output_type": "stream",
          "name": "stderr",
          "text": [
            "100% 2/2 [00:00<00:00, 60.20it/s]\n",
            "100% 2/2 [00:00<00:00, 71.43it/s]\n"
          ]
        },
        {
          "output_type": "stream",
          "name": "stdout",
          "text": [
            "Epoch: 127, Loss: 0.2221, Val Acc: {'rocauc': 0.7270075396939883}, Test Acc: {'rocauc': 0.6223232171474358}\n"
          ]
        },
        {
          "output_type": "stream",
          "name": "stderr",
          "text": [
            "100% 10/10 [00:00<00:00, 36.06it/s]\n"
          ]
        },
        {
          "output_type": "stream",
          "name": "stdout",
          "text": [
            "loss returned: 0.2219187278524483\n"
          ]
        },
        {
          "output_type": "stream",
          "name": "stderr",
          "text": [
            "100% 2/2 [00:00<00:00, 70.92it/s]\n",
            "100% 2/2 [00:00<00:00, 65.56it/s]\n"
          ]
        },
        {
          "output_type": "stream",
          "name": "stdout",
          "text": [
            "Epoch: 128, Loss: 0.2219, Val Acc: {'rocauc': 0.7273393246973063}, Test Acc: {'rocauc': 0.6233089610042735}\n"
          ]
        },
        {
          "output_type": "stream",
          "name": "stderr",
          "text": [
            "100% 10/10 [00:00<00:00, 42.59it/s]\n"
          ]
        },
        {
          "output_type": "stream",
          "name": "stdout",
          "text": [
            "loss returned: 0.2223137044659315\n"
          ]
        },
        {
          "output_type": "stream",
          "name": "stderr",
          "text": [
            "100% 2/2 [00:00<00:00, 106.10it/s]\n",
            "100% 2/2 [00:00<00:00, 64.69it/s]\n"
          ]
        },
        {
          "output_type": "stream",
          "name": "stdout",
          "text": [
            "Epoch: 129, Loss: 0.2223, Val Acc: {'rocauc': 0.7270075396939883}, Test Acc: {'rocauc': 0.6224818042200855}\n"
          ]
        },
        {
          "output_type": "stream",
          "name": "stderr",
          "text": [
            "100% 10/10 [00:00<00:00, 40.63it/s]\n"
          ]
        },
        {
          "output_type": "stream",
          "name": "stdout",
          "text": [
            "loss returned: 0.22239986263928427\n"
          ]
        },
        {
          "output_type": "stream",
          "name": "stderr",
          "text": [
            "100% 2/2 [00:00<00:00, 81.44it/s]\n",
            "100% 2/2 [00:00<00:00, 62.05it/s]\n"
          ]
        },
        {
          "output_type": "stream",
          "name": "stdout",
          "text": [
            "Epoch: 130, Loss: 0.2224, Val Acc: {'rocauc': 0.7259511170095111}, Test Acc: {'rocauc': 0.6223140357905983}\n"
          ]
        },
        {
          "output_type": "stream",
          "name": "stderr",
          "text": [
            "100% 10/10 [00:00<00:00, 40.39it/s]\n"
          ]
        },
        {
          "output_type": "stream",
          "name": "stdout",
          "text": [
            "loss returned: 0.22262030287277487\n"
          ]
        },
        {
          "output_type": "stream",
          "name": "stderr",
          "text": [
            "100% 2/2 [00:00<00:00, 83.92it/s]\n",
            "100% 2/2 [00:00<00:00, 56.16it/s]\n"
          ]
        },
        {
          "output_type": "stream",
          "name": "stdout",
          "text": [
            "Epoch: 131, Loss: 0.2226, Val Acc: {'rocauc': 0.7260427185212968}, Test Acc: {'rocauc': 0.6194878472222222}\n"
          ]
        },
        {
          "output_type": "stream",
          "name": "stderr",
          "text": [
            "100% 10/10 [00:00<00:00, 40.74it/s]\n"
          ]
        },
        {
          "output_type": "stream",
          "name": "stdout",
          "text": [
            "loss returned: 0.22305484407539594\n"
          ]
        },
        {
          "output_type": "stream",
          "name": "stderr",
          "text": [
            "100% 2/2 [00:00<00:00, 72.63it/s]\n",
            "100% 2/2 [00:00<00:00, 64.69it/s]\n"
          ]
        },
        {
          "output_type": "stream",
          "name": "stdout",
          "text": [
            "Epoch: 132, Loss: 0.2231, Val Acc: {'rocauc': 0.7312026965946357}, Test Acc: {'rocauc': 0.6250701121794872}\n"
          ]
        },
        {
          "output_type": "stream",
          "name": "stderr",
          "text": [
            "100% 10/10 [00:00<00:00, 42.12it/s]\n"
          ]
        },
        {
          "output_type": "stream",
          "name": "stdout",
          "text": [
            "loss returned: 0.22218502352012606\n"
          ]
        },
        {
          "output_type": "stream",
          "name": "stderr",
          "text": [
            "100% 2/2 [00:00<00:00, 89.91it/s]\n",
            "100% 2/2 [00:00<00:00, 67.55it/s]\n"
          ]
        },
        {
          "output_type": "stream",
          "name": "stdout",
          "text": [
            "Epoch: 133, Loss: 0.2222, Val Acc: {'rocauc': 0.7311416289201119}, Test Acc: {'rocauc': 0.6203667534722221}\n"
          ]
        },
        {
          "output_type": "stream",
          "name": "stderr",
          "text": [
            "100% 10/10 [00:00<00:00, 41.11it/s]\n"
          ]
        },
        {
          "output_type": "stream",
          "name": "stdout",
          "text": [
            "loss returned: 0.2220813092869485\n"
          ]
        },
        {
          "output_type": "stream",
          "name": "stderr",
          "text": [
            "100% 2/2 [00:00<00:00, 75.56it/s]\n",
            "100% 2/2 [00:00<00:00, 77.75it/s]\n"
          ]
        },
        {
          "output_type": "stream",
          "name": "stdout",
          "text": [
            "Epoch: 134, Loss: 0.2221, Val Acc: {'rocauc': 0.7311721627573738}, Test Acc: {'rocauc': 0.6247404180021368}\n"
          ]
        },
        {
          "output_type": "stream",
          "name": "stderr",
          "text": [
            "100% 10/10 [00:00<00:00, 39.71it/s]\n"
          ]
        },
        {
          "output_type": "stream",
          "name": "stdout",
          "text": [
            "loss returned: 0.22237612651211544\n"
          ]
        },
        {
          "output_type": "stream",
          "name": "stderr",
          "text": [
            "100% 2/2 [00:00<00:00, 70.25it/s]\n",
            "100% 2/2 [00:00<00:00, 69.17it/s]\n"
          ]
        },
        {
          "output_type": "stream",
          "name": "stdout",
          "text": [
            "Epoch: 135, Loss: 0.2224, Val Acc: {'rocauc': 0.7297839550695786}, Test Acc: {'rocauc': 0.6221980168269231}\n"
          ]
        },
        {
          "output_type": "stream",
          "name": "stderr",
          "text": [
            "100% 10/10 [00:00<00:00, 44.07it/s]\n"
          ]
        },
        {
          "output_type": "stream",
          "name": "stdout",
          "text": [
            "loss returned: 0.2223617870306989\n"
          ]
        },
        {
          "output_type": "stream",
          "name": "stderr",
          "text": [
            "100% 2/2 [00:00<00:00, 95.10it/s]\n",
            "100% 2/2 [00:00<00:00, 72.32it/s]\n"
          ]
        },
        {
          "output_type": "stream",
          "name": "stdout",
          "text": [
            "Epoch: 136, Loss: 0.2224, Val Acc: {'rocauc': 0.7311721627573738}, Test Acc: {'rocauc': 0.6243038862179487}\n"
          ]
        },
        {
          "output_type": "stream",
          "name": "stderr",
          "text": [
            "100% 10/10 [00:00<00:00, 43.48it/s]\n"
          ]
        },
        {
          "output_type": "stream",
          "name": "stdout",
          "text": [
            "loss returned: 0.22164404606738403\n"
          ]
        },
        {
          "output_type": "stream",
          "name": "stderr",
          "text": [
            "100% 2/2 [00:00<00:00, 71.15it/s]\n",
            "100% 2/2 [00:00<00:00, 55.53it/s]\n"
          ]
        },
        {
          "output_type": "stream",
          "name": "stdout",
          "text": [
            "Epoch: 137, Loss: 0.2216, Val Acc: {'rocauc': 0.7335862592923844}, Test Acc: {'rocauc': 0.6252011551816239}\n"
          ]
        },
        {
          "output_type": "stream",
          "name": "stderr",
          "text": [
            "100% 10/10 [00:00<00:00, 40.76it/s]\n"
          ]
        },
        {
          "output_type": "stream",
          "name": "stdout",
          "text": [
            "loss returned: 0.22217562543598904\n"
          ]
        },
        {
          "output_type": "stream",
          "name": "stderr",
          "text": [
            "100% 2/2 [00:00<00:00, 75.07it/s]\n",
            "100% 2/2 [00:00<00:00, 61.65it/s]\n"
          ]
        },
        {
          "output_type": "stream",
          "name": "stdout",
          "text": [
            "Epoch: 138, Loss: 0.2222, Val Acc: {'rocauc': 0.7335557254551224}, Test Acc: {'rocauc': 0.6254056490384616}\n"
          ]
        },
        {
          "output_type": "stream",
          "name": "stderr",
          "text": [
            "100% 10/10 [00:00<00:00, 42.00it/s]\n"
          ]
        },
        {
          "output_type": "stream",
          "name": "stdout",
          "text": [
            "loss returned: 0.22171662240640072\n"
          ]
        },
        {
          "output_type": "stream",
          "name": "stderr",
          "text": [
            "100% 2/2 [00:00<00:00, 78.97it/s]\n",
            "100% 2/2 [00:00<00:00, 63.37it/s]\n"
          ]
        },
        {
          "output_type": "stream",
          "name": "stdout",
          "text": [
            "Epoch: 139, Loss: 0.2217, Val Acc: {'rocauc': 0.7328921554484867}, Test Acc: {'rocauc': 0.6213282919337606}\n"
          ]
        },
        {
          "output_type": "stream",
          "name": "stderr",
          "text": [
            "100% 10/10 [00:00<00:00, 39.86it/s]\n"
          ]
        },
        {
          "output_type": "stream",
          "name": "stdout",
          "text": [
            "loss returned: 0.22334825984698348\n"
          ]
        },
        {
          "output_type": "stream",
          "name": "stderr",
          "text": [
            "100% 2/2 [00:00<00:00, 84.23it/s]\n",
            "100% 2/2 [00:00<00:00, 47.41it/s]\n"
          ]
        },
        {
          "output_type": "stream",
          "name": "stdout",
          "text": [
            "Epoch: 140, Loss: 0.2233, Val Acc: {'rocauc': 0.7338875104584404}, Test Acc: {'rocauc': 0.626953125}\n"
          ]
        },
        {
          "output_type": "stream",
          "name": "stderr",
          "text": [
            "100% 10/10 [00:00<00:00, 40.17it/s]\n"
          ]
        },
        {
          "output_type": "stream",
          "name": "stdout",
          "text": [
            "loss returned: 0.22179283881772888\n"
          ]
        },
        {
          "output_type": "stream",
          "name": "stderr",
          "text": [
            "100% 2/2 [00:00<00:00, 83.93it/s]\n",
            "100% 2/2 [00:00<00:00, 74.12it/s]\n"
          ]
        },
        {
          "output_type": "stream",
          "name": "stdout",
          "text": [
            "Epoch: 141, Loss: 0.2218, Val Acc: {'rocauc': 0.7335251916178606}, Test Acc: {'rocauc': 0.6260558560363249}\n"
          ]
        },
        {
          "output_type": "stream",
          "name": "stderr",
          "text": [
            "100% 10/10 [00:00<00:00, 39.94it/s]\n"
          ]
        },
        {
          "output_type": "stream",
          "name": "stdout",
          "text": [
            "loss returned: 0.22231932847455435\n"
          ]
        },
        {
          "output_type": "stream",
          "name": "stderr",
          "text": [
            "100% 2/2 [00:00<00:00, 77.64it/s]\n",
            "100% 2/2 [00:00<00:00, 61.12it/s]\n"
          ]
        },
        {
          "output_type": "stream",
          "name": "stdout",
          "text": [
            "Epoch: 142, Loss: 0.2223, Val Acc: {'rocauc': 0.7352757181462355}, Test Acc: {'rocauc': 0.6247955061431624}\n"
          ]
        },
        {
          "output_type": "stream",
          "name": "stderr",
          "text": [
            "100% 10/10 [00:00<00:00, 39.41it/s]\n"
          ]
        },
        {
          "output_type": "stream",
          "name": "stdout",
          "text": [
            "loss returned: 0.2235386773477057\n"
          ]
        },
        {
          "output_type": "stream",
          "name": "stderr",
          "text": [
            "100% 2/2 [00:00<00:00, 93.36it/s]\n",
            "100% 2/2 [00:00<00:00, 39.29it/s]\n"
          ]
        },
        {
          "output_type": "stream",
          "name": "stdout",
          "text": [
            "Epoch: 143, Loss: 0.2235, Val Acc: {'rocauc': 0.7365723243222451}, Test Acc: {'rocauc': 0.6294529580662394}\n"
          ]
        },
        {
          "output_type": "stream",
          "name": "stderr",
          "text": [
            "100% 10/10 [00:00<00:00, 40.66it/s]\n"
          ]
        },
        {
          "output_type": "stream",
          "name": "stdout",
          "text": [
            "loss returned: 0.2220927027829313\n"
          ]
        },
        {
          "output_type": "stream",
          "name": "stderr",
          "text": [
            "100% 2/2 [00:00<00:00, 89.38it/s]\n",
            "100% 2/2 [00:00<00:00, 71.37it/s]\n"
          ]
        },
        {
          "output_type": "stream",
          "name": "stdout",
          "text": [
            "Epoch: 144, Loss: 0.2221, Val Acc: {'rocauc': 0.7383533846878817}, Test Acc: {'rocauc': 0.6290439703525641}\n"
          ]
        },
        {
          "output_type": "stream",
          "name": "stderr",
          "text": [
            "100% 10/10 [00:00<00:00, 40.68it/s]\n"
          ]
        },
        {
          "output_type": "stream",
          "name": "stdout",
          "text": [
            "loss returned: 0.2214568525073288\n"
          ]
        },
        {
          "output_type": "stream",
          "name": "stderr",
          "text": [
            "100% 2/2 [00:00<00:00, 78.33it/s]\n",
            "100% 2/2 [00:00<00:00, 56.21it/s]\n"
          ]
        },
        {
          "output_type": "stream",
          "name": "stdout",
          "text": [
            "Epoch: 145, Loss: 0.2215, Val Acc: {'rocauc': 0.737689814681246}, Test Acc: {'rocauc': 0.6286867321047008}\n"
          ]
        },
        {
          "output_type": "stream",
          "name": "stderr",
          "text": [
            "100% 10/10 [00:00<00:00, 41.88it/s]\n"
          ]
        },
        {
          "output_type": "stream",
          "name": "stdout",
          "text": [
            "loss returned: 0.22236213688624298\n"
          ]
        },
        {
          "output_type": "stream",
          "name": "stderr",
          "text": [
            "100% 2/2 [00:00<00:00, 66.12it/s]\n",
            "100% 2/2 [00:00<00:00, 57.57it/s]\n"
          ]
        },
        {
          "output_type": "stream",
          "name": "stdout",
          "text": [
            "Epoch: 146, Loss: 0.2224, Val Acc: {'rocauc': 0.7377203485185078}, Test Acc: {'rocauc': 0.6270173944978632}\n"
          ]
        },
        {
          "output_type": "stream",
          "name": "stderr",
          "text": [
            "100% 10/10 [00:00<00:00, 40.15it/s]\n"
          ]
        },
        {
          "output_type": "stream",
          "name": "stdout",
          "text": [
            "loss returned: 0.22168285671580554\n"
          ]
        },
        {
          "output_type": "stream",
          "name": "stderr",
          "text": [
            "100% 2/2 [00:00<00:00, 104.50it/s]\n",
            "100% 2/2 [00:00<00:00, 68.21it/s]\n"
          ]
        },
        {
          "output_type": "stream",
          "name": "stdout",
          "text": [
            "Epoch: 147, Loss: 0.2217, Val Acc: {'rocauc': 0.7363016069934508}, Test Acc: {'rocauc': 0.6286867321047008}\n"
          ]
        },
        {
          "output_type": "stream",
          "name": "stderr",
          "text": [
            "100% 10/10 [00:00<00:00, 42.58it/s]\n"
          ]
        },
        {
          "output_type": "stream",
          "name": "stdout",
          "text": [
            "loss returned: 0.22150700674987667\n"
          ]
        },
        {
          "output_type": "stream",
          "name": "stderr",
          "text": [
            "100% 2/2 [00:00<00:00, 71.95it/s]\n",
            "100% 2/2 [00:00<00:00, 69.11it/s]\n"
          ]
        },
        {
          "output_type": "stream",
          "name": "stdout",
          "text": [
            "Epoch: 148, Loss: 0.2215, Val Acc: {'rocauc': 0.7352451843089736}, Test Acc: {'rocauc': 0.628268563034188}\n"
          ]
        },
        {
          "output_type": "stream",
          "name": "stderr",
          "text": [
            "100% 10/10 [00:00<00:00, 38.21it/s]\n"
          ]
        },
        {
          "output_type": "stream",
          "name": "stdout",
          "text": [
            "loss returned: 0.22195221982095123\n"
          ]
        },
        {
          "output_type": "stream",
          "name": "stderr",
          "text": [
            "100% 2/2 [00:00<00:00, 94.25it/s]\n",
            "100% 2/2 [00:00<00:00, 60.94it/s]\n"
          ]
        },
        {
          "output_type": "stream",
          "name": "stdout",
          "text": [
            "Epoch: 149, Loss: 0.2220, Val Acc: {'rocauc': 0.7348828654683939}, Test Acc: {'rocauc': 0.6299228766025641}\n"
          ]
        },
        {
          "output_type": "stream",
          "name": "stderr",
          "text": [
            "100% 10/10 [00:00<00:00, 39.39it/s]\n"
          ]
        },
        {
          "output_type": "stream",
          "name": "stdout",
          "text": [
            "loss returned: 0.22157405566654398\n"
          ]
        },
        {
          "output_type": "stream",
          "name": "stderr",
          "text": [
            "100% 2/2 [00:00<00:00, 102.41it/s]\n",
            "100% 2/2 [00:00<00:00, 66.21it/s]\n"
          ]
        },
        {
          "output_type": "stream",
          "name": "stdout",
          "text": [
            "Epoch: 150, Loss: 0.2216, Val Acc: {'rocauc': 0.736271073156189}, Test Acc: {'rocauc': 0.6276826255341881}\n"
          ]
        },
        {
          "output_type": "stream",
          "name": "stderr",
          "text": [
            "100% 10/10 [00:00<00:00, 40.51it/s]\n"
          ]
        },
        {
          "output_type": "stream",
          "name": "stdout",
          "text": [
            "loss returned: 0.2228352944291718\n"
          ]
        },
        {
          "output_type": "stream",
          "name": "stderr",
          "text": [
            "100% 2/2 [00:00<00:00, 83.20it/s]\n",
            "100% 2/2 [00:00<00:00, 69.68it/s]\n"
          ]
        },
        {
          "output_type": "stream",
          "name": "stdout",
          "text": [
            "Epoch: 151, Loss: 0.2228, Val Acc: {'rocauc': 0.7359087543156093}, Test Acc: {'rocauc': 0.6293002136752137}\n"
          ]
        },
        {
          "output_type": "stream",
          "name": "stderr",
          "text": [
            "100% 10/10 [00:00<00:00, 20.15it/s]\n"
          ]
        },
        {
          "output_type": "stream",
          "name": "stdout",
          "text": [
            "loss returned: 0.2219154443859953\n"
          ]
        },
        {
          "output_type": "stream",
          "name": "stderr",
          "text": [
            "100% 2/2 [00:00<00:00, 77.59it/s]\n",
            "100% 2/2 [00:00<00:00, 77.38it/s]\n"
          ]
        },
        {
          "output_type": "stream",
          "name": "stdout",
          "text": [
            "Epoch: 152, Loss: 0.2219, Val Acc: {'rocauc': 0.7379910658473019}, Test Acc: {'rocauc': 0.6277894631410257}\n"
          ]
        },
        {
          "output_type": "stream",
          "name": "stderr",
          "text": [
            "100% 10/10 [00:00<00:00, 41.08it/s]\n"
          ]
        },
        {
          "output_type": "stream",
          "name": "stdout",
          "text": [
            "loss returned: 0.22276911892747597\n"
          ]
        },
        {
          "output_type": "stream",
          "name": "stderr",
          "text": [
            "100% 2/2 [00:00<00:00, 66.68it/s]\n",
            "100% 2/2 [00:00<00:00, 75.04it/s]\n"
          ]
        },
        {
          "output_type": "stream",
          "name": "stdout",
          "text": [
            "Epoch: 153, Loss: 0.2228, Val Acc: {'rocauc': 0.7383228508506199}, Test Acc: {'rocauc': 0.6317265958867522}\n"
          ]
        },
        {
          "output_type": "stream",
          "name": "stderr",
          "text": [
            "100% 10/10 [00:00<00:00, 41.35it/s]\n"
          ]
        },
        {
          "output_type": "stream",
          "name": "stdout",
          "text": [
            "loss returned: 0.2215022764954902\n"
          ]
        },
        {
          "output_type": "stream",
          "name": "stderr",
          "text": [
            "100% 2/2 [00:00<00:00, 96.39it/s]\n",
            "100% 2/2 [00:00<00:00, 65.99it/s]\n"
          ]
        },
        {
          "output_type": "stream",
          "name": "stdout",
          "text": [
            "Epoch: 154, Loss: 0.2215, Val Acc: {'rocauc': 0.7386546358539376}, Test Acc: {'rocauc': 0.6314244457799145}\n"
          ]
        },
        {
          "output_type": "stream",
          "name": "stderr",
          "text": [
            "100% 10/10 [00:00<00:00, 36.76it/s]\n"
          ]
        },
        {
          "output_type": "stream",
          "name": "stdout",
          "text": [
            "loss returned: 0.22194439744313424\n"
          ]
        },
        {
          "output_type": "stream",
          "name": "stderr",
          "text": [
            "100% 2/2 [00:00<00:00, 73.08it/s]\n",
            "100% 2/2 [00:00<00:00, 58.15it/s]\n"
          ]
        },
        {
          "output_type": "stream",
          "name": "stdout",
          "text": [
            "Epoch: 155, Loss: 0.2219, Val Acc: {'rocauc': 0.7379299981727783}, Test Acc: {'rocauc': 0.6329535590277778}\n"
          ]
        },
        {
          "output_type": "stream",
          "name": "stderr",
          "text": [
            "100% 10/10 [00:00<00:00, 28.81it/s]\n"
          ]
        },
        {
          "output_type": "stream",
          "name": "stdout",
          "text": [
            "loss returned: 0.2215132455418011\n"
          ]
        },
        {
          "output_type": "stream",
          "name": "stderr",
          "text": [
            "100% 2/2 [00:00<00:00, 70.20it/s]\n",
            "100% 2/2 [00:00<00:00, 75.20it/s]\n"
          ]
        },
        {
          "output_type": "stream",
          "name": "stdout",
          "text": [
            "Epoch: 156, Loss: 0.2215, Val Acc: {'rocauc': 0.7386546358539376}, Test Acc: {'rocauc': 0.634677984775641}\n"
          ]
        },
        {
          "output_type": "stream",
          "name": "stderr",
          "text": [
            "100% 10/10 [00:00<00:00, 28.27it/s]\n"
          ]
        },
        {
          "output_type": "stream",
          "name": "stdout",
          "text": [
            "loss returned: 0.2214988131930927\n"
          ]
        },
        {
          "output_type": "stream",
          "name": "stderr",
          "text": [
            "100% 2/2 [00:00<00:00, 58.74it/s]\n",
            "100% 2/2 [00:00<00:00, 57.62it/s]\n"
          ]
        },
        {
          "output_type": "stream",
          "name": "stdout",
          "text": [
            "Epoch: 157, Loss: 0.2215, Val Acc: {'rocauc': 0.739711058538415}, Test Acc: {'rocauc': 0.6329811030982906}\n"
          ]
        },
        {
          "output_type": "stream",
          "name": "stderr",
          "text": [
            "100% 10/10 [00:00<00:00, 28.72it/s]\n"
          ]
        },
        {
          "output_type": "stream",
          "name": "stdout",
          "text": [
            "loss returned: 0.22143167539938943\n"
          ]
        },
        {
          "output_type": "stream",
          "name": "stderr",
          "text": [
            "100% 2/2 [00:00<00:00, 73.74it/s]\n",
            "100% 2/2 [00:00<00:00, 70.59it/s]\n"
          ]
        },
        {
          "output_type": "stream",
          "name": "stdout",
          "text": [
            "Epoch: 158, Loss: 0.2214, Val Acc: {'rocauc': 0.739711058538415}, Test Acc: {'rocauc': 0.633069577991453}\n"
          ]
        },
        {
          "output_type": "stream",
          "name": "stderr",
          "text": [
            "100% 10/10 [00:00<00:00, 33.05it/s]\n"
          ]
        },
        {
          "output_type": "stream",
          "name": "stdout",
          "text": [
            "loss returned: 0.2215540954160246\n"
          ]
        },
        {
          "output_type": "stream",
          "name": "stderr",
          "text": [
            "100% 2/2 [00:00<00:00, 72.45it/s]\n",
            "100% 2/2 [00:00<00:00, 70.72it/s]\n"
          ]
        },
        {
          "output_type": "stream",
          "name": "stdout",
          "text": [
            "Epoch: 159, Loss: 0.2216, Val Acc: {'rocauc': 0.7386546358539376}, Test Acc: {'rocauc': 0.6335670405982907}\n"
          ]
        },
        {
          "output_type": "stream",
          "name": "stderr",
          "text": [
            "100% 10/10 [00:00<00:00, 29.07it/s]\n"
          ]
        },
        {
          "output_type": "stream",
          "name": "stdout",
          "text": [
            "loss returned: 0.22142070077618334\n"
          ]
        },
        {
          "output_type": "stream",
          "name": "stderr",
          "text": [
            "100% 2/2 [00:00<00:00, 71.77it/s]\n",
            "100% 2/2 [00:00<00:00, 63.29it/s]\n"
          ]
        },
        {
          "output_type": "stream",
          "name": "stdout",
          "text": [
            "Epoch: 160, Loss: 0.2214, Val Acc: {'rocauc': 0.7390169546945173}, Test Acc: {'rocauc': 0.6324744591346154}\n"
          ]
        },
        {
          "output_type": "stream",
          "name": "stderr",
          "text": [
            "100% 10/10 [00:00<00:00, 28.22it/s]\n"
          ]
        },
        {
          "output_type": "stream",
          "name": "stdout",
          "text": [
            "loss returned: 0.22105711496653543\n"
          ]
        },
        {
          "output_type": "stream",
          "name": "stderr",
          "text": [
            "100% 2/2 [00:00<00:00, 70.72it/s]\n",
            "100% 2/2 [00:00<00:00, 67.77it/s]\n"
          ]
        },
        {
          "output_type": "stream",
          "name": "stdout",
          "text": [
            "Epoch: 161, Loss: 0.2211, Val Acc: {'rocauc': 0.7393487396978353}, Test Acc: {'rocauc': 0.6349801348824786}\n"
          ]
        },
        {
          "output_type": "stream",
          "name": "stderr",
          "text": [
            "100% 10/10 [00:00<00:00, 27.77it/s]\n"
          ]
        },
        {
          "output_type": "stream",
          "name": "stdout",
          "text": [
            "loss returned: 0.22211244196381033\n"
          ]
        },
        {
          "output_type": "stream",
          "name": "stderr",
          "text": [
            "100% 2/2 [00:00<00:00, 71.98it/s]\n",
            "100% 2/2 [00:00<00:00, 68.96it/s]\n"
          ]
        },
        {
          "output_type": "stream",
          "name": "stdout",
          "text": [
            "Epoch: 162, Loss: 0.2221, Val Acc: {'rocauc': 0.7414615850667898}, Test Acc: {'rocauc': 0.6342080662393164}\n"
          ]
        },
        {
          "output_type": "stream",
          "name": "stderr",
          "text": [
            "100% 10/10 [00:00<00:00, 27.96it/s]\n"
          ]
        },
        {
          "output_type": "stream",
          "name": "stdout",
          "text": [
            "loss returned: 0.22275290544208684\n"
          ]
        },
        {
          "output_type": "stream",
          "name": "stderr",
          "text": [
            "100% 2/2 [00:00<00:00, 71.20it/s]\n",
            "100% 2/2 [00:00<00:00, 48.78it/s]\n"
          ]
        },
        {
          "output_type": "stream",
          "name": "stdout",
          "text": [
            "Epoch: 163, Loss: 0.2228, Val Acc: {'rocauc': 0.7421251550734256}, Test Acc: {'rocauc': 0.6362438234508547}\n"
          ]
        },
        {
          "output_type": "stream",
          "name": "stderr",
          "text": [
            "100% 10/10 [00:00<00:00, 25.96it/s]\n"
          ]
        },
        {
          "output_type": "stream",
          "name": "stdout",
          "text": [
            "loss returned: 0.22092660464138222\n"
          ]
        },
        {
          "output_type": "stream",
          "name": "stderr",
          "text": [
            "100% 2/2 [00:00<00:00, 72.40it/s]\n",
            "100% 2/2 [00:00<00:00, 56.10it/s]\n"
          ]
        },
        {
          "output_type": "stream",
          "name": "stdout",
          "text": [
            "Epoch: 164, Loss: 0.2209, Val Acc: {'rocauc': 0.7421556889106873}, Test Acc: {'rocauc': 0.6344033787393162}\n"
          ]
        },
        {
          "output_type": "stream",
          "name": "stderr",
          "text": [
            "100% 10/10 [00:00<00:00, 23.08it/s]\n"
          ]
        },
        {
          "output_type": "stream",
          "name": "stdout",
          "text": [
            "loss returned: 0.22153321130612863\n"
          ]
        },
        {
          "output_type": "stream",
          "name": "stderr",
          "text": [
            "100% 2/2 [00:00<00:00, 62.06it/s]\n",
            "100% 2/2 [00:00<00:00, 63.77it/s]\n"
          ]
        },
        {
          "output_type": "stream",
          "name": "stdout",
          "text": [
            "Epoch: 165, Loss: 0.2215, Val Acc: {'rocauc': 0.7418239039073695}, Test Acc: {'rocauc': 0.63587156116453}\n"
          ]
        },
        {
          "output_type": "stream",
          "name": "stderr",
          "text": [
            "100% 10/10 [00:00<00:00, 24.90it/s]\n"
          ]
        },
        {
          "output_type": "stream",
          "name": "stdout",
          "text": [
            "loss returned: 0.22114554013517526\n"
          ]
        },
        {
          "output_type": "stream",
          "name": "stderr",
          "text": [
            "100% 2/2 [00:00<00:00, 52.78it/s]\n",
            "100% 2/2 [00:00<00:00, 55.96it/s]\n"
          ]
        },
        {
          "output_type": "stream",
          "name": "stdout",
          "text": [
            "Epoch: 166, Loss: 0.2211, Val Acc: {'rocauc': 0.742849792754585}, Test Acc: {'rocauc': 0.6377028245192309}\n"
          ]
        },
        {
          "output_type": "stream",
          "name": "stderr",
          "text": [
            "100% 10/10 [00:00<00:00, 28.99it/s]\n"
          ]
        },
        {
          "output_type": "stream",
          "name": "stdout",
          "text": [
            "loss returned: 0.22227579159670013\n"
          ]
        },
        {
          "output_type": "stream",
          "name": "stderr",
          "text": [
            "100% 2/2 [00:00<00:00, 75.08it/s]\n",
            "100% 2/2 [00:00<00:00, 66.40it/s]\n"
          ]
        },
        {
          "output_type": "stream",
          "name": "stdout",
          "text": [
            "Epoch: 167, Loss: 0.2223, Val Acc: {'rocauc': 0.7438756816018003}, Test Acc: {'rocauc': 0.6372938368055556}\n"
          ]
        },
        {
          "output_type": "stream",
          "name": "stderr",
          "text": [
            "100% 10/10 [00:00<00:00, 31.33it/s]\n"
          ]
        },
        {
          "output_type": "stream",
          "name": "stdout",
          "text": [
            "loss returned: 0.22137798802969721\n"
          ]
        },
        {
          "output_type": "stream",
          "name": "stderr",
          "text": [
            "100% 2/2 [00:00<00:00, 79.92it/s]\n",
            "100% 2/2 [00:00<00:00, 66.13it/s]\n"
          ]
        },
        {
          "output_type": "stream",
          "name": "stdout",
          "text": [
            "Epoch: 168, Loss: 0.2214, Val Acc: {'rocauc': 0.7435133627612206}, Test Acc: {'rocauc': 0.6380934495192307}\n"
          ]
        },
        {
          "output_type": "stream",
          "name": "stderr",
          "text": [
            "100% 10/10 [00:00<00:00, 30.82it/s]\n"
          ]
        },
        {
          "output_type": "stream",
          "name": "stdout",
          "text": [
            "loss returned: 0.22157686035275762\n"
          ]
        },
        {
          "output_type": "stream",
          "name": "stderr",
          "text": [
            "100% 2/2 [00:00<00:00, 70.19it/s]\n",
            "100% 2/2 [00:00<00:00, 68.49it/s]\n"
          ]
        },
        {
          "output_type": "stream",
          "name": "stdout",
          "text": [
            "Epoch: 169, Loss: 0.2216, Val Acc: {'rocauc': 0.7449015704490157}, Test Acc: {'rocauc': 0.6386184561965812}\n"
          ]
        },
        {
          "output_type": "stream",
          "name": "stderr",
          "text": [
            "100% 10/10 [00:00<00:00, 29.02it/s]\n"
          ]
        },
        {
          "output_type": "stream",
          "name": "stdout",
          "text": [
            "loss returned: 0.2234538083582183\n"
          ]
        },
        {
          "output_type": "stream",
          "name": "stderr",
          "text": [
            "100% 2/2 [00:00<00:00, 75.17it/s]\n",
            "100% 2/2 [00:00<00:00, 65.16it/s]\n"
          ]
        },
        {
          "output_type": "stream",
          "name": "stdout",
          "text": [
            "Epoch: 170, Loss: 0.2235, Val Acc: {'rocauc': 0.7453249569641192}, Test Acc: {'rocauc': 0.6369582999465813}\n"
          ]
        },
        {
          "output_type": "stream",
          "name": "stderr",
          "text": [
            "100% 10/10 [00:00<00:00, 30.32it/s]\n"
          ]
        },
        {
          "output_type": "stream",
          "name": "stdout",
          "text": [
            "loss returned: 0.223140181637638\n"
          ]
        },
        {
          "output_type": "stream",
          "name": "stderr",
          "text": [
            "100% 2/2 [00:00<00:00, 66.76it/s]\n",
            "100% 2/2 [00:00<00:00, 65.88it/s]\n"
          ]
        },
        {
          "output_type": "stream",
          "name": "stdout",
          "text": [
            "Epoch: 171, Loss: 0.2231, Val Acc: {'rocauc': 0.7449015704490156}, Test Acc: {'rocauc': 0.6404922876602565}\n"
          ]
        },
        {
          "output_type": "stream",
          "name": "stderr",
          "text": [
            "100% 10/10 [00:00<00:00, 30.60it/s]\n"
          ]
        },
        {
          "output_type": "stream",
          "name": "stdout",
          "text": [
            "loss returned: 0.22162274141921318\n"
          ]
        },
        {
          "output_type": "stream",
          "name": "stderr",
          "text": [
            "100% 2/2 [00:00<00:00, 62.85it/s]\n",
            "100% 2/2 [00:00<00:00, 60.85it/s]\n"
          ]
        },
        {
          "output_type": "stream",
          "name": "stdout",
          "text": [
            "Epoch: 172, Loss: 0.2216, Val Acc: {'rocauc': 0.7456262081301751}, Test Acc: {'rocauc': 0.6368239182692308}\n"
          ]
        },
        {
          "output_type": "stream",
          "name": "stderr",
          "text": [
            "100% 10/10 [00:00<00:00, 30.40it/s]\n"
          ]
        },
        {
          "output_type": "stream",
          "name": "stdout",
          "text": [
            "loss returned: 0.22134366504387468\n"
          ]
        },
        {
          "output_type": "stream",
          "name": "stderr",
          "text": [
            "100% 2/2 [00:00<00:00, 71.43it/s]\n",
            "100% 2/2 [00:00<00:00, 70.95it/s]\n"
          ]
        },
        {
          "output_type": "stream",
          "name": "stdout",
          "text": [
            "Epoch: 173, Loss: 0.2213, Val Acc: {'rocauc': 0.7421556889106873}, Test Acc: {'rocauc': 0.6364574986645299}\n"
          ]
        },
        {
          "output_type": "stream",
          "name": "stderr",
          "text": [
            "100% 10/10 [00:00<00:00, 29.03it/s]\n"
          ]
        },
        {
          "output_type": "stream",
          "name": "stdout",
          "text": [
            "loss returned: 0.22093702654632646\n"
          ]
        },
        {
          "output_type": "stream",
          "name": "stderr",
          "text": [
            "100% 2/2 [00:00<00:00, 67.51it/s]\n",
            "100% 2/2 [00:00<00:00, 59.96it/s]\n"
          ]
        },
        {
          "output_type": "stream",
          "name": "stdout",
          "text": [
            "Epoch: 174, Loss: 0.2209, Val Acc: {'rocauc': 0.7449015704490157}, Test Acc: {'rocauc': 0.638502437232906}\n"
          ]
        },
        {
          "output_type": "stream",
          "name": "stderr",
          "text": [
            "100% 10/10 [00:00<00:00, 31.01it/s]\n"
          ]
        },
        {
          "output_type": "stream",
          "name": "stdout",
          "text": [
            "loss returned: 0.2207552741686234\n"
          ]
        },
        {
          "output_type": "stream",
          "name": "stderr",
          "text": [
            "100% 2/2 [00:00<00:00, 88.00it/s]\n",
            "100% 2/2 [00:00<00:00, 66.20it/s]\n"
          ]
        },
        {
          "output_type": "stream",
          "name": "stdout",
          "text": [
            "Epoch: 175, Loss: 0.2208, Val Acc: {'rocauc': 0.742849792754585}, Test Acc: {'rocauc': 0.6362530048076924}\n"
          ]
        },
        {
          "output_type": "stream",
          "name": "stderr",
          "text": [
            "100% 10/10 [00:00<00:00, 29.70it/s]\n"
          ]
        },
        {
          "output_type": "stream",
          "name": "stdout",
          "text": [
            "loss returned: 0.22220323947680187\n"
          ]
        },
        {
          "output_type": "stream",
          "name": "stderr",
          "text": [
            "100% 2/2 [00:00<00:00, 50.61it/s]\n",
            "100% 2/2 [00:00<00:00, 52.47it/s]\n"
          ]
        },
        {
          "output_type": "stream",
          "name": "stdout",
          "text": [
            "Epoch: 176, Loss: 0.2222, Val Acc: {'rocauc': 0.7442685342796419}, Test Acc: {'rocauc': 0.636085236378205}\n"
          ]
        },
        {
          "output_type": "stream",
          "name": "stderr",
          "text": [
            "100% 10/10 [00:00<00:00, 29.65it/s]\n"
          ]
        },
        {
          "output_type": "stream",
          "name": "stdout",
          "text": [
            "loss returned: 0.22331187815407794\n"
          ]
        },
        {
          "output_type": "stream",
          "name": "stderr",
          "text": [
            "100% 2/2 [00:00<00:00, 68.88it/s]\n",
            "100% 2/2 [00:00<00:00, 61.80it/s]\n"
          ]
        },
        {
          "output_type": "stream",
          "name": "stdout",
          "text": [
            "Epoch: 177, Loss: 0.2233, Val Acc: {'rocauc': 0.74423800044238}, Test Acc: {'rocauc': 0.6402360443376068}\n"
          ]
        },
        {
          "output_type": "stream",
          "name": "stderr",
          "text": [
            "100% 10/10 [00:00<00:00, 29.19it/s]\n"
          ]
        },
        {
          "output_type": "stream",
          "name": "stdout",
          "text": [
            "loss returned: 0.22190637502954938\n"
          ]
        },
        {
          "output_type": "stream",
          "name": "stderr",
          "text": [
            "100% 2/2 [00:00<00:00, 68.29it/s]\n",
            "100% 2/2 [00:00<00:00, 55.24it/s]\n"
          ]
        },
        {
          "output_type": "stream",
          "name": "stdout",
          "text": [
            "Epoch: 178, Loss: 0.2219, Val Acc: {'rocauc': 0.7449321042862775}, Test Acc: {'rocauc': 0.636601061698718}\n"
          ]
        },
        {
          "output_type": "stream",
          "name": "stderr",
          "text": [
            "100% 10/10 [00:00<00:00, 29.03it/s]\n"
          ]
        },
        {
          "output_type": "stream",
          "name": "stdout",
          "text": [
            "loss returned: 0.2211572008552842\n"
          ]
        },
        {
          "output_type": "stream",
          "name": "stderr",
          "text": [
            "100% 2/2 [00:00<00:00, 71.86it/s]\n",
            "100% 2/2 [00:00<00:00, 57.42it/s]\n"
          ]
        },
        {
          "output_type": "stream",
          "name": "stdout",
          "text": [
            "Epoch: 179, Loss: 0.2212, Val Acc: {'rocauc': 0.7449931719608013}, Test Acc: {'rocauc': 0.6391159188034188}\n"
          ]
        },
        {
          "output_type": "stream",
          "name": "stderr",
          "text": [
            "100% 10/10 [00:00<00:00, 30.74it/s]\n"
          ]
        },
        {
          "output_type": "stream",
          "name": "stdout",
          "text": [
            "loss returned: 0.22116051504513048\n"
          ]
        },
        {
          "output_type": "stream",
          "name": "stderr",
          "text": [
            "100% 2/2 [00:00<00:00, 62.24it/s]\n",
            "100% 2/2 [00:00<00:00, 61.07it/s]\n"
          ]
        },
        {
          "output_type": "stream",
          "name": "stdout",
          "text": [
            "Epoch: 180, Loss: 0.2212, Val Acc: {'rocauc': 0.7446308531202216}, Test Acc: {'rocauc': 0.6379957932692308}\n"
          ]
        },
        {
          "output_type": "stream",
          "name": "stderr",
          "text": [
            "100% 10/10 [00:00<00:00, 27.26it/s]\n"
          ]
        },
        {
          "output_type": "stream",
          "name": "stdout",
          "text": [
            "loss returned: 0.22091855792601567\n"
          ]
        },
        {
          "output_type": "stream",
          "name": "stderr",
          "text": [
            "100% 2/2 [00:00<00:00, 79.99it/s]\n",
            "100% 2/2 [00:00<00:00, 60.94it/s]\n"
          ]
        },
        {
          "output_type": "stream",
          "name": "stdout",
          "text": [
            "Epoch: 181, Loss: 0.2209, Val Acc: {'rocauc': 0.7456567419674369}, Test Acc: {'rocauc': 0.6369123931623932}\n"
          ]
        },
        {
          "output_type": "stream",
          "name": "stderr",
          "text": [
            "100% 10/10 [00:00<00:00, 28.99it/s]\n"
          ]
        },
        {
          "output_type": "stream",
          "name": "stdout",
          "text": [
            "loss returned: 0.22102372199423126\n"
          ]
        },
        {
          "output_type": "stream",
          "name": "stderr",
          "text": [
            "100% 2/2 [00:00<00:00, 77.87it/s]\n",
            "100% 2/2 [00:00<00:00, 59.26it/s]\n"
          ]
        },
        {
          "output_type": "stream",
          "name": "stdout",
          "text": [
            "Epoch: 182, Loss: 0.2210, Val Acc: {'rocauc': 0.7453249569641192}, Test Acc: {'rocauc': 0.6382186498397435}\n"
          ]
        },
        {
          "output_type": "stream",
          "name": "stderr",
          "text": [
            "100% 10/10 [00:00<00:00, 26.39it/s]\n"
          ]
        },
        {
          "output_type": "stream",
          "name": "stdout",
          "text": [
            "loss returned: 0.2215459893357441\n"
          ]
        },
        {
          "output_type": "stream",
          "name": "stderr",
          "text": [
            "100% 2/2 [00:00<00:00, 58.20it/s]\n",
            "100% 2/2 [00:00<00:00, 59.03it/s]\n"
          ]
        },
        {
          "output_type": "stream",
          "name": "stdout",
          "text": [
            "Epoch: 183, Loss: 0.2215, Val Acc: {'rocauc': 0.7459885269707548}, Test Acc: {'rocauc': 0.6396592881944445}\n"
          ]
        },
        {
          "output_type": "stream",
          "name": "stderr",
          "text": [
            "100% 10/10 [00:00<00:00, 29.32it/s]\n"
          ]
        },
        {
          "output_type": "stream",
          "name": "stdout",
          "text": [
            "loss returned: 0.2230008491815701\n"
          ]
        },
        {
          "output_type": "stream",
          "name": "stderr",
          "text": [
            "100% 2/2 [00:00<00:00, 78.79it/s]\n",
            "100% 2/2 [00:00<00:00, 60.23it/s]\n"
          ]
        },
        {
          "output_type": "stream",
          "name": "stdout",
          "text": [
            "Epoch: 184, Loss: 0.2230, Val Acc: {'rocauc': 0.7456262081301751}, Test Acc: {'rocauc': 0.6376051682692307}\n"
          ]
        },
        {
          "output_type": "stream",
          "name": "stderr",
          "text": [
            "100% 10/10 [00:00<00:00, 29.09it/s]\n"
          ]
        },
        {
          "output_type": "stream",
          "name": "stdout",
          "text": [
            "loss returned: 0.22064630837383964\n"
          ]
        },
        {
          "output_type": "stream",
          "name": "stderr",
          "text": [
            "100% 2/2 [00:00<00:00, 76.94it/s]\n",
            "100% 2/2 [00:00<00:00, 52.33it/s]\n"
          ]
        },
        {
          "output_type": "stream",
          "name": "stdout",
          "text": [
            "Epoch: 185, Loss: 0.2206, Val Acc: {'rocauc': 0.745957993133493}, Test Acc: {'rocauc': 0.6420122195512821}\n"
          ]
        },
        {
          "output_type": "stream",
          "name": "stderr",
          "text": [
            "100% 10/10 [00:00<00:00, 27.75it/s]\n"
          ]
        },
        {
          "output_type": "stream",
          "name": "stdout",
          "text": [
            "loss returned: 0.2214652947406462\n"
          ]
        },
        {
          "output_type": "stream",
          "name": "stderr",
          "text": [
            "100% 2/2 [00:00<00:00, 64.13it/s]\n",
            "100% 2/2 [00:00<00:00, 64.91it/s]\n"
          ]
        },
        {
          "output_type": "stream",
          "name": "stdout",
          "text": [
            "Epoch: 186, Loss: 0.2215, Val Acc: {'rocauc': 0.7462897781368107}, Test Acc: {'rocauc': 0.6418778378739316}\n"
          ]
        },
        {
          "output_type": "stream",
          "name": "stderr",
          "text": [
            "100% 10/10 [00:00<00:00, 27.91it/s]\n"
          ]
        },
        {
          "output_type": "stream",
          "name": "stdout",
          "text": [
            "loss returned: 0.22090780414533656\n"
          ]
        },
        {
          "output_type": "stream",
          "name": "stderr",
          "text": [
            "100% 2/2 [00:00<00:00, 68.60it/s]\n",
            "100% 2/2 [00:00<00:00, 63.54it/s]\n"
          ]
        },
        {
          "output_type": "stream",
          "name": "stdout",
          "text": [
            "Epoch: 187, Loss: 0.2209, Val Acc: {'rocauc': 0.746259244299549}, Test Acc: {'rocauc': 0.6402418870192308}\n"
          ]
        },
        {
          "output_type": "stream",
          "name": "stderr",
          "text": [
            "100% 10/10 [00:00<00:00, 27.09it/s]\n"
          ]
        },
        {
          "output_type": "stream",
          "name": "stdout",
          "text": [
            "loss returned: 0.22127043928361162\n"
          ]
        },
        {
          "output_type": "stream",
          "name": "stderr",
          "text": [
            "100% 2/2 [00:00<00:00, 70.14it/s]\n",
            "100% 2/2 [00:00<00:00, 60.61it/s]\n"
          ]
        },
        {
          "output_type": "stream",
          "name": "stdout",
          "text": [
            "Epoch: 188, Loss: 0.2213, Val Acc: {'rocauc': 0.7469838819807084}, Test Acc: {'rocauc': 0.640455562232906}\n"
          ]
        },
        {
          "output_type": "stream",
          "name": "stderr",
          "text": [
            "100% 10/10 [00:00<00:00, 26.31it/s]\n"
          ]
        },
        {
          "output_type": "stream",
          "name": "stdout",
          "text": [
            "loss returned: 0.22252130942461756\n"
          ]
        },
        {
          "output_type": "stream",
          "name": "stderr",
          "text": [
            "100% 2/2 [00:00<00:00, 57.11it/s]\n",
            "100% 2/2 [00:00<00:00, 49.70it/s]\n"
          ]
        },
        {
          "output_type": "stream",
          "name": "stdout",
          "text": [
            "Epoch: 189, Loss: 0.2225, Val Acc: {'rocauc': 0.7448710366117539}, Test Acc: {'rocauc': 0.6383680555555555}\n"
          ]
        },
        {
          "output_type": "stream",
          "name": "stderr",
          "text": [
            "100% 10/10 [00:00<00:00, 22.53it/s]\n"
          ]
        },
        {
          "output_type": "stream",
          "name": "stdout",
          "text": [
            "loss returned: 0.22194542836123457\n"
          ]
        },
        {
          "output_type": "stream",
          "name": "stderr",
          "text": [
            "100% 2/2 [00:00<00:00, 55.95it/s]\n",
            "100% 2/2 [00:00<00:00, 57.94it/s]\n"
          ]
        },
        {
          "output_type": "stream",
          "name": "stdout",
          "text": [
            "Epoch: 190, Loss: 0.2219, Val Acc: {'rocauc': 0.7455651404556514}, Test Acc: {'rocauc': 0.6405440371260684}\n"
          ]
        },
        {
          "output_type": "stream",
          "name": "stderr",
          "text": [
            "100% 10/10 [00:00<00:00, 23.01it/s]\n"
          ]
        },
        {
          "output_type": "stream",
          "name": "stdout",
          "text": [
            "loss returned: 0.2210627824295183\n"
          ]
        },
        {
          "output_type": "stream",
          "name": "stderr",
          "text": [
            "100% 2/2 [00:00<00:00, 67.93it/s]\n",
            "100% 2/2 [00:00<00:00, 63.96it/s]\n"
          ]
        },
        {
          "output_type": "stream",
          "name": "stdout",
          "text": [
            "Epoch: 191, Loss: 0.2211, Val Acc: {'rocauc': 0.7458663916217074}, Test Acc: {'rocauc': 0.638795405982906}\n"
          ]
        },
        {
          "output_type": "stream",
          "name": "stderr",
          "text": [
            "100% 10/10 [00:00<00:00, 21.86it/s]\n"
          ]
        },
        {
          "output_type": "stream",
          "name": "stdout",
          "text": [
            "loss returned: 0.22114241405829446\n"
          ]
        },
        {
          "output_type": "stream",
          "name": "stderr",
          "text": [
            "100% 2/2 [00:00<00:00, 68.07it/s]\n",
            "100% 2/2 [00:00<00:00, 58.65it/s]\n"
          ]
        },
        {
          "output_type": "stream",
          "name": "stdout",
          "text": [
            "Epoch: 192, Loss: 0.2211, Val Acc: {'rocauc': 0.7462287104622871}, Test Acc: {'rocauc': 0.6395491119123932}\n"
          ]
        },
        {
          "output_type": "stream",
          "name": "stderr",
          "text": [
            "100% 10/10 [00:00<00:00, 21.77it/s]\n"
          ]
        },
        {
          "output_type": "stream",
          "name": "stdout",
          "text": [
            "loss returned: 0.22203267389036255\n"
          ]
        },
        {
          "output_type": "stream",
          "name": "stderr",
          "text": [
            "100% 2/2 [00:00<00:00, 56.12it/s]\n",
            "100% 2/2 [00:00<00:00, 46.09it/s]\n"
          ]
        },
        {
          "output_type": "stream",
          "name": "stdout",
          "text": [
            "Epoch: 193, Loss: 0.2220, Val Acc: {'rocauc': 0.7472851331467645}, Test Acc: {'rocauc': 0.641380375267094}\n"
          ]
        },
        {
          "output_type": "stream",
          "name": "stderr",
          "text": [
            "100% 10/10 [00:00<00:00, 19.97it/s]\n"
          ]
        },
        {
          "output_type": "stream",
          "name": "stdout",
          "text": [
            "loss returned: 0.22225459783032828\n"
          ]
        },
        {
          "output_type": "stream",
          "name": "stderr",
          "text": [
            "100% 2/2 [00:00<00:00, 53.26it/s]\n",
            "100% 2/2 [00:00<00:00, 49.86it/s]\n"
          ]
        },
        {
          "output_type": "stream",
          "name": "stdout",
          "text": [
            "Epoch: 194, Loss: 0.2223, Val Acc: {'rocauc': 0.7473156669840262}, Test Acc: {'rocauc': 0.6418260884081197}\n"
          ]
        },
        {
          "output_type": "stream",
          "name": "stderr",
          "text": [
            "100% 10/10 [00:00<00:00, 20.20it/s]\n"
          ]
        },
        {
          "output_type": "stream",
          "name": "stdout",
          "text": [
            "loss returned: 0.22042838930074288\n"
          ]
        },
        {
          "output_type": "stream",
          "name": "stderr",
          "text": [
            "100% 2/2 [00:00<00:00, 46.35it/s]\n",
            "100% 2/2 [00:00<00:00, 61.39it/s]\n"
          ]
        },
        {
          "output_type": "stream",
          "name": "stdout",
          "text": [
            "Epoch: 195, Loss: 0.2204, Val Acc: {'rocauc': 0.7484026235057654}, Test Acc: {'rocauc': 0.6447774772970085}\n"
          ]
        },
        {
          "output_type": "stream",
          "name": "stderr",
          "text": [
            "100% 10/10 [00:00<00:00, 22.03it/s]\n"
          ]
        },
        {
          "output_type": "stream",
          "name": "stdout",
          "text": [
            "loss returned: 0.2227656968587743\n"
          ]
        },
        {
          "output_type": "stream",
          "name": "stderr",
          "text": [
            "100% 2/2 [00:00<00:00, 69.06it/s]\n",
            "100% 2/2 [00:00<00:00, 52.08it/s]\n"
          ]
        },
        {
          "output_type": "stream",
          "name": "stdout",
          "text": [
            "Epoch: 196, Loss: 0.2228, Val Acc: {'rocauc': 0.749397978515719}, Test Acc: {'rocauc': 0.6426716079059829}\n"
          ]
        },
        {
          "output_type": "stream",
          "name": "stderr",
          "text": [
            "100% 10/10 [00:00<00:00, 26.07it/s]\n"
          ]
        },
        {
          "output_type": "stream",
          "name": "stdout",
          "text": [
            "loss returned: 0.22125442337424547\n"
          ]
        },
        {
          "output_type": "stream",
          "name": "stderr",
          "text": [
            "100% 2/2 [00:00<00:00, 60.56it/s]\n",
            "100% 2/2 [00:00<00:00, 60.47it/s]\n"
          ]
        },
        {
          "output_type": "stream",
          "name": "stdout",
          "text": [
            "Epoch: 197, Loss: 0.2213, Val Acc: {'rocauc': 0.7490967273496629}, Test Acc: {'rocauc': 0.6453450520833333}\n"
          ]
        },
        {
          "output_type": "stream",
          "name": "stderr",
          "text": [
            "100% 10/10 [00:00<00:00, 27.27it/s]\n"
          ]
        },
        {
          "output_type": "stream",
          "name": "stdout",
          "text": [
            "loss returned: 0.22084752219799308\n"
          ]
        },
        {
          "output_type": "stream",
          "name": "stderr",
          "text": [
            "100% 2/2 [00:00<00:00, 74.82it/s]\n",
            "100% 2/2 [00:00<00:00, 65.11it/s]\n"
          ]
        },
        {
          "output_type": "stream",
          "name": "stdout",
          "text": [
            "Epoch: 198, Loss: 0.2208, Val Acc: {'rocauc': 0.7490051258378774}, Test Acc: {'rocauc': 0.6419604700854702}\n"
          ]
        },
        {
          "output_type": "stream",
          "name": "stderr",
          "text": [
            "100% 10/10 [00:00<00:00, 26.92it/s]\n"
          ]
        },
        {
          "output_type": "stream",
          "name": "stdout",
          "text": [
            "loss returned: 0.22066278346860743\n"
          ]
        },
        {
          "output_type": "stream",
          "name": "stderr",
          "text": [
            "100% 2/2 [00:00<00:00, 70.87it/s]\n",
            "100% 2/2 [00:00<00:00, 64.25it/s]\n"
          ]
        },
        {
          "output_type": "stream",
          "name": "stdout",
          "text": [
            "Epoch: 199, Loss: 0.2207, Val Acc: {'rocauc': 0.7504544012001961}, Test Acc: {'rocauc': 0.6444753271901709}\n"
          ]
        },
        {
          "output_type": "stream",
          "name": "stderr",
          "text": [
            "100% 10/10 [00:00<00:00, 27.66it/s]\n"
          ]
        },
        {
          "output_type": "stream",
          "name": "stdout",
          "text": [
            "loss returned: 0.22152077336618195\n"
          ]
        },
        {
          "output_type": "stream",
          "name": "stderr",
          "text": [
            "100% 2/2 [00:00<00:00, 73.87it/s]\n",
            "100% 2/2 [00:00<00:00, 64.18it/s]\n"
          ]
        },
        {
          "output_type": "stream",
          "name": "stdout",
          "text": [
            "Epoch: 200, Loss: 0.2215, Val Acc: {'rocauc': 0.7507861862035141}, Test Acc: {'rocauc': 0.6441915397970086}\n",
            "Median time per epoch: 0.3444s\n"
          ]
        },
        {
          "output_type": "display_data",
          "data": {
            "text/plain": [
              "<Figure size 1200x500 with 3 Axes>"
            ],
            "image/png": "[encoded data removed]"
          },
          "metadata": {}
        },
        {
          "output_type": "stream",
          "name": "stdout",
          "text": [
            "Best Validation Metric: 0.7507861862035141\n",
            "Test Metric: 0.6441915397970086\n"
          ]
        }
      ]
    }
  ]
}